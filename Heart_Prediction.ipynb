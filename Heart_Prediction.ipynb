{
 "cells": [
  {
   "cell_type": "markdown",
   "source": [
    "# Predicting Heart Failure\n",
    "## Machine Learning with Logistic Regression"
   ],
   "metadata": {
    "collapsed": false
   }
  },
  {
   "cell_type": "markdown",
   "source": [
    "### Import Modules"
   ],
   "metadata": {
    "collapsed": false
   }
  },
  {
   "cell_type": "code",
   "execution_count": 211,
   "outputs": [],
   "source": [
    "import pandas as pd\n",
    "import numpy as np\n",
    "import plotly.express as px\n",
    "%matplotlib widget\n",
    "import matplotlib.pyplot as plt\n",
    "from sklearn.linear_model import LogisticRegression\n",
    "from sklearn.metrics import (confusion_matrix, f1_score, accuracy_score)\n",
    "import pyarrow\n",
    "from sklearn.model_selection import train_test_split\n",
    "from sklearn.preprocessing import MinMaxScaler\n",
    "from sklearn.preprocessing import OneHotEncoder\n",
    "from pandas.api.types import CategoricalDtype\n",
    "import warnings\n",
    "import seaborn as sn\n",
    "plt.style.use('dark_background')\n",
    "sn.set_style('darkgrid')\n",
    "#warnings.filterwarnings(\"ignore\")"
   ],
   "metadata": {
    "collapsed": false,
    "ExecuteTime": {
     "end_time": "2023-09-14T04:02:41.202538500Z",
     "start_time": "2023-09-14T04:02:41.169058700Z"
    }
   }
  },
  {
   "cell_type": "markdown",
   "source": [
    "### Load Data and Perform EDA"
   ],
   "metadata": {
    "collapsed": false
   }
  },
  {
   "cell_type": "code",
   "execution_count": 162,
   "outputs": [],
   "source": [
    "raw_df = pd.read_csv('data/heart_disease_health_indicators_BRFSS2015.csv')\n"
   ],
   "metadata": {
    "collapsed": false,
    "ExecuteTime": {
     "end_time": "2023-09-14T03:55:03.977072400Z",
     "start_time": "2023-09-14T03:55:03.569409400Z"
    }
   }
  },
  {
   "cell_type": "code",
   "execution_count": 163,
   "outputs": [
    {
     "data": {
      "text/plain": "    HeartDiseaseorAttack  HighBP  HighChol  CholCheck   BMI  Smoker  Stroke  \\\n0                    0.0     1.0       1.0        1.0  40.0     1.0     0.0   \n1                    0.0     0.0       0.0        0.0  25.0     1.0     0.0   \n2                    0.0     1.0       1.0        1.0  28.0     0.0     0.0   \n3                    0.0     1.0       0.0        1.0  27.0     0.0     0.0   \n4                    0.0     1.0       1.0        1.0  24.0     0.0     0.0   \n5                    0.0     1.0       1.0        1.0  25.0     1.0     0.0   \n6                    0.0     1.0       0.0        1.0  30.0     1.0     0.0   \n7                    0.0     1.0       1.0        1.0  25.0     1.0     0.0   \n8                    1.0     1.0       1.0        1.0  30.0     1.0     0.0   \n9                    0.0     0.0       0.0        1.0  24.0     0.0     0.0   \n10                   0.0     0.0       0.0        1.0  25.0     1.0     0.0   \n11                   0.0     1.0       1.0        1.0  34.0     1.0     0.0   \n12                   0.0     0.0       0.0        1.0  26.0     1.0     0.0   \n13                   0.0     1.0       1.0        1.0  28.0     0.0     0.0   \n14                   0.0     0.0       1.0        1.0  33.0     1.0     1.0   \n\n    Diabetes  PhysActivity  Fruits  Veggies  HvyAlcoholConsump  AnyHealthcare  \\\n0        0.0           0.0     0.0      1.0                0.0            1.0   \n1        0.0           1.0     0.0      0.0                0.0            0.0   \n2        0.0           0.0     1.0      0.0                0.0            1.0   \n3        0.0           1.0     1.0      1.0                0.0            1.0   \n4        0.0           1.0     1.0      1.0                0.0            1.0   \n5        0.0           1.0     1.0      1.0                0.0            1.0   \n6        0.0           0.0     0.0      0.0                0.0            1.0   \n7        0.0           1.0     0.0      1.0                0.0            1.0   \n8        2.0           0.0     1.0      1.0                0.0            1.0   \n9        0.0           0.0     0.0      1.0                0.0            1.0   \n10       2.0           1.0     1.0      1.0                0.0            1.0   \n11       0.0           0.0     1.0      1.0                0.0            1.0   \n12       0.0           0.0     0.0      1.0                0.0            1.0   \n13       2.0           0.0     0.0      1.0                0.0            1.0   \n14       0.0           1.0     0.0      1.0                0.0            1.0   \n\n    NoDocbcCost  GenHlth  MentHlth  PhysHlth  DiffWalk  Sex   Age  Education  \\\n0           0.0      5.0      18.0      15.0       1.0  0.0   9.0        4.0   \n1           1.0      3.0       0.0       0.0       0.0  0.0   7.0        6.0   \n2           1.0      5.0      30.0      30.0       1.0  0.0   9.0        4.0   \n3           0.0      2.0       0.0       0.0       0.0  0.0  11.0        3.0   \n4           0.0      2.0       3.0       0.0       0.0  0.0  11.0        5.0   \n5           0.0      2.0       0.0       2.0       0.0  1.0  10.0        6.0   \n6           0.0      3.0       0.0      14.0       0.0  0.0   9.0        6.0   \n7           0.0      3.0       0.0       0.0       1.0  0.0  11.0        4.0   \n8           0.0      5.0      30.0      30.0       1.0  0.0   9.0        5.0   \n9           0.0      2.0       0.0       0.0       0.0  1.0   8.0        4.0   \n10          0.0      3.0       0.0       0.0       0.0  1.0  13.0        6.0   \n11          0.0      3.0       0.0      30.0       1.0  0.0  10.0        5.0   \n12          0.0      3.0       0.0      15.0       0.0  0.0   7.0        5.0   \n13          0.0      4.0       0.0       0.0       1.0  0.0  11.0        4.0   \n14          1.0      4.0      30.0      28.0       0.0  0.0   4.0        6.0   \n\n    Income  \n0      3.0  \n1      1.0  \n2      8.0  \n3      6.0  \n4      4.0  \n5      8.0  \n6      7.0  \n7      4.0  \n8      1.0  \n9      3.0  \n10     8.0  \n11     1.0  \n12     7.0  \n13     6.0  \n14     2.0  ",
      "text/html": "<div>\n<style scoped>\n    .dataframe tbody tr th:only-of-type {\n        vertical-align: middle;\n    }\n\n    .dataframe tbody tr th {\n        vertical-align: top;\n    }\n\n    .dataframe thead th {\n        text-align: right;\n    }\n</style>\n<table border=\"1\" class=\"dataframe\">\n  <thead>\n    <tr style=\"text-align: right;\">\n      <th></th>\n      <th>HeartDiseaseorAttack</th>\n      <th>HighBP</th>\n      <th>HighChol</th>\n      <th>CholCheck</th>\n      <th>BMI</th>\n      <th>Smoker</th>\n      <th>Stroke</th>\n      <th>Diabetes</th>\n      <th>PhysActivity</th>\n      <th>Fruits</th>\n      <th>Veggies</th>\n      <th>HvyAlcoholConsump</th>\n      <th>AnyHealthcare</th>\n      <th>NoDocbcCost</th>\n      <th>GenHlth</th>\n      <th>MentHlth</th>\n      <th>PhysHlth</th>\n      <th>DiffWalk</th>\n      <th>Sex</th>\n      <th>Age</th>\n      <th>Education</th>\n      <th>Income</th>\n    </tr>\n  </thead>\n  <tbody>\n    <tr>\n      <th>0</th>\n      <td>0.0</td>\n      <td>1.0</td>\n      <td>1.0</td>\n      <td>1.0</td>\n      <td>40.0</td>\n      <td>1.0</td>\n      <td>0.0</td>\n      <td>0.0</td>\n      <td>0.0</td>\n      <td>0.0</td>\n      <td>1.0</td>\n      <td>0.0</td>\n      <td>1.0</td>\n      <td>0.0</td>\n      <td>5.0</td>\n      <td>18.0</td>\n      <td>15.0</td>\n      <td>1.0</td>\n      <td>0.0</td>\n      <td>9.0</td>\n      <td>4.0</td>\n      <td>3.0</td>\n    </tr>\n    <tr>\n      <th>1</th>\n      <td>0.0</td>\n      <td>0.0</td>\n      <td>0.0</td>\n      <td>0.0</td>\n      <td>25.0</td>\n      <td>1.0</td>\n      <td>0.0</td>\n      <td>0.0</td>\n      <td>1.0</td>\n      <td>0.0</td>\n      <td>0.0</td>\n      <td>0.0</td>\n      <td>0.0</td>\n      <td>1.0</td>\n      <td>3.0</td>\n      <td>0.0</td>\n      <td>0.0</td>\n      <td>0.0</td>\n      <td>0.0</td>\n      <td>7.0</td>\n      <td>6.0</td>\n      <td>1.0</td>\n    </tr>\n    <tr>\n      <th>2</th>\n      <td>0.0</td>\n      <td>1.0</td>\n      <td>1.0</td>\n      <td>1.0</td>\n      <td>28.0</td>\n      <td>0.0</td>\n      <td>0.0</td>\n      <td>0.0</td>\n      <td>0.0</td>\n      <td>1.0</td>\n      <td>0.0</td>\n      <td>0.0</td>\n      <td>1.0</td>\n      <td>1.0</td>\n      <td>5.0</td>\n      <td>30.0</td>\n      <td>30.0</td>\n      <td>1.0</td>\n      <td>0.0</td>\n      <td>9.0</td>\n      <td>4.0</td>\n      <td>8.0</td>\n    </tr>\n    <tr>\n      <th>3</th>\n      <td>0.0</td>\n      <td>1.0</td>\n      <td>0.0</td>\n      <td>1.0</td>\n      <td>27.0</td>\n      <td>0.0</td>\n      <td>0.0</td>\n      <td>0.0</td>\n      <td>1.0</td>\n      <td>1.0</td>\n      <td>1.0</td>\n      <td>0.0</td>\n      <td>1.0</td>\n      <td>0.0</td>\n      <td>2.0</td>\n      <td>0.0</td>\n      <td>0.0</td>\n      <td>0.0</td>\n      <td>0.0</td>\n      <td>11.0</td>\n      <td>3.0</td>\n      <td>6.0</td>\n    </tr>\n    <tr>\n      <th>4</th>\n      <td>0.0</td>\n      <td>1.0</td>\n      <td>1.0</td>\n      <td>1.0</td>\n      <td>24.0</td>\n      <td>0.0</td>\n      <td>0.0</td>\n      <td>0.0</td>\n      <td>1.0</td>\n      <td>1.0</td>\n      <td>1.0</td>\n      <td>0.0</td>\n      <td>1.0</td>\n      <td>0.0</td>\n      <td>2.0</td>\n      <td>3.0</td>\n      <td>0.0</td>\n      <td>0.0</td>\n      <td>0.0</td>\n      <td>11.0</td>\n      <td>5.0</td>\n      <td>4.0</td>\n    </tr>\n    <tr>\n      <th>5</th>\n      <td>0.0</td>\n      <td>1.0</td>\n      <td>1.0</td>\n      <td>1.0</td>\n      <td>25.0</td>\n      <td>1.0</td>\n      <td>0.0</td>\n      <td>0.0</td>\n      <td>1.0</td>\n      <td>1.0</td>\n      <td>1.0</td>\n      <td>0.0</td>\n      <td>1.0</td>\n      <td>0.0</td>\n      <td>2.0</td>\n      <td>0.0</td>\n      <td>2.0</td>\n      <td>0.0</td>\n      <td>1.0</td>\n      <td>10.0</td>\n      <td>6.0</td>\n      <td>8.0</td>\n    </tr>\n    <tr>\n      <th>6</th>\n      <td>0.0</td>\n      <td>1.0</td>\n      <td>0.0</td>\n      <td>1.0</td>\n      <td>30.0</td>\n      <td>1.0</td>\n      <td>0.0</td>\n      <td>0.0</td>\n      <td>0.0</td>\n      <td>0.0</td>\n      <td>0.0</td>\n      <td>0.0</td>\n      <td>1.0</td>\n      <td>0.0</td>\n      <td>3.0</td>\n      <td>0.0</td>\n      <td>14.0</td>\n      <td>0.0</td>\n      <td>0.0</td>\n      <td>9.0</td>\n      <td>6.0</td>\n      <td>7.0</td>\n    </tr>\n    <tr>\n      <th>7</th>\n      <td>0.0</td>\n      <td>1.0</td>\n      <td>1.0</td>\n      <td>1.0</td>\n      <td>25.0</td>\n      <td>1.0</td>\n      <td>0.0</td>\n      <td>0.0</td>\n      <td>1.0</td>\n      <td>0.0</td>\n      <td>1.0</td>\n      <td>0.0</td>\n      <td>1.0</td>\n      <td>0.0</td>\n      <td>3.0</td>\n      <td>0.0</td>\n      <td>0.0</td>\n      <td>1.0</td>\n      <td>0.0</td>\n      <td>11.0</td>\n      <td>4.0</td>\n      <td>4.0</td>\n    </tr>\n    <tr>\n      <th>8</th>\n      <td>1.0</td>\n      <td>1.0</td>\n      <td>1.0</td>\n      <td>1.0</td>\n      <td>30.0</td>\n      <td>1.0</td>\n      <td>0.0</td>\n      <td>2.0</td>\n      <td>0.0</td>\n      <td>1.0</td>\n      <td>1.0</td>\n      <td>0.0</td>\n      <td>1.0</td>\n      <td>0.0</td>\n      <td>5.0</td>\n      <td>30.0</td>\n      <td>30.0</td>\n      <td>1.0</td>\n      <td>0.0</td>\n      <td>9.0</td>\n      <td>5.0</td>\n      <td>1.0</td>\n    </tr>\n    <tr>\n      <th>9</th>\n      <td>0.0</td>\n      <td>0.0</td>\n      <td>0.0</td>\n      <td>1.0</td>\n      <td>24.0</td>\n      <td>0.0</td>\n      <td>0.0</td>\n      <td>0.0</td>\n      <td>0.0</td>\n      <td>0.0</td>\n      <td>1.0</td>\n      <td>0.0</td>\n      <td>1.0</td>\n      <td>0.0</td>\n      <td>2.0</td>\n      <td>0.0</td>\n      <td>0.0</td>\n      <td>0.0</td>\n      <td>1.0</td>\n      <td>8.0</td>\n      <td>4.0</td>\n      <td>3.0</td>\n    </tr>\n    <tr>\n      <th>10</th>\n      <td>0.0</td>\n      <td>0.0</td>\n      <td>0.0</td>\n      <td>1.0</td>\n      <td>25.0</td>\n      <td>1.0</td>\n      <td>0.0</td>\n      <td>2.0</td>\n      <td>1.0</td>\n      <td>1.0</td>\n      <td>1.0</td>\n      <td>0.0</td>\n      <td>1.0</td>\n      <td>0.0</td>\n      <td>3.0</td>\n      <td>0.0</td>\n      <td>0.0</td>\n      <td>0.0</td>\n      <td>1.0</td>\n      <td>13.0</td>\n      <td>6.0</td>\n      <td>8.0</td>\n    </tr>\n    <tr>\n      <th>11</th>\n      <td>0.0</td>\n      <td>1.0</td>\n      <td>1.0</td>\n      <td>1.0</td>\n      <td>34.0</td>\n      <td>1.0</td>\n      <td>0.0</td>\n      <td>0.0</td>\n      <td>0.0</td>\n      <td>1.0</td>\n      <td>1.0</td>\n      <td>0.0</td>\n      <td>1.0</td>\n      <td>0.0</td>\n      <td>3.0</td>\n      <td>0.0</td>\n      <td>30.0</td>\n      <td>1.0</td>\n      <td>0.0</td>\n      <td>10.0</td>\n      <td>5.0</td>\n      <td>1.0</td>\n    </tr>\n    <tr>\n      <th>12</th>\n      <td>0.0</td>\n      <td>0.0</td>\n      <td>0.0</td>\n      <td>1.0</td>\n      <td>26.0</td>\n      <td>1.0</td>\n      <td>0.0</td>\n      <td>0.0</td>\n      <td>0.0</td>\n      <td>0.0</td>\n      <td>1.0</td>\n      <td>0.0</td>\n      <td>1.0</td>\n      <td>0.0</td>\n      <td>3.0</td>\n      <td>0.0</td>\n      <td>15.0</td>\n      <td>0.0</td>\n      <td>0.0</td>\n      <td>7.0</td>\n      <td>5.0</td>\n      <td>7.0</td>\n    </tr>\n    <tr>\n      <th>13</th>\n      <td>0.0</td>\n      <td>1.0</td>\n      <td>1.0</td>\n      <td>1.0</td>\n      <td>28.0</td>\n      <td>0.0</td>\n      <td>0.0</td>\n      <td>2.0</td>\n      <td>0.0</td>\n      <td>0.0</td>\n      <td>1.0</td>\n      <td>0.0</td>\n      <td>1.0</td>\n      <td>0.0</td>\n      <td>4.0</td>\n      <td>0.0</td>\n      <td>0.0</td>\n      <td>1.0</td>\n      <td>0.0</td>\n      <td>11.0</td>\n      <td>4.0</td>\n      <td>6.0</td>\n    </tr>\n    <tr>\n      <th>14</th>\n      <td>0.0</td>\n      <td>0.0</td>\n      <td>1.0</td>\n      <td>1.0</td>\n      <td>33.0</td>\n      <td>1.0</td>\n      <td>1.0</td>\n      <td>0.0</td>\n      <td>1.0</td>\n      <td>0.0</td>\n      <td>1.0</td>\n      <td>0.0</td>\n      <td>1.0</td>\n      <td>1.0</td>\n      <td>4.0</td>\n      <td>30.0</td>\n      <td>28.0</td>\n      <td>0.0</td>\n      <td>0.0</td>\n      <td>4.0</td>\n      <td>6.0</td>\n      <td>2.0</td>\n    </tr>\n  </tbody>\n</table>\n</div>"
     },
     "execution_count": 163,
     "metadata": {},
     "output_type": "execute_result"
    }
   ],
   "source": [
    "raw_df.head(15)"
   ],
   "metadata": {
    "collapsed": false,
    "ExecuteTime": {
     "end_time": "2023-09-14T03:55:03.995138700Z",
     "start_time": "2023-09-14T03:55:03.958889400Z"
    }
   }
  },
  {
   "cell_type": "code",
   "execution_count": 164,
   "outputs": [
    {
     "data": {
      "text/plain": "(253680, 22)"
     },
     "execution_count": 164,
     "metadata": {},
     "output_type": "execute_result"
    }
   ],
   "source": [
    "raw_df.shape"
   ],
   "metadata": {
    "collapsed": false,
    "ExecuteTime": {
     "end_time": "2023-09-14T03:55:03.997765100Z",
     "start_time": "2023-09-14T03:55:03.995138700Z"
    }
   }
  },
  {
   "cell_type": "code",
   "execution_count": 165,
   "outputs": [
    {
     "data": {
      "text/plain": "HeartDiseaseorAttack    0\nHighBP                  0\nHighChol                0\nCholCheck               0\nBMI                     0\nSmoker                  0\nStroke                  0\nDiabetes                0\nPhysActivity            0\nFruits                  0\nVeggies                 0\nHvyAlcoholConsump       0\nAnyHealthcare           0\nNoDocbcCost             0\nGenHlth                 0\nMentHlth                0\nPhysHlth                0\nDiffWalk                0\nSex                     0\nAge                     0\nEducation               0\nIncome                  0\ndtype: int64"
     },
     "execution_count": 165,
     "metadata": {},
     "output_type": "execute_result"
    }
   ],
   "source": [
    "raw_df.isna().sum()"
   ],
   "metadata": {
    "collapsed": false,
    "ExecuteTime": {
     "end_time": "2023-09-14T03:55:04.082623Z",
     "start_time": "2023-09-14T03:55:03.997765100Z"
    }
   }
  },
  {
   "cell_type": "code",
   "execution_count": 166,
   "outputs": [
    {
     "data": {
      "application/vnd.plotly.v1+json": {
       "data": [
        {
         "domain": {
          "x": [
           0.0,
           1.0
          ],
          "y": [
           0.0,
           1.0
          ]
         },
         "hovertemplate": "<b>%{hovertext}</b><br><br>label=%{label}<br>value=%{value}<extra></extra>",
         "hovertext": [
          "No Heart Disease",
          "Heart Disease"
         ],
         "labels": [
          "No Heart Disease",
          "Heart Disease"
         ],
         "legendgroup": "",
         "name": "",
         "showlegend": true,
         "values": [
          229787,
          23893
         ],
         "type": "pie",
         "text": [
          "No Heart Disease",
          "Heart Disease"
         ],
         "textinfo": "percent+label"
        }
       ],
       "layout": {
        "template": {
         "data": {
          "histogram2dcontour": [
           {
            "type": "histogram2dcontour",
            "colorbar": {
             "outlinewidth": 0,
             "ticks": ""
            },
            "colorscale": [
             [
              0.0,
              "#0d0887"
             ],
             [
              0.1111111111111111,
              "#46039f"
             ],
             [
              0.2222222222222222,
              "#7201a8"
             ],
             [
              0.3333333333333333,
              "#9c179e"
             ],
             [
              0.4444444444444444,
              "#bd3786"
             ],
             [
              0.5555555555555556,
              "#d8576b"
             ],
             [
              0.6666666666666666,
              "#ed7953"
             ],
             [
              0.7777777777777778,
              "#fb9f3a"
             ],
             [
              0.8888888888888888,
              "#fdca26"
             ],
             [
              1.0,
              "#f0f921"
             ]
            ]
           }
          ],
          "choropleth": [
           {
            "type": "choropleth",
            "colorbar": {
             "outlinewidth": 0,
             "ticks": ""
            }
           }
          ],
          "histogram2d": [
           {
            "type": "histogram2d",
            "colorbar": {
             "outlinewidth": 0,
             "ticks": ""
            },
            "colorscale": [
             [
              0.0,
              "#0d0887"
             ],
             [
              0.1111111111111111,
              "#46039f"
             ],
             [
              0.2222222222222222,
              "#7201a8"
             ],
             [
              0.3333333333333333,
              "#9c179e"
             ],
             [
              0.4444444444444444,
              "#bd3786"
             ],
             [
              0.5555555555555556,
              "#d8576b"
             ],
             [
              0.6666666666666666,
              "#ed7953"
             ],
             [
              0.7777777777777778,
              "#fb9f3a"
             ],
             [
              0.8888888888888888,
              "#fdca26"
             ],
             [
              1.0,
              "#f0f921"
             ]
            ]
           }
          ],
          "heatmap": [
           {
            "type": "heatmap",
            "colorbar": {
             "outlinewidth": 0,
             "ticks": ""
            },
            "colorscale": [
             [
              0.0,
              "#0d0887"
             ],
             [
              0.1111111111111111,
              "#46039f"
             ],
             [
              0.2222222222222222,
              "#7201a8"
             ],
             [
              0.3333333333333333,
              "#9c179e"
             ],
             [
              0.4444444444444444,
              "#bd3786"
             ],
             [
              0.5555555555555556,
              "#d8576b"
             ],
             [
              0.6666666666666666,
              "#ed7953"
             ],
             [
              0.7777777777777778,
              "#fb9f3a"
             ],
             [
              0.8888888888888888,
              "#fdca26"
             ],
             [
              1.0,
              "#f0f921"
             ]
            ]
           }
          ],
          "heatmapgl": [
           {
            "type": "heatmapgl",
            "colorbar": {
             "outlinewidth": 0,
             "ticks": ""
            },
            "colorscale": [
             [
              0.0,
              "#0d0887"
             ],
             [
              0.1111111111111111,
              "#46039f"
             ],
             [
              0.2222222222222222,
              "#7201a8"
             ],
             [
              0.3333333333333333,
              "#9c179e"
             ],
             [
              0.4444444444444444,
              "#bd3786"
             ],
             [
              0.5555555555555556,
              "#d8576b"
             ],
             [
              0.6666666666666666,
              "#ed7953"
             ],
             [
              0.7777777777777778,
              "#fb9f3a"
             ],
             [
              0.8888888888888888,
              "#fdca26"
             ],
             [
              1.0,
              "#f0f921"
             ]
            ]
           }
          ],
          "contourcarpet": [
           {
            "type": "contourcarpet",
            "colorbar": {
             "outlinewidth": 0,
             "ticks": ""
            }
           }
          ],
          "contour": [
           {
            "type": "contour",
            "colorbar": {
             "outlinewidth": 0,
             "ticks": ""
            },
            "colorscale": [
             [
              0.0,
              "#0d0887"
             ],
             [
              0.1111111111111111,
              "#46039f"
             ],
             [
              0.2222222222222222,
              "#7201a8"
             ],
             [
              0.3333333333333333,
              "#9c179e"
             ],
             [
              0.4444444444444444,
              "#bd3786"
             ],
             [
              0.5555555555555556,
              "#d8576b"
             ],
             [
              0.6666666666666666,
              "#ed7953"
             ],
             [
              0.7777777777777778,
              "#fb9f3a"
             ],
             [
              0.8888888888888888,
              "#fdca26"
             ],
             [
              1.0,
              "#f0f921"
             ]
            ]
           }
          ],
          "surface": [
           {
            "type": "surface",
            "colorbar": {
             "outlinewidth": 0,
             "ticks": ""
            },
            "colorscale": [
             [
              0.0,
              "#0d0887"
             ],
             [
              0.1111111111111111,
              "#46039f"
             ],
             [
              0.2222222222222222,
              "#7201a8"
             ],
             [
              0.3333333333333333,
              "#9c179e"
             ],
             [
              0.4444444444444444,
              "#bd3786"
             ],
             [
              0.5555555555555556,
              "#d8576b"
             ],
             [
              0.6666666666666666,
              "#ed7953"
             ],
             [
              0.7777777777777778,
              "#fb9f3a"
             ],
             [
              0.8888888888888888,
              "#fdca26"
             ],
             [
              1.0,
              "#f0f921"
             ]
            ]
           }
          ],
          "mesh3d": [
           {
            "type": "mesh3d",
            "colorbar": {
             "outlinewidth": 0,
             "ticks": ""
            }
           }
          ],
          "scatter": [
           {
            "marker": {
             "line": {
              "color": "#283442"
             }
            },
            "type": "scatter"
           }
          ],
          "parcoords": [
           {
            "type": "parcoords",
            "line": {
             "colorbar": {
              "outlinewidth": 0,
              "ticks": ""
             }
            }
           }
          ],
          "scatterpolargl": [
           {
            "type": "scatterpolargl",
            "marker": {
             "colorbar": {
              "outlinewidth": 0,
              "ticks": ""
             }
            }
           }
          ],
          "bar": [
           {
            "error_x": {
             "color": "#f2f5fa"
            },
            "error_y": {
             "color": "#f2f5fa"
            },
            "marker": {
             "line": {
              "color": "rgb(17,17,17)",
              "width": 0.5
             },
             "pattern": {
              "fillmode": "overlay",
              "size": 10,
              "solidity": 0.2
             }
            },
            "type": "bar"
           }
          ],
          "scattergeo": [
           {
            "type": "scattergeo",
            "marker": {
             "colorbar": {
              "outlinewidth": 0,
              "ticks": ""
             }
            }
           }
          ],
          "scatterpolar": [
           {
            "type": "scatterpolar",
            "marker": {
             "colorbar": {
              "outlinewidth": 0,
              "ticks": ""
             }
            }
           }
          ],
          "histogram": [
           {
            "marker": {
             "pattern": {
              "fillmode": "overlay",
              "size": 10,
              "solidity": 0.2
             }
            },
            "type": "histogram"
           }
          ],
          "scattergl": [
           {
            "marker": {
             "line": {
              "color": "#283442"
             }
            },
            "type": "scattergl"
           }
          ],
          "scatter3d": [
           {
            "type": "scatter3d",
            "line": {
             "colorbar": {
              "outlinewidth": 0,
              "ticks": ""
             }
            },
            "marker": {
             "colorbar": {
              "outlinewidth": 0,
              "ticks": ""
             }
            }
           }
          ],
          "scattermapbox": [
           {
            "type": "scattermapbox",
            "marker": {
             "colorbar": {
              "outlinewidth": 0,
              "ticks": ""
             }
            }
           }
          ],
          "scatterternary": [
           {
            "type": "scatterternary",
            "marker": {
             "colorbar": {
              "outlinewidth": 0,
              "ticks": ""
             }
            }
           }
          ],
          "scattercarpet": [
           {
            "type": "scattercarpet",
            "marker": {
             "colorbar": {
              "outlinewidth": 0,
              "ticks": ""
             }
            }
           }
          ],
          "carpet": [
           {
            "aaxis": {
             "endlinecolor": "#A2B1C6",
             "gridcolor": "#506784",
             "linecolor": "#506784",
             "minorgridcolor": "#506784",
             "startlinecolor": "#A2B1C6"
            },
            "baxis": {
             "endlinecolor": "#A2B1C6",
             "gridcolor": "#506784",
             "linecolor": "#506784",
             "minorgridcolor": "#506784",
             "startlinecolor": "#A2B1C6"
            },
            "type": "carpet"
           }
          ],
          "table": [
           {
            "cells": {
             "fill": {
              "color": "#506784"
             },
             "line": {
              "color": "rgb(17,17,17)"
             }
            },
            "header": {
             "fill": {
              "color": "#2a3f5f"
             },
             "line": {
              "color": "rgb(17,17,17)"
             }
            },
            "type": "table"
           }
          ],
          "barpolar": [
           {
            "marker": {
             "line": {
              "color": "rgb(17,17,17)",
              "width": 0.5
             },
             "pattern": {
              "fillmode": "overlay",
              "size": 10,
              "solidity": 0.2
             }
            },
            "type": "barpolar"
           }
          ],
          "pie": [
           {
            "automargin": true,
            "type": "pie"
           }
          ]
         },
         "layout": {
          "autotypenumbers": "strict",
          "colorway": [
           "#636efa",
           "#EF553B",
           "#00cc96",
           "#ab63fa",
           "#FFA15A",
           "#19d3f3",
           "#FF6692",
           "#B6E880",
           "#FF97FF",
           "#FECB52"
          ],
          "font": {
           "color": "#f2f5fa"
          },
          "hovermode": "closest",
          "hoverlabel": {
           "align": "left"
          },
          "paper_bgcolor": "rgb(17,17,17)",
          "plot_bgcolor": "rgb(17,17,17)",
          "polar": {
           "bgcolor": "rgb(17,17,17)",
           "angularaxis": {
            "gridcolor": "#506784",
            "linecolor": "#506784",
            "ticks": ""
           },
           "radialaxis": {
            "gridcolor": "#506784",
            "linecolor": "#506784",
            "ticks": ""
           }
          },
          "ternary": {
           "bgcolor": "rgb(17,17,17)",
           "aaxis": {
            "gridcolor": "#506784",
            "linecolor": "#506784",
            "ticks": ""
           },
           "baxis": {
            "gridcolor": "#506784",
            "linecolor": "#506784",
            "ticks": ""
           },
           "caxis": {
            "gridcolor": "#506784",
            "linecolor": "#506784",
            "ticks": ""
           }
          },
          "coloraxis": {
           "colorbar": {
            "outlinewidth": 0,
            "ticks": ""
           }
          },
          "colorscale": {
           "sequential": [
            [
             0.0,
             "#0d0887"
            ],
            [
             0.1111111111111111,
             "#46039f"
            ],
            [
             0.2222222222222222,
             "#7201a8"
            ],
            [
             0.3333333333333333,
             "#9c179e"
            ],
            [
             0.4444444444444444,
             "#bd3786"
            ],
            [
             0.5555555555555556,
             "#d8576b"
            ],
            [
             0.6666666666666666,
             "#ed7953"
            ],
            [
             0.7777777777777778,
             "#fb9f3a"
            ],
            [
             0.8888888888888888,
             "#fdca26"
            ],
            [
             1.0,
             "#f0f921"
            ]
           ],
           "sequentialminus": [
            [
             0.0,
             "#0d0887"
            ],
            [
             0.1111111111111111,
             "#46039f"
            ],
            [
             0.2222222222222222,
             "#7201a8"
            ],
            [
             0.3333333333333333,
             "#9c179e"
            ],
            [
             0.4444444444444444,
             "#bd3786"
            ],
            [
             0.5555555555555556,
             "#d8576b"
            ],
            [
             0.6666666666666666,
             "#ed7953"
            ],
            [
             0.7777777777777778,
             "#fb9f3a"
            ],
            [
             0.8888888888888888,
             "#fdca26"
            ],
            [
             1.0,
             "#f0f921"
            ]
           ],
           "diverging": [
            [
             0,
             "#8e0152"
            ],
            [
             0.1,
             "#c51b7d"
            ],
            [
             0.2,
             "#de77ae"
            ],
            [
             0.3,
             "#f1b6da"
            ],
            [
             0.4,
             "#fde0ef"
            ],
            [
             0.5,
             "#f7f7f7"
            ],
            [
             0.6,
             "#e6f5d0"
            ],
            [
             0.7,
             "#b8e186"
            ],
            [
             0.8,
             "#7fbc41"
            ],
            [
             0.9,
             "#4d9221"
            ],
            [
             1,
             "#276419"
            ]
           ]
          },
          "xaxis": {
           "gridcolor": "#283442",
           "linecolor": "#506784",
           "ticks": "",
           "title": {
            "standoff": 15
           },
           "zerolinecolor": "#283442",
           "automargin": true,
           "zerolinewidth": 2
          },
          "yaxis": {
           "gridcolor": "#283442",
           "linecolor": "#506784",
           "ticks": "",
           "title": {
            "standoff": 15
           },
           "zerolinecolor": "#283442",
           "automargin": true,
           "zerolinewidth": 2
          },
          "scene": {
           "xaxis": {
            "backgroundcolor": "rgb(17,17,17)",
            "gridcolor": "#506784",
            "linecolor": "#506784",
            "showbackground": true,
            "ticks": "",
            "zerolinecolor": "#C8D4E3",
            "gridwidth": 2
           },
           "yaxis": {
            "backgroundcolor": "rgb(17,17,17)",
            "gridcolor": "#506784",
            "linecolor": "#506784",
            "showbackground": true,
            "ticks": "",
            "zerolinecolor": "#C8D4E3",
            "gridwidth": 2
           },
           "zaxis": {
            "backgroundcolor": "rgb(17,17,17)",
            "gridcolor": "#506784",
            "linecolor": "#506784",
            "showbackground": true,
            "ticks": "",
            "zerolinecolor": "#C8D4E3",
            "gridwidth": 2
           }
          },
          "shapedefaults": {
           "line": {
            "color": "#f2f5fa"
           }
          },
          "annotationdefaults": {
           "arrowcolor": "#f2f5fa",
           "arrowhead": 0,
           "arrowwidth": 1
          },
          "geo": {
           "bgcolor": "rgb(17,17,17)",
           "landcolor": "rgb(17,17,17)",
           "subunitcolor": "#506784",
           "showland": true,
           "showlakes": true,
           "lakecolor": "rgb(17,17,17)"
          },
          "title": {
           "x": 0.05
          },
          "updatemenudefaults": {
           "bgcolor": "#506784",
           "borderwidth": 0
          },
          "sliderdefaults": {
           "bgcolor": "#C8D4E3",
           "borderwidth": 1,
           "bordercolor": "rgb(17,17,17)",
           "tickwidth": 0
          },
          "mapbox": {
           "style": "dark"
          }
         }
        },
        "legend": {
         "tracegroupgap": 0
        },
        "title": {
         "text": "Distribution of Heart Diagnosis"
        }
       },
       "config": {
        "plotlyServerURL": "https://plot.ly"
       }
      },
      "text/html": "<div>                            <div id=\"121b2bc7-1691-4715-9671-328f9737c319\" class=\"plotly-graph-div\" style=\"height:525px; width:100%;\"></div>            <script type=\"text/javascript\">                require([\"plotly\"], function(Plotly) {                    window.PLOTLYENV=window.PLOTLYENV || {};                                    if (document.getElementById(\"121b2bc7-1691-4715-9671-328f9737c319\")) {                    Plotly.newPlot(                        \"121b2bc7-1691-4715-9671-328f9737c319\",                        [{\"domain\":{\"x\":[0.0,1.0],\"y\":[0.0,1.0]},\"hovertemplate\":\"\\u003cb\\u003e%{hovertext}\\u003c\\u002fb\\u003e\\u003cbr\\u003e\\u003cbr\\u003elabel=%{label}\\u003cbr\\u003evalue=%{value}\\u003cextra\\u003e\\u003c\\u002fextra\\u003e\",\"hovertext\":[\"No Heart Disease\",\"Heart Disease\"],\"labels\":[\"No Heart Disease\",\"Heart Disease\"],\"legendgroup\":\"\",\"name\":\"\",\"showlegend\":true,\"values\":[229787,23893],\"type\":\"pie\",\"text\":[\"No Heart Disease\",\"Heart Disease\"],\"textinfo\":\"percent+label\"}],                        {\"template\":{\"data\":{\"histogram2dcontour\":[{\"type\":\"histogram2dcontour\",\"colorbar\":{\"outlinewidth\":0,\"ticks\":\"\"},\"colorscale\":[[0.0,\"#0d0887\"],[0.1111111111111111,\"#46039f\"],[0.2222222222222222,\"#7201a8\"],[0.3333333333333333,\"#9c179e\"],[0.4444444444444444,\"#bd3786\"],[0.5555555555555556,\"#d8576b\"],[0.6666666666666666,\"#ed7953\"],[0.7777777777777778,\"#fb9f3a\"],[0.8888888888888888,\"#fdca26\"],[1.0,\"#f0f921\"]]}],\"choropleth\":[{\"type\":\"choropleth\",\"colorbar\":{\"outlinewidth\":0,\"ticks\":\"\"}}],\"histogram2d\":[{\"type\":\"histogram2d\",\"colorbar\":{\"outlinewidth\":0,\"ticks\":\"\"},\"colorscale\":[[0.0,\"#0d0887\"],[0.1111111111111111,\"#46039f\"],[0.2222222222222222,\"#7201a8\"],[0.3333333333333333,\"#9c179e\"],[0.4444444444444444,\"#bd3786\"],[0.5555555555555556,\"#d8576b\"],[0.6666666666666666,\"#ed7953\"],[0.7777777777777778,\"#fb9f3a\"],[0.8888888888888888,\"#fdca26\"],[1.0,\"#f0f921\"]]}],\"heatmap\":[{\"type\":\"heatmap\",\"colorbar\":{\"outlinewidth\":0,\"ticks\":\"\"},\"colorscale\":[[0.0,\"#0d0887\"],[0.1111111111111111,\"#46039f\"],[0.2222222222222222,\"#7201a8\"],[0.3333333333333333,\"#9c179e\"],[0.4444444444444444,\"#bd3786\"],[0.5555555555555556,\"#d8576b\"],[0.6666666666666666,\"#ed7953\"],[0.7777777777777778,\"#fb9f3a\"],[0.8888888888888888,\"#fdca26\"],[1.0,\"#f0f921\"]]}],\"heatmapgl\":[{\"type\":\"heatmapgl\",\"colorbar\":{\"outlinewidth\":0,\"ticks\":\"\"},\"colorscale\":[[0.0,\"#0d0887\"],[0.1111111111111111,\"#46039f\"],[0.2222222222222222,\"#7201a8\"],[0.3333333333333333,\"#9c179e\"],[0.4444444444444444,\"#bd3786\"],[0.5555555555555556,\"#d8576b\"],[0.6666666666666666,\"#ed7953\"],[0.7777777777777778,\"#fb9f3a\"],[0.8888888888888888,\"#fdca26\"],[1.0,\"#f0f921\"]]}],\"contourcarpet\":[{\"type\":\"contourcarpet\",\"colorbar\":{\"outlinewidth\":0,\"ticks\":\"\"}}],\"contour\":[{\"type\":\"contour\",\"colorbar\":{\"outlinewidth\":0,\"ticks\":\"\"},\"colorscale\":[[0.0,\"#0d0887\"],[0.1111111111111111,\"#46039f\"],[0.2222222222222222,\"#7201a8\"],[0.3333333333333333,\"#9c179e\"],[0.4444444444444444,\"#bd3786\"],[0.5555555555555556,\"#d8576b\"],[0.6666666666666666,\"#ed7953\"],[0.7777777777777778,\"#fb9f3a\"],[0.8888888888888888,\"#fdca26\"],[1.0,\"#f0f921\"]]}],\"surface\":[{\"type\":\"surface\",\"colorbar\":{\"outlinewidth\":0,\"ticks\":\"\"},\"colorscale\":[[0.0,\"#0d0887\"],[0.1111111111111111,\"#46039f\"],[0.2222222222222222,\"#7201a8\"],[0.3333333333333333,\"#9c179e\"],[0.4444444444444444,\"#bd3786\"],[0.5555555555555556,\"#d8576b\"],[0.6666666666666666,\"#ed7953\"],[0.7777777777777778,\"#fb9f3a\"],[0.8888888888888888,\"#fdca26\"],[1.0,\"#f0f921\"]]}],\"mesh3d\":[{\"type\":\"mesh3d\",\"colorbar\":{\"outlinewidth\":0,\"ticks\":\"\"}}],\"scatter\":[{\"marker\":{\"line\":{\"color\":\"#283442\"}},\"type\":\"scatter\"}],\"parcoords\":[{\"type\":\"parcoords\",\"line\":{\"colorbar\":{\"outlinewidth\":0,\"ticks\":\"\"}}}],\"scatterpolargl\":[{\"type\":\"scatterpolargl\",\"marker\":{\"colorbar\":{\"outlinewidth\":0,\"ticks\":\"\"}}}],\"bar\":[{\"error_x\":{\"color\":\"#f2f5fa\"},\"error_y\":{\"color\":\"#f2f5fa\"},\"marker\":{\"line\":{\"color\":\"rgb(17,17,17)\",\"width\":0.5},\"pattern\":{\"fillmode\":\"overlay\",\"size\":10,\"solidity\":0.2}},\"type\":\"bar\"}],\"scattergeo\":[{\"type\":\"scattergeo\",\"marker\":{\"colorbar\":{\"outlinewidth\":0,\"ticks\":\"\"}}}],\"scatterpolar\":[{\"type\":\"scatterpolar\",\"marker\":{\"colorbar\":{\"outlinewidth\":0,\"ticks\":\"\"}}}],\"histogram\":[{\"marker\":{\"pattern\":{\"fillmode\":\"overlay\",\"size\":10,\"solidity\":0.2}},\"type\":\"histogram\"}],\"scattergl\":[{\"marker\":{\"line\":{\"color\":\"#283442\"}},\"type\":\"scattergl\"}],\"scatter3d\":[{\"type\":\"scatter3d\",\"line\":{\"colorbar\":{\"outlinewidth\":0,\"ticks\":\"\"}},\"marker\":{\"colorbar\":{\"outlinewidth\":0,\"ticks\":\"\"}}}],\"scattermapbox\":[{\"type\":\"scattermapbox\",\"marker\":{\"colorbar\":{\"outlinewidth\":0,\"ticks\":\"\"}}}],\"scatterternary\":[{\"type\":\"scatterternary\",\"marker\":{\"colorbar\":{\"outlinewidth\":0,\"ticks\":\"\"}}}],\"scattercarpet\":[{\"type\":\"scattercarpet\",\"marker\":{\"colorbar\":{\"outlinewidth\":0,\"ticks\":\"\"}}}],\"carpet\":[{\"aaxis\":{\"endlinecolor\":\"#A2B1C6\",\"gridcolor\":\"#506784\",\"linecolor\":\"#506784\",\"minorgridcolor\":\"#506784\",\"startlinecolor\":\"#A2B1C6\"},\"baxis\":{\"endlinecolor\":\"#A2B1C6\",\"gridcolor\":\"#506784\",\"linecolor\":\"#506784\",\"minorgridcolor\":\"#506784\",\"startlinecolor\":\"#A2B1C6\"},\"type\":\"carpet\"}],\"table\":[{\"cells\":{\"fill\":{\"color\":\"#506784\"},\"line\":{\"color\":\"rgb(17,17,17)\"}},\"header\":{\"fill\":{\"color\":\"#2a3f5f\"},\"line\":{\"color\":\"rgb(17,17,17)\"}},\"type\":\"table\"}],\"barpolar\":[{\"marker\":{\"line\":{\"color\":\"rgb(17,17,17)\",\"width\":0.5},\"pattern\":{\"fillmode\":\"overlay\",\"size\":10,\"solidity\":0.2}},\"type\":\"barpolar\"}],\"pie\":[{\"automargin\":true,\"type\":\"pie\"}]},\"layout\":{\"autotypenumbers\":\"strict\",\"colorway\":[\"#636efa\",\"#EF553B\",\"#00cc96\",\"#ab63fa\",\"#FFA15A\",\"#19d3f3\",\"#FF6692\",\"#B6E880\",\"#FF97FF\",\"#FECB52\"],\"font\":{\"color\":\"#f2f5fa\"},\"hovermode\":\"closest\",\"hoverlabel\":{\"align\":\"left\"},\"paper_bgcolor\":\"rgb(17,17,17)\",\"plot_bgcolor\":\"rgb(17,17,17)\",\"polar\":{\"bgcolor\":\"rgb(17,17,17)\",\"angularaxis\":{\"gridcolor\":\"#506784\",\"linecolor\":\"#506784\",\"ticks\":\"\"},\"radialaxis\":{\"gridcolor\":\"#506784\",\"linecolor\":\"#506784\",\"ticks\":\"\"}},\"ternary\":{\"bgcolor\":\"rgb(17,17,17)\",\"aaxis\":{\"gridcolor\":\"#506784\",\"linecolor\":\"#506784\",\"ticks\":\"\"},\"baxis\":{\"gridcolor\":\"#506784\",\"linecolor\":\"#506784\",\"ticks\":\"\"},\"caxis\":{\"gridcolor\":\"#506784\",\"linecolor\":\"#506784\",\"ticks\":\"\"}},\"coloraxis\":{\"colorbar\":{\"outlinewidth\":0,\"ticks\":\"\"}},\"colorscale\":{\"sequential\":[[0.0,\"#0d0887\"],[0.1111111111111111,\"#46039f\"],[0.2222222222222222,\"#7201a8\"],[0.3333333333333333,\"#9c179e\"],[0.4444444444444444,\"#bd3786\"],[0.5555555555555556,\"#d8576b\"],[0.6666666666666666,\"#ed7953\"],[0.7777777777777778,\"#fb9f3a\"],[0.8888888888888888,\"#fdca26\"],[1.0,\"#f0f921\"]],\"sequentialminus\":[[0.0,\"#0d0887\"],[0.1111111111111111,\"#46039f\"],[0.2222222222222222,\"#7201a8\"],[0.3333333333333333,\"#9c179e\"],[0.4444444444444444,\"#bd3786\"],[0.5555555555555556,\"#d8576b\"],[0.6666666666666666,\"#ed7953\"],[0.7777777777777778,\"#fb9f3a\"],[0.8888888888888888,\"#fdca26\"],[1.0,\"#f0f921\"]],\"diverging\":[[0,\"#8e0152\"],[0.1,\"#c51b7d\"],[0.2,\"#de77ae\"],[0.3,\"#f1b6da\"],[0.4,\"#fde0ef\"],[0.5,\"#f7f7f7\"],[0.6,\"#e6f5d0\"],[0.7,\"#b8e186\"],[0.8,\"#7fbc41\"],[0.9,\"#4d9221\"],[1,\"#276419\"]]},\"xaxis\":{\"gridcolor\":\"#283442\",\"linecolor\":\"#506784\",\"ticks\":\"\",\"title\":{\"standoff\":15},\"zerolinecolor\":\"#283442\",\"automargin\":true,\"zerolinewidth\":2},\"yaxis\":{\"gridcolor\":\"#283442\",\"linecolor\":\"#506784\",\"ticks\":\"\",\"title\":{\"standoff\":15},\"zerolinecolor\":\"#283442\",\"automargin\":true,\"zerolinewidth\":2},\"scene\":{\"xaxis\":{\"backgroundcolor\":\"rgb(17,17,17)\",\"gridcolor\":\"#506784\",\"linecolor\":\"#506784\",\"showbackground\":true,\"ticks\":\"\",\"zerolinecolor\":\"#C8D4E3\",\"gridwidth\":2},\"yaxis\":{\"backgroundcolor\":\"rgb(17,17,17)\",\"gridcolor\":\"#506784\",\"linecolor\":\"#506784\",\"showbackground\":true,\"ticks\":\"\",\"zerolinecolor\":\"#C8D4E3\",\"gridwidth\":2},\"zaxis\":{\"backgroundcolor\":\"rgb(17,17,17)\",\"gridcolor\":\"#506784\",\"linecolor\":\"#506784\",\"showbackground\":true,\"ticks\":\"\",\"zerolinecolor\":\"#C8D4E3\",\"gridwidth\":2}},\"shapedefaults\":{\"line\":{\"color\":\"#f2f5fa\"}},\"annotationdefaults\":{\"arrowcolor\":\"#f2f5fa\",\"arrowhead\":0,\"arrowwidth\":1},\"geo\":{\"bgcolor\":\"rgb(17,17,17)\",\"landcolor\":\"rgb(17,17,17)\",\"subunitcolor\":\"#506784\",\"showland\":true,\"showlakes\":true,\"lakecolor\":\"rgb(17,17,17)\"},\"title\":{\"x\":0.05},\"updatemenudefaults\":{\"bgcolor\":\"#506784\",\"borderwidth\":0},\"sliderdefaults\":{\"bgcolor\":\"#C8D4E3\",\"borderwidth\":1,\"bordercolor\":\"rgb(17,17,17)\",\"tickwidth\":0},\"mapbox\":{\"style\":\"dark\"}}},\"legend\":{\"tracegroupgap\":0},\"title\":{\"text\":\"Distribution of Heart Diagnosis\"}},                        {\"responsive\": true}                    ).then(function(){\n                            \nvar gd = document.getElementById('121b2bc7-1691-4715-9671-328f9737c319');\nvar x = new MutationObserver(function (mutations, observer) {{\n        var display = window.getComputedStyle(gd).display;\n        if (!display || display === 'none') {{\n            console.log([gd, 'removed!']);\n            Plotly.purge(gd);\n            observer.disconnect();\n        }}\n}});\n\n// Listen for the removal of the full notebook cells\nvar notebookContainer = gd.closest('#notebook-container');\nif (notebookContainer) {{\n    x.observe(notebookContainer, {childList: true});\n}}\n\n// Listen for the clearing of the current output cell\nvar outputEl = gd.closest('.output');\nif (outputEl) {{\n    x.observe(outputEl, {childList: true});\n}}\n\n                        })                };                });            </script>        </div>"
     },
     "metadata": {},
     "output_type": "display_data"
    }
   ],
   "source": [
    "heartattack_counts = raw_df['HeartDiseaseorAttack'].value_counts()\n",
    "rename_labels = {\n",
    "    0: 'No Heart Disease',\n",
    "    1: 'Heart Disease'}\n",
    "fig = px.pie(values=heartattack_counts,\n",
    "             names=heartattack_counts.index.map(rename_labels),\n",
    "             title='Distribution of Heart Diagnosis',\n",
    "             labels=rename_labels,\n",
    "             hover_name=heartattack_counts.index.map(rename_labels))\n",
    "fig.update_traces(textinfo='percent+label', text=heartattack_counts.index.map(rename_labels))\n",
    "fig.show()"
   ],
   "metadata": {
    "collapsed": false,
    "ExecuteTime": {
     "end_time": "2023-09-14T03:55:04.126060300Z",
     "start_time": "2023-09-14T03:55:04.019811700Z"
    }
   }
  },
  {
   "cell_type": "code",
   "execution_count": 167,
   "outputs": [
    {
     "data": {
      "application/vnd.plotly.v1+json": {
       "data": [
        {
         "domain": {
          "x": [
           0.0,
           1.0
          ],
          "y": [
           0.0,
           1.0
          ]
         },
         "hovertemplate": "<b>%{hovertext}</b><br><br>label=%{label}<br>value=%{value}<extra></extra>",
         "hovertext": [
          "No",
          "Yes"
         ],
         "labels": [
          "No",
          "Yes"
         ],
         "legendgroup": "",
         "name": "",
         "showlegend": true,
         "values": [
          144851,
          108829
         ],
         "type": "pie",
         "text": [
          "No",
          "Yes"
         ],
         "textinfo": "percent+label"
        }
       ],
       "layout": {
        "template": {
         "data": {
          "histogram2dcontour": [
           {
            "type": "histogram2dcontour",
            "colorbar": {
             "outlinewidth": 0,
             "ticks": ""
            },
            "colorscale": [
             [
              0.0,
              "#0d0887"
             ],
             [
              0.1111111111111111,
              "#46039f"
             ],
             [
              0.2222222222222222,
              "#7201a8"
             ],
             [
              0.3333333333333333,
              "#9c179e"
             ],
             [
              0.4444444444444444,
              "#bd3786"
             ],
             [
              0.5555555555555556,
              "#d8576b"
             ],
             [
              0.6666666666666666,
              "#ed7953"
             ],
             [
              0.7777777777777778,
              "#fb9f3a"
             ],
             [
              0.8888888888888888,
              "#fdca26"
             ],
             [
              1.0,
              "#f0f921"
             ]
            ]
           }
          ],
          "choropleth": [
           {
            "type": "choropleth",
            "colorbar": {
             "outlinewidth": 0,
             "ticks": ""
            }
           }
          ],
          "histogram2d": [
           {
            "type": "histogram2d",
            "colorbar": {
             "outlinewidth": 0,
             "ticks": ""
            },
            "colorscale": [
             [
              0.0,
              "#0d0887"
             ],
             [
              0.1111111111111111,
              "#46039f"
             ],
             [
              0.2222222222222222,
              "#7201a8"
             ],
             [
              0.3333333333333333,
              "#9c179e"
             ],
             [
              0.4444444444444444,
              "#bd3786"
             ],
             [
              0.5555555555555556,
              "#d8576b"
             ],
             [
              0.6666666666666666,
              "#ed7953"
             ],
             [
              0.7777777777777778,
              "#fb9f3a"
             ],
             [
              0.8888888888888888,
              "#fdca26"
             ],
             [
              1.0,
              "#f0f921"
             ]
            ]
           }
          ],
          "heatmap": [
           {
            "type": "heatmap",
            "colorbar": {
             "outlinewidth": 0,
             "ticks": ""
            },
            "colorscale": [
             [
              0.0,
              "#0d0887"
             ],
             [
              0.1111111111111111,
              "#46039f"
             ],
             [
              0.2222222222222222,
              "#7201a8"
             ],
             [
              0.3333333333333333,
              "#9c179e"
             ],
             [
              0.4444444444444444,
              "#bd3786"
             ],
             [
              0.5555555555555556,
              "#d8576b"
             ],
             [
              0.6666666666666666,
              "#ed7953"
             ],
             [
              0.7777777777777778,
              "#fb9f3a"
             ],
             [
              0.8888888888888888,
              "#fdca26"
             ],
             [
              1.0,
              "#f0f921"
             ]
            ]
           }
          ],
          "heatmapgl": [
           {
            "type": "heatmapgl",
            "colorbar": {
             "outlinewidth": 0,
             "ticks": ""
            },
            "colorscale": [
             [
              0.0,
              "#0d0887"
             ],
             [
              0.1111111111111111,
              "#46039f"
             ],
             [
              0.2222222222222222,
              "#7201a8"
             ],
             [
              0.3333333333333333,
              "#9c179e"
             ],
             [
              0.4444444444444444,
              "#bd3786"
             ],
             [
              0.5555555555555556,
              "#d8576b"
             ],
             [
              0.6666666666666666,
              "#ed7953"
             ],
             [
              0.7777777777777778,
              "#fb9f3a"
             ],
             [
              0.8888888888888888,
              "#fdca26"
             ],
             [
              1.0,
              "#f0f921"
             ]
            ]
           }
          ],
          "contourcarpet": [
           {
            "type": "contourcarpet",
            "colorbar": {
             "outlinewidth": 0,
             "ticks": ""
            }
           }
          ],
          "contour": [
           {
            "type": "contour",
            "colorbar": {
             "outlinewidth": 0,
             "ticks": ""
            },
            "colorscale": [
             [
              0.0,
              "#0d0887"
             ],
             [
              0.1111111111111111,
              "#46039f"
             ],
             [
              0.2222222222222222,
              "#7201a8"
             ],
             [
              0.3333333333333333,
              "#9c179e"
             ],
             [
              0.4444444444444444,
              "#bd3786"
             ],
             [
              0.5555555555555556,
              "#d8576b"
             ],
             [
              0.6666666666666666,
              "#ed7953"
             ],
             [
              0.7777777777777778,
              "#fb9f3a"
             ],
             [
              0.8888888888888888,
              "#fdca26"
             ],
             [
              1.0,
              "#f0f921"
             ]
            ]
           }
          ],
          "surface": [
           {
            "type": "surface",
            "colorbar": {
             "outlinewidth": 0,
             "ticks": ""
            },
            "colorscale": [
             [
              0.0,
              "#0d0887"
             ],
             [
              0.1111111111111111,
              "#46039f"
             ],
             [
              0.2222222222222222,
              "#7201a8"
             ],
             [
              0.3333333333333333,
              "#9c179e"
             ],
             [
              0.4444444444444444,
              "#bd3786"
             ],
             [
              0.5555555555555556,
              "#d8576b"
             ],
             [
              0.6666666666666666,
              "#ed7953"
             ],
             [
              0.7777777777777778,
              "#fb9f3a"
             ],
             [
              0.8888888888888888,
              "#fdca26"
             ],
             [
              1.0,
              "#f0f921"
             ]
            ]
           }
          ],
          "mesh3d": [
           {
            "type": "mesh3d",
            "colorbar": {
             "outlinewidth": 0,
             "ticks": ""
            }
           }
          ],
          "scatter": [
           {
            "marker": {
             "line": {
              "color": "#283442"
             }
            },
            "type": "scatter"
           }
          ],
          "parcoords": [
           {
            "type": "parcoords",
            "line": {
             "colorbar": {
              "outlinewidth": 0,
              "ticks": ""
             }
            }
           }
          ],
          "scatterpolargl": [
           {
            "type": "scatterpolargl",
            "marker": {
             "colorbar": {
              "outlinewidth": 0,
              "ticks": ""
             }
            }
           }
          ],
          "bar": [
           {
            "error_x": {
             "color": "#f2f5fa"
            },
            "error_y": {
             "color": "#f2f5fa"
            },
            "marker": {
             "line": {
              "color": "rgb(17,17,17)",
              "width": 0.5
             },
             "pattern": {
              "fillmode": "overlay",
              "size": 10,
              "solidity": 0.2
             }
            },
            "type": "bar"
           }
          ],
          "scattergeo": [
           {
            "type": "scattergeo",
            "marker": {
             "colorbar": {
              "outlinewidth": 0,
              "ticks": ""
             }
            }
           }
          ],
          "scatterpolar": [
           {
            "type": "scatterpolar",
            "marker": {
             "colorbar": {
              "outlinewidth": 0,
              "ticks": ""
             }
            }
           }
          ],
          "histogram": [
           {
            "marker": {
             "pattern": {
              "fillmode": "overlay",
              "size": 10,
              "solidity": 0.2
             }
            },
            "type": "histogram"
           }
          ],
          "scattergl": [
           {
            "marker": {
             "line": {
              "color": "#283442"
             }
            },
            "type": "scattergl"
           }
          ],
          "scatter3d": [
           {
            "type": "scatter3d",
            "line": {
             "colorbar": {
              "outlinewidth": 0,
              "ticks": ""
             }
            },
            "marker": {
             "colorbar": {
              "outlinewidth": 0,
              "ticks": ""
             }
            }
           }
          ],
          "scattermapbox": [
           {
            "type": "scattermapbox",
            "marker": {
             "colorbar": {
              "outlinewidth": 0,
              "ticks": ""
             }
            }
           }
          ],
          "scatterternary": [
           {
            "type": "scatterternary",
            "marker": {
             "colorbar": {
              "outlinewidth": 0,
              "ticks": ""
             }
            }
           }
          ],
          "scattercarpet": [
           {
            "type": "scattercarpet",
            "marker": {
             "colorbar": {
              "outlinewidth": 0,
              "ticks": ""
             }
            }
           }
          ],
          "carpet": [
           {
            "aaxis": {
             "endlinecolor": "#A2B1C6",
             "gridcolor": "#506784",
             "linecolor": "#506784",
             "minorgridcolor": "#506784",
             "startlinecolor": "#A2B1C6"
            },
            "baxis": {
             "endlinecolor": "#A2B1C6",
             "gridcolor": "#506784",
             "linecolor": "#506784",
             "minorgridcolor": "#506784",
             "startlinecolor": "#A2B1C6"
            },
            "type": "carpet"
           }
          ],
          "table": [
           {
            "cells": {
             "fill": {
              "color": "#506784"
             },
             "line": {
              "color": "rgb(17,17,17)"
             }
            },
            "header": {
             "fill": {
              "color": "#2a3f5f"
             },
             "line": {
              "color": "rgb(17,17,17)"
             }
            },
            "type": "table"
           }
          ],
          "barpolar": [
           {
            "marker": {
             "line": {
              "color": "rgb(17,17,17)",
              "width": 0.5
             },
             "pattern": {
              "fillmode": "overlay",
              "size": 10,
              "solidity": 0.2
             }
            },
            "type": "barpolar"
           }
          ],
          "pie": [
           {
            "automargin": true,
            "type": "pie"
           }
          ]
         },
         "layout": {
          "autotypenumbers": "strict",
          "colorway": [
           "#636efa",
           "#EF553B",
           "#00cc96",
           "#ab63fa",
           "#FFA15A",
           "#19d3f3",
           "#FF6692",
           "#B6E880",
           "#FF97FF",
           "#FECB52"
          ],
          "font": {
           "color": "#f2f5fa"
          },
          "hovermode": "closest",
          "hoverlabel": {
           "align": "left"
          },
          "paper_bgcolor": "rgb(17,17,17)",
          "plot_bgcolor": "rgb(17,17,17)",
          "polar": {
           "bgcolor": "rgb(17,17,17)",
           "angularaxis": {
            "gridcolor": "#506784",
            "linecolor": "#506784",
            "ticks": ""
           },
           "radialaxis": {
            "gridcolor": "#506784",
            "linecolor": "#506784",
            "ticks": ""
           }
          },
          "ternary": {
           "bgcolor": "rgb(17,17,17)",
           "aaxis": {
            "gridcolor": "#506784",
            "linecolor": "#506784",
            "ticks": ""
           },
           "baxis": {
            "gridcolor": "#506784",
            "linecolor": "#506784",
            "ticks": ""
           },
           "caxis": {
            "gridcolor": "#506784",
            "linecolor": "#506784",
            "ticks": ""
           }
          },
          "coloraxis": {
           "colorbar": {
            "outlinewidth": 0,
            "ticks": ""
           }
          },
          "colorscale": {
           "sequential": [
            [
             0.0,
             "#0d0887"
            ],
            [
             0.1111111111111111,
             "#46039f"
            ],
            [
             0.2222222222222222,
             "#7201a8"
            ],
            [
             0.3333333333333333,
             "#9c179e"
            ],
            [
             0.4444444444444444,
             "#bd3786"
            ],
            [
             0.5555555555555556,
             "#d8576b"
            ],
            [
             0.6666666666666666,
             "#ed7953"
            ],
            [
             0.7777777777777778,
             "#fb9f3a"
            ],
            [
             0.8888888888888888,
             "#fdca26"
            ],
            [
             1.0,
             "#f0f921"
            ]
           ],
           "sequentialminus": [
            [
             0.0,
             "#0d0887"
            ],
            [
             0.1111111111111111,
             "#46039f"
            ],
            [
             0.2222222222222222,
             "#7201a8"
            ],
            [
             0.3333333333333333,
             "#9c179e"
            ],
            [
             0.4444444444444444,
             "#bd3786"
            ],
            [
             0.5555555555555556,
             "#d8576b"
            ],
            [
             0.6666666666666666,
             "#ed7953"
            ],
            [
             0.7777777777777778,
             "#fb9f3a"
            ],
            [
             0.8888888888888888,
             "#fdca26"
            ],
            [
             1.0,
             "#f0f921"
            ]
           ],
           "diverging": [
            [
             0,
             "#8e0152"
            ],
            [
             0.1,
             "#c51b7d"
            ],
            [
             0.2,
             "#de77ae"
            ],
            [
             0.3,
             "#f1b6da"
            ],
            [
             0.4,
             "#fde0ef"
            ],
            [
             0.5,
             "#f7f7f7"
            ],
            [
             0.6,
             "#e6f5d0"
            ],
            [
             0.7,
             "#b8e186"
            ],
            [
             0.8,
             "#7fbc41"
            ],
            [
             0.9,
             "#4d9221"
            ],
            [
             1,
             "#276419"
            ]
           ]
          },
          "xaxis": {
           "gridcolor": "#283442",
           "linecolor": "#506784",
           "ticks": "",
           "title": {
            "standoff": 15
           },
           "zerolinecolor": "#283442",
           "automargin": true,
           "zerolinewidth": 2
          },
          "yaxis": {
           "gridcolor": "#283442",
           "linecolor": "#506784",
           "ticks": "",
           "title": {
            "standoff": 15
           },
           "zerolinecolor": "#283442",
           "automargin": true,
           "zerolinewidth": 2
          },
          "scene": {
           "xaxis": {
            "backgroundcolor": "rgb(17,17,17)",
            "gridcolor": "#506784",
            "linecolor": "#506784",
            "showbackground": true,
            "ticks": "",
            "zerolinecolor": "#C8D4E3",
            "gridwidth": 2
           },
           "yaxis": {
            "backgroundcolor": "rgb(17,17,17)",
            "gridcolor": "#506784",
            "linecolor": "#506784",
            "showbackground": true,
            "ticks": "",
            "zerolinecolor": "#C8D4E3",
            "gridwidth": 2
           },
           "zaxis": {
            "backgroundcolor": "rgb(17,17,17)",
            "gridcolor": "#506784",
            "linecolor": "#506784",
            "showbackground": true,
            "ticks": "",
            "zerolinecolor": "#C8D4E3",
            "gridwidth": 2
           }
          },
          "shapedefaults": {
           "line": {
            "color": "#f2f5fa"
           }
          },
          "annotationdefaults": {
           "arrowcolor": "#f2f5fa",
           "arrowhead": 0,
           "arrowwidth": 1
          },
          "geo": {
           "bgcolor": "rgb(17,17,17)",
           "landcolor": "rgb(17,17,17)",
           "subunitcolor": "#506784",
           "showland": true,
           "showlakes": true,
           "lakecolor": "rgb(17,17,17)"
          },
          "title": {
           "x": 0.05
          },
          "updatemenudefaults": {
           "bgcolor": "#506784",
           "borderwidth": 0
          },
          "sliderdefaults": {
           "bgcolor": "#C8D4E3",
           "borderwidth": 1,
           "bordercolor": "rgb(17,17,17)",
           "tickwidth": 0
          },
          "mapbox": {
           "style": "dark"
          }
         }
        },
        "legend": {
         "tracegroupgap": 0
        },
        "title": {
         "text": "Distribution of HighBP"
        }
       },
       "config": {
        "plotlyServerURL": "https://plot.ly"
       }
      },
      "text/html": "<div>                            <div id=\"490acbac-ef1f-447c-8e3e-fd53787ea677\" class=\"plotly-graph-div\" style=\"height:525px; width:100%;\"></div>            <script type=\"text/javascript\">                require([\"plotly\"], function(Plotly) {                    window.PLOTLYENV=window.PLOTLYENV || {};                                    if (document.getElementById(\"490acbac-ef1f-447c-8e3e-fd53787ea677\")) {                    Plotly.newPlot(                        \"490acbac-ef1f-447c-8e3e-fd53787ea677\",                        [{\"domain\":{\"x\":[0.0,1.0],\"y\":[0.0,1.0]},\"hovertemplate\":\"\\u003cb\\u003e%{hovertext}\\u003c\\u002fb\\u003e\\u003cbr\\u003e\\u003cbr\\u003elabel=%{label}\\u003cbr\\u003evalue=%{value}\\u003cextra\\u003e\\u003c\\u002fextra\\u003e\",\"hovertext\":[\"No\",\"Yes\"],\"labels\":[\"No\",\"Yes\"],\"legendgroup\":\"\",\"name\":\"\",\"showlegend\":true,\"values\":[144851,108829],\"type\":\"pie\",\"text\":[\"No\",\"Yes\"],\"textinfo\":\"percent+label\"}],                        {\"template\":{\"data\":{\"histogram2dcontour\":[{\"type\":\"histogram2dcontour\",\"colorbar\":{\"outlinewidth\":0,\"ticks\":\"\"},\"colorscale\":[[0.0,\"#0d0887\"],[0.1111111111111111,\"#46039f\"],[0.2222222222222222,\"#7201a8\"],[0.3333333333333333,\"#9c179e\"],[0.4444444444444444,\"#bd3786\"],[0.5555555555555556,\"#d8576b\"],[0.6666666666666666,\"#ed7953\"],[0.7777777777777778,\"#fb9f3a\"],[0.8888888888888888,\"#fdca26\"],[1.0,\"#f0f921\"]]}],\"choropleth\":[{\"type\":\"choropleth\",\"colorbar\":{\"outlinewidth\":0,\"ticks\":\"\"}}],\"histogram2d\":[{\"type\":\"histogram2d\",\"colorbar\":{\"outlinewidth\":0,\"ticks\":\"\"},\"colorscale\":[[0.0,\"#0d0887\"],[0.1111111111111111,\"#46039f\"],[0.2222222222222222,\"#7201a8\"],[0.3333333333333333,\"#9c179e\"],[0.4444444444444444,\"#bd3786\"],[0.5555555555555556,\"#d8576b\"],[0.6666666666666666,\"#ed7953\"],[0.7777777777777778,\"#fb9f3a\"],[0.8888888888888888,\"#fdca26\"],[1.0,\"#f0f921\"]]}],\"heatmap\":[{\"type\":\"heatmap\",\"colorbar\":{\"outlinewidth\":0,\"ticks\":\"\"},\"colorscale\":[[0.0,\"#0d0887\"],[0.1111111111111111,\"#46039f\"],[0.2222222222222222,\"#7201a8\"],[0.3333333333333333,\"#9c179e\"],[0.4444444444444444,\"#bd3786\"],[0.5555555555555556,\"#d8576b\"],[0.6666666666666666,\"#ed7953\"],[0.7777777777777778,\"#fb9f3a\"],[0.8888888888888888,\"#fdca26\"],[1.0,\"#f0f921\"]]}],\"heatmapgl\":[{\"type\":\"heatmapgl\",\"colorbar\":{\"outlinewidth\":0,\"ticks\":\"\"},\"colorscale\":[[0.0,\"#0d0887\"],[0.1111111111111111,\"#46039f\"],[0.2222222222222222,\"#7201a8\"],[0.3333333333333333,\"#9c179e\"],[0.4444444444444444,\"#bd3786\"],[0.5555555555555556,\"#d8576b\"],[0.6666666666666666,\"#ed7953\"],[0.7777777777777778,\"#fb9f3a\"],[0.8888888888888888,\"#fdca26\"],[1.0,\"#f0f921\"]]}],\"contourcarpet\":[{\"type\":\"contourcarpet\",\"colorbar\":{\"outlinewidth\":0,\"ticks\":\"\"}}],\"contour\":[{\"type\":\"contour\",\"colorbar\":{\"outlinewidth\":0,\"ticks\":\"\"},\"colorscale\":[[0.0,\"#0d0887\"],[0.1111111111111111,\"#46039f\"],[0.2222222222222222,\"#7201a8\"],[0.3333333333333333,\"#9c179e\"],[0.4444444444444444,\"#bd3786\"],[0.5555555555555556,\"#d8576b\"],[0.6666666666666666,\"#ed7953\"],[0.7777777777777778,\"#fb9f3a\"],[0.8888888888888888,\"#fdca26\"],[1.0,\"#f0f921\"]]}],\"surface\":[{\"type\":\"surface\",\"colorbar\":{\"outlinewidth\":0,\"ticks\":\"\"},\"colorscale\":[[0.0,\"#0d0887\"],[0.1111111111111111,\"#46039f\"],[0.2222222222222222,\"#7201a8\"],[0.3333333333333333,\"#9c179e\"],[0.4444444444444444,\"#bd3786\"],[0.5555555555555556,\"#d8576b\"],[0.6666666666666666,\"#ed7953\"],[0.7777777777777778,\"#fb9f3a\"],[0.8888888888888888,\"#fdca26\"],[1.0,\"#f0f921\"]]}],\"mesh3d\":[{\"type\":\"mesh3d\",\"colorbar\":{\"outlinewidth\":0,\"ticks\":\"\"}}],\"scatter\":[{\"marker\":{\"line\":{\"color\":\"#283442\"}},\"type\":\"scatter\"}],\"parcoords\":[{\"type\":\"parcoords\",\"line\":{\"colorbar\":{\"outlinewidth\":0,\"ticks\":\"\"}}}],\"scatterpolargl\":[{\"type\":\"scatterpolargl\",\"marker\":{\"colorbar\":{\"outlinewidth\":0,\"ticks\":\"\"}}}],\"bar\":[{\"error_x\":{\"color\":\"#f2f5fa\"},\"error_y\":{\"color\":\"#f2f5fa\"},\"marker\":{\"line\":{\"color\":\"rgb(17,17,17)\",\"width\":0.5},\"pattern\":{\"fillmode\":\"overlay\",\"size\":10,\"solidity\":0.2}},\"type\":\"bar\"}],\"scattergeo\":[{\"type\":\"scattergeo\",\"marker\":{\"colorbar\":{\"outlinewidth\":0,\"ticks\":\"\"}}}],\"scatterpolar\":[{\"type\":\"scatterpolar\",\"marker\":{\"colorbar\":{\"outlinewidth\":0,\"ticks\":\"\"}}}],\"histogram\":[{\"marker\":{\"pattern\":{\"fillmode\":\"overlay\",\"size\":10,\"solidity\":0.2}},\"type\":\"histogram\"}],\"scattergl\":[{\"marker\":{\"line\":{\"color\":\"#283442\"}},\"type\":\"scattergl\"}],\"scatter3d\":[{\"type\":\"scatter3d\",\"line\":{\"colorbar\":{\"outlinewidth\":0,\"ticks\":\"\"}},\"marker\":{\"colorbar\":{\"outlinewidth\":0,\"ticks\":\"\"}}}],\"scattermapbox\":[{\"type\":\"scattermapbox\",\"marker\":{\"colorbar\":{\"outlinewidth\":0,\"ticks\":\"\"}}}],\"scatterternary\":[{\"type\":\"scatterternary\",\"marker\":{\"colorbar\":{\"outlinewidth\":0,\"ticks\":\"\"}}}],\"scattercarpet\":[{\"type\":\"scattercarpet\",\"marker\":{\"colorbar\":{\"outlinewidth\":0,\"ticks\":\"\"}}}],\"carpet\":[{\"aaxis\":{\"endlinecolor\":\"#A2B1C6\",\"gridcolor\":\"#506784\",\"linecolor\":\"#506784\",\"minorgridcolor\":\"#506784\",\"startlinecolor\":\"#A2B1C6\"},\"baxis\":{\"endlinecolor\":\"#A2B1C6\",\"gridcolor\":\"#506784\",\"linecolor\":\"#506784\",\"minorgridcolor\":\"#506784\",\"startlinecolor\":\"#A2B1C6\"},\"type\":\"carpet\"}],\"table\":[{\"cells\":{\"fill\":{\"color\":\"#506784\"},\"line\":{\"color\":\"rgb(17,17,17)\"}},\"header\":{\"fill\":{\"color\":\"#2a3f5f\"},\"line\":{\"color\":\"rgb(17,17,17)\"}},\"type\":\"table\"}],\"barpolar\":[{\"marker\":{\"line\":{\"color\":\"rgb(17,17,17)\",\"width\":0.5},\"pattern\":{\"fillmode\":\"overlay\",\"size\":10,\"solidity\":0.2}},\"type\":\"barpolar\"}],\"pie\":[{\"automargin\":true,\"type\":\"pie\"}]},\"layout\":{\"autotypenumbers\":\"strict\",\"colorway\":[\"#636efa\",\"#EF553B\",\"#00cc96\",\"#ab63fa\",\"#FFA15A\",\"#19d3f3\",\"#FF6692\",\"#B6E880\",\"#FF97FF\",\"#FECB52\"],\"font\":{\"color\":\"#f2f5fa\"},\"hovermode\":\"closest\",\"hoverlabel\":{\"align\":\"left\"},\"paper_bgcolor\":\"rgb(17,17,17)\",\"plot_bgcolor\":\"rgb(17,17,17)\",\"polar\":{\"bgcolor\":\"rgb(17,17,17)\",\"angularaxis\":{\"gridcolor\":\"#506784\",\"linecolor\":\"#506784\",\"ticks\":\"\"},\"radialaxis\":{\"gridcolor\":\"#506784\",\"linecolor\":\"#506784\",\"ticks\":\"\"}},\"ternary\":{\"bgcolor\":\"rgb(17,17,17)\",\"aaxis\":{\"gridcolor\":\"#506784\",\"linecolor\":\"#506784\",\"ticks\":\"\"},\"baxis\":{\"gridcolor\":\"#506784\",\"linecolor\":\"#506784\",\"ticks\":\"\"},\"caxis\":{\"gridcolor\":\"#506784\",\"linecolor\":\"#506784\",\"ticks\":\"\"}},\"coloraxis\":{\"colorbar\":{\"outlinewidth\":0,\"ticks\":\"\"}},\"colorscale\":{\"sequential\":[[0.0,\"#0d0887\"],[0.1111111111111111,\"#46039f\"],[0.2222222222222222,\"#7201a8\"],[0.3333333333333333,\"#9c179e\"],[0.4444444444444444,\"#bd3786\"],[0.5555555555555556,\"#d8576b\"],[0.6666666666666666,\"#ed7953\"],[0.7777777777777778,\"#fb9f3a\"],[0.8888888888888888,\"#fdca26\"],[1.0,\"#f0f921\"]],\"sequentialminus\":[[0.0,\"#0d0887\"],[0.1111111111111111,\"#46039f\"],[0.2222222222222222,\"#7201a8\"],[0.3333333333333333,\"#9c179e\"],[0.4444444444444444,\"#bd3786\"],[0.5555555555555556,\"#d8576b\"],[0.6666666666666666,\"#ed7953\"],[0.7777777777777778,\"#fb9f3a\"],[0.8888888888888888,\"#fdca26\"],[1.0,\"#f0f921\"]],\"diverging\":[[0,\"#8e0152\"],[0.1,\"#c51b7d\"],[0.2,\"#de77ae\"],[0.3,\"#f1b6da\"],[0.4,\"#fde0ef\"],[0.5,\"#f7f7f7\"],[0.6,\"#e6f5d0\"],[0.7,\"#b8e186\"],[0.8,\"#7fbc41\"],[0.9,\"#4d9221\"],[1,\"#276419\"]]},\"xaxis\":{\"gridcolor\":\"#283442\",\"linecolor\":\"#506784\",\"ticks\":\"\",\"title\":{\"standoff\":15},\"zerolinecolor\":\"#283442\",\"automargin\":true,\"zerolinewidth\":2},\"yaxis\":{\"gridcolor\":\"#283442\",\"linecolor\":\"#506784\",\"ticks\":\"\",\"title\":{\"standoff\":15},\"zerolinecolor\":\"#283442\",\"automargin\":true,\"zerolinewidth\":2},\"scene\":{\"xaxis\":{\"backgroundcolor\":\"rgb(17,17,17)\",\"gridcolor\":\"#506784\",\"linecolor\":\"#506784\",\"showbackground\":true,\"ticks\":\"\",\"zerolinecolor\":\"#C8D4E3\",\"gridwidth\":2},\"yaxis\":{\"backgroundcolor\":\"rgb(17,17,17)\",\"gridcolor\":\"#506784\",\"linecolor\":\"#506784\",\"showbackground\":true,\"ticks\":\"\",\"zerolinecolor\":\"#C8D4E3\",\"gridwidth\":2},\"zaxis\":{\"backgroundcolor\":\"rgb(17,17,17)\",\"gridcolor\":\"#506784\",\"linecolor\":\"#506784\",\"showbackground\":true,\"ticks\":\"\",\"zerolinecolor\":\"#C8D4E3\",\"gridwidth\":2}},\"shapedefaults\":{\"line\":{\"color\":\"#f2f5fa\"}},\"annotationdefaults\":{\"arrowcolor\":\"#f2f5fa\",\"arrowhead\":0,\"arrowwidth\":1},\"geo\":{\"bgcolor\":\"rgb(17,17,17)\",\"landcolor\":\"rgb(17,17,17)\",\"subunitcolor\":\"#506784\",\"showland\":true,\"showlakes\":true,\"lakecolor\":\"rgb(17,17,17)\"},\"title\":{\"x\":0.05},\"updatemenudefaults\":{\"bgcolor\":\"#506784\",\"borderwidth\":0},\"sliderdefaults\":{\"bgcolor\":\"#C8D4E3\",\"borderwidth\":1,\"bordercolor\":\"rgb(17,17,17)\",\"tickwidth\":0},\"mapbox\":{\"style\":\"dark\"}}},\"legend\":{\"tracegroupgap\":0},\"title\":{\"text\":\"Distribution of HighBP\"}},                        {\"responsive\": true}                    ).then(function(){\n                            \nvar gd = document.getElementById('490acbac-ef1f-447c-8e3e-fd53787ea677');\nvar x = new MutationObserver(function (mutations, observer) {{\n        var display = window.getComputedStyle(gd).display;\n        if (!display || display === 'none') {{\n            console.log([gd, 'removed!']);\n            Plotly.purge(gd);\n            observer.disconnect();\n        }}\n}});\n\n// Listen for the removal of the full notebook cells\nvar notebookContainer = gd.closest('#notebook-container');\nif (notebookContainer) {{\n    x.observe(notebookContainer, {childList: true});\n}}\n\n// Listen for the clearing of the current output cell\nvar outputEl = gd.closest('.output');\nif (outputEl) {{\n    x.observe(outputEl, {childList: true});\n}}\n\n                        })                };                });            </script>        </div>"
     },
     "metadata": {},
     "output_type": "display_data"
    },
    {
     "data": {
      "application/vnd.plotly.v1+json": {
       "data": [
        {
         "domain": {
          "x": [
           0.0,
           1.0
          ],
          "y": [
           0.0,
           1.0
          ]
         },
         "hovertemplate": "<b>%{hovertext}</b><br><br>label=%{label}<br>value=%{value}<extra></extra>",
         "hovertext": [
          "No",
          "Yes"
         ],
         "labels": [
          "No",
          "Yes"
         ],
         "legendgroup": "",
         "name": "",
         "showlegend": true,
         "values": [
          141257,
          112423
         ],
         "type": "pie",
         "text": [
          "No",
          "Yes"
         ],
         "textinfo": "percent+label"
        }
       ],
       "layout": {
        "template": {
         "data": {
          "histogram2dcontour": [
           {
            "type": "histogram2dcontour",
            "colorbar": {
             "outlinewidth": 0,
             "ticks": ""
            },
            "colorscale": [
             [
              0.0,
              "#0d0887"
             ],
             [
              0.1111111111111111,
              "#46039f"
             ],
             [
              0.2222222222222222,
              "#7201a8"
             ],
             [
              0.3333333333333333,
              "#9c179e"
             ],
             [
              0.4444444444444444,
              "#bd3786"
             ],
             [
              0.5555555555555556,
              "#d8576b"
             ],
             [
              0.6666666666666666,
              "#ed7953"
             ],
             [
              0.7777777777777778,
              "#fb9f3a"
             ],
             [
              0.8888888888888888,
              "#fdca26"
             ],
             [
              1.0,
              "#f0f921"
             ]
            ]
           }
          ],
          "choropleth": [
           {
            "type": "choropleth",
            "colorbar": {
             "outlinewidth": 0,
             "ticks": ""
            }
           }
          ],
          "histogram2d": [
           {
            "type": "histogram2d",
            "colorbar": {
             "outlinewidth": 0,
             "ticks": ""
            },
            "colorscale": [
             [
              0.0,
              "#0d0887"
             ],
             [
              0.1111111111111111,
              "#46039f"
             ],
             [
              0.2222222222222222,
              "#7201a8"
             ],
             [
              0.3333333333333333,
              "#9c179e"
             ],
             [
              0.4444444444444444,
              "#bd3786"
             ],
             [
              0.5555555555555556,
              "#d8576b"
             ],
             [
              0.6666666666666666,
              "#ed7953"
             ],
             [
              0.7777777777777778,
              "#fb9f3a"
             ],
             [
              0.8888888888888888,
              "#fdca26"
             ],
             [
              1.0,
              "#f0f921"
             ]
            ]
           }
          ],
          "heatmap": [
           {
            "type": "heatmap",
            "colorbar": {
             "outlinewidth": 0,
             "ticks": ""
            },
            "colorscale": [
             [
              0.0,
              "#0d0887"
             ],
             [
              0.1111111111111111,
              "#46039f"
             ],
             [
              0.2222222222222222,
              "#7201a8"
             ],
             [
              0.3333333333333333,
              "#9c179e"
             ],
             [
              0.4444444444444444,
              "#bd3786"
             ],
             [
              0.5555555555555556,
              "#d8576b"
             ],
             [
              0.6666666666666666,
              "#ed7953"
             ],
             [
              0.7777777777777778,
              "#fb9f3a"
             ],
             [
              0.8888888888888888,
              "#fdca26"
             ],
             [
              1.0,
              "#f0f921"
             ]
            ]
           }
          ],
          "heatmapgl": [
           {
            "type": "heatmapgl",
            "colorbar": {
             "outlinewidth": 0,
             "ticks": ""
            },
            "colorscale": [
             [
              0.0,
              "#0d0887"
             ],
             [
              0.1111111111111111,
              "#46039f"
             ],
             [
              0.2222222222222222,
              "#7201a8"
             ],
             [
              0.3333333333333333,
              "#9c179e"
             ],
             [
              0.4444444444444444,
              "#bd3786"
             ],
             [
              0.5555555555555556,
              "#d8576b"
             ],
             [
              0.6666666666666666,
              "#ed7953"
             ],
             [
              0.7777777777777778,
              "#fb9f3a"
             ],
             [
              0.8888888888888888,
              "#fdca26"
             ],
             [
              1.0,
              "#f0f921"
             ]
            ]
           }
          ],
          "contourcarpet": [
           {
            "type": "contourcarpet",
            "colorbar": {
             "outlinewidth": 0,
             "ticks": ""
            }
           }
          ],
          "contour": [
           {
            "type": "contour",
            "colorbar": {
             "outlinewidth": 0,
             "ticks": ""
            },
            "colorscale": [
             [
              0.0,
              "#0d0887"
             ],
             [
              0.1111111111111111,
              "#46039f"
             ],
             [
              0.2222222222222222,
              "#7201a8"
             ],
             [
              0.3333333333333333,
              "#9c179e"
             ],
             [
              0.4444444444444444,
              "#bd3786"
             ],
             [
              0.5555555555555556,
              "#d8576b"
             ],
             [
              0.6666666666666666,
              "#ed7953"
             ],
             [
              0.7777777777777778,
              "#fb9f3a"
             ],
             [
              0.8888888888888888,
              "#fdca26"
             ],
             [
              1.0,
              "#f0f921"
             ]
            ]
           }
          ],
          "surface": [
           {
            "type": "surface",
            "colorbar": {
             "outlinewidth": 0,
             "ticks": ""
            },
            "colorscale": [
             [
              0.0,
              "#0d0887"
             ],
             [
              0.1111111111111111,
              "#46039f"
             ],
             [
              0.2222222222222222,
              "#7201a8"
             ],
             [
              0.3333333333333333,
              "#9c179e"
             ],
             [
              0.4444444444444444,
              "#bd3786"
             ],
             [
              0.5555555555555556,
              "#d8576b"
             ],
             [
              0.6666666666666666,
              "#ed7953"
             ],
             [
              0.7777777777777778,
              "#fb9f3a"
             ],
             [
              0.8888888888888888,
              "#fdca26"
             ],
             [
              1.0,
              "#f0f921"
             ]
            ]
           }
          ],
          "mesh3d": [
           {
            "type": "mesh3d",
            "colorbar": {
             "outlinewidth": 0,
             "ticks": ""
            }
           }
          ],
          "scatter": [
           {
            "marker": {
             "line": {
              "color": "#283442"
             }
            },
            "type": "scatter"
           }
          ],
          "parcoords": [
           {
            "type": "parcoords",
            "line": {
             "colorbar": {
              "outlinewidth": 0,
              "ticks": ""
             }
            }
           }
          ],
          "scatterpolargl": [
           {
            "type": "scatterpolargl",
            "marker": {
             "colorbar": {
              "outlinewidth": 0,
              "ticks": ""
             }
            }
           }
          ],
          "bar": [
           {
            "error_x": {
             "color": "#f2f5fa"
            },
            "error_y": {
             "color": "#f2f5fa"
            },
            "marker": {
             "line": {
              "color": "rgb(17,17,17)",
              "width": 0.5
             },
             "pattern": {
              "fillmode": "overlay",
              "size": 10,
              "solidity": 0.2
             }
            },
            "type": "bar"
           }
          ],
          "scattergeo": [
           {
            "type": "scattergeo",
            "marker": {
             "colorbar": {
              "outlinewidth": 0,
              "ticks": ""
             }
            }
           }
          ],
          "scatterpolar": [
           {
            "type": "scatterpolar",
            "marker": {
             "colorbar": {
              "outlinewidth": 0,
              "ticks": ""
             }
            }
           }
          ],
          "histogram": [
           {
            "marker": {
             "pattern": {
              "fillmode": "overlay",
              "size": 10,
              "solidity": 0.2
             }
            },
            "type": "histogram"
           }
          ],
          "scattergl": [
           {
            "marker": {
             "line": {
              "color": "#283442"
             }
            },
            "type": "scattergl"
           }
          ],
          "scatter3d": [
           {
            "type": "scatter3d",
            "line": {
             "colorbar": {
              "outlinewidth": 0,
              "ticks": ""
             }
            },
            "marker": {
             "colorbar": {
              "outlinewidth": 0,
              "ticks": ""
             }
            }
           }
          ],
          "scattermapbox": [
           {
            "type": "scattermapbox",
            "marker": {
             "colorbar": {
              "outlinewidth": 0,
              "ticks": ""
             }
            }
           }
          ],
          "scatterternary": [
           {
            "type": "scatterternary",
            "marker": {
             "colorbar": {
              "outlinewidth": 0,
              "ticks": ""
             }
            }
           }
          ],
          "scattercarpet": [
           {
            "type": "scattercarpet",
            "marker": {
             "colorbar": {
              "outlinewidth": 0,
              "ticks": ""
             }
            }
           }
          ],
          "carpet": [
           {
            "aaxis": {
             "endlinecolor": "#A2B1C6",
             "gridcolor": "#506784",
             "linecolor": "#506784",
             "minorgridcolor": "#506784",
             "startlinecolor": "#A2B1C6"
            },
            "baxis": {
             "endlinecolor": "#A2B1C6",
             "gridcolor": "#506784",
             "linecolor": "#506784",
             "minorgridcolor": "#506784",
             "startlinecolor": "#A2B1C6"
            },
            "type": "carpet"
           }
          ],
          "table": [
           {
            "cells": {
             "fill": {
              "color": "#506784"
             },
             "line": {
              "color": "rgb(17,17,17)"
             }
            },
            "header": {
             "fill": {
              "color": "#2a3f5f"
             },
             "line": {
              "color": "rgb(17,17,17)"
             }
            },
            "type": "table"
           }
          ],
          "barpolar": [
           {
            "marker": {
             "line": {
              "color": "rgb(17,17,17)",
              "width": 0.5
             },
             "pattern": {
              "fillmode": "overlay",
              "size": 10,
              "solidity": 0.2
             }
            },
            "type": "barpolar"
           }
          ],
          "pie": [
           {
            "automargin": true,
            "type": "pie"
           }
          ]
         },
         "layout": {
          "autotypenumbers": "strict",
          "colorway": [
           "#636efa",
           "#EF553B",
           "#00cc96",
           "#ab63fa",
           "#FFA15A",
           "#19d3f3",
           "#FF6692",
           "#B6E880",
           "#FF97FF",
           "#FECB52"
          ],
          "font": {
           "color": "#f2f5fa"
          },
          "hovermode": "closest",
          "hoverlabel": {
           "align": "left"
          },
          "paper_bgcolor": "rgb(17,17,17)",
          "plot_bgcolor": "rgb(17,17,17)",
          "polar": {
           "bgcolor": "rgb(17,17,17)",
           "angularaxis": {
            "gridcolor": "#506784",
            "linecolor": "#506784",
            "ticks": ""
           },
           "radialaxis": {
            "gridcolor": "#506784",
            "linecolor": "#506784",
            "ticks": ""
           }
          },
          "ternary": {
           "bgcolor": "rgb(17,17,17)",
           "aaxis": {
            "gridcolor": "#506784",
            "linecolor": "#506784",
            "ticks": ""
           },
           "baxis": {
            "gridcolor": "#506784",
            "linecolor": "#506784",
            "ticks": ""
           },
           "caxis": {
            "gridcolor": "#506784",
            "linecolor": "#506784",
            "ticks": ""
           }
          },
          "coloraxis": {
           "colorbar": {
            "outlinewidth": 0,
            "ticks": ""
           }
          },
          "colorscale": {
           "sequential": [
            [
             0.0,
             "#0d0887"
            ],
            [
             0.1111111111111111,
             "#46039f"
            ],
            [
             0.2222222222222222,
             "#7201a8"
            ],
            [
             0.3333333333333333,
             "#9c179e"
            ],
            [
             0.4444444444444444,
             "#bd3786"
            ],
            [
             0.5555555555555556,
             "#d8576b"
            ],
            [
             0.6666666666666666,
             "#ed7953"
            ],
            [
             0.7777777777777778,
             "#fb9f3a"
            ],
            [
             0.8888888888888888,
             "#fdca26"
            ],
            [
             1.0,
             "#f0f921"
            ]
           ],
           "sequentialminus": [
            [
             0.0,
             "#0d0887"
            ],
            [
             0.1111111111111111,
             "#46039f"
            ],
            [
             0.2222222222222222,
             "#7201a8"
            ],
            [
             0.3333333333333333,
             "#9c179e"
            ],
            [
             0.4444444444444444,
             "#bd3786"
            ],
            [
             0.5555555555555556,
             "#d8576b"
            ],
            [
             0.6666666666666666,
             "#ed7953"
            ],
            [
             0.7777777777777778,
             "#fb9f3a"
            ],
            [
             0.8888888888888888,
             "#fdca26"
            ],
            [
             1.0,
             "#f0f921"
            ]
           ],
           "diverging": [
            [
             0,
             "#8e0152"
            ],
            [
             0.1,
             "#c51b7d"
            ],
            [
             0.2,
             "#de77ae"
            ],
            [
             0.3,
             "#f1b6da"
            ],
            [
             0.4,
             "#fde0ef"
            ],
            [
             0.5,
             "#f7f7f7"
            ],
            [
             0.6,
             "#e6f5d0"
            ],
            [
             0.7,
             "#b8e186"
            ],
            [
             0.8,
             "#7fbc41"
            ],
            [
             0.9,
             "#4d9221"
            ],
            [
             1,
             "#276419"
            ]
           ]
          },
          "xaxis": {
           "gridcolor": "#283442",
           "linecolor": "#506784",
           "ticks": "",
           "title": {
            "standoff": 15
           },
           "zerolinecolor": "#283442",
           "automargin": true,
           "zerolinewidth": 2
          },
          "yaxis": {
           "gridcolor": "#283442",
           "linecolor": "#506784",
           "ticks": "",
           "title": {
            "standoff": 15
           },
           "zerolinecolor": "#283442",
           "automargin": true,
           "zerolinewidth": 2
          },
          "scene": {
           "xaxis": {
            "backgroundcolor": "rgb(17,17,17)",
            "gridcolor": "#506784",
            "linecolor": "#506784",
            "showbackground": true,
            "ticks": "",
            "zerolinecolor": "#C8D4E3",
            "gridwidth": 2
           },
           "yaxis": {
            "backgroundcolor": "rgb(17,17,17)",
            "gridcolor": "#506784",
            "linecolor": "#506784",
            "showbackground": true,
            "ticks": "",
            "zerolinecolor": "#C8D4E3",
            "gridwidth": 2
           },
           "zaxis": {
            "backgroundcolor": "rgb(17,17,17)",
            "gridcolor": "#506784",
            "linecolor": "#506784",
            "showbackground": true,
            "ticks": "",
            "zerolinecolor": "#C8D4E3",
            "gridwidth": 2
           }
          },
          "shapedefaults": {
           "line": {
            "color": "#f2f5fa"
           }
          },
          "annotationdefaults": {
           "arrowcolor": "#f2f5fa",
           "arrowhead": 0,
           "arrowwidth": 1
          },
          "geo": {
           "bgcolor": "rgb(17,17,17)",
           "landcolor": "rgb(17,17,17)",
           "subunitcolor": "#506784",
           "showland": true,
           "showlakes": true,
           "lakecolor": "rgb(17,17,17)"
          },
          "title": {
           "x": 0.05
          },
          "updatemenudefaults": {
           "bgcolor": "#506784",
           "borderwidth": 0
          },
          "sliderdefaults": {
           "bgcolor": "#C8D4E3",
           "borderwidth": 1,
           "bordercolor": "rgb(17,17,17)",
           "tickwidth": 0
          },
          "mapbox": {
           "style": "dark"
          }
         }
        },
        "legend": {
         "tracegroupgap": 0
        },
        "title": {
         "text": "Distribution of Smoker"
        }
       },
       "config": {
        "plotlyServerURL": "https://plot.ly"
       }
      },
      "text/html": "<div>                            <div id=\"45e013b8-8eb1-49bd-93e0-9e9bcdfee3b7\" class=\"plotly-graph-div\" style=\"height:525px; width:100%;\"></div>            <script type=\"text/javascript\">                require([\"plotly\"], function(Plotly) {                    window.PLOTLYENV=window.PLOTLYENV || {};                                    if (document.getElementById(\"45e013b8-8eb1-49bd-93e0-9e9bcdfee3b7\")) {                    Plotly.newPlot(                        \"45e013b8-8eb1-49bd-93e0-9e9bcdfee3b7\",                        [{\"domain\":{\"x\":[0.0,1.0],\"y\":[0.0,1.0]},\"hovertemplate\":\"\\u003cb\\u003e%{hovertext}\\u003c\\u002fb\\u003e\\u003cbr\\u003e\\u003cbr\\u003elabel=%{label}\\u003cbr\\u003evalue=%{value}\\u003cextra\\u003e\\u003c\\u002fextra\\u003e\",\"hovertext\":[\"No\",\"Yes\"],\"labels\":[\"No\",\"Yes\"],\"legendgroup\":\"\",\"name\":\"\",\"showlegend\":true,\"values\":[141257,112423],\"type\":\"pie\",\"text\":[\"No\",\"Yes\"],\"textinfo\":\"percent+label\"}],                        {\"template\":{\"data\":{\"histogram2dcontour\":[{\"type\":\"histogram2dcontour\",\"colorbar\":{\"outlinewidth\":0,\"ticks\":\"\"},\"colorscale\":[[0.0,\"#0d0887\"],[0.1111111111111111,\"#46039f\"],[0.2222222222222222,\"#7201a8\"],[0.3333333333333333,\"#9c179e\"],[0.4444444444444444,\"#bd3786\"],[0.5555555555555556,\"#d8576b\"],[0.6666666666666666,\"#ed7953\"],[0.7777777777777778,\"#fb9f3a\"],[0.8888888888888888,\"#fdca26\"],[1.0,\"#f0f921\"]]}],\"choropleth\":[{\"type\":\"choropleth\",\"colorbar\":{\"outlinewidth\":0,\"ticks\":\"\"}}],\"histogram2d\":[{\"type\":\"histogram2d\",\"colorbar\":{\"outlinewidth\":0,\"ticks\":\"\"},\"colorscale\":[[0.0,\"#0d0887\"],[0.1111111111111111,\"#46039f\"],[0.2222222222222222,\"#7201a8\"],[0.3333333333333333,\"#9c179e\"],[0.4444444444444444,\"#bd3786\"],[0.5555555555555556,\"#d8576b\"],[0.6666666666666666,\"#ed7953\"],[0.7777777777777778,\"#fb9f3a\"],[0.8888888888888888,\"#fdca26\"],[1.0,\"#f0f921\"]]}],\"heatmap\":[{\"type\":\"heatmap\",\"colorbar\":{\"outlinewidth\":0,\"ticks\":\"\"},\"colorscale\":[[0.0,\"#0d0887\"],[0.1111111111111111,\"#46039f\"],[0.2222222222222222,\"#7201a8\"],[0.3333333333333333,\"#9c179e\"],[0.4444444444444444,\"#bd3786\"],[0.5555555555555556,\"#d8576b\"],[0.6666666666666666,\"#ed7953\"],[0.7777777777777778,\"#fb9f3a\"],[0.8888888888888888,\"#fdca26\"],[1.0,\"#f0f921\"]]}],\"heatmapgl\":[{\"type\":\"heatmapgl\",\"colorbar\":{\"outlinewidth\":0,\"ticks\":\"\"},\"colorscale\":[[0.0,\"#0d0887\"],[0.1111111111111111,\"#46039f\"],[0.2222222222222222,\"#7201a8\"],[0.3333333333333333,\"#9c179e\"],[0.4444444444444444,\"#bd3786\"],[0.5555555555555556,\"#d8576b\"],[0.6666666666666666,\"#ed7953\"],[0.7777777777777778,\"#fb9f3a\"],[0.8888888888888888,\"#fdca26\"],[1.0,\"#f0f921\"]]}],\"contourcarpet\":[{\"type\":\"contourcarpet\",\"colorbar\":{\"outlinewidth\":0,\"ticks\":\"\"}}],\"contour\":[{\"type\":\"contour\",\"colorbar\":{\"outlinewidth\":0,\"ticks\":\"\"},\"colorscale\":[[0.0,\"#0d0887\"],[0.1111111111111111,\"#46039f\"],[0.2222222222222222,\"#7201a8\"],[0.3333333333333333,\"#9c179e\"],[0.4444444444444444,\"#bd3786\"],[0.5555555555555556,\"#d8576b\"],[0.6666666666666666,\"#ed7953\"],[0.7777777777777778,\"#fb9f3a\"],[0.8888888888888888,\"#fdca26\"],[1.0,\"#f0f921\"]]}],\"surface\":[{\"type\":\"surface\",\"colorbar\":{\"outlinewidth\":0,\"ticks\":\"\"},\"colorscale\":[[0.0,\"#0d0887\"],[0.1111111111111111,\"#46039f\"],[0.2222222222222222,\"#7201a8\"],[0.3333333333333333,\"#9c179e\"],[0.4444444444444444,\"#bd3786\"],[0.5555555555555556,\"#d8576b\"],[0.6666666666666666,\"#ed7953\"],[0.7777777777777778,\"#fb9f3a\"],[0.8888888888888888,\"#fdca26\"],[1.0,\"#f0f921\"]]}],\"mesh3d\":[{\"type\":\"mesh3d\",\"colorbar\":{\"outlinewidth\":0,\"ticks\":\"\"}}],\"scatter\":[{\"marker\":{\"line\":{\"color\":\"#283442\"}},\"type\":\"scatter\"}],\"parcoords\":[{\"type\":\"parcoords\",\"line\":{\"colorbar\":{\"outlinewidth\":0,\"ticks\":\"\"}}}],\"scatterpolargl\":[{\"type\":\"scatterpolargl\",\"marker\":{\"colorbar\":{\"outlinewidth\":0,\"ticks\":\"\"}}}],\"bar\":[{\"error_x\":{\"color\":\"#f2f5fa\"},\"error_y\":{\"color\":\"#f2f5fa\"},\"marker\":{\"line\":{\"color\":\"rgb(17,17,17)\",\"width\":0.5},\"pattern\":{\"fillmode\":\"overlay\",\"size\":10,\"solidity\":0.2}},\"type\":\"bar\"}],\"scattergeo\":[{\"type\":\"scattergeo\",\"marker\":{\"colorbar\":{\"outlinewidth\":0,\"ticks\":\"\"}}}],\"scatterpolar\":[{\"type\":\"scatterpolar\",\"marker\":{\"colorbar\":{\"outlinewidth\":0,\"ticks\":\"\"}}}],\"histogram\":[{\"marker\":{\"pattern\":{\"fillmode\":\"overlay\",\"size\":10,\"solidity\":0.2}},\"type\":\"histogram\"}],\"scattergl\":[{\"marker\":{\"line\":{\"color\":\"#283442\"}},\"type\":\"scattergl\"}],\"scatter3d\":[{\"type\":\"scatter3d\",\"line\":{\"colorbar\":{\"outlinewidth\":0,\"ticks\":\"\"}},\"marker\":{\"colorbar\":{\"outlinewidth\":0,\"ticks\":\"\"}}}],\"scattermapbox\":[{\"type\":\"scattermapbox\",\"marker\":{\"colorbar\":{\"outlinewidth\":0,\"ticks\":\"\"}}}],\"scatterternary\":[{\"type\":\"scatterternary\",\"marker\":{\"colorbar\":{\"outlinewidth\":0,\"ticks\":\"\"}}}],\"scattercarpet\":[{\"type\":\"scattercarpet\",\"marker\":{\"colorbar\":{\"outlinewidth\":0,\"ticks\":\"\"}}}],\"carpet\":[{\"aaxis\":{\"endlinecolor\":\"#A2B1C6\",\"gridcolor\":\"#506784\",\"linecolor\":\"#506784\",\"minorgridcolor\":\"#506784\",\"startlinecolor\":\"#A2B1C6\"},\"baxis\":{\"endlinecolor\":\"#A2B1C6\",\"gridcolor\":\"#506784\",\"linecolor\":\"#506784\",\"minorgridcolor\":\"#506784\",\"startlinecolor\":\"#A2B1C6\"},\"type\":\"carpet\"}],\"table\":[{\"cells\":{\"fill\":{\"color\":\"#506784\"},\"line\":{\"color\":\"rgb(17,17,17)\"}},\"header\":{\"fill\":{\"color\":\"#2a3f5f\"},\"line\":{\"color\":\"rgb(17,17,17)\"}},\"type\":\"table\"}],\"barpolar\":[{\"marker\":{\"line\":{\"color\":\"rgb(17,17,17)\",\"width\":0.5},\"pattern\":{\"fillmode\":\"overlay\",\"size\":10,\"solidity\":0.2}},\"type\":\"barpolar\"}],\"pie\":[{\"automargin\":true,\"type\":\"pie\"}]},\"layout\":{\"autotypenumbers\":\"strict\",\"colorway\":[\"#636efa\",\"#EF553B\",\"#00cc96\",\"#ab63fa\",\"#FFA15A\",\"#19d3f3\",\"#FF6692\",\"#B6E880\",\"#FF97FF\",\"#FECB52\"],\"font\":{\"color\":\"#f2f5fa\"},\"hovermode\":\"closest\",\"hoverlabel\":{\"align\":\"left\"},\"paper_bgcolor\":\"rgb(17,17,17)\",\"plot_bgcolor\":\"rgb(17,17,17)\",\"polar\":{\"bgcolor\":\"rgb(17,17,17)\",\"angularaxis\":{\"gridcolor\":\"#506784\",\"linecolor\":\"#506784\",\"ticks\":\"\"},\"radialaxis\":{\"gridcolor\":\"#506784\",\"linecolor\":\"#506784\",\"ticks\":\"\"}},\"ternary\":{\"bgcolor\":\"rgb(17,17,17)\",\"aaxis\":{\"gridcolor\":\"#506784\",\"linecolor\":\"#506784\",\"ticks\":\"\"},\"baxis\":{\"gridcolor\":\"#506784\",\"linecolor\":\"#506784\",\"ticks\":\"\"},\"caxis\":{\"gridcolor\":\"#506784\",\"linecolor\":\"#506784\",\"ticks\":\"\"}},\"coloraxis\":{\"colorbar\":{\"outlinewidth\":0,\"ticks\":\"\"}},\"colorscale\":{\"sequential\":[[0.0,\"#0d0887\"],[0.1111111111111111,\"#46039f\"],[0.2222222222222222,\"#7201a8\"],[0.3333333333333333,\"#9c179e\"],[0.4444444444444444,\"#bd3786\"],[0.5555555555555556,\"#d8576b\"],[0.6666666666666666,\"#ed7953\"],[0.7777777777777778,\"#fb9f3a\"],[0.8888888888888888,\"#fdca26\"],[1.0,\"#f0f921\"]],\"sequentialminus\":[[0.0,\"#0d0887\"],[0.1111111111111111,\"#46039f\"],[0.2222222222222222,\"#7201a8\"],[0.3333333333333333,\"#9c179e\"],[0.4444444444444444,\"#bd3786\"],[0.5555555555555556,\"#d8576b\"],[0.6666666666666666,\"#ed7953\"],[0.7777777777777778,\"#fb9f3a\"],[0.8888888888888888,\"#fdca26\"],[1.0,\"#f0f921\"]],\"diverging\":[[0,\"#8e0152\"],[0.1,\"#c51b7d\"],[0.2,\"#de77ae\"],[0.3,\"#f1b6da\"],[0.4,\"#fde0ef\"],[0.5,\"#f7f7f7\"],[0.6,\"#e6f5d0\"],[0.7,\"#b8e186\"],[0.8,\"#7fbc41\"],[0.9,\"#4d9221\"],[1,\"#276419\"]]},\"xaxis\":{\"gridcolor\":\"#283442\",\"linecolor\":\"#506784\",\"ticks\":\"\",\"title\":{\"standoff\":15},\"zerolinecolor\":\"#283442\",\"automargin\":true,\"zerolinewidth\":2},\"yaxis\":{\"gridcolor\":\"#283442\",\"linecolor\":\"#506784\",\"ticks\":\"\",\"title\":{\"standoff\":15},\"zerolinecolor\":\"#283442\",\"automargin\":true,\"zerolinewidth\":2},\"scene\":{\"xaxis\":{\"backgroundcolor\":\"rgb(17,17,17)\",\"gridcolor\":\"#506784\",\"linecolor\":\"#506784\",\"showbackground\":true,\"ticks\":\"\",\"zerolinecolor\":\"#C8D4E3\",\"gridwidth\":2},\"yaxis\":{\"backgroundcolor\":\"rgb(17,17,17)\",\"gridcolor\":\"#506784\",\"linecolor\":\"#506784\",\"showbackground\":true,\"ticks\":\"\",\"zerolinecolor\":\"#C8D4E3\",\"gridwidth\":2},\"zaxis\":{\"backgroundcolor\":\"rgb(17,17,17)\",\"gridcolor\":\"#506784\",\"linecolor\":\"#506784\",\"showbackground\":true,\"ticks\":\"\",\"zerolinecolor\":\"#C8D4E3\",\"gridwidth\":2}},\"shapedefaults\":{\"line\":{\"color\":\"#f2f5fa\"}},\"annotationdefaults\":{\"arrowcolor\":\"#f2f5fa\",\"arrowhead\":0,\"arrowwidth\":1},\"geo\":{\"bgcolor\":\"rgb(17,17,17)\",\"landcolor\":\"rgb(17,17,17)\",\"subunitcolor\":\"#506784\",\"showland\":true,\"showlakes\":true,\"lakecolor\":\"rgb(17,17,17)\"},\"title\":{\"x\":0.05},\"updatemenudefaults\":{\"bgcolor\":\"#506784\",\"borderwidth\":0},\"sliderdefaults\":{\"bgcolor\":\"#C8D4E3\",\"borderwidth\":1,\"bordercolor\":\"rgb(17,17,17)\",\"tickwidth\":0},\"mapbox\":{\"style\":\"dark\"}}},\"legend\":{\"tracegroupgap\":0},\"title\":{\"text\":\"Distribution of Smoker\"}},                        {\"responsive\": true}                    ).then(function(){\n                            \nvar gd = document.getElementById('45e013b8-8eb1-49bd-93e0-9e9bcdfee3b7');\nvar x = new MutationObserver(function (mutations, observer) {{\n        var display = window.getComputedStyle(gd).display;\n        if (!display || display === 'none') {{\n            console.log([gd, 'removed!']);\n            Plotly.purge(gd);\n            observer.disconnect();\n        }}\n}});\n\n// Listen for the removal of the full notebook cells\nvar notebookContainer = gd.closest('#notebook-container');\nif (notebookContainer) {{\n    x.observe(notebookContainer, {childList: true});\n}}\n\n// Listen for the clearing of the current output cell\nvar outputEl = gd.closest('.output');\nif (outputEl) {{\n    x.observe(outputEl, {childList: true});\n}}\n\n                        })                };                });            </script>        </div>"
     },
     "metadata": {},
     "output_type": "display_data"
    },
    {
     "data": {
      "application/vnd.plotly.v1+json": {
       "data": [
        {
         "domain": {
          "x": [
           0.0,
           1.0
          ],
          "y": [
           0.0,
           1.0
          ]
         },
         "hovertemplate": "<b>%{hovertext}</b><br><br>label=%{label}<br>value=%{value}<extra></extra>",
         "hovertext": [
          "No",
          "Yes"
         ],
         "labels": [
          "No",
          "Yes"
         ],
         "legendgroup": "",
         "name": "",
         "showlegend": true,
         "values": [
          243388,
          10292
         ],
         "type": "pie",
         "text": [
          "No",
          "Yes"
         ],
         "textinfo": "percent+label"
        }
       ],
       "layout": {
        "template": {
         "data": {
          "histogram2dcontour": [
           {
            "type": "histogram2dcontour",
            "colorbar": {
             "outlinewidth": 0,
             "ticks": ""
            },
            "colorscale": [
             [
              0.0,
              "#0d0887"
             ],
             [
              0.1111111111111111,
              "#46039f"
             ],
             [
              0.2222222222222222,
              "#7201a8"
             ],
             [
              0.3333333333333333,
              "#9c179e"
             ],
             [
              0.4444444444444444,
              "#bd3786"
             ],
             [
              0.5555555555555556,
              "#d8576b"
             ],
             [
              0.6666666666666666,
              "#ed7953"
             ],
             [
              0.7777777777777778,
              "#fb9f3a"
             ],
             [
              0.8888888888888888,
              "#fdca26"
             ],
             [
              1.0,
              "#f0f921"
             ]
            ]
           }
          ],
          "choropleth": [
           {
            "type": "choropleth",
            "colorbar": {
             "outlinewidth": 0,
             "ticks": ""
            }
           }
          ],
          "histogram2d": [
           {
            "type": "histogram2d",
            "colorbar": {
             "outlinewidth": 0,
             "ticks": ""
            },
            "colorscale": [
             [
              0.0,
              "#0d0887"
             ],
             [
              0.1111111111111111,
              "#46039f"
             ],
             [
              0.2222222222222222,
              "#7201a8"
             ],
             [
              0.3333333333333333,
              "#9c179e"
             ],
             [
              0.4444444444444444,
              "#bd3786"
             ],
             [
              0.5555555555555556,
              "#d8576b"
             ],
             [
              0.6666666666666666,
              "#ed7953"
             ],
             [
              0.7777777777777778,
              "#fb9f3a"
             ],
             [
              0.8888888888888888,
              "#fdca26"
             ],
             [
              1.0,
              "#f0f921"
             ]
            ]
           }
          ],
          "heatmap": [
           {
            "type": "heatmap",
            "colorbar": {
             "outlinewidth": 0,
             "ticks": ""
            },
            "colorscale": [
             [
              0.0,
              "#0d0887"
             ],
             [
              0.1111111111111111,
              "#46039f"
             ],
             [
              0.2222222222222222,
              "#7201a8"
             ],
             [
              0.3333333333333333,
              "#9c179e"
             ],
             [
              0.4444444444444444,
              "#bd3786"
             ],
             [
              0.5555555555555556,
              "#d8576b"
             ],
             [
              0.6666666666666666,
              "#ed7953"
             ],
             [
              0.7777777777777778,
              "#fb9f3a"
             ],
             [
              0.8888888888888888,
              "#fdca26"
             ],
             [
              1.0,
              "#f0f921"
             ]
            ]
           }
          ],
          "heatmapgl": [
           {
            "type": "heatmapgl",
            "colorbar": {
             "outlinewidth": 0,
             "ticks": ""
            },
            "colorscale": [
             [
              0.0,
              "#0d0887"
             ],
             [
              0.1111111111111111,
              "#46039f"
             ],
             [
              0.2222222222222222,
              "#7201a8"
             ],
             [
              0.3333333333333333,
              "#9c179e"
             ],
             [
              0.4444444444444444,
              "#bd3786"
             ],
             [
              0.5555555555555556,
              "#d8576b"
             ],
             [
              0.6666666666666666,
              "#ed7953"
             ],
             [
              0.7777777777777778,
              "#fb9f3a"
             ],
             [
              0.8888888888888888,
              "#fdca26"
             ],
             [
              1.0,
              "#f0f921"
             ]
            ]
           }
          ],
          "contourcarpet": [
           {
            "type": "contourcarpet",
            "colorbar": {
             "outlinewidth": 0,
             "ticks": ""
            }
           }
          ],
          "contour": [
           {
            "type": "contour",
            "colorbar": {
             "outlinewidth": 0,
             "ticks": ""
            },
            "colorscale": [
             [
              0.0,
              "#0d0887"
             ],
             [
              0.1111111111111111,
              "#46039f"
             ],
             [
              0.2222222222222222,
              "#7201a8"
             ],
             [
              0.3333333333333333,
              "#9c179e"
             ],
             [
              0.4444444444444444,
              "#bd3786"
             ],
             [
              0.5555555555555556,
              "#d8576b"
             ],
             [
              0.6666666666666666,
              "#ed7953"
             ],
             [
              0.7777777777777778,
              "#fb9f3a"
             ],
             [
              0.8888888888888888,
              "#fdca26"
             ],
             [
              1.0,
              "#f0f921"
             ]
            ]
           }
          ],
          "surface": [
           {
            "type": "surface",
            "colorbar": {
             "outlinewidth": 0,
             "ticks": ""
            },
            "colorscale": [
             [
              0.0,
              "#0d0887"
             ],
             [
              0.1111111111111111,
              "#46039f"
             ],
             [
              0.2222222222222222,
              "#7201a8"
             ],
             [
              0.3333333333333333,
              "#9c179e"
             ],
             [
              0.4444444444444444,
              "#bd3786"
             ],
             [
              0.5555555555555556,
              "#d8576b"
             ],
             [
              0.6666666666666666,
              "#ed7953"
             ],
             [
              0.7777777777777778,
              "#fb9f3a"
             ],
             [
              0.8888888888888888,
              "#fdca26"
             ],
             [
              1.0,
              "#f0f921"
             ]
            ]
           }
          ],
          "mesh3d": [
           {
            "type": "mesh3d",
            "colorbar": {
             "outlinewidth": 0,
             "ticks": ""
            }
           }
          ],
          "scatter": [
           {
            "marker": {
             "line": {
              "color": "#283442"
             }
            },
            "type": "scatter"
           }
          ],
          "parcoords": [
           {
            "type": "parcoords",
            "line": {
             "colorbar": {
              "outlinewidth": 0,
              "ticks": ""
             }
            }
           }
          ],
          "scatterpolargl": [
           {
            "type": "scatterpolargl",
            "marker": {
             "colorbar": {
              "outlinewidth": 0,
              "ticks": ""
             }
            }
           }
          ],
          "bar": [
           {
            "error_x": {
             "color": "#f2f5fa"
            },
            "error_y": {
             "color": "#f2f5fa"
            },
            "marker": {
             "line": {
              "color": "rgb(17,17,17)",
              "width": 0.5
             },
             "pattern": {
              "fillmode": "overlay",
              "size": 10,
              "solidity": 0.2
             }
            },
            "type": "bar"
           }
          ],
          "scattergeo": [
           {
            "type": "scattergeo",
            "marker": {
             "colorbar": {
              "outlinewidth": 0,
              "ticks": ""
             }
            }
           }
          ],
          "scatterpolar": [
           {
            "type": "scatterpolar",
            "marker": {
             "colorbar": {
              "outlinewidth": 0,
              "ticks": ""
             }
            }
           }
          ],
          "histogram": [
           {
            "marker": {
             "pattern": {
              "fillmode": "overlay",
              "size": 10,
              "solidity": 0.2
             }
            },
            "type": "histogram"
           }
          ],
          "scattergl": [
           {
            "marker": {
             "line": {
              "color": "#283442"
             }
            },
            "type": "scattergl"
           }
          ],
          "scatter3d": [
           {
            "type": "scatter3d",
            "line": {
             "colorbar": {
              "outlinewidth": 0,
              "ticks": ""
             }
            },
            "marker": {
             "colorbar": {
              "outlinewidth": 0,
              "ticks": ""
             }
            }
           }
          ],
          "scattermapbox": [
           {
            "type": "scattermapbox",
            "marker": {
             "colorbar": {
              "outlinewidth": 0,
              "ticks": ""
             }
            }
           }
          ],
          "scatterternary": [
           {
            "type": "scatterternary",
            "marker": {
             "colorbar": {
              "outlinewidth": 0,
              "ticks": ""
             }
            }
           }
          ],
          "scattercarpet": [
           {
            "type": "scattercarpet",
            "marker": {
             "colorbar": {
              "outlinewidth": 0,
              "ticks": ""
             }
            }
           }
          ],
          "carpet": [
           {
            "aaxis": {
             "endlinecolor": "#A2B1C6",
             "gridcolor": "#506784",
             "linecolor": "#506784",
             "minorgridcolor": "#506784",
             "startlinecolor": "#A2B1C6"
            },
            "baxis": {
             "endlinecolor": "#A2B1C6",
             "gridcolor": "#506784",
             "linecolor": "#506784",
             "minorgridcolor": "#506784",
             "startlinecolor": "#A2B1C6"
            },
            "type": "carpet"
           }
          ],
          "table": [
           {
            "cells": {
             "fill": {
              "color": "#506784"
             },
             "line": {
              "color": "rgb(17,17,17)"
             }
            },
            "header": {
             "fill": {
              "color": "#2a3f5f"
             },
             "line": {
              "color": "rgb(17,17,17)"
             }
            },
            "type": "table"
           }
          ],
          "barpolar": [
           {
            "marker": {
             "line": {
              "color": "rgb(17,17,17)",
              "width": 0.5
             },
             "pattern": {
              "fillmode": "overlay",
              "size": 10,
              "solidity": 0.2
             }
            },
            "type": "barpolar"
           }
          ],
          "pie": [
           {
            "automargin": true,
            "type": "pie"
           }
          ]
         },
         "layout": {
          "autotypenumbers": "strict",
          "colorway": [
           "#636efa",
           "#EF553B",
           "#00cc96",
           "#ab63fa",
           "#FFA15A",
           "#19d3f3",
           "#FF6692",
           "#B6E880",
           "#FF97FF",
           "#FECB52"
          ],
          "font": {
           "color": "#f2f5fa"
          },
          "hovermode": "closest",
          "hoverlabel": {
           "align": "left"
          },
          "paper_bgcolor": "rgb(17,17,17)",
          "plot_bgcolor": "rgb(17,17,17)",
          "polar": {
           "bgcolor": "rgb(17,17,17)",
           "angularaxis": {
            "gridcolor": "#506784",
            "linecolor": "#506784",
            "ticks": ""
           },
           "radialaxis": {
            "gridcolor": "#506784",
            "linecolor": "#506784",
            "ticks": ""
           }
          },
          "ternary": {
           "bgcolor": "rgb(17,17,17)",
           "aaxis": {
            "gridcolor": "#506784",
            "linecolor": "#506784",
            "ticks": ""
           },
           "baxis": {
            "gridcolor": "#506784",
            "linecolor": "#506784",
            "ticks": ""
           },
           "caxis": {
            "gridcolor": "#506784",
            "linecolor": "#506784",
            "ticks": ""
           }
          },
          "coloraxis": {
           "colorbar": {
            "outlinewidth": 0,
            "ticks": ""
           }
          },
          "colorscale": {
           "sequential": [
            [
             0.0,
             "#0d0887"
            ],
            [
             0.1111111111111111,
             "#46039f"
            ],
            [
             0.2222222222222222,
             "#7201a8"
            ],
            [
             0.3333333333333333,
             "#9c179e"
            ],
            [
             0.4444444444444444,
             "#bd3786"
            ],
            [
             0.5555555555555556,
             "#d8576b"
            ],
            [
             0.6666666666666666,
             "#ed7953"
            ],
            [
             0.7777777777777778,
             "#fb9f3a"
            ],
            [
             0.8888888888888888,
             "#fdca26"
            ],
            [
             1.0,
             "#f0f921"
            ]
           ],
           "sequentialminus": [
            [
             0.0,
             "#0d0887"
            ],
            [
             0.1111111111111111,
             "#46039f"
            ],
            [
             0.2222222222222222,
             "#7201a8"
            ],
            [
             0.3333333333333333,
             "#9c179e"
            ],
            [
             0.4444444444444444,
             "#bd3786"
            ],
            [
             0.5555555555555556,
             "#d8576b"
            ],
            [
             0.6666666666666666,
             "#ed7953"
            ],
            [
             0.7777777777777778,
             "#fb9f3a"
            ],
            [
             0.8888888888888888,
             "#fdca26"
            ],
            [
             1.0,
             "#f0f921"
            ]
           ],
           "diverging": [
            [
             0,
             "#8e0152"
            ],
            [
             0.1,
             "#c51b7d"
            ],
            [
             0.2,
             "#de77ae"
            ],
            [
             0.3,
             "#f1b6da"
            ],
            [
             0.4,
             "#fde0ef"
            ],
            [
             0.5,
             "#f7f7f7"
            ],
            [
             0.6,
             "#e6f5d0"
            ],
            [
             0.7,
             "#b8e186"
            ],
            [
             0.8,
             "#7fbc41"
            ],
            [
             0.9,
             "#4d9221"
            ],
            [
             1,
             "#276419"
            ]
           ]
          },
          "xaxis": {
           "gridcolor": "#283442",
           "linecolor": "#506784",
           "ticks": "",
           "title": {
            "standoff": 15
           },
           "zerolinecolor": "#283442",
           "automargin": true,
           "zerolinewidth": 2
          },
          "yaxis": {
           "gridcolor": "#283442",
           "linecolor": "#506784",
           "ticks": "",
           "title": {
            "standoff": 15
           },
           "zerolinecolor": "#283442",
           "automargin": true,
           "zerolinewidth": 2
          },
          "scene": {
           "xaxis": {
            "backgroundcolor": "rgb(17,17,17)",
            "gridcolor": "#506784",
            "linecolor": "#506784",
            "showbackground": true,
            "ticks": "",
            "zerolinecolor": "#C8D4E3",
            "gridwidth": 2
           },
           "yaxis": {
            "backgroundcolor": "rgb(17,17,17)",
            "gridcolor": "#506784",
            "linecolor": "#506784",
            "showbackground": true,
            "ticks": "",
            "zerolinecolor": "#C8D4E3",
            "gridwidth": 2
           },
           "zaxis": {
            "backgroundcolor": "rgb(17,17,17)",
            "gridcolor": "#506784",
            "linecolor": "#506784",
            "showbackground": true,
            "ticks": "",
            "zerolinecolor": "#C8D4E3",
            "gridwidth": 2
           }
          },
          "shapedefaults": {
           "line": {
            "color": "#f2f5fa"
           }
          },
          "annotationdefaults": {
           "arrowcolor": "#f2f5fa",
           "arrowhead": 0,
           "arrowwidth": 1
          },
          "geo": {
           "bgcolor": "rgb(17,17,17)",
           "landcolor": "rgb(17,17,17)",
           "subunitcolor": "#506784",
           "showland": true,
           "showlakes": true,
           "lakecolor": "rgb(17,17,17)"
          },
          "title": {
           "x": 0.05
          },
          "updatemenudefaults": {
           "bgcolor": "#506784",
           "borderwidth": 0
          },
          "sliderdefaults": {
           "bgcolor": "#C8D4E3",
           "borderwidth": 1,
           "bordercolor": "rgb(17,17,17)",
           "tickwidth": 0
          },
          "mapbox": {
           "style": "dark"
          }
         }
        },
        "legend": {
         "tracegroupgap": 0
        },
        "title": {
         "text": "Distribution of Stroke"
        }
       },
       "config": {
        "plotlyServerURL": "https://plot.ly"
       }
      },
      "text/html": "<div>                            <div id=\"eb7c86f3-9f65-4833-a154-c39aca49794e\" class=\"plotly-graph-div\" style=\"height:525px; width:100%;\"></div>            <script type=\"text/javascript\">                require([\"plotly\"], function(Plotly) {                    window.PLOTLYENV=window.PLOTLYENV || {};                                    if (document.getElementById(\"eb7c86f3-9f65-4833-a154-c39aca49794e\")) {                    Plotly.newPlot(                        \"eb7c86f3-9f65-4833-a154-c39aca49794e\",                        [{\"domain\":{\"x\":[0.0,1.0],\"y\":[0.0,1.0]},\"hovertemplate\":\"\\u003cb\\u003e%{hovertext}\\u003c\\u002fb\\u003e\\u003cbr\\u003e\\u003cbr\\u003elabel=%{label}\\u003cbr\\u003evalue=%{value}\\u003cextra\\u003e\\u003c\\u002fextra\\u003e\",\"hovertext\":[\"No\",\"Yes\"],\"labels\":[\"No\",\"Yes\"],\"legendgroup\":\"\",\"name\":\"\",\"showlegend\":true,\"values\":[243388,10292],\"type\":\"pie\",\"text\":[\"No\",\"Yes\"],\"textinfo\":\"percent+label\"}],                        {\"template\":{\"data\":{\"histogram2dcontour\":[{\"type\":\"histogram2dcontour\",\"colorbar\":{\"outlinewidth\":0,\"ticks\":\"\"},\"colorscale\":[[0.0,\"#0d0887\"],[0.1111111111111111,\"#46039f\"],[0.2222222222222222,\"#7201a8\"],[0.3333333333333333,\"#9c179e\"],[0.4444444444444444,\"#bd3786\"],[0.5555555555555556,\"#d8576b\"],[0.6666666666666666,\"#ed7953\"],[0.7777777777777778,\"#fb9f3a\"],[0.8888888888888888,\"#fdca26\"],[1.0,\"#f0f921\"]]}],\"choropleth\":[{\"type\":\"choropleth\",\"colorbar\":{\"outlinewidth\":0,\"ticks\":\"\"}}],\"histogram2d\":[{\"type\":\"histogram2d\",\"colorbar\":{\"outlinewidth\":0,\"ticks\":\"\"},\"colorscale\":[[0.0,\"#0d0887\"],[0.1111111111111111,\"#46039f\"],[0.2222222222222222,\"#7201a8\"],[0.3333333333333333,\"#9c179e\"],[0.4444444444444444,\"#bd3786\"],[0.5555555555555556,\"#d8576b\"],[0.6666666666666666,\"#ed7953\"],[0.7777777777777778,\"#fb9f3a\"],[0.8888888888888888,\"#fdca26\"],[1.0,\"#f0f921\"]]}],\"heatmap\":[{\"type\":\"heatmap\",\"colorbar\":{\"outlinewidth\":0,\"ticks\":\"\"},\"colorscale\":[[0.0,\"#0d0887\"],[0.1111111111111111,\"#46039f\"],[0.2222222222222222,\"#7201a8\"],[0.3333333333333333,\"#9c179e\"],[0.4444444444444444,\"#bd3786\"],[0.5555555555555556,\"#d8576b\"],[0.6666666666666666,\"#ed7953\"],[0.7777777777777778,\"#fb9f3a\"],[0.8888888888888888,\"#fdca26\"],[1.0,\"#f0f921\"]]}],\"heatmapgl\":[{\"type\":\"heatmapgl\",\"colorbar\":{\"outlinewidth\":0,\"ticks\":\"\"},\"colorscale\":[[0.0,\"#0d0887\"],[0.1111111111111111,\"#46039f\"],[0.2222222222222222,\"#7201a8\"],[0.3333333333333333,\"#9c179e\"],[0.4444444444444444,\"#bd3786\"],[0.5555555555555556,\"#d8576b\"],[0.6666666666666666,\"#ed7953\"],[0.7777777777777778,\"#fb9f3a\"],[0.8888888888888888,\"#fdca26\"],[1.0,\"#f0f921\"]]}],\"contourcarpet\":[{\"type\":\"contourcarpet\",\"colorbar\":{\"outlinewidth\":0,\"ticks\":\"\"}}],\"contour\":[{\"type\":\"contour\",\"colorbar\":{\"outlinewidth\":0,\"ticks\":\"\"},\"colorscale\":[[0.0,\"#0d0887\"],[0.1111111111111111,\"#46039f\"],[0.2222222222222222,\"#7201a8\"],[0.3333333333333333,\"#9c179e\"],[0.4444444444444444,\"#bd3786\"],[0.5555555555555556,\"#d8576b\"],[0.6666666666666666,\"#ed7953\"],[0.7777777777777778,\"#fb9f3a\"],[0.8888888888888888,\"#fdca26\"],[1.0,\"#f0f921\"]]}],\"surface\":[{\"type\":\"surface\",\"colorbar\":{\"outlinewidth\":0,\"ticks\":\"\"},\"colorscale\":[[0.0,\"#0d0887\"],[0.1111111111111111,\"#46039f\"],[0.2222222222222222,\"#7201a8\"],[0.3333333333333333,\"#9c179e\"],[0.4444444444444444,\"#bd3786\"],[0.5555555555555556,\"#d8576b\"],[0.6666666666666666,\"#ed7953\"],[0.7777777777777778,\"#fb9f3a\"],[0.8888888888888888,\"#fdca26\"],[1.0,\"#f0f921\"]]}],\"mesh3d\":[{\"type\":\"mesh3d\",\"colorbar\":{\"outlinewidth\":0,\"ticks\":\"\"}}],\"scatter\":[{\"marker\":{\"line\":{\"color\":\"#283442\"}},\"type\":\"scatter\"}],\"parcoords\":[{\"type\":\"parcoords\",\"line\":{\"colorbar\":{\"outlinewidth\":0,\"ticks\":\"\"}}}],\"scatterpolargl\":[{\"type\":\"scatterpolargl\",\"marker\":{\"colorbar\":{\"outlinewidth\":0,\"ticks\":\"\"}}}],\"bar\":[{\"error_x\":{\"color\":\"#f2f5fa\"},\"error_y\":{\"color\":\"#f2f5fa\"},\"marker\":{\"line\":{\"color\":\"rgb(17,17,17)\",\"width\":0.5},\"pattern\":{\"fillmode\":\"overlay\",\"size\":10,\"solidity\":0.2}},\"type\":\"bar\"}],\"scattergeo\":[{\"type\":\"scattergeo\",\"marker\":{\"colorbar\":{\"outlinewidth\":0,\"ticks\":\"\"}}}],\"scatterpolar\":[{\"type\":\"scatterpolar\",\"marker\":{\"colorbar\":{\"outlinewidth\":0,\"ticks\":\"\"}}}],\"histogram\":[{\"marker\":{\"pattern\":{\"fillmode\":\"overlay\",\"size\":10,\"solidity\":0.2}},\"type\":\"histogram\"}],\"scattergl\":[{\"marker\":{\"line\":{\"color\":\"#283442\"}},\"type\":\"scattergl\"}],\"scatter3d\":[{\"type\":\"scatter3d\",\"line\":{\"colorbar\":{\"outlinewidth\":0,\"ticks\":\"\"}},\"marker\":{\"colorbar\":{\"outlinewidth\":0,\"ticks\":\"\"}}}],\"scattermapbox\":[{\"type\":\"scattermapbox\",\"marker\":{\"colorbar\":{\"outlinewidth\":0,\"ticks\":\"\"}}}],\"scatterternary\":[{\"type\":\"scatterternary\",\"marker\":{\"colorbar\":{\"outlinewidth\":0,\"ticks\":\"\"}}}],\"scattercarpet\":[{\"type\":\"scattercarpet\",\"marker\":{\"colorbar\":{\"outlinewidth\":0,\"ticks\":\"\"}}}],\"carpet\":[{\"aaxis\":{\"endlinecolor\":\"#A2B1C6\",\"gridcolor\":\"#506784\",\"linecolor\":\"#506784\",\"minorgridcolor\":\"#506784\",\"startlinecolor\":\"#A2B1C6\"},\"baxis\":{\"endlinecolor\":\"#A2B1C6\",\"gridcolor\":\"#506784\",\"linecolor\":\"#506784\",\"minorgridcolor\":\"#506784\",\"startlinecolor\":\"#A2B1C6\"},\"type\":\"carpet\"}],\"table\":[{\"cells\":{\"fill\":{\"color\":\"#506784\"},\"line\":{\"color\":\"rgb(17,17,17)\"}},\"header\":{\"fill\":{\"color\":\"#2a3f5f\"},\"line\":{\"color\":\"rgb(17,17,17)\"}},\"type\":\"table\"}],\"barpolar\":[{\"marker\":{\"line\":{\"color\":\"rgb(17,17,17)\",\"width\":0.5},\"pattern\":{\"fillmode\":\"overlay\",\"size\":10,\"solidity\":0.2}},\"type\":\"barpolar\"}],\"pie\":[{\"automargin\":true,\"type\":\"pie\"}]},\"layout\":{\"autotypenumbers\":\"strict\",\"colorway\":[\"#636efa\",\"#EF553B\",\"#00cc96\",\"#ab63fa\",\"#FFA15A\",\"#19d3f3\",\"#FF6692\",\"#B6E880\",\"#FF97FF\",\"#FECB52\"],\"font\":{\"color\":\"#f2f5fa\"},\"hovermode\":\"closest\",\"hoverlabel\":{\"align\":\"left\"},\"paper_bgcolor\":\"rgb(17,17,17)\",\"plot_bgcolor\":\"rgb(17,17,17)\",\"polar\":{\"bgcolor\":\"rgb(17,17,17)\",\"angularaxis\":{\"gridcolor\":\"#506784\",\"linecolor\":\"#506784\",\"ticks\":\"\"},\"radialaxis\":{\"gridcolor\":\"#506784\",\"linecolor\":\"#506784\",\"ticks\":\"\"}},\"ternary\":{\"bgcolor\":\"rgb(17,17,17)\",\"aaxis\":{\"gridcolor\":\"#506784\",\"linecolor\":\"#506784\",\"ticks\":\"\"},\"baxis\":{\"gridcolor\":\"#506784\",\"linecolor\":\"#506784\",\"ticks\":\"\"},\"caxis\":{\"gridcolor\":\"#506784\",\"linecolor\":\"#506784\",\"ticks\":\"\"}},\"coloraxis\":{\"colorbar\":{\"outlinewidth\":0,\"ticks\":\"\"}},\"colorscale\":{\"sequential\":[[0.0,\"#0d0887\"],[0.1111111111111111,\"#46039f\"],[0.2222222222222222,\"#7201a8\"],[0.3333333333333333,\"#9c179e\"],[0.4444444444444444,\"#bd3786\"],[0.5555555555555556,\"#d8576b\"],[0.6666666666666666,\"#ed7953\"],[0.7777777777777778,\"#fb9f3a\"],[0.8888888888888888,\"#fdca26\"],[1.0,\"#f0f921\"]],\"sequentialminus\":[[0.0,\"#0d0887\"],[0.1111111111111111,\"#46039f\"],[0.2222222222222222,\"#7201a8\"],[0.3333333333333333,\"#9c179e\"],[0.4444444444444444,\"#bd3786\"],[0.5555555555555556,\"#d8576b\"],[0.6666666666666666,\"#ed7953\"],[0.7777777777777778,\"#fb9f3a\"],[0.8888888888888888,\"#fdca26\"],[1.0,\"#f0f921\"]],\"diverging\":[[0,\"#8e0152\"],[0.1,\"#c51b7d\"],[0.2,\"#de77ae\"],[0.3,\"#f1b6da\"],[0.4,\"#fde0ef\"],[0.5,\"#f7f7f7\"],[0.6,\"#e6f5d0\"],[0.7,\"#b8e186\"],[0.8,\"#7fbc41\"],[0.9,\"#4d9221\"],[1,\"#276419\"]]},\"xaxis\":{\"gridcolor\":\"#283442\",\"linecolor\":\"#506784\",\"ticks\":\"\",\"title\":{\"standoff\":15},\"zerolinecolor\":\"#283442\",\"automargin\":true,\"zerolinewidth\":2},\"yaxis\":{\"gridcolor\":\"#283442\",\"linecolor\":\"#506784\",\"ticks\":\"\",\"title\":{\"standoff\":15},\"zerolinecolor\":\"#283442\",\"automargin\":true,\"zerolinewidth\":2},\"scene\":{\"xaxis\":{\"backgroundcolor\":\"rgb(17,17,17)\",\"gridcolor\":\"#506784\",\"linecolor\":\"#506784\",\"showbackground\":true,\"ticks\":\"\",\"zerolinecolor\":\"#C8D4E3\",\"gridwidth\":2},\"yaxis\":{\"backgroundcolor\":\"rgb(17,17,17)\",\"gridcolor\":\"#506784\",\"linecolor\":\"#506784\",\"showbackground\":true,\"ticks\":\"\",\"zerolinecolor\":\"#C8D4E3\",\"gridwidth\":2},\"zaxis\":{\"backgroundcolor\":\"rgb(17,17,17)\",\"gridcolor\":\"#506784\",\"linecolor\":\"#506784\",\"showbackground\":true,\"ticks\":\"\",\"zerolinecolor\":\"#C8D4E3\",\"gridwidth\":2}},\"shapedefaults\":{\"line\":{\"color\":\"#f2f5fa\"}},\"annotationdefaults\":{\"arrowcolor\":\"#f2f5fa\",\"arrowhead\":0,\"arrowwidth\":1},\"geo\":{\"bgcolor\":\"rgb(17,17,17)\",\"landcolor\":\"rgb(17,17,17)\",\"subunitcolor\":\"#506784\",\"showland\":true,\"showlakes\":true,\"lakecolor\":\"rgb(17,17,17)\"},\"title\":{\"x\":0.05},\"updatemenudefaults\":{\"bgcolor\":\"#506784\",\"borderwidth\":0},\"sliderdefaults\":{\"bgcolor\":\"#C8D4E3\",\"borderwidth\":1,\"bordercolor\":\"rgb(17,17,17)\",\"tickwidth\":0},\"mapbox\":{\"style\":\"dark\"}}},\"legend\":{\"tracegroupgap\":0},\"title\":{\"text\":\"Distribution of Stroke\"}},                        {\"responsive\": true}                    ).then(function(){\n                            \nvar gd = document.getElementById('eb7c86f3-9f65-4833-a154-c39aca49794e');\nvar x = new MutationObserver(function (mutations, observer) {{\n        var display = window.getComputedStyle(gd).display;\n        if (!display || display === 'none') {{\n            console.log([gd, 'removed!']);\n            Plotly.purge(gd);\n            observer.disconnect();\n        }}\n}});\n\n// Listen for the removal of the full notebook cells\nvar notebookContainer = gd.closest('#notebook-container');\nif (notebookContainer) {{\n    x.observe(notebookContainer, {childList: true});\n}}\n\n// Listen for the clearing of the current output cell\nvar outputEl = gd.closest('.output');\nif (outputEl) {{\n    x.observe(outputEl, {childList: true});\n}}\n\n                        })                };                });            </script>        </div>"
     },
     "metadata": {},
     "output_type": "display_data"
    },
    {
     "data": {
      "application/vnd.plotly.v1+json": {
       "data": [
        {
         "domain": {
          "x": [
           0.0,
           1.0
          ],
          "y": [
           0.0,
           1.0
          ]
         },
         "hovertemplate": "<b>%{hovertext}</b><br><br>label=%{label}<br>value=%{value}<extra></extra>",
         "hovertext": [
          "No",
          null,
          "Yes"
         ],
         "labels": [
          "No",
          null,
          "Yes"
         ],
         "legendgroup": "",
         "name": "",
         "showlegend": true,
         "values": [
          213703,
          35346,
          4631
         ],
         "type": "pie",
         "text": [
          "No",
          null,
          "Yes"
         ],
         "textinfo": "percent+label"
        }
       ],
       "layout": {
        "template": {
         "data": {
          "histogram2dcontour": [
           {
            "type": "histogram2dcontour",
            "colorbar": {
             "outlinewidth": 0,
             "ticks": ""
            },
            "colorscale": [
             [
              0.0,
              "#0d0887"
             ],
             [
              0.1111111111111111,
              "#46039f"
             ],
             [
              0.2222222222222222,
              "#7201a8"
             ],
             [
              0.3333333333333333,
              "#9c179e"
             ],
             [
              0.4444444444444444,
              "#bd3786"
             ],
             [
              0.5555555555555556,
              "#d8576b"
             ],
             [
              0.6666666666666666,
              "#ed7953"
             ],
             [
              0.7777777777777778,
              "#fb9f3a"
             ],
             [
              0.8888888888888888,
              "#fdca26"
             ],
             [
              1.0,
              "#f0f921"
             ]
            ]
           }
          ],
          "choropleth": [
           {
            "type": "choropleth",
            "colorbar": {
             "outlinewidth": 0,
             "ticks": ""
            }
           }
          ],
          "histogram2d": [
           {
            "type": "histogram2d",
            "colorbar": {
             "outlinewidth": 0,
             "ticks": ""
            },
            "colorscale": [
             [
              0.0,
              "#0d0887"
             ],
             [
              0.1111111111111111,
              "#46039f"
             ],
             [
              0.2222222222222222,
              "#7201a8"
             ],
             [
              0.3333333333333333,
              "#9c179e"
             ],
             [
              0.4444444444444444,
              "#bd3786"
             ],
             [
              0.5555555555555556,
              "#d8576b"
             ],
             [
              0.6666666666666666,
              "#ed7953"
             ],
             [
              0.7777777777777778,
              "#fb9f3a"
             ],
             [
              0.8888888888888888,
              "#fdca26"
             ],
             [
              1.0,
              "#f0f921"
             ]
            ]
           }
          ],
          "heatmap": [
           {
            "type": "heatmap",
            "colorbar": {
             "outlinewidth": 0,
             "ticks": ""
            },
            "colorscale": [
             [
              0.0,
              "#0d0887"
             ],
             [
              0.1111111111111111,
              "#46039f"
             ],
             [
              0.2222222222222222,
              "#7201a8"
             ],
             [
              0.3333333333333333,
              "#9c179e"
             ],
             [
              0.4444444444444444,
              "#bd3786"
             ],
             [
              0.5555555555555556,
              "#d8576b"
             ],
             [
              0.6666666666666666,
              "#ed7953"
             ],
             [
              0.7777777777777778,
              "#fb9f3a"
             ],
             [
              0.8888888888888888,
              "#fdca26"
             ],
             [
              1.0,
              "#f0f921"
             ]
            ]
           }
          ],
          "heatmapgl": [
           {
            "type": "heatmapgl",
            "colorbar": {
             "outlinewidth": 0,
             "ticks": ""
            },
            "colorscale": [
             [
              0.0,
              "#0d0887"
             ],
             [
              0.1111111111111111,
              "#46039f"
             ],
             [
              0.2222222222222222,
              "#7201a8"
             ],
             [
              0.3333333333333333,
              "#9c179e"
             ],
             [
              0.4444444444444444,
              "#bd3786"
             ],
             [
              0.5555555555555556,
              "#d8576b"
             ],
             [
              0.6666666666666666,
              "#ed7953"
             ],
             [
              0.7777777777777778,
              "#fb9f3a"
             ],
             [
              0.8888888888888888,
              "#fdca26"
             ],
             [
              1.0,
              "#f0f921"
             ]
            ]
           }
          ],
          "contourcarpet": [
           {
            "type": "contourcarpet",
            "colorbar": {
             "outlinewidth": 0,
             "ticks": ""
            }
           }
          ],
          "contour": [
           {
            "type": "contour",
            "colorbar": {
             "outlinewidth": 0,
             "ticks": ""
            },
            "colorscale": [
             [
              0.0,
              "#0d0887"
             ],
             [
              0.1111111111111111,
              "#46039f"
             ],
             [
              0.2222222222222222,
              "#7201a8"
             ],
             [
              0.3333333333333333,
              "#9c179e"
             ],
             [
              0.4444444444444444,
              "#bd3786"
             ],
             [
              0.5555555555555556,
              "#d8576b"
             ],
             [
              0.6666666666666666,
              "#ed7953"
             ],
             [
              0.7777777777777778,
              "#fb9f3a"
             ],
             [
              0.8888888888888888,
              "#fdca26"
             ],
             [
              1.0,
              "#f0f921"
             ]
            ]
           }
          ],
          "surface": [
           {
            "type": "surface",
            "colorbar": {
             "outlinewidth": 0,
             "ticks": ""
            },
            "colorscale": [
             [
              0.0,
              "#0d0887"
             ],
             [
              0.1111111111111111,
              "#46039f"
             ],
             [
              0.2222222222222222,
              "#7201a8"
             ],
             [
              0.3333333333333333,
              "#9c179e"
             ],
             [
              0.4444444444444444,
              "#bd3786"
             ],
             [
              0.5555555555555556,
              "#d8576b"
             ],
             [
              0.6666666666666666,
              "#ed7953"
             ],
             [
              0.7777777777777778,
              "#fb9f3a"
             ],
             [
              0.8888888888888888,
              "#fdca26"
             ],
             [
              1.0,
              "#f0f921"
             ]
            ]
           }
          ],
          "mesh3d": [
           {
            "type": "mesh3d",
            "colorbar": {
             "outlinewidth": 0,
             "ticks": ""
            }
           }
          ],
          "scatter": [
           {
            "marker": {
             "line": {
              "color": "#283442"
             }
            },
            "type": "scatter"
           }
          ],
          "parcoords": [
           {
            "type": "parcoords",
            "line": {
             "colorbar": {
              "outlinewidth": 0,
              "ticks": ""
             }
            }
           }
          ],
          "scatterpolargl": [
           {
            "type": "scatterpolargl",
            "marker": {
             "colorbar": {
              "outlinewidth": 0,
              "ticks": ""
             }
            }
           }
          ],
          "bar": [
           {
            "error_x": {
             "color": "#f2f5fa"
            },
            "error_y": {
             "color": "#f2f5fa"
            },
            "marker": {
             "line": {
              "color": "rgb(17,17,17)",
              "width": 0.5
             },
             "pattern": {
              "fillmode": "overlay",
              "size": 10,
              "solidity": 0.2
             }
            },
            "type": "bar"
           }
          ],
          "scattergeo": [
           {
            "type": "scattergeo",
            "marker": {
             "colorbar": {
              "outlinewidth": 0,
              "ticks": ""
             }
            }
           }
          ],
          "scatterpolar": [
           {
            "type": "scatterpolar",
            "marker": {
             "colorbar": {
              "outlinewidth": 0,
              "ticks": ""
             }
            }
           }
          ],
          "histogram": [
           {
            "marker": {
             "pattern": {
              "fillmode": "overlay",
              "size": 10,
              "solidity": 0.2
             }
            },
            "type": "histogram"
           }
          ],
          "scattergl": [
           {
            "marker": {
             "line": {
              "color": "#283442"
             }
            },
            "type": "scattergl"
           }
          ],
          "scatter3d": [
           {
            "type": "scatter3d",
            "line": {
             "colorbar": {
              "outlinewidth": 0,
              "ticks": ""
             }
            },
            "marker": {
             "colorbar": {
              "outlinewidth": 0,
              "ticks": ""
             }
            }
           }
          ],
          "scattermapbox": [
           {
            "type": "scattermapbox",
            "marker": {
             "colorbar": {
              "outlinewidth": 0,
              "ticks": ""
             }
            }
           }
          ],
          "scatterternary": [
           {
            "type": "scatterternary",
            "marker": {
             "colorbar": {
              "outlinewidth": 0,
              "ticks": ""
             }
            }
           }
          ],
          "scattercarpet": [
           {
            "type": "scattercarpet",
            "marker": {
             "colorbar": {
              "outlinewidth": 0,
              "ticks": ""
             }
            }
           }
          ],
          "carpet": [
           {
            "aaxis": {
             "endlinecolor": "#A2B1C6",
             "gridcolor": "#506784",
             "linecolor": "#506784",
             "minorgridcolor": "#506784",
             "startlinecolor": "#A2B1C6"
            },
            "baxis": {
             "endlinecolor": "#A2B1C6",
             "gridcolor": "#506784",
             "linecolor": "#506784",
             "minorgridcolor": "#506784",
             "startlinecolor": "#A2B1C6"
            },
            "type": "carpet"
           }
          ],
          "table": [
           {
            "cells": {
             "fill": {
              "color": "#506784"
             },
             "line": {
              "color": "rgb(17,17,17)"
             }
            },
            "header": {
             "fill": {
              "color": "#2a3f5f"
             },
             "line": {
              "color": "rgb(17,17,17)"
             }
            },
            "type": "table"
           }
          ],
          "barpolar": [
           {
            "marker": {
             "line": {
              "color": "rgb(17,17,17)",
              "width": 0.5
             },
             "pattern": {
              "fillmode": "overlay",
              "size": 10,
              "solidity": 0.2
             }
            },
            "type": "barpolar"
           }
          ],
          "pie": [
           {
            "automargin": true,
            "type": "pie"
           }
          ]
         },
         "layout": {
          "autotypenumbers": "strict",
          "colorway": [
           "#636efa",
           "#EF553B",
           "#00cc96",
           "#ab63fa",
           "#FFA15A",
           "#19d3f3",
           "#FF6692",
           "#B6E880",
           "#FF97FF",
           "#FECB52"
          ],
          "font": {
           "color": "#f2f5fa"
          },
          "hovermode": "closest",
          "hoverlabel": {
           "align": "left"
          },
          "paper_bgcolor": "rgb(17,17,17)",
          "plot_bgcolor": "rgb(17,17,17)",
          "polar": {
           "bgcolor": "rgb(17,17,17)",
           "angularaxis": {
            "gridcolor": "#506784",
            "linecolor": "#506784",
            "ticks": ""
           },
           "radialaxis": {
            "gridcolor": "#506784",
            "linecolor": "#506784",
            "ticks": ""
           }
          },
          "ternary": {
           "bgcolor": "rgb(17,17,17)",
           "aaxis": {
            "gridcolor": "#506784",
            "linecolor": "#506784",
            "ticks": ""
           },
           "baxis": {
            "gridcolor": "#506784",
            "linecolor": "#506784",
            "ticks": ""
           },
           "caxis": {
            "gridcolor": "#506784",
            "linecolor": "#506784",
            "ticks": ""
           }
          },
          "coloraxis": {
           "colorbar": {
            "outlinewidth": 0,
            "ticks": ""
           }
          },
          "colorscale": {
           "sequential": [
            [
             0.0,
             "#0d0887"
            ],
            [
             0.1111111111111111,
             "#46039f"
            ],
            [
             0.2222222222222222,
             "#7201a8"
            ],
            [
             0.3333333333333333,
             "#9c179e"
            ],
            [
             0.4444444444444444,
             "#bd3786"
            ],
            [
             0.5555555555555556,
             "#d8576b"
            ],
            [
             0.6666666666666666,
             "#ed7953"
            ],
            [
             0.7777777777777778,
             "#fb9f3a"
            ],
            [
             0.8888888888888888,
             "#fdca26"
            ],
            [
             1.0,
             "#f0f921"
            ]
           ],
           "sequentialminus": [
            [
             0.0,
             "#0d0887"
            ],
            [
             0.1111111111111111,
             "#46039f"
            ],
            [
             0.2222222222222222,
             "#7201a8"
            ],
            [
             0.3333333333333333,
             "#9c179e"
            ],
            [
             0.4444444444444444,
             "#bd3786"
            ],
            [
             0.5555555555555556,
             "#d8576b"
            ],
            [
             0.6666666666666666,
             "#ed7953"
            ],
            [
             0.7777777777777778,
             "#fb9f3a"
            ],
            [
             0.8888888888888888,
             "#fdca26"
            ],
            [
             1.0,
             "#f0f921"
            ]
           ],
           "diverging": [
            [
             0,
             "#8e0152"
            ],
            [
             0.1,
             "#c51b7d"
            ],
            [
             0.2,
             "#de77ae"
            ],
            [
             0.3,
             "#f1b6da"
            ],
            [
             0.4,
             "#fde0ef"
            ],
            [
             0.5,
             "#f7f7f7"
            ],
            [
             0.6,
             "#e6f5d0"
            ],
            [
             0.7,
             "#b8e186"
            ],
            [
             0.8,
             "#7fbc41"
            ],
            [
             0.9,
             "#4d9221"
            ],
            [
             1,
             "#276419"
            ]
           ]
          },
          "xaxis": {
           "gridcolor": "#283442",
           "linecolor": "#506784",
           "ticks": "",
           "title": {
            "standoff": 15
           },
           "zerolinecolor": "#283442",
           "automargin": true,
           "zerolinewidth": 2
          },
          "yaxis": {
           "gridcolor": "#283442",
           "linecolor": "#506784",
           "ticks": "",
           "title": {
            "standoff": 15
           },
           "zerolinecolor": "#283442",
           "automargin": true,
           "zerolinewidth": 2
          },
          "scene": {
           "xaxis": {
            "backgroundcolor": "rgb(17,17,17)",
            "gridcolor": "#506784",
            "linecolor": "#506784",
            "showbackground": true,
            "ticks": "",
            "zerolinecolor": "#C8D4E3",
            "gridwidth": 2
           },
           "yaxis": {
            "backgroundcolor": "rgb(17,17,17)",
            "gridcolor": "#506784",
            "linecolor": "#506784",
            "showbackground": true,
            "ticks": "",
            "zerolinecolor": "#C8D4E3",
            "gridwidth": 2
           },
           "zaxis": {
            "backgroundcolor": "rgb(17,17,17)",
            "gridcolor": "#506784",
            "linecolor": "#506784",
            "showbackground": true,
            "ticks": "",
            "zerolinecolor": "#C8D4E3",
            "gridwidth": 2
           }
          },
          "shapedefaults": {
           "line": {
            "color": "#f2f5fa"
           }
          },
          "annotationdefaults": {
           "arrowcolor": "#f2f5fa",
           "arrowhead": 0,
           "arrowwidth": 1
          },
          "geo": {
           "bgcolor": "rgb(17,17,17)",
           "landcolor": "rgb(17,17,17)",
           "subunitcolor": "#506784",
           "showland": true,
           "showlakes": true,
           "lakecolor": "rgb(17,17,17)"
          },
          "title": {
           "x": 0.05
          },
          "updatemenudefaults": {
           "bgcolor": "#506784",
           "borderwidth": 0
          },
          "sliderdefaults": {
           "bgcolor": "#C8D4E3",
           "borderwidth": 1,
           "bordercolor": "rgb(17,17,17)",
           "tickwidth": 0
          },
          "mapbox": {
           "style": "dark"
          }
         }
        },
        "legend": {
         "tracegroupgap": 0
        },
        "title": {
         "text": "Distribution of Diabetes"
        }
       },
       "config": {
        "plotlyServerURL": "https://plot.ly"
       }
      },
      "text/html": "<div>                            <div id=\"790ab91f-e954-4c12-a698-05219f89e1b7\" class=\"plotly-graph-div\" style=\"height:525px; width:100%;\"></div>            <script type=\"text/javascript\">                require([\"plotly\"], function(Plotly) {                    window.PLOTLYENV=window.PLOTLYENV || {};                                    if (document.getElementById(\"790ab91f-e954-4c12-a698-05219f89e1b7\")) {                    Plotly.newPlot(                        \"790ab91f-e954-4c12-a698-05219f89e1b7\",                        [{\"domain\":{\"x\":[0.0,1.0],\"y\":[0.0,1.0]},\"hovertemplate\":\"\\u003cb\\u003e%{hovertext}\\u003c\\u002fb\\u003e\\u003cbr\\u003e\\u003cbr\\u003elabel=%{label}\\u003cbr\\u003evalue=%{value}\\u003cextra\\u003e\\u003c\\u002fextra\\u003e\",\"hovertext\":[\"No\",null,\"Yes\"],\"labels\":[\"No\",null,\"Yes\"],\"legendgroup\":\"\",\"name\":\"\",\"showlegend\":true,\"values\":[213703,35346,4631],\"type\":\"pie\",\"text\":[\"No\",null,\"Yes\"],\"textinfo\":\"percent+label\"}],                        {\"template\":{\"data\":{\"histogram2dcontour\":[{\"type\":\"histogram2dcontour\",\"colorbar\":{\"outlinewidth\":0,\"ticks\":\"\"},\"colorscale\":[[0.0,\"#0d0887\"],[0.1111111111111111,\"#46039f\"],[0.2222222222222222,\"#7201a8\"],[0.3333333333333333,\"#9c179e\"],[0.4444444444444444,\"#bd3786\"],[0.5555555555555556,\"#d8576b\"],[0.6666666666666666,\"#ed7953\"],[0.7777777777777778,\"#fb9f3a\"],[0.8888888888888888,\"#fdca26\"],[1.0,\"#f0f921\"]]}],\"choropleth\":[{\"type\":\"choropleth\",\"colorbar\":{\"outlinewidth\":0,\"ticks\":\"\"}}],\"histogram2d\":[{\"type\":\"histogram2d\",\"colorbar\":{\"outlinewidth\":0,\"ticks\":\"\"},\"colorscale\":[[0.0,\"#0d0887\"],[0.1111111111111111,\"#46039f\"],[0.2222222222222222,\"#7201a8\"],[0.3333333333333333,\"#9c179e\"],[0.4444444444444444,\"#bd3786\"],[0.5555555555555556,\"#d8576b\"],[0.6666666666666666,\"#ed7953\"],[0.7777777777777778,\"#fb9f3a\"],[0.8888888888888888,\"#fdca26\"],[1.0,\"#f0f921\"]]}],\"heatmap\":[{\"type\":\"heatmap\",\"colorbar\":{\"outlinewidth\":0,\"ticks\":\"\"},\"colorscale\":[[0.0,\"#0d0887\"],[0.1111111111111111,\"#46039f\"],[0.2222222222222222,\"#7201a8\"],[0.3333333333333333,\"#9c179e\"],[0.4444444444444444,\"#bd3786\"],[0.5555555555555556,\"#d8576b\"],[0.6666666666666666,\"#ed7953\"],[0.7777777777777778,\"#fb9f3a\"],[0.8888888888888888,\"#fdca26\"],[1.0,\"#f0f921\"]]}],\"heatmapgl\":[{\"type\":\"heatmapgl\",\"colorbar\":{\"outlinewidth\":0,\"ticks\":\"\"},\"colorscale\":[[0.0,\"#0d0887\"],[0.1111111111111111,\"#46039f\"],[0.2222222222222222,\"#7201a8\"],[0.3333333333333333,\"#9c179e\"],[0.4444444444444444,\"#bd3786\"],[0.5555555555555556,\"#d8576b\"],[0.6666666666666666,\"#ed7953\"],[0.7777777777777778,\"#fb9f3a\"],[0.8888888888888888,\"#fdca26\"],[1.0,\"#f0f921\"]]}],\"contourcarpet\":[{\"type\":\"contourcarpet\",\"colorbar\":{\"outlinewidth\":0,\"ticks\":\"\"}}],\"contour\":[{\"type\":\"contour\",\"colorbar\":{\"outlinewidth\":0,\"ticks\":\"\"},\"colorscale\":[[0.0,\"#0d0887\"],[0.1111111111111111,\"#46039f\"],[0.2222222222222222,\"#7201a8\"],[0.3333333333333333,\"#9c179e\"],[0.4444444444444444,\"#bd3786\"],[0.5555555555555556,\"#d8576b\"],[0.6666666666666666,\"#ed7953\"],[0.7777777777777778,\"#fb9f3a\"],[0.8888888888888888,\"#fdca26\"],[1.0,\"#f0f921\"]]}],\"surface\":[{\"type\":\"surface\",\"colorbar\":{\"outlinewidth\":0,\"ticks\":\"\"},\"colorscale\":[[0.0,\"#0d0887\"],[0.1111111111111111,\"#46039f\"],[0.2222222222222222,\"#7201a8\"],[0.3333333333333333,\"#9c179e\"],[0.4444444444444444,\"#bd3786\"],[0.5555555555555556,\"#d8576b\"],[0.6666666666666666,\"#ed7953\"],[0.7777777777777778,\"#fb9f3a\"],[0.8888888888888888,\"#fdca26\"],[1.0,\"#f0f921\"]]}],\"mesh3d\":[{\"type\":\"mesh3d\",\"colorbar\":{\"outlinewidth\":0,\"ticks\":\"\"}}],\"scatter\":[{\"marker\":{\"line\":{\"color\":\"#283442\"}},\"type\":\"scatter\"}],\"parcoords\":[{\"type\":\"parcoords\",\"line\":{\"colorbar\":{\"outlinewidth\":0,\"ticks\":\"\"}}}],\"scatterpolargl\":[{\"type\":\"scatterpolargl\",\"marker\":{\"colorbar\":{\"outlinewidth\":0,\"ticks\":\"\"}}}],\"bar\":[{\"error_x\":{\"color\":\"#f2f5fa\"},\"error_y\":{\"color\":\"#f2f5fa\"},\"marker\":{\"line\":{\"color\":\"rgb(17,17,17)\",\"width\":0.5},\"pattern\":{\"fillmode\":\"overlay\",\"size\":10,\"solidity\":0.2}},\"type\":\"bar\"}],\"scattergeo\":[{\"type\":\"scattergeo\",\"marker\":{\"colorbar\":{\"outlinewidth\":0,\"ticks\":\"\"}}}],\"scatterpolar\":[{\"type\":\"scatterpolar\",\"marker\":{\"colorbar\":{\"outlinewidth\":0,\"ticks\":\"\"}}}],\"histogram\":[{\"marker\":{\"pattern\":{\"fillmode\":\"overlay\",\"size\":10,\"solidity\":0.2}},\"type\":\"histogram\"}],\"scattergl\":[{\"marker\":{\"line\":{\"color\":\"#283442\"}},\"type\":\"scattergl\"}],\"scatter3d\":[{\"type\":\"scatter3d\",\"line\":{\"colorbar\":{\"outlinewidth\":0,\"ticks\":\"\"}},\"marker\":{\"colorbar\":{\"outlinewidth\":0,\"ticks\":\"\"}}}],\"scattermapbox\":[{\"type\":\"scattermapbox\",\"marker\":{\"colorbar\":{\"outlinewidth\":0,\"ticks\":\"\"}}}],\"scatterternary\":[{\"type\":\"scatterternary\",\"marker\":{\"colorbar\":{\"outlinewidth\":0,\"ticks\":\"\"}}}],\"scattercarpet\":[{\"type\":\"scattercarpet\",\"marker\":{\"colorbar\":{\"outlinewidth\":0,\"ticks\":\"\"}}}],\"carpet\":[{\"aaxis\":{\"endlinecolor\":\"#A2B1C6\",\"gridcolor\":\"#506784\",\"linecolor\":\"#506784\",\"minorgridcolor\":\"#506784\",\"startlinecolor\":\"#A2B1C6\"},\"baxis\":{\"endlinecolor\":\"#A2B1C6\",\"gridcolor\":\"#506784\",\"linecolor\":\"#506784\",\"minorgridcolor\":\"#506784\",\"startlinecolor\":\"#A2B1C6\"},\"type\":\"carpet\"}],\"table\":[{\"cells\":{\"fill\":{\"color\":\"#506784\"},\"line\":{\"color\":\"rgb(17,17,17)\"}},\"header\":{\"fill\":{\"color\":\"#2a3f5f\"},\"line\":{\"color\":\"rgb(17,17,17)\"}},\"type\":\"table\"}],\"barpolar\":[{\"marker\":{\"line\":{\"color\":\"rgb(17,17,17)\",\"width\":0.5},\"pattern\":{\"fillmode\":\"overlay\",\"size\":10,\"solidity\":0.2}},\"type\":\"barpolar\"}],\"pie\":[{\"automargin\":true,\"type\":\"pie\"}]},\"layout\":{\"autotypenumbers\":\"strict\",\"colorway\":[\"#636efa\",\"#EF553B\",\"#00cc96\",\"#ab63fa\",\"#FFA15A\",\"#19d3f3\",\"#FF6692\",\"#B6E880\",\"#FF97FF\",\"#FECB52\"],\"font\":{\"color\":\"#f2f5fa\"},\"hovermode\":\"closest\",\"hoverlabel\":{\"align\":\"left\"},\"paper_bgcolor\":\"rgb(17,17,17)\",\"plot_bgcolor\":\"rgb(17,17,17)\",\"polar\":{\"bgcolor\":\"rgb(17,17,17)\",\"angularaxis\":{\"gridcolor\":\"#506784\",\"linecolor\":\"#506784\",\"ticks\":\"\"},\"radialaxis\":{\"gridcolor\":\"#506784\",\"linecolor\":\"#506784\",\"ticks\":\"\"}},\"ternary\":{\"bgcolor\":\"rgb(17,17,17)\",\"aaxis\":{\"gridcolor\":\"#506784\",\"linecolor\":\"#506784\",\"ticks\":\"\"},\"baxis\":{\"gridcolor\":\"#506784\",\"linecolor\":\"#506784\",\"ticks\":\"\"},\"caxis\":{\"gridcolor\":\"#506784\",\"linecolor\":\"#506784\",\"ticks\":\"\"}},\"coloraxis\":{\"colorbar\":{\"outlinewidth\":0,\"ticks\":\"\"}},\"colorscale\":{\"sequential\":[[0.0,\"#0d0887\"],[0.1111111111111111,\"#46039f\"],[0.2222222222222222,\"#7201a8\"],[0.3333333333333333,\"#9c179e\"],[0.4444444444444444,\"#bd3786\"],[0.5555555555555556,\"#d8576b\"],[0.6666666666666666,\"#ed7953\"],[0.7777777777777778,\"#fb9f3a\"],[0.8888888888888888,\"#fdca26\"],[1.0,\"#f0f921\"]],\"sequentialminus\":[[0.0,\"#0d0887\"],[0.1111111111111111,\"#46039f\"],[0.2222222222222222,\"#7201a8\"],[0.3333333333333333,\"#9c179e\"],[0.4444444444444444,\"#bd3786\"],[0.5555555555555556,\"#d8576b\"],[0.6666666666666666,\"#ed7953\"],[0.7777777777777778,\"#fb9f3a\"],[0.8888888888888888,\"#fdca26\"],[1.0,\"#f0f921\"]],\"diverging\":[[0,\"#8e0152\"],[0.1,\"#c51b7d\"],[0.2,\"#de77ae\"],[0.3,\"#f1b6da\"],[0.4,\"#fde0ef\"],[0.5,\"#f7f7f7\"],[0.6,\"#e6f5d0\"],[0.7,\"#b8e186\"],[0.8,\"#7fbc41\"],[0.9,\"#4d9221\"],[1,\"#276419\"]]},\"xaxis\":{\"gridcolor\":\"#283442\",\"linecolor\":\"#506784\",\"ticks\":\"\",\"title\":{\"standoff\":15},\"zerolinecolor\":\"#283442\",\"automargin\":true,\"zerolinewidth\":2},\"yaxis\":{\"gridcolor\":\"#283442\",\"linecolor\":\"#506784\",\"ticks\":\"\",\"title\":{\"standoff\":15},\"zerolinecolor\":\"#283442\",\"automargin\":true,\"zerolinewidth\":2},\"scene\":{\"xaxis\":{\"backgroundcolor\":\"rgb(17,17,17)\",\"gridcolor\":\"#506784\",\"linecolor\":\"#506784\",\"showbackground\":true,\"ticks\":\"\",\"zerolinecolor\":\"#C8D4E3\",\"gridwidth\":2},\"yaxis\":{\"backgroundcolor\":\"rgb(17,17,17)\",\"gridcolor\":\"#506784\",\"linecolor\":\"#506784\",\"showbackground\":true,\"ticks\":\"\",\"zerolinecolor\":\"#C8D4E3\",\"gridwidth\":2},\"zaxis\":{\"backgroundcolor\":\"rgb(17,17,17)\",\"gridcolor\":\"#506784\",\"linecolor\":\"#506784\",\"showbackground\":true,\"ticks\":\"\",\"zerolinecolor\":\"#C8D4E3\",\"gridwidth\":2}},\"shapedefaults\":{\"line\":{\"color\":\"#f2f5fa\"}},\"annotationdefaults\":{\"arrowcolor\":\"#f2f5fa\",\"arrowhead\":0,\"arrowwidth\":1},\"geo\":{\"bgcolor\":\"rgb(17,17,17)\",\"landcolor\":\"rgb(17,17,17)\",\"subunitcolor\":\"#506784\",\"showland\":true,\"showlakes\":true,\"lakecolor\":\"rgb(17,17,17)\"},\"title\":{\"x\":0.05},\"updatemenudefaults\":{\"bgcolor\":\"#506784\",\"borderwidth\":0},\"sliderdefaults\":{\"bgcolor\":\"#C8D4E3\",\"borderwidth\":1,\"bordercolor\":\"rgb(17,17,17)\",\"tickwidth\":0},\"mapbox\":{\"style\":\"dark\"}}},\"legend\":{\"tracegroupgap\":0},\"title\":{\"text\":\"Distribution of Diabetes\"}},                        {\"responsive\": true}                    ).then(function(){\n                            \nvar gd = document.getElementById('790ab91f-e954-4c12-a698-05219f89e1b7');\nvar x = new MutationObserver(function (mutations, observer) {{\n        var display = window.getComputedStyle(gd).display;\n        if (!display || display === 'none') {{\n            console.log([gd, 'removed!']);\n            Plotly.purge(gd);\n            observer.disconnect();\n        }}\n}});\n\n// Listen for the removal of the full notebook cells\nvar notebookContainer = gd.closest('#notebook-container');\nif (notebookContainer) {{\n    x.observe(notebookContainer, {childList: true});\n}}\n\n// Listen for the clearing of the current output cell\nvar outputEl = gd.closest('.output');\nif (outputEl) {{\n    x.observe(outputEl, {childList: true});\n}}\n\n                        })                };                });            </script>        </div>"
     },
     "metadata": {},
     "output_type": "display_data"
    },
    {
     "data": {
      "application/vnd.plotly.v1+json": {
       "data": [
        {
         "domain": {
          "x": [
           0.0,
           1.0
          ],
          "y": [
           0.0,
           1.0
          ]
         },
         "hovertemplate": "<b>%{hovertext}</b><br><br>label=%{label}<br>value=%{value}<extra></extra>",
         "hovertext": [
          "No",
          "Yes"
         ],
         "labels": [
          "No",
          "Yes"
         ],
         "legendgroup": "",
         "name": "",
         "showlegend": true,
         "values": [
          239424,
          14256
         ],
         "type": "pie",
         "text": [
          "No",
          "Yes"
         ],
         "textinfo": "percent+label"
        }
       ],
       "layout": {
        "template": {
         "data": {
          "histogram2dcontour": [
           {
            "type": "histogram2dcontour",
            "colorbar": {
             "outlinewidth": 0,
             "ticks": ""
            },
            "colorscale": [
             [
              0.0,
              "#0d0887"
             ],
             [
              0.1111111111111111,
              "#46039f"
             ],
             [
              0.2222222222222222,
              "#7201a8"
             ],
             [
              0.3333333333333333,
              "#9c179e"
             ],
             [
              0.4444444444444444,
              "#bd3786"
             ],
             [
              0.5555555555555556,
              "#d8576b"
             ],
             [
              0.6666666666666666,
              "#ed7953"
             ],
             [
              0.7777777777777778,
              "#fb9f3a"
             ],
             [
              0.8888888888888888,
              "#fdca26"
             ],
             [
              1.0,
              "#f0f921"
             ]
            ]
           }
          ],
          "choropleth": [
           {
            "type": "choropleth",
            "colorbar": {
             "outlinewidth": 0,
             "ticks": ""
            }
           }
          ],
          "histogram2d": [
           {
            "type": "histogram2d",
            "colorbar": {
             "outlinewidth": 0,
             "ticks": ""
            },
            "colorscale": [
             [
              0.0,
              "#0d0887"
             ],
             [
              0.1111111111111111,
              "#46039f"
             ],
             [
              0.2222222222222222,
              "#7201a8"
             ],
             [
              0.3333333333333333,
              "#9c179e"
             ],
             [
              0.4444444444444444,
              "#bd3786"
             ],
             [
              0.5555555555555556,
              "#d8576b"
             ],
             [
              0.6666666666666666,
              "#ed7953"
             ],
             [
              0.7777777777777778,
              "#fb9f3a"
             ],
             [
              0.8888888888888888,
              "#fdca26"
             ],
             [
              1.0,
              "#f0f921"
             ]
            ]
           }
          ],
          "heatmap": [
           {
            "type": "heatmap",
            "colorbar": {
             "outlinewidth": 0,
             "ticks": ""
            },
            "colorscale": [
             [
              0.0,
              "#0d0887"
             ],
             [
              0.1111111111111111,
              "#46039f"
             ],
             [
              0.2222222222222222,
              "#7201a8"
             ],
             [
              0.3333333333333333,
              "#9c179e"
             ],
             [
              0.4444444444444444,
              "#bd3786"
             ],
             [
              0.5555555555555556,
              "#d8576b"
             ],
             [
              0.6666666666666666,
              "#ed7953"
             ],
             [
              0.7777777777777778,
              "#fb9f3a"
             ],
             [
              0.8888888888888888,
              "#fdca26"
             ],
             [
              1.0,
              "#f0f921"
             ]
            ]
           }
          ],
          "heatmapgl": [
           {
            "type": "heatmapgl",
            "colorbar": {
             "outlinewidth": 0,
             "ticks": ""
            },
            "colorscale": [
             [
              0.0,
              "#0d0887"
             ],
             [
              0.1111111111111111,
              "#46039f"
             ],
             [
              0.2222222222222222,
              "#7201a8"
             ],
             [
              0.3333333333333333,
              "#9c179e"
             ],
             [
              0.4444444444444444,
              "#bd3786"
             ],
             [
              0.5555555555555556,
              "#d8576b"
             ],
             [
              0.6666666666666666,
              "#ed7953"
             ],
             [
              0.7777777777777778,
              "#fb9f3a"
             ],
             [
              0.8888888888888888,
              "#fdca26"
             ],
             [
              1.0,
              "#f0f921"
             ]
            ]
           }
          ],
          "contourcarpet": [
           {
            "type": "contourcarpet",
            "colorbar": {
             "outlinewidth": 0,
             "ticks": ""
            }
           }
          ],
          "contour": [
           {
            "type": "contour",
            "colorbar": {
             "outlinewidth": 0,
             "ticks": ""
            },
            "colorscale": [
             [
              0.0,
              "#0d0887"
             ],
             [
              0.1111111111111111,
              "#46039f"
             ],
             [
              0.2222222222222222,
              "#7201a8"
             ],
             [
              0.3333333333333333,
              "#9c179e"
             ],
             [
              0.4444444444444444,
              "#bd3786"
             ],
             [
              0.5555555555555556,
              "#d8576b"
             ],
             [
              0.6666666666666666,
              "#ed7953"
             ],
             [
              0.7777777777777778,
              "#fb9f3a"
             ],
             [
              0.8888888888888888,
              "#fdca26"
             ],
             [
              1.0,
              "#f0f921"
             ]
            ]
           }
          ],
          "surface": [
           {
            "type": "surface",
            "colorbar": {
             "outlinewidth": 0,
             "ticks": ""
            },
            "colorscale": [
             [
              0.0,
              "#0d0887"
             ],
             [
              0.1111111111111111,
              "#46039f"
             ],
             [
              0.2222222222222222,
              "#7201a8"
             ],
             [
              0.3333333333333333,
              "#9c179e"
             ],
             [
              0.4444444444444444,
              "#bd3786"
             ],
             [
              0.5555555555555556,
              "#d8576b"
             ],
             [
              0.6666666666666666,
              "#ed7953"
             ],
             [
              0.7777777777777778,
              "#fb9f3a"
             ],
             [
              0.8888888888888888,
              "#fdca26"
             ],
             [
              1.0,
              "#f0f921"
             ]
            ]
           }
          ],
          "mesh3d": [
           {
            "type": "mesh3d",
            "colorbar": {
             "outlinewidth": 0,
             "ticks": ""
            }
           }
          ],
          "scatter": [
           {
            "marker": {
             "line": {
              "color": "#283442"
             }
            },
            "type": "scatter"
           }
          ],
          "parcoords": [
           {
            "type": "parcoords",
            "line": {
             "colorbar": {
              "outlinewidth": 0,
              "ticks": ""
             }
            }
           }
          ],
          "scatterpolargl": [
           {
            "type": "scatterpolargl",
            "marker": {
             "colorbar": {
              "outlinewidth": 0,
              "ticks": ""
             }
            }
           }
          ],
          "bar": [
           {
            "error_x": {
             "color": "#f2f5fa"
            },
            "error_y": {
             "color": "#f2f5fa"
            },
            "marker": {
             "line": {
              "color": "rgb(17,17,17)",
              "width": 0.5
             },
             "pattern": {
              "fillmode": "overlay",
              "size": 10,
              "solidity": 0.2
             }
            },
            "type": "bar"
           }
          ],
          "scattergeo": [
           {
            "type": "scattergeo",
            "marker": {
             "colorbar": {
              "outlinewidth": 0,
              "ticks": ""
             }
            }
           }
          ],
          "scatterpolar": [
           {
            "type": "scatterpolar",
            "marker": {
             "colorbar": {
              "outlinewidth": 0,
              "ticks": ""
             }
            }
           }
          ],
          "histogram": [
           {
            "marker": {
             "pattern": {
              "fillmode": "overlay",
              "size": 10,
              "solidity": 0.2
             }
            },
            "type": "histogram"
           }
          ],
          "scattergl": [
           {
            "marker": {
             "line": {
              "color": "#283442"
             }
            },
            "type": "scattergl"
           }
          ],
          "scatter3d": [
           {
            "type": "scatter3d",
            "line": {
             "colorbar": {
              "outlinewidth": 0,
              "ticks": ""
             }
            },
            "marker": {
             "colorbar": {
              "outlinewidth": 0,
              "ticks": ""
             }
            }
           }
          ],
          "scattermapbox": [
           {
            "type": "scattermapbox",
            "marker": {
             "colorbar": {
              "outlinewidth": 0,
              "ticks": ""
             }
            }
           }
          ],
          "scatterternary": [
           {
            "type": "scatterternary",
            "marker": {
             "colorbar": {
              "outlinewidth": 0,
              "ticks": ""
             }
            }
           }
          ],
          "scattercarpet": [
           {
            "type": "scattercarpet",
            "marker": {
             "colorbar": {
              "outlinewidth": 0,
              "ticks": ""
             }
            }
           }
          ],
          "carpet": [
           {
            "aaxis": {
             "endlinecolor": "#A2B1C6",
             "gridcolor": "#506784",
             "linecolor": "#506784",
             "minorgridcolor": "#506784",
             "startlinecolor": "#A2B1C6"
            },
            "baxis": {
             "endlinecolor": "#A2B1C6",
             "gridcolor": "#506784",
             "linecolor": "#506784",
             "minorgridcolor": "#506784",
             "startlinecolor": "#A2B1C6"
            },
            "type": "carpet"
           }
          ],
          "table": [
           {
            "cells": {
             "fill": {
              "color": "#506784"
             },
             "line": {
              "color": "rgb(17,17,17)"
             }
            },
            "header": {
             "fill": {
              "color": "#2a3f5f"
             },
             "line": {
              "color": "rgb(17,17,17)"
             }
            },
            "type": "table"
           }
          ],
          "barpolar": [
           {
            "marker": {
             "line": {
              "color": "rgb(17,17,17)",
              "width": 0.5
             },
             "pattern": {
              "fillmode": "overlay",
              "size": 10,
              "solidity": 0.2
             }
            },
            "type": "barpolar"
           }
          ],
          "pie": [
           {
            "automargin": true,
            "type": "pie"
           }
          ]
         },
         "layout": {
          "autotypenumbers": "strict",
          "colorway": [
           "#636efa",
           "#EF553B",
           "#00cc96",
           "#ab63fa",
           "#FFA15A",
           "#19d3f3",
           "#FF6692",
           "#B6E880",
           "#FF97FF",
           "#FECB52"
          ],
          "font": {
           "color": "#f2f5fa"
          },
          "hovermode": "closest",
          "hoverlabel": {
           "align": "left"
          },
          "paper_bgcolor": "rgb(17,17,17)",
          "plot_bgcolor": "rgb(17,17,17)",
          "polar": {
           "bgcolor": "rgb(17,17,17)",
           "angularaxis": {
            "gridcolor": "#506784",
            "linecolor": "#506784",
            "ticks": ""
           },
           "radialaxis": {
            "gridcolor": "#506784",
            "linecolor": "#506784",
            "ticks": ""
           }
          },
          "ternary": {
           "bgcolor": "rgb(17,17,17)",
           "aaxis": {
            "gridcolor": "#506784",
            "linecolor": "#506784",
            "ticks": ""
           },
           "baxis": {
            "gridcolor": "#506784",
            "linecolor": "#506784",
            "ticks": ""
           },
           "caxis": {
            "gridcolor": "#506784",
            "linecolor": "#506784",
            "ticks": ""
           }
          },
          "coloraxis": {
           "colorbar": {
            "outlinewidth": 0,
            "ticks": ""
           }
          },
          "colorscale": {
           "sequential": [
            [
             0.0,
             "#0d0887"
            ],
            [
             0.1111111111111111,
             "#46039f"
            ],
            [
             0.2222222222222222,
             "#7201a8"
            ],
            [
             0.3333333333333333,
             "#9c179e"
            ],
            [
             0.4444444444444444,
             "#bd3786"
            ],
            [
             0.5555555555555556,
             "#d8576b"
            ],
            [
             0.6666666666666666,
             "#ed7953"
            ],
            [
             0.7777777777777778,
             "#fb9f3a"
            ],
            [
             0.8888888888888888,
             "#fdca26"
            ],
            [
             1.0,
             "#f0f921"
            ]
           ],
           "sequentialminus": [
            [
             0.0,
             "#0d0887"
            ],
            [
             0.1111111111111111,
             "#46039f"
            ],
            [
             0.2222222222222222,
             "#7201a8"
            ],
            [
             0.3333333333333333,
             "#9c179e"
            ],
            [
             0.4444444444444444,
             "#bd3786"
            ],
            [
             0.5555555555555556,
             "#d8576b"
            ],
            [
             0.6666666666666666,
             "#ed7953"
            ],
            [
             0.7777777777777778,
             "#fb9f3a"
            ],
            [
             0.8888888888888888,
             "#fdca26"
            ],
            [
             1.0,
             "#f0f921"
            ]
           ],
           "diverging": [
            [
             0,
             "#8e0152"
            ],
            [
             0.1,
             "#c51b7d"
            ],
            [
             0.2,
             "#de77ae"
            ],
            [
             0.3,
             "#f1b6da"
            ],
            [
             0.4,
             "#fde0ef"
            ],
            [
             0.5,
             "#f7f7f7"
            ],
            [
             0.6,
             "#e6f5d0"
            ],
            [
             0.7,
             "#b8e186"
            ],
            [
             0.8,
             "#7fbc41"
            ],
            [
             0.9,
             "#4d9221"
            ],
            [
             1,
             "#276419"
            ]
           ]
          },
          "xaxis": {
           "gridcolor": "#283442",
           "linecolor": "#506784",
           "ticks": "",
           "title": {
            "standoff": 15
           },
           "zerolinecolor": "#283442",
           "automargin": true,
           "zerolinewidth": 2
          },
          "yaxis": {
           "gridcolor": "#283442",
           "linecolor": "#506784",
           "ticks": "",
           "title": {
            "standoff": 15
           },
           "zerolinecolor": "#283442",
           "automargin": true,
           "zerolinewidth": 2
          },
          "scene": {
           "xaxis": {
            "backgroundcolor": "rgb(17,17,17)",
            "gridcolor": "#506784",
            "linecolor": "#506784",
            "showbackground": true,
            "ticks": "",
            "zerolinecolor": "#C8D4E3",
            "gridwidth": 2
           },
           "yaxis": {
            "backgroundcolor": "rgb(17,17,17)",
            "gridcolor": "#506784",
            "linecolor": "#506784",
            "showbackground": true,
            "ticks": "",
            "zerolinecolor": "#C8D4E3",
            "gridwidth": 2
           },
           "zaxis": {
            "backgroundcolor": "rgb(17,17,17)",
            "gridcolor": "#506784",
            "linecolor": "#506784",
            "showbackground": true,
            "ticks": "",
            "zerolinecolor": "#C8D4E3",
            "gridwidth": 2
           }
          },
          "shapedefaults": {
           "line": {
            "color": "#f2f5fa"
           }
          },
          "annotationdefaults": {
           "arrowcolor": "#f2f5fa",
           "arrowhead": 0,
           "arrowwidth": 1
          },
          "geo": {
           "bgcolor": "rgb(17,17,17)",
           "landcolor": "rgb(17,17,17)",
           "subunitcolor": "#506784",
           "showland": true,
           "showlakes": true,
           "lakecolor": "rgb(17,17,17)"
          },
          "title": {
           "x": 0.05
          },
          "updatemenudefaults": {
           "bgcolor": "#506784",
           "borderwidth": 0
          },
          "sliderdefaults": {
           "bgcolor": "#C8D4E3",
           "borderwidth": 1,
           "bordercolor": "rgb(17,17,17)",
           "tickwidth": 0
          },
          "mapbox": {
           "style": "dark"
          }
         }
        },
        "legend": {
         "tracegroupgap": 0
        },
        "title": {
         "text": "Distribution of HvyAlcoholConsump"
        }
       },
       "config": {
        "plotlyServerURL": "https://plot.ly"
       }
      },
      "text/html": "<div>                            <div id=\"24e04ae8-a148-4029-9e09-e1ee9a6c0ed3\" class=\"plotly-graph-div\" style=\"height:525px; width:100%;\"></div>            <script type=\"text/javascript\">                require([\"plotly\"], function(Plotly) {                    window.PLOTLYENV=window.PLOTLYENV || {};                                    if (document.getElementById(\"24e04ae8-a148-4029-9e09-e1ee9a6c0ed3\")) {                    Plotly.newPlot(                        \"24e04ae8-a148-4029-9e09-e1ee9a6c0ed3\",                        [{\"domain\":{\"x\":[0.0,1.0],\"y\":[0.0,1.0]},\"hovertemplate\":\"\\u003cb\\u003e%{hovertext}\\u003c\\u002fb\\u003e\\u003cbr\\u003e\\u003cbr\\u003elabel=%{label}\\u003cbr\\u003evalue=%{value}\\u003cextra\\u003e\\u003c\\u002fextra\\u003e\",\"hovertext\":[\"No\",\"Yes\"],\"labels\":[\"No\",\"Yes\"],\"legendgroup\":\"\",\"name\":\"\",\"showlegend\":true,\"values\":[239424,14256],\"type\":\"pie\",\"text\":[\"No\",\"Yes\"],\"textinfo\":\"percent+label\"}],                        {\"template\":{\"data\":{\"histogram2dcontour\":[{\"type\":\"histogram2dcontour\",\"colorbar\":{\"outlinewidth\":0,\"ticks\":\"\"},\"colorscale\":[[0.0,\"#0d0887\"],[0.1111111111111111,\"#46039f\"],[0.2222222222222222,\"#7201a8\"],[0.3333333333333333,\"#9c179e\"],[0.4444444444444444,\"#bd3786\"],[0.5555555555555556,\"#d8576b\"],[0.6666666666666666,\"#ed7953\"],[0.7777777777777778,\"#fb9f3a\"],[0.8888888888888888,\"#fdca26\"],[1.0,\"#f0f921\"]]}],\"choropleth\":[{\"type\":\"choropleth\",\"colorbar\":{\"outlinewidth\":0,\"ticks\":\"\"}}],\"histogram2d\":[{\"type\":\"histogram2d\",\"colorbar\":{\"outlinewidth\":0,\"ticks\":\"\"},\"colorscale\":[[0.0,\"#0d0887\"],[0.1111111111111111,\"#46039f\"],[0.2222222222222222,\"#7201a8\"],[0.3333333333333333,\"#9c179e\"],[0.4444444444444444,\"#bd3786\"],[0.5555555555555556,\"#d8576b\"],[0.6666666666666666,\"#ed7953\"],[0.7777777777777778,\"#fb9f3a\"],[0.8888888888888888,\"#fdca26\"],[1.0,\"#f0f921\"]]}],\"heatmap\":[{\"type\":\"heatmap\",\"colorbar\":{\"outlinewidth\":0,\"ticks\":\"\"},\"colorscale\":[[0.0,\"#0d0887\"],[0.1111111111111111,\"#46039f\"],[0.2222222222222222,\"#7201a8\"],[0.3333333333333333,\"#9c179e\"],[0.4444444444444444,\"#bd3786\"],[0.5555555555555556,\"#d8576b\"],[0.6666666666666666,\"#ed7953\"],[0.7777777777777778,\"#fb9f3a\"],[0.8888888888888888,\"#fdca26\"],[1.0,\"#f0f921\"]]}],\"heatmapgl\":[{\"type\":\"heatmapgl\",\"colorbar\":{\"outlinewidth\":0,\"ticks\":\"\"},\"colorscale\":[[0.0,\"#0d0887\"],[0.1111111111111111,\"#46039f\"],[0.2222222222222222,\"#7201a8\"],[0.3333333333333333,\"#9c179e\"],[0.4444444444444444,\"#bd3786\"],[0.5555555555555556,\"#d8576b\"],[0.6666666666666666,\"#ed7953\"],[0.7777777777777778,\"#fb9f3a\"],[0.8888888888888888,\"#fdca26\"],[1.0,\"#f0f921\"]]}],\"contourcarpet\":[{\"type\":\"contourcarpet\",\"colorbar\":{\"outlinewidth\":0,\"ticks\":\"\"}}],\"contour\":[{\"type\":\"contour\",\"colorbar\":{\"outlinewidth\":0,\"ticks\":\"\"},\"colorscale\":[[0.0,\"#0d0887\"],[0.1111111111111111,\"#46039f\"],[0.2222222222222222,\"#7201a8\"],[0.3333333333333333,\"#9c179e\"],[0.4444444444444444,\"#bd3786\"],[0.5555555555555556,\"#d8576b\"],[0.6666666666666666,\"#ed7953\"],[0.7777777777777778,\"#fb9f3a\"],[0.8888888888888888,\"#fdca26\"],[1.0,\"#f0f921\"]]}],\"surface\":[{\"type\":\"surface\",\"colorbar\":{\"outlinewidth\":0,\"ticks\":\"\"},\"colorscale\":[[0.0,\"#0d0887\"],[0.1111111111111111,\"#46039f\"],[0.2222222222222222,\"#7201a8\"],[0.3333333333333333,\"#9c179e\"],[0.4444444444444444,\"#bd3786\"],[0.5555555555555556,\"#d8576b\"],[0.6666666666666666,\"#ed7953\"],[0.7777777777777778,\"#fb9f3a\"],[0.8888888888888888,\"#fdca26\"],[1.0,\"#f0f921\"]]}],\"mesh3d\":[{\"type\":\"mesh3d\",\"colorbar\":{\"outlinewidth\":0,\"ticks\":\"\"}}],\"scatter\":[{\"marker\":{\"line\":{\"color\":\"#283442\"}},\"type\":\"scatter\"}],\"parcoords\":[{\"type\":\"parcoords\",\"line\":{\"colorbar\":{\"outlinewidth\":0,\"ticks\":\"\"}}}],\"scatterpolargl\":[{\"type\":\"scatterpolargl\",\"marker\":{\"colorbar\":{\"outlinewidth\":0,\"ticks\":\"\"}}}],\"bar\":[{\"error_x\":{\"color\":\"#f2f5fa\"},\"error_y\":{\"color\":\"#f2f5fa\"},\"marker\":{\"line\":{\"color\":\"rgb(17,17,17)\",\"width\":0.5},\"pattern\":{\"fillmode\":\"overlay\",\"size\":10,\"solidity\":0.2}},\"type\":\"bar\"}],\"scattergeo\":[{\"type\":\"scattergeo\",\"marker\":{\"colorbar\":{\"outlinewidth\":0,\"ticks\":\"\"}}}],\"scatterpolar\":[{\"type\":\"scatterpolar\",\"marker\":{\"colorbar\":{\"outlinewidth\":0,\"ticks\":\"\"}}}],\"histogram\":[{\"marker\":{\"pattern\":{\"fillmode\":\"overlay\",\"size\":10,\"solidity\":0.2}},\"type\":\"histogram\"}],\"scattergl\":[{\"marker\":{\"line\":{\"color\":\"#283442\"}},\"type\":\"scattergl\"}],\"scatter3d\":[{\"type\":\"scatter3d\",\"line\":{\"colorbar\":{\"outlinewidth\":0,\"ticks\":\"\"}},\"marker\":{\"colorbar\":{\"outlinewidth\":0,\"ticks\":\"\"}}}],\"scattermapbox\":[{\"type\":\"scattermapbox\",\"marker\":{\"colorbar\":{\"outlinewidth\":0,\"ticks\":\"\"}}}],\"scatterternary\":[{\"type\":\"scatterternary\",\"marker\":{\"colorbar\":{\"outlinewidth\":0,\"ticks\":\"\"}}}],\"scattercarpet\":[{\"type\":\"scattercarpet\",\"marker\":{\"colorbar\":{\"outlinewidth\":0,\"ticks\":\"\"}}}],\"carpet\":[{\"aaxis\":{\"endlinecolor\":\"#A2B1C6\",\"gridcolor\":\"#506784\",\"linecolor\":\"#506784\",\"minorgridcolor\":\"#506784\",\"startlinecolor\":\"#A2B1C6\"},\"baxis\":{\"endlinecolor\":\"#A2B1C6\",\"gridcolor\":\"#506784\",\"linecolor\":\"#506784\",\"minorgridcolor\":\"#506784\",\"startlinecolor\":\"#A2B1C6\"},\"type\":\"carpet\"}],\"table\":[{\"cells\":{\"fill\":{\"color\":\"#506784\"},\"line\":{\"color\":\"rgb(17,17,17)\"}},\"header\":{\"fill\":{\"color\":\"#2a3f5f\"},\"line\":{\"color\":\"rgb(17,17,17)\"}},\"type\":\"table\"}],\"barpolar\":[{\"marker\":{\"line\":{\"color\":\"rgb(17,17,17)\",\"width\":0.5},\"pattern\":{\"fillmode\":\"overlay\",\"size\":10,\"solidity\":0.2}},\"type\":\"barpolar\"}],\"pie\":[{\"automargin\":true,\"type\":\"pie\"}]},\"layout\":{\"autotypenumbers\":\"strict\",\"colorway\":[\"#636efa\",\"#EF553B\",\"#00cc96\",\"#ab63fa\",\"#FFA15A\",\"#19d3f3\",\"#FF6692\",\"#B6E880\",\"#FF97FF\",\"#FECB52\"],\"font\":{\"color\":\"#f2f5fa\"},\"hovermode\":\"closest\",\"hoverlabel\":{\"align\":\"left\"},\"paper_bgcolor\":\"rgb(17,17,17)\",\"plot_bgcolor\":\"rgb(17,17,17)\",\"polar\":{\"bgcolor\":\"rgb(17,17,17)\",\"angularaxis\":{\"gridcolor\":\"#506784\",\"linecolor\":\"#506784\",\"ticks\":\"\"},\"radialaxis\":{\"gridcolor\":\"#506784\",\"linecolor\":\"#506784\",\"ticks\":\"\"}},\"ternary\":{\"bgcolor\":\"rgb(17,17,17)\",\"aaxis\":{\"gridcolor\":\"#506784\",\"linecolor\":\"#506784\",\"ticks\":\"\"},\"baxis\":{\"gridcolor\":\"#506784\",\"linecolor\":\"#506784\",\"ticks\":\"\"},\"caxis\":{\"gridcolor\":\"#506784\",\"linecolor\":\"#506784\",\"ticks\":\"\"}},\"coloraxis\":{\"colorbar\":{\"outlinewidth\":0,\"ticks\":\"\"}},\"colorscale\":{\"sequential\":[[0.0,\"#0d0887\"],[0.1111111111111111,\"#46039f\"],[0.2222222222222222,\"#7201a8\"],[0.3333333333333333,\"#9c179e\"],[0.4444444444444444,\"#bd3786\"],[0.5555555555555556,\"#d8576b\"],[0.6666666666666666,\"#ed7953\"],[0.7777777777777778,\"#fb9f3a\"],[0.8888888888888888,\"#fdca26\"],[1.0,\"#f0f921\"]],\"sequentialminus\":[[0.0,\"#0d0887\"],[0.1111111111111111,\"#46039f\"],[0.2222222222222222,\"#7201a8\"],[0.3333333333333333,\"#9c179e\"],[0.4444444444444444,\"#bd3786\"],[0.5555555555555556,\"#d8576b\"],[0.6666666666666666,\"#ed7953\"],[0.7777777777777778,\"#fb9f3a\"],[0.8888888888888888,\"#fdca26\"],[1.0,\"#f0f921\"]],\"diverging\":[[0,\"#8e0152\"],[0.1,\"#c51b7d\"],[0.2,\"#de77ae\"],[0.3,\"#f1b6da\"],[0.4,\"#fde0ef\"],[0.5,\"#f7f7f7\"],[0.6,\"#e6f5d0\"],[0.7,\"#b8e186\"],[0.8,\"#7fbc41\"],[0.9,\"#4d9221\"],[1,\"#276419\"]]},\"xaxis\":{\"gridcolor\":\"#283442\",\"linecolor\":\"#506784\",\"ticks\":\"\",\"title\":{\"standoff\":15},\"zerolinecolor\":\"#283442\",\"automargin\":true,\"zerolinewidth\":2},\"yaxis\":{\"gridcolor\":\"#283442\",\"linecolor\":\"#506784\",\"ticks\":\"\",\"title\":{\"standoff\":15},\"zerolinecolor\":\"#283442\",\"automargin\":true,\"zerolinewidth\":2},\"scene\":{\"xaxis\":{\"backgroundcolor\":\"rgb(17,17,17)\",\"gridcolor\":\"#506784\",\"linecolor\":\"#506784\",\"showbackground\":true,\"ticks\":\"\",\"zerolinecolor\":\"#C8D4E3\",\"gridwidth\":2},\"yaxis\":{\"backgroundcolor\":\"rgb(17,17,17)\",\"gridcolor\":\"#506784\",\"linecolor\":\"#506784\",\"showbackground\":true,\"ticks\":\"\",\"zerolinecolor\":\"#C8D4E3\",\"gridwidth\":2},\"zaxis\":{\"backgroundcolor\":\"rgb(17,17,17)\",\"gridcolor\":\"#506784\",\"linecolor\":\"#506784\",\"showbackground\":true,\"ticks\":\"\",\"zerolinecolor\":\"#C8D4E3\",\"gridwidth\":2}},\"shapedefaults\":{\"line\":{\"color\":\"#f2f5fa\"}},\"annotationdefaults\":{\"arrowcolor\":\"#f2f5fa\",\"arrowhead\":0,\"arrowwidth\":1},\"geo\":{\"bgcolor\":\"rgb(17,17,17)\",\"landcolor\":\"rgb(17,17,17)\",\"subunitcolor\":\"#506784\",\"showland\":true,\"showlakes\":true,\"lakecolor\":\"rgb(17,17,17)\"},\"title\":{\"x\":0.05},\"updatemenudefaults\":{\"bgcolor\":\"#506784\",\"borderwidth\":0},\"sliderdefaults\":{\"bgcolor\":\"#C8D4E3\",\"borderwidth\":1,\"bordercolor\":\"rgb(17,17,17)\",\"tickwidth\":0},\"mapbox\":{\"style\":\"dark\"}}},\"legend\":{\"tracegroupgap\":0},\"title\":{\"text\":\"Distribution of HvyAlcoholConsump\"}},                        {\"responsive\": true}                    ).then(function(){\n                            \nvar gd = document.getElementById('24e04ae8-a148-4029-9e09-e1ee9a6c0ed3');\nvar x = new MutationObserver(function (mutations, observer) {{\n        var display = window.getComputedStyle(gd).display;\n        if (!display || display === 'none') {{\n            console.log([gd, 'removed!']);\n            Plotly.purge(gd);\n            observer.disconnect();\n        }}\n}});\n\n// Listen for the removal of the full notebook cells\nvar notebookContainer = gd.closest('#notebook-container');\nif (notebookContainer) {{\n    x.observe(notebookContainer, {childList: true});\n}}\n\n// Listen for the clearing of the current output cell\nvar outputEl = gd.closest('.output');\nif (outputEl) {{\n    x.observe(outputEl, {childList: true});\n}}\n\n                        })                };                });            </script>        </div>"
     },
     "metadata": {},
     "output_type": "display_data"
    }
   ],
   "source": [
    "categories = ['HighBP', 'Smoker', 'Stroke', 'Diabetes', 'HvyAlcoholConsump']\n",
    "\n",
    "rename_labels = {\n",
    "    0: 'No',\n",
    "    1: 'Yes'\n",
    "}\n",
    "\n",
    "for category in categories:\n",
    "    category_counts = raw_df[category].value_counts()\n",
    "\n",
    "    fig = px.pie(values=category_counts,\n",
    "                 names=category_counts.index.map(rename_labels),\n",
    "                 title=f'Distribution of {category}',\n",
    "                 labels=rename_labels,\n",
    "                 hover_name=category_counts.index.map(rename_labels))\n",
    "\n",
    "    fig.update_traces(textinfo='percent+label', text=category_counts.index.map(rename_labels))\n",
    "    fig.show()"
   ],
   "metadata": {
    "collapsed": false,
    "ExecuteTime": {
     "end_time": "2023-09-14T03:55:04.283830200Z",
     "start_time": "2023-09-14T03:55:04.064407Z"
    }
   }
  },
  {
   "cell_type": "markdown",
   "source": [
    "### Creating Categorical Columns so encoding and decoding is easier later"
   ],
   "metadata": {
    "collapsed": false
   }
  },
  {
   "cell_type": "code",
   "execution_count": 168,
   "outputs": [
    {
     "data": {
      "text/plain": "  HeartDiseaseorAttack HighBP HighChol CholCheck   BMI Smoker Stroke  \\\n0                   No    Yes      Yes       Yes  40.0    Yes     No   \n1                   No     No       No        No  25.0    Yes     No   \n2                   No    Yes      Yes       Yes  28.0     No     No   \n3                   No    Yes       No       Yes  27.0     No     No   \n4                   No    Yes      Yes       Yes  24.0     No     No   \n\n   Diabetes PhysActivity Fruits Veggies HvyAlcoholConsump AnyHealthcare  \\\n0       0.0           No     No     Yes                No           Yes   \n1       0.0          Yes     No      No                No            No   \n2       0.0           No    Yes      No                No           Yes   \n3       0.0          Yes    Yes     Yes                No           Yes   \n4       0.0          Yes    Yes     Yes                No           Yes   \n\n  NoDocbcCost  GenHlth  MentHlth  PhysHlth DiffWalk  Sex   Age  Education  \\\n0          No      5.0      18.0      15.0      Yes  0.0   9.0        4.0   \n1         Yes      3.0       0.0       0.0       No  0.0   7.0        6.0   \n2         Yes      5.0      30.0      30.0      Yes  0.0   9.0        4.0   \n3          No      2.0       0.0       0.0       No  0.0  11.0        3.0   \n4          No      2.0       3.0       0.0       No  0.0  11.0        5.0   \n\n   Income  \n0     3.0  \n1     1.0  \n2     8.0  \n3     6.0  \n4     4.0  ",
      "text/html": "<div>\n<style scoped>\n    .dataframe tbody tr th:only-of-type {\n        vertical-align: middle;\n    }\n\n    .dataframe tbody tr th {\n        vertical-align: top;\n    }\n\n    .dataframe thead th {\n        text-align: right;\n    }\n</style>\n<table border=\"1\" class=\"dataframe\">\n  <thead>\n    <tr style=\"text-align: right;\">\n      <th></th>\n      <th>HeartDiseaseorAttack</th>\n      <th>HighBP</th>\n      <th>HighChol</th>\n      <th>CholCheck</th>\n      <th>BMI</th>\n      <th>Smoker</th>\n      <th>Stroke</th>\n      <th>Diabetes</th>\n      <th>PhysActivity</th>\n      <th>Fruits</th>\n      <th>Veggies</th>\n      <th>HvyAlcoholConsump</th>\n      <th>AnyHealthcare</th>\n      <th>NoDocbcCost</th>\n      <th>GenHlth</th>\n      <th>MentHlth</th>\n      <th>PhysHlth</th>\n      <th>DiffWalk</th>\n      <th>Sex</th>\n      <th>Age</th>\n      <th>Education</th>\n      <th>Income</th>\n    </tr>\n  </thead>\n  <tbody>\n    <tr>\n      <th>0</th>\n      <td>No</td>\n      <td>Yes</td>\n      <td>Yes</td>\n      <td>Yes</td>\n      <td>40.0</td>\n      <td>Yes</td>\n      <td>No</td>\n      <td>0.0</td>\n      <td>No</td>\n      <td>No</td>\n      <td>Yes</td>\n      <td>No</td>\n      <td>Yes</td>\n      <td>No</td>\n      <td>5.0</td>\n      <td>18.0</td>\n      <td>15.0</td>\n      <td>Yes</td>\n      <td>0.0</td>\n      <td>9.0</td>\n      <td>4.0</td>\n      <td>3.0</td>\n    </tr>\n    <tr>\n      <th>1</th>\n      <td>No</td>\n      <td>No</td>\n      <td>No</td>\n      <td>No</td>\n      <td>25.0</td>\n      <td>Yes</td>\n      <td>No</td>\n      <td>0.0</td>\n      <td>Yes</td>\n      <td>No</td>\n      <td>No</td>\n      <td>No</td>\n      <td>No</td>\n      <td>Yes</td>\n      <td>3.0</td>\n      <td>0.0</td>\n      <td>0.0</td>\n      <td>No</td>\n      <td>0.0</td>\n      <td>7.0</td>\n      <td>6.0</td>\n      <td>1.0</td>\n    </tr>\n    <tr>\n      <th>2</th>\n      <td>No</td>\n      <td>Yes</td>\n      <td>Yes</td>\n      <td>Yes</td>\n      <td>28.0</td>\n      <td>No</td>\n      <td>No</td>\n      <td>0.0</td>\n      <td>No</td>\n      <td>Yes</td>\n      <td>No</td>\n      <td>No</td>\n      <td>Yes</td>\n      <td>Yes</td>\n      <td>5.0</td>\n      <td>30.0</td>\n      <td>30.0</td>\n      <td>Yes</td>\n      <td>0.0</td>\n      <td>9.0</td>\n      <td>4.0</td>\n      <td>8.0</td>\n    </tr>\n    <tr>\n      <th>3</th>\n      <td>No</td>\n      <td>Yes</td>\n      <td>No</td>\n      <td>Yes</td>\n      <td>27.0</td>\n      <td>No</td>\n      <td>No</td>\n      <td>0.0</td>\n      <td>Yes</td>\n      <td>Yes</td>\n      <td>Yes</td>\n      <td>No</td>\n      <td>Yes</td>\n      <td>No</td>\n      <td>2.0</td>\n      <td>0.0</td>\n      <td>0.0</td>\n      <td>No</td>\n      <td>0.0</td>\n      <td>11.0</td>\n      <td>3.0</td>\n      <td>6.0</td>\n    </tr>\n    <tr>\n      <th>4</th>\n      <td>No</td>\n      <td>Yes</td>\n      <td>Yes</td>\n      <td>Yes</td>\n      <td>24.0</td>\n      <td>No</td>\n      <td>No</td>\n      <td>0.0</td>\n      <td>Yes</td>\n      <td>Yes</td>\n      <td>Yes</td>\n      <td>No</td>\n      <td>Yes</td>\n      <td>No</td>\n      <td>2.0</td>\n      <td>3.0</td>\n      <td>0.0</td>\n      <td>No</td>\n      <td>0.0</td>\n      <td>11.0</td>\n      <td>5.0</td>\n      <td>4.0</td>\n    </tr>\n  </tbody>\n</table>\n</div>"
     },
     "execution_count": 168,
     "metadata": {},
     "output_type": "execute_result"
    }
   ],
   "source": [
    "binary_map1 = {0: 'No', 1: 'Yes'}\n",
    "cols_to_map = ['HeartDiseaseorAttack', 'HighBP', 'HighChol','CholCheck','Smoker','Stroke',\n",
    "               'PhysActivity', 'Fruits', 'Veggies','HvyAlcoholConsump', 'AnyHealthcare',\n",
    "               'NoDocbcCost','DiffWalk']\n",
    "raw_df[cols_to_map] = raw_df[cols_to_map].replace(binary_map1)\n",
    "raw_df.head()"
   ],
   "metadata": {
    "collapsed": false,
    "ExecuteTime": {
     "end_time": "2023-09-14T03:55:04.917179Z",
     "start_time": "2023-09-14T03:55:04.272827700Z"
    }
   }
  },
  {
   "cell_type": "code",
   "execution_count": 169,
   "outputs": [
    {
     "data": {
      "text/plain": "  HeartDiseaseorAttack HighBP HighChol CholCheck   BMI Smoker Stroke  \\\n0                   No    Yes      Yes       Yes  40.0    Yes     No   \n1                   No     No       No        No  25.0    Yes     No   \n2                   No    Yes      Yes       Yes  28.0     No     No   \n3                   No    Yes       No       Yes  27.0     No     No   \n4                   No    Yes      Yes       Yes  24.0     No     No   \n\n   Diabetes PhysActivity Fruits Veggies HvyAlcoholConsump AnyHealthcare  \\\n0       0.0           No     No     Yes                No           Yes   \n1       0.0          Yes     No      No                No            No   \n2       0.0           No    Yes      No                No           Yes   \n3       0.0          Yes    Yes     Yes                No           Yes   \n4       0.0          Yes    Yes     Yes                No           Yes   \n\n  NoDocbcCost  GenHlth  MentHlth  PhysHlth DiffWalk     Sex   Age  Education  \\\n0          No      5.0      18.0      15.0      Yes  Female   9.0        4.0   \n1         Yes      3.0       0.0       0.0       No  Female   7.0        6.0   \n2         Yes      5.0      30.0      30.0      Yes  Female   9.0        4.0   \n3          No      2.0       0.0       0.0       No  Female  11.0        3.0   \n4          No      2.0       3.0       0.0       No  Female  11.0        5.0   \n\n   Income  \n0     3.0  \n1     1.0  \n2     8.0  \n3     6.0  \n4     4.0  ",
      "text/html": "<div>\n<style scoped>\n    .dataframe tbody tr th:only-of-type {\n        vertical-align: middle;\n    }\n\n    .dataframe tbody tr th {\n        vertical-align: top;\n    }\n\n    .dataframe thead th {\n        text-align: right;\n    }\n</style>\n<table border=\"1\" class=\"dataframe\">\n  <thead>\n    <tr style=\"text-align: right;\">\n      <th></th>\n      <th>HeartDiseaseorAttack</th>\n      <th>HighBP</th>\n      <th>HighChol</th>\n      <th>CholCheck</th>\n      <th>BMI</th>\n      <th>Smoker</th>\n      <th>Stroke</th>\n      <th>Diabetes</th>\n      <th>PhysActivity</th>\n      <th>Fruits</th>\n      <th>Veggies</th>\n      <th>HvyAlcoholConsump</th>\n      <th>AnyHealthcare</th>\n      <th>NoDocbcCost</th>\n      <th>GenHlth</th>\n      <th>MentHlth</th>\n      <th>PhysHlth</th>\n      <th>DiffWalk</th>\n      <th>Sex</th>\n      <th>Age</th>\n      <th>Education</th>\n      <th>Income</th>\n    </tr>\n  </thead>\n  <tbody>\n    <tr>\n      <th>0</th>\n      <td>No</td>\n      <td>Yes</td>\n      <td>Yes</td>\n      <td>Yes</td>\n      <td>40.0</td>\n      <td>Yes</td>\n      <td>No</td>\n      <td>0.0</td>\n      <td>No</td>\n      <td>No</td>\n      <td>Yes</td>\n      <td>No</td>\n      <td>Yes</td>\n      <td>No</td>\n      <td>5.0</td>\n      <td>18.0</td>\n      <td>15.0</td>\n      <td>Yes</td>\n      <td>Female</td>\n      <td>9.0</td>\n      <td>4.0</td>\n      <td>3.0</td>\n    </tr>\n    <tr>\n      <th>1</th>\n      <td>No</td>\n      <td>No</td>\n      <td>No</td>\n      <td>No</td>\n      <td>25.0</td>\n      <td>Yes</td>\n      <td>No</td>\n      <td>0.0</td>\n      <td>Yes</td>\n      <td>No</td>\n      <td>No</td>\n      <td>No</td>\n      <td>No</td>\n      <td>Yes</td>\n      <td>3.0</td>\n      <td>0.0</td>\n      <td>0.0</td>\n      <td>No</td>\n      <td>Female</td>\n      <td>7.0</td>\n      <td>6.0</td>\n      <td>1.0</td>\n    </tr>\n    <tr>\n      <th>2</th>\n      <td>No</td>\n      <td>Yes</td>\n      <td>Yes</td>\n      <td>Yes</td>\n      <td>28.0</td>\n      <td>No</td>\n      <td>No</td>\n      <td>0.0</td>\n      <td>No</td>\n      <td>Yes</td>\n      <td>No</td>\n      <td>No</td>\n      <td>Yes</td>\n      <td>Yes</td>\n      <td>5.0</td>\n      <td>30.0</td>\n      <td>30.0</td>\n      <td>Yes</td>\n      <td>Female</td>\n      <td>9.0</td>\n      <td>4.0</td>\n      <td>8.0</td>\n    </tr>\n    <tr>\n      <th>3</th>\n      <td>No</td>\n      <td>Yes</td>\n      <td>No</td>\n      <td>Yes</td>\n      <td>27.0</td>\n      <td>No</td>\n      <td>No</td>\n      <td>0.0</td>\n      <td>Yes</td>\n      <td>Yes</td>\n      <td>Yes</td>\n      <td>No</td>\n      <td>Yes</td>\n      <td>No</td>\n      <td>2.0</td>\n      <td>0.0</td>\n      <td>0.0</td>\n      <td>No</td>\n      <td>Female</td>\n      <td>11.0</td>\n      <td>3.0</td>\n      <td>6.0</td>\n    </tr>\n    <tr>\n      <th>4</th>\n      <td>No</td>\n      <td>Yes</td>\n      <td>Yes</td>\n      <td>Yes</td>\n      <td>24.0</td>\n      <td>No</td>\n      <td>No</td>\n      <td>0.0</td>\n      <td>Yes</td>\n      <td>Yes</td>\n      <td>Yes</td>\n      <td>No</td>\n      <td>Yes</td>\n      <td>No</td>\n      <td>2.0</td>\n      <td>3.0</td>\n      <td>0.0</td>\n      <td>No</td>\n      <td>Female</td>\n      <td>11.0</td>\n      <td>5.0</td>\n      <td>4.0</td>\n    </tr>\n  </tbody>\n</table>\n</div>"
     },
     "execution_count": 169,
     "metadata": {},
     "output_type": "execute_result"
    }
   ],
   "source": [
    "binary_map2 = {0: 'Female', 1: 'Male'}\n",
    "raw_df['Sex'] = raw_df['Sex'].replace(binary_map2)\n",
    "raw_df.head()"
   ],
   "metadata": {
    "collapsed": false,
    "ExecuteTime": {
     "end_time": "2023-09-14T03:55:05.023392800Z",
     "start_time": "2023-09-14T03:55:04.916084400Z"
    }
   }
  },
  {
   "cell_type": "code",
   "execution_count": 170,
   "outputs": [
    {
     "data": {
      "text/plain": "  HeartDiseaseorAttack HighBP HighChol CholCheck   BMI Smoker Stroke Diabetes  \\\n0                   No    Yes      Yes       Yes  40.0    Yes     No       No   \n1                   No     No       No        No  25.0    Yes     No       No   \n2                   No    Yes      Yes       Yes  28.0     No     No       No   \n3                   No    Yes       No       Yes  27.0     No     No       No   \n4                   No    Yes      Yes       Yes  24.0     No     No       No   \n\n  PhysActivity Fruits Veggies HvyAlcoholConsump AnyHealthcare NoDocbcCost  \\\n0           No     No     Yes                No           Yes          No   \n1          Yes     No      No                No            No         Yes   \n2           No    Yes      No                No           Yes         Yes   \n3          Yes    Yes     Yes                No           Yes          No   \n4          Yes    Yes     Yes                No           Yes          No   \n\n   GenHlth  MentHlth  PhysHlth DiffWalk     Sex   Age  Education  Income  \n0      5.0      18.0      15.0      Yes  Female   9.0        4.0     3.0  \n1      3.0       0.0       0.0       No  Female   7.0        6.0     1.0  \n2      5.0      30.0      30.0      Yes  Female   9.0        4.0     8.0  \n3      2.0       0.0       0.0       No  Female  11.0        3.0     6.0  \n4      2.0       3.0       0.0       No  Female  11.0        5.0     4.0  ",
      "text/html": "<div>\n<style scoped>\n    .dataframe tbody tr th:only-of-type {\n        vertical-align: middle;\n    }\n\n    .dataframe tbody tr th {\n        vertical-align: top;\n    }\n\n    .dataframe thead th {\n        text-align: right;\n    }\n</style>\n<table border=\"1\" class=\"dataframe\">\n  <thead>\n    <tr style=\"text-align: right;\">\n      <th></th>\n      <th>HeartDiseaseorAttack</th>\n      <th>HighBP</th>\n      <th>HighChol</th>\n      <th>CholCheck</th>\n      <th>BMI</th>\n      <th>Smoker</th>\n      <th>Stroke</th>\n      <th>Diabetes</th>\n      <th>PhysActivity</th>\n      <th>Fruits</th>\n      <th>Veggies</th>\n      <th>HvyAlcoholConsump</th>\n      <th>AnyHealthcare</th>\n      <th>NoDocbcCost</th>\n      <th>GenHlth</th>\n      <th>MentHlth</th>\n      <th>PhysHlth</th>\n      <th>DiffWalk</th>\n      <th>Sex</th>\n      <th>Age</th>\n      <th>Education</th>\n      <th>Income</th>\n    </tr>\n  </thead>\n  <tbody>\n    <tr>\n      <th>0</th>\n      <td>No</td>\n      <td>Yes</td>\n      <td>Yes</td>\n      <td>Yes</td>\n      <td>40.0</td>\n      <td>Yes</td>\n      <td>No</td>\n      <td>No</td>\n      <td>No</td>\n      <td>No</td>\n      <td>Yes</td>\n      <td>No</td>\n      <td>Yes</td>\n      <td>No</td>\n      <td>5.0</td>\n      <td>18.0</td>\n      <td>15.0</td>\n      <td>Yes</td>\n      <td>Female</td>\n      <td>9.0</td>\n      <td>4.0</td>\n      <td>3.0</td>\n    </tr>\n    <tr>\n      <th>1</th>\n      <td>No</td>\n      <td>No</td>\n      <td>No</td>\n      <td>No</td>\n      <td>25.0</td>\n      <td>Yes</td>\n      <td>No</td>\n      <td>No</td>\n      <td>Yes</td>\n      <td>No</td>\n      <td>No</td>\n      <td>No</td>\n      <td>No</td>\n      <td>Yes</td>\n      <td>3.0</td>\n      <td>0.0</td>\n      <td>0.0</td>\n      <td>No</td>\n      <td>Female</td>\n      <td>7.0</td>\n      <td>6.0</td>\n      <td>1.0</td>\n    </tr>\n    <tr>\n      <th>2</th>\n      <td>No</td>\n      <td>Yes</td>\n      <td>Yes</td>\n      <td>Yes</td>\n      <td>28.0</td>\n      <td>No</td>\n      <td>No</td>\n      <td>No</td>\n      <td>No</td>\n      <td>Yes</td>\n      <td>No</td>\n      <td>No</td>\n      <td>Yes</td>\n      <td>Yes</td>\n      <td>5.0</td>\n      <td>30.0</td>\n      <td>30.0</td>\n      <td>Yes</td>\n      <td>Female</td>\n      <td>9.0</td>\n      <td>4.0</td>\n      <td>8.0</td>\n    </tr>\n    <tr>\n      <th>3</th>\n      <td>No</td>\n      <td>Yes</td>\n      <td>No</td>\n      <td>Yes</td>\n      <td>27.0</td>\n      <td>No</td>\n      <td>No</td>\n      <td>No</td>\n      <td>Yes</td>\n      <td>Yes</td>\n      <td>Yes</td>\n      <td>No</td>\n      <td>Yes</td>\n      <td>No</td>\n      <td>2.0</td>\n      <td>0.0</td>\n      <td>0.0</td>\n      <td>No</td>\n      <td>Female</td>\n      <td>11.0</td>\n      <td>3.0</td>\n      <td>6.0</td>\n    </tr>\n    <tr>\n      <th>4</th>\n      <td>No</td>\n      <td>Yes</td>\n      <td>Yes</td>\n      <td>Yes</td>\n      <td>24.0</td>\n      <td>No</td>\n      <td>No</td>\n      <td>No</td>\n      <td>Yes</td>\n      <td>Yes</td>\n      <td>Yes</td>\n      <td>No</td>\n      <td>Yes</td>\n      <td>No</td>\n      <td>2.0</td>\n      <td>3.0</td>\n      <td>0.0</td>\n      <td>No</td>\n      <td>Female</td>\n      <td>11.0</td>\n      <td>5.0</td>\n      <td>4.0</td>\n    </tr>\n  </tbody>\n</table>\n</div>"
     },
     "execution_count": 170,
     "metadata": {},
     "output_type": "execute_result"
    }
   ],
   "source": [
    "binary_map3 = {0: 'No', 1: 'Type1', 2: 'Type2'}\n",
    "raw_df['Diabetes'] = raw_df['Diabetes'].replace(binary_map3)\n",
    "raw_df.head()"
   ],
   "metadata": {
    "collapsed": false,
    "ExecuteTime": {
     "end_time": "2023-09-14T03:55:05.084561Z",
     "start_time": "2023-09-14T03:55:04.957392200Z"
    }
   }
  },
  {
   "cell_type": "code",
   "execution_count": 171,
   "outputs": [
    {
     "data": {
      "text/plain": "Index(['HeartDiseaseorAttack', 'HighBP', 'HighChol', 'CholCheck', 'BMI',\n       'Smoker', 'Stroke', 'Diabetes', 'PhysActivity', 'Fruits', 'Veggies',\n       'HvyAlcoholConsump', 'AnyHealthcare', 'NoDocbcCost', 'GenHlth',\n       'MentHlth', 'PhysHlth', 'DiffWalk', 'Sex', 'Age', 'Education',\n       'Income'],\n      dtype='object')"
     },
     "execution_count": 171,
     "metadata": {},
     "output_type": "execute_result"
    }
   ],
   "source": [
    "raw_df.columns"
   ],
   "metadata": {
    "collapsed": false,
    "ExecuteTime": {
     "end_time": "2023-09-14T03:55:05.085561100Z",
     "start_time": "2023-09-14T03:55:05.008544Z"
    }
   }
  },
  {
   "cell_type": "markdown",
   "source": [
    "### Creating Training, Testing, and Validation Sets"
   ],
   "metadata": {
    "collapsed": false
   }
  },
  {
   "cell_type": "code",
   "execution_count": 172,
   "outputs": [
    {
     "name": "stdout",
     "output_type": "stream",
     "text": [
      "train_df.shape : (152208, 22)\n",
      "val_df.shape : (50736, 22)\n",
      "test_df.shape : (50736, 22)\n"
     ]
    }
   ],
   "source": [
    "train_val_df, test_df = train_test_split(raw_df, test_size=0.2, random_state=42)\n",
    "train_df, val_df = train_test_split(train_val_df, test_size=0.25, random_state=42)\n",
    "print('train_df.shape :', train_df.shape)\n",
    "print('val_df.shape :', val_df.shape)\n",
    "print('test_df.shape :', test_df.shape)"
   ],
   "metadata": {
    "collapsed": false,
    "ExecuteTime": {
     "end_time": "2023-09-14T03:55:05.294216400Z",
     "start_time": "2023-09-14T03:55:05.014299800Z"
    }
   }
  },
  {
   "cell_type": "code",
   "execution_count": 173,
   "outputs": [
    {
     "data": {
      "text/plain": "       HeartDiseaseorAttack HighBP HighChol CholCheck   BMI Smoker Stroke  \\\n132776                   No     No       No       Yes  25.0    Yes     No   \n60629                    No     No       No       Yes  25.0     No     No   \n163859                   No     No       No       Yes  28.0    Yes     No   \n179387                   No     No       No       Yes  31.0     No     No   \n6258                     No     No       No       Yes  21.0     No     No   \n...                     ...    ...      ...       ...   ...    ...    ...   \n153576                   No     No      Yes       Yes  24.0     No     No   \n187540                   No     No       No       Yes  27.0     No     No   \n158320                   No     No       No       Yes  23.0    Yes     No   \n185003                   No    Yes       No       Yes  32.0    Yes     No   \n72397                    No    Yes      Yes       Yes  23.0    Yes     No   \n\n       Diabetes PhysActivity Fruits Veggies HvyAlcoholConsump AnyHealthcare  \\\n132776    Type2          Yes    Yes     Yes                No           Yes   \n60629        No          Yes    Yes     Yes                No           Yes   \n163859       No          Yes    Yes     Yes               Yes           Yes   \n179387       No          Yes    Yes     Yes                No           Yes   \n6258         No          Yes    Yes     Yes               Yes           Yes   \n...         ...          ...    ...     ...               ...           ...   \n153576       No           No    Yes     Yes                No           Yes   \n187540       No           No    Yes      No                No            No   \n158320       No          Yes    Yes     Yes                No           Yes   \n185003       No          Yes    Yes     Yes                No           Yes   \n72397        No          Yes    Yes     Yes                No           Yes   \n\n       NoDocbcCost  GenHlth  MentHlth  PhysHlth DiffWalk     Sex   Age  \\\n132776          No      2.0       0.0       1.0       No  Female   8.0   \n60629           No      2.0       0.0       0.0       No  Female   9.0   \n163859          No      2.0       0.0       0.0       No  Female   7.0   \n179387          No      2.0       0.0       0.0       No    Male   8.0   \n6258           Yes      2.0       0.0       2.0       No  Female   2.0   \n...            ...      ...       ...       ...      ...     ...   ...   \n153576          No      2.0       0.0       2.0       No  Female   4.0   \n187540          No      3.0       0.0       0.0       No  Female   2.0   \n158320          No      2.0       0.0       0.0       No    Male   6.0   \n185003          No      3.0       0.0       0.0      Yes    Male   9.0   \n72397           No      2.0      30.0       0.0       No  Female  11.0   \n\n        Education  Income  \n132776        5.0     8.0  \n60629         6.0     7.0  \n163859        6.0     8.0  \n179387        6.0     8.0  \n6258          4.0     6.0  \n...           ...     ...  \n153576        6.0     8.0  \n187540        4.0     6.0  \n158320        6.0     8.0  \n185003        6.0     8.0  \n72397         6.0     8.0  \n\n[152208 rows x 22 columns]",
      "text/html": "<div>\n<style scoped>\n    .dataframe tbody tr th:only-of-type {\n        vertical-align: middle;\n    }\n\n    .dataframe tbody tr th {\n        vertical-align: top;\n    }\n\n    .dataframe thead th {\n        text-align: right;\n    }\n</style>\n<table border=\"1\" class=\"dataframe\">\n  <thead>\n    <tr style=\"text-align: right;\">\n      <th></th>\n      <th>HeartDiseaseorAttack</th>\n      <th>HighBP</th>\n      <th>HighChol</th>\n      <th>CholCheck</th>\n      <th>BMI</th>\n      <th>Smoker</th>\n      <th>Stroke</th>\n      <th>Diabetes</th>\n      <th>PhysActivity</th>\n      <th>Fruits</th>\n      <th>Veggies</th>\n      <th>HvyAlcoholConsump</th>\n      <th>AnyHealthcare</th>\n      <th>NoDocbcCost</th>\n      <th>GenHlth</th>\n      <th>MentHlth</th>\n      <th>PhysHlth</th>\n      <th>DiffWalk</th>\n      <th>Sex</th>\n      <th>Age</th>\n      <th>Education</th>\n      <th>Income</th>\n    </tr>\n  </thead>\n  <tbody>\n    <tr>\n      <th>132776</th>\n      <td>No</td>\n      <td>No</td>\n      <td>No</td>\n      <td>Yes</td>\n      <td>25.0</td>\n      <td>Yes</td>\n      <td>No</td>\n      <td>Type2</td>\n      <td>Yes</td>\n      <td>Yes</td>\n      <td>Yes</td>\n      <td>No</td>\n      <td>Yes</td>\n      <td>No</td>\n      <td>2.0</td>\n      <td>0.0</td>\n      <td>1.0</td>\n      <td>No</td>\n      <td>Female</td>\n      <td>8.0</td>\n      <td>5.0</td>\n      <td>8.0</td>\n    </tr>\n    <tr>\n      <th>60629</th>\n      <td>No</td>\n      <td>No</td>\n      <td>No</td>\n      <td>Yes</td>\n      <td>25.0</td>\n      <td>No</td>\n      <td>No</td>\n      <td>No</td>\n      <td>Yes</td>\n      <td>Yes</td>\n      <td>Yes</td>\n      <td>No</td>\n      <td>Yes</td>\n      <td>No</td>\n      <td>2.0</td>\n      <td>0.0</td>\n      <td>0.0</td>\n      <td>No</td>\n      <td>Female</td>\n      <td>9.0</td>\n      <td>6.0</td>\n      <td>7.0</td>\n    </tr>\n    <tr>\n      <th>163859</th>\n      <td>No</td>\n      <td>No</td>\n      <td>No</td>\n      <td>Yes</td>\n      <td>28.0</td>\n      <td>Yes</td>\n      <td>No</td>\n      <td>No</td>\n      <td>Yes</td>\n      <td>Yes</td>\n      <td>Yes</td>\n      <td>Yes</td>\n      <td>Yes</td>\n      <td>No</td>\n      <td>2.0</td>\n      <td>0.0</td>\n      <td>0.0</td>\n      <td>No</td>\n      <td>Female</td>\n      <td>7.0</td>\n      <td>6.0</td>\n      <td>8.0</td>\n    </tr>\n    <tr>\n      <th>179387</th>\n      <td>No</td>\n      <td>No</td>\n      <td>No</td>\n      <td>Yes</td>\n      <td>31.0</td>\n      <td>No</td>\n      <td>No</td>\n      <td>No</td>\n      <td>Yes</td>\n      <td>Yes</td>\n      <td>Yes</td>\n      <td>No</td>\n      <td>Yes</td>\n      <td>No</td>\n      <td>2.0</td>\n      <td>0.0</td>\n      <td>0.0</td>\n      <td>No</td>\n      <td>Male</td>\n      <td>8.0</td>\n      <td>6.0</td>\n      <td>8.0</td>\n    </tr>\n    <tr>\n      <th>6258</th>\n      <td>No</td>\n      <td>No</td>\n      <td>No</td>\n      <td>Yes</td>\n      <td>21.0</td>\n      <td>No</td>\n      <td>No</td>\n      <td>No</td>\n      <td>Yes</td>\n      <td>Yes</td>\n      <td>Yes</td>\n      <td>Yes</td>\n      <td>Yes</td>\n      <td>Yes</td>\n      <td>2.0</td>\n      <td>0.0</td>\n      <td>2.0</td>\n      <td>No</td>\n      <td>Female</td>\n      <td>2.0</td>\n      <td>4.0</td>\n      <td>6.0</td>\n    </tr>\n    <tr>\n      <th>...</th>\n      <td>...</td>\n      <td>...</td>\n      <td>...</td>\n      <td>...</td>\n      <td>...</td>\n      <td>...</td>\n      <td>...</td>\n      <td>...</td>\n      <td>...</td>\n      <td>...</td>\n      <td>...</td>\n      <td>...</td>\n      <td>...</td>\n      <td>...</td>\n      <td>...</td>\n      <td>...</td>\n      <td>...</td>\n      <td>...</td>\n      <td>...</td>\n      <td>...</td>\n      <td>...</td>\n      <td>...</td>\n    </tr>\n    <tr>\n      <th>153576</th>\n      <td>No</td>\n      <td>No</td>\n      <td>Yes</td>\n      <td>Yes</td>\n      <td>24.0</td>\n      <td>No</td>\n      <td>No</td>\n      <td>No</td>\n      <td>No</td>\n      <td>Yes</td>\n      <td>Yes</td>\n      <td>No</td>\n      <td>Yes</td>\n      <td>No</td>\n      <td>2.0</td>\n      <td>0.0</td>\n      <td>2.0</td>\n      <td>No</td>\n      <td>Female</td>\n      <td>4.0</td>\n      <td>6.0</td>\n      <td>8.0</td>\n    </tr>\n    <tr>\n      <th>187540</th>\n      <td>No</td>\n      <td>No</td>\n      <td>No</td>\n      <td>Yes</td>\n      <td>27.0</td>\n      <td>No</td>\n      <td>No</td>\n      <td>No</td>\n      <td>No</td>\n      <td>Yes</td>\n      <td>No</td>\n      <td>No</td>\n      <td>No</td>\n      <td>No</td>\n      <td>3.0</td>\n      <td>0.0</td>\n      <td>0.0</td>\n      <td>No</td>\n      <td>Female</td>\n      <td>2.0</td>\n      <td>4.0</td>\n      <td>6.0</td>\n    </tr>\n    <tr>\n      <th>158320</th>\n      <td>No</td>\n      <td>No</td>\n      <td>No</td>\n      <td>Yes</td>\n      <td>23.0</td>\n      <td>Yes</td>\n      <td>No</td>\n      <td>No</td>\n      <td>Yes</td>\n      <td>Yes</td>\n      <td>Yes</td>\n      <td>No</td>\n      <td>Yes</td>\n      <td>No</td>\n      <td>2.0</td>\n      <td>0.0</td>\n      <td>0.0</td>\n      <td>No</td>\n      <td>Male</td>\n      <td>6.0</td>\n      <td>6.0</td>\n      <td>8.0</td>\n    </tr>\n    <tr>\n      <th>185003</th>\n      <td>No</td>\n      <td>Yes</td>\n      <td>No</td>\n      <td>Yes</td>\n      <td>32.0</td>\n      <td>Yes</td>\n      <td>No</td>\n      <td>No</td>\n      <td>Yes</td>\n      <td>Yes</td>\n      <td>Yes</td>\n      <td>No</td>\n      <td>Yes</td>\n      <td>No</td>\n      <td>3.0</td>\n      <td>0.0</td>\n      <td>0.0</td>\n      <td>Yes</td>\n      <td>Male</td>\n      <td>9.0</td>\n      <td>6.0</td>\n      <td>8.0</td>\n    </tr>\n    <tr>\n      <th>72397</th>\n      <td>No</td>\n      <td>Yes</td>\n      <td>Yes</td>\n      <td>Yes</td>\n      <td>23.0</td>\n      <td>Yes</td>\n      <td>No</td>\n      <td>No</td>\n      <td>Yes</td>\n      <td>Yes</td>\n      <td>Yes</td>\n      <td>No</td>\n      <td>Yes</td>\n      <td>No</td>\n      <td>2.0</td>\n      <td>30.0</td>\n      <td>0.0</td>\n      <td>No</td>\n      <td>Female</td>\n      <td>11.0</td>\n      <td>6.0</td>\n      <td>8.0</td>\n    </tr>\n  </tbody>\n</table>\n<p>152208 rows × 22 columns</p>\n</div>"
     },
     "execution_count": 173,
     "metadata": {},
     "output_type": "execute_result"
    }
   ],
   "source": [
    "train_df"
   ],
   "metadata": {
    "collapsed": false,
    "ExecuteTime": {
     "end_time": "2023-09-14T03:55:05.344026500Z",
     "start_time": "2023-09-14T03:55:05.283213200Z"
    }
   }
  },
  {
   "cell_type": "code",
   "execution_count": 174,
   "outputs": [
    {
     "data": {
      "text/plain": "       HeartDiseaseorAttack HighBP HighChol CholCheck   BMI Smoker Stroke  \\\n177961                   No    Yes      Yes       Yes  28.0     No     No   \n105626                  Yes    Yes      Yes       Yes  27.0    Yes    Yes   \n136759                   No     No      Yes       Yes  47.0     No     No   \n181637                   No    Yes       No       Yes  26.0     No     No   \n245214                   No     No       No       Yes  23.0     No     No   \n...                     ...    ...      ...       ...   ...    ...    ...   \n250516                   No    Yes       No       Yes  29.0     No     No   \n161301                   No    Yes      Yes       Yes  22.0     No     No   \n31718                    No     No       No       Yes  24.0     No     No   \n152320                   No     No      Yes       Yes  26.0    Yes     No   \n87111                    No     No      Yes       Yes  33.0    Yes     No   \n\n       Diabetes PhysActivity Fruits Veggies HvyAlcoholConsump AnyHealthcare  \\\n177961       No           No    Yes     Yes                No           Yes   \n105626    Type2           No    Yes     Yes                No           Yes   \n136759       No          Yes    Yes      No                No           Yes   \n181637       No          Yes    Yes     Yes                No           Yes   \n245214       No          Yes    Yes     Yes                No           Yes   \n...         ...          ...    ...     ...               ...           ...   \n250516       No          Yes    Yes     Yes                No           Yes   \n161301    Type2          Yes    Yes     Yes                No           Yes   \n31718        No          Yes    Yes     Yes                No           Yes   \n152320       No           No    Yes     Yes                No           Yes   \n87111        No          Yes    Yes     Yes                No           Yes   \n\n       NoDocbcCost  GenHlth  MentHlth  PhysHlth DiffWalk     Sex   Age  \\\n177961          No      2.0       0.0       2.0       No    Male  10.0   \n105626          No      4.0       8.0      20.0      Yes  Female  10.0   \n136759          No      3.0       3.0       0.0      Yes    Male   5.0   \n181637          No      1.0       0.0       0.0       No    Male   6.0   \n245214          No      2.0       0.0       0.0      Yes    Male   8.0   \n...            ...      ...       ...       ...      ...     ...   ...   \n250516          No      2.0       0.0       3.0       No    Male   8.0   \n161301          No      2.0       2.0       2.0       No  Female   9.0   \n31718           No      2.0       0.0       1.0       No  Female   8.0   \n152320          No      1.0       2.0       0.0       No  Female   9.0   \n87111           No      3.0       0.0       0.0       No  Female   6.0   \n\n        Education  Income  \n177961        4.0     5.0  \n105626        4.0     2.0  \n136759        6.0     5.0  \n181637        6.0     8.0  \n245214        6.0     7.0  \n...           ...     ...  \n250516        6.0     7.0  \n161301        5.0     1.0  \n31718         6.0     7.0  \n152320        5.0     7.0  \n87111         5.0     6.0  \n\n[50736 rows x 22 columns]",
      "text/html": "<div>\n<style scoped>\n    .dataframe tbody tr th:only-of-type {\n        vertical-align: middle;\n    }\n\n    .dataframe tbody tr th {\n        vertical-align: top;\n    }\n\n    .dataframe thead th {\n        text-align: right;\n    }\n</style>\n<table border=\"1\" class=\"dataframe\">\n  <thead>\n    <tr style=\"text-align: right;\">\n      <th></th>\n      <th>HeartDiseaseorAttack</th>\n      <th>HighBP</th>\n      <th>HighChol</th>\n      <th>CholCheck</th>\n      <th>BMI</th>\n      <th>Smoker</th>\n      <th>Stroke</th>\n      <th>Diabetes</th>\n      <th>PhysActivity</th>\n      <th>Fruits</th>\n      <th>Veggies</th>\n      <th>HvyAlcoholConsump</th>\n      <th>AnyHealthcare</th>\n      <th>NoDocbcCost</th>\n      <th>GenHlth</th>\n      <th>MentHlth</th>\n      <th>PhysHlth</th>\n      <th>DiffWalk</th>\n      <th>Sex</th>\n      <th>Age</th>\n      <th>Education</th>\n      <th>Income</th>\n    </tr>\n  </thead>\n  <tbody>\n    <tr>\n      <th>177961</th>\n      <td>No</td>\n      <td>Yes</td>\n      <td>Yes</td>\n      <td>Yes</td>\n      <td>28.0</td>\n      <td>No</td>\n      <td>No</td>\n      <td>No</td>\n      <td>No</td>\n      <td>Yes</td>\n      <td>Yes</td>\n      <td>No</td>\n      <td>Yes</td>\n      <td>No</td>\n      <td>2.0</td>\n      <td>0.0</td>\n      <td>2.0</td>\n      <td>No</td>\n      <td>Male</td>\n      <td>10.0</td>\n      <td>4.0</td>\n      <td>5.0</td>\n    </tr>\n    <tr>\n      <th>105626</th>\n      <td>Yes</td>\n      <td>Yes</td>\n      <td>Yes</td>\n      <td>Yes</td>\n      <td>27.0</td>\n      <td>Yes</td>\n      <td>Yes</td>\n      <td>Type2</td>\n      <td>No</td>\n      <td>Yes</td>\n      <td>Yes</td>\n      <td>No</td>\n      <td>Yes</td>\n      <td>No</td>\n      <td>4.0</td>\n      <td>8.0</td>\n      <td>20.0</td>\n      <td>Yes</td>\n      <td>Female</td>\n      <td>10.0</td>\n      <td>4.0</td>\n      <td>2.0</td>\n    </tr>\n    <tr>\n      <th>136759</th>\n      <td>No</td>\n      <td>No</td>\n      <td>Yes</td>\n      <td>Yes</td>\n      <td>47.0</td>\n      <td>No</td>\n      <td>No</td>\n      <td>No</td>\n      <td>Yes</td>\n      <td>Yes</td>\n      <td>No</td>\n      <td>No</td>\n      <td>Yes</td>\n      <td>No</td>\n      <td>3.0</td>\n      <td>3.0</td>\n      <td>0.0</td>\n      <td>Yes</td>\n      <td>Male</td>\n      <td>5.0</td>\n      <td>6.0</td>\n      <td>5.0</td>\n    </tr>\n    <tr>\n      <th>181637</th>\n      <td>No</td>\n      <td>Yes</td>\n      <td>No</td>\n      <td>Yes</td>\n      <td>26.0</td>\n      <td>No</td>\n      <td>No</td>\n      <td>No</td>\n      <td>Yes</td>\n      <td>Yes</td>\n      <td>Yes</td>\n      <td>No</td>\n      <td>Yes</td>\n      <td>No</td>\n      <td>1.0</td>\n      <td>0.0</td>\n      <td>0.0</td>\n      <td>No</td>\n      <td>Male</td>\n      <td>6.0</td>\n      <td>6.0</td>\n      <td>8.0</td>\n    </tr>\n    <tr>\n      <th>245214</th>\n      <td>No</td>\n      <td>No</td>\n      <td>No</td>\n      <td>Yes</td>\n      <td>23.0</td>\n      <td>No</td>\n      <td>No</td>\n      <td>No</td>\n      <td>Yes</td>\n      <td>Yes</td>\n      <td>Yes</td>\n      <td>No</td>\n      <td>Yes</td>\n      <td>No</td>\n      <td>2.0</td>\n      <td>0.0</td>\n      <td>0.0</td>\n      <td>Yes</td>\n      <td>Male</td>\n      <td>8.0</td>\n      <td>6.0</td>\n      <td>7.0</td>\n    </tr>\n    <tr>\n      <th>...</th>\n      <td>...</td>\n      <td>...</td>\n      <td>...</td>\n      <td>...</td>\n      <td>...</td>\n      <td>...</td>\n      <td>...</td>\n      <td>...</td>\n      <td>...</td>\n      <td>...</td>\n      <td>...</td>\n      <td>...</td>\n      <td>...</td>\n      <td>...</td>\n      <td>...</td>\n      <td>...</td>\n      <td>...</td>\n      <td>...</td>\n      <td>...</td>\n      <td>...</td>\n      <td>...</td>\n      <td>...</td>\n    </tr>\n    <tr>\n      <th>250516</th>\n      <td>No</td>\n      <td>Yes</td>\n      <td>No</td>\n      <td>Yes</td>\n      <td>29.0</td>\n      <td>No</td>\n      <td>No</td>\n      <td>No</td>\n      <td>Yes</td>\n      <td>Yes</td>\n      <td>Yes</td>\n      <td>No</td>\n      <td>Yes</td>\n      <td>No</td>\n      <td>2.0</td>\n      <td>0.0</td>\n      <td>3.0</td>\n      <td>No</td>\n      <td>Male</td>\n      <td>8.0</td>\n      <td>6.0</td>\n      <td>7.0</td>\n    </tr>\n    <tr>\n      <th>161301</th>\n      <td>No</td>\n      <td>Yes</td>\n      <td>Yes</td>\n      <td>Yes</td>\n      <td>22.0</td>\n      <td>No</td>\n      <td>No</td>\n      <td>Type2</td>\n      <td>Yes</td>\n      <td>Yes</td>\n      <td>Yes</td>\n      <td>No</td>\n      <td>Yes</td>\n      <td>No</td>\n      <td>2.0</td>\n      <td>2.0</td>\n      <td>2.0</td>\n      <td>No</td>\n      <td>Female</td>\n      <td>9.0</td>\n      <td>5.0</td>\n      <td>1.0</td>\n    </tr>\n    <tr>\n      <th>31718</th>\n      <td>No</td>\n      <td>No</td>\n      <td>No</td>\n      <td>Yes</td>\n      <td>24.0</td>\n      <td>No</td>\n      <td>No</td>\n      <td>No</td>\n      <td>Yes</td>\n      <td>Yes</td>\n      <td>Yes</td>\n      <td>No</td>\n      <td>Yes</td>\n      <td>No</td>\n      <td>2.0</td>\n      <td>0.0</td>\n      <td>1.0</td>\n      <td>No</td>\n      <td>Female</td>\n      <td>8.0</td>\n      <td>6.0</td>\n      <td>7.0</td>\n    </tr>\n    <tr>\n      <th>152320</th>\n      <td>No</td>\n      <td>No</td>\n      <td>Yes</td>\n      <td>Yes</td>\n      <td>26.0</td>\n      <td>Yes</td>\n      <td>No</td>\n      <td>No</td>\n      <td>No</td>\n      <td>Yes</td>\n      <td>Yes</td>\n      <td>No</td>\n      <td>Yes</td>\n      <td>No</td>\n      <td>1.0</td>\n      <td>2.0</td>\n      <td>0.0</td>\n      <td>No</td>\n      <td>Female</td>\n      <td>9.0</td>\n      <td>5.0</td>\n      <td>7.0</td>\n    </tr>\n    <tr>\n      <th>87111</th>\n      <td>No</td>\n      <td>No</td>\n      <td>Yes</td>\n      <td>Yes</td>\n      <td>33.0</td>\n      <td>Yes</td>\n      <td>No</td>\n      <td>No</td>\n      <td>Yes</td>\n      <td>Yes</td>\n      <td>Yes</td>\n      <td>No</td>\n      <td>Yes</td>\n      <td>No</td>\n      <td>3.0</td>\n      <td>0.0</td>\n      <td>0.0</td>\n      <td>No</td>\n      <td>Female</td>\n      <td>6.0</td>\n      <td>5.0</td>\n      <td>6.0</td>\n    </tr>\n  </tbody>\n</table>\n<p>50736 rows × 22 columns</p>\n</div>"
     },
     "execution_count": 174,
     "metadata": {},
     "output_type": "execute_result"
    }
   ],
   "source": [
    "val_df"
   ],
   "metadata": {
    "collapsed": false,
    "ExecuteTime": {
     "end_time": "2023-09-14T03:55:05.389811200Z",
     "start_time": "2023-09-14T03:55:05.309895500Z"
    }
   }
  },
  {
   "cell_type": "code",
   "execution_count": 175,
   "outputs": [
    {
     "data": {
      "text/plain": "       HeartDiseaseorAttack HighBP HighChol CholCheck   BMI Smoker Stroke  \\\n219620                   No     No       No       Yes  21.0     No     No   \n132821                   No    Yes      Yes       Yes  28.0     No     No   \n151862                   No     No       No       Yes  24.0     No     No   \n139717                   No     No       No       Yes  27.0    Yes     No   \n239235                   No     No      Yes       Yes  31.0    Yes     No   \n...                     ...    ...      ...       ...   ...    ...    ...   \n169513                   No    Yes       No       Yes  29.0    Yes     No   \n182415                   No     No       No       Yes  25.0     No     No   \n109739                   No     No      Yes       Yes  28.0     No     No   \n181671                   No     No       No       Yes  24.0    Yes     No   \n202118                   No     No       No       Yes  23.0     No     No   \n\n       Diabetes PhysActivity Fruits Veggies HvyAlcoholConsump AnyHealthcare  \\\n219620       No           No    Yes     Yes                No           Yes   \n132821       No          Yes    Yes     Yes                No           Yes   \n151862       No          Yes    Yes     Yes                No           Yes   \n139717       No          Yes     No     Yes               Yes           Yes   \n239235       No           No    Yes     Yes                No           Yes   \n...         ...          ...    ...     ...               ...           ...   \n169513    Type2          Yes    Yes     Yes                No           Yes   \n182415       No          Yes    Yes     Yes                No           Yes   \n109739       No          Yes    Yes     Yes                No           Yes   \n181671       No           No     No     Yes                No           Yes   \n202118       No          Yes    Yes     Yes                No           Yes   \n\n       NoDocbcCost  GenHlth  MentHlth  PhysHlth DiffWalk     Sex   Age  \\\n219620          No      3.0       3.0       7.0       No  Female   7.0   \n132821          No      3.0       0.0       0.0       No  Female  13.0   \n151862          No      1.0       0.0       0.0       No    Male   1.0   \n139717          No      2.0       3.0       0.0       No    Male   2.0   \n239235         Yes      4.0      27.0      27.0      Yes  Female   8.0   \n...            ...      ...       ...       ...      ...     ...   ...   \n169513          No      3.0       0.0      10.0       No  Female   9.0   \n182415          No      2.0       1.0      10.0       No  Female  10.0   \n109739          No      3.0       3.0       0.0       No    Male   6.0   \n181671         Yes      4.0       0.0       0.0       No    Male  13.0   \n202118          No      2.0       0.0       0.0       No  Female   5.0   \n\n        Education  Income  \n219620        4.0     2.0  \n132821        6.0     6.0  \n151862        4.0     7.0  \n139717        4.0     7.0  \n239235        3.0     2.0  \n...           ...     ...  \n169513        6.0     7.0  \n182415        5.0     8.0  \n109739        6.0     8.0  \n181671        4.0     5.0  \n202118        6.0     8.0  \n\n[50736 rows x 22 columns]",
      "text/html": "<div>\n<style scoped>\n    .dataframe tbody tr th:only-of-type {\n        vertical-align: middle;\n    }\n\n    .dataframe tbody tr th {\n        vertical-align: top;\n    }\n\n    .dataframe thead th {\n        text-align: right;\n    }\n</style>\n<table border=\"1\" class=\"dataframe\">\n  <thead>\n    <tr style=\"text-align: right;\">\n      <th></th>\n      <th>HeartDiseaseorAttack</th>\n      <th>HighBP</th>\n      <th>HighChol</th>\n      <th>CholCheck</th>\n      <th>BMI</th>\n      <th>Smoker</th>\n      <th>Stroke</th>\n      <th>Diabetes</th>\n      <th>PhysActivity</th>\n      <th>Fruits</th>\n      <th>Veggies</th>\n      <th>HvyAlcoholConsump</th>\n      <th>AnyHealthcare</th>\n      <th>NoDocbcCost</th>\n      <th>GenHlth</th>\n      <th>MentHlth</th>\n      <th>PhysHlth</th>\n      <th>DiffWalk</th>\n      <th>Sex</th>\n      <th>Age</th>\n      <th>Education</th>\n      <th>Income</th>\n    </tr>\n  </thead>\n  <tbody>\n    <tr>\n      <th>219620</th>\n      <td>No</td>\n      <td>No</td>\n      <td>No</td>\n      <td>Yes</td>\n      <td>21.0</td>\n      <td>No</td>\n      <td>No</td>\n      <td>No</td>\n      <td>No</td>\n      <td>Yes</td>\n      <td>Yes</td>\n      <td>No</td>\n      <td>Yes</td>\n      <td>No</td>\n      <td>3.0</td>\n      <td>3.0</td>\n      <td>7.0</td>\n      <td>No</td>\n      <td>Female</td>\n      <td>7.0</td>\n      <td>4.0</td>\n      <td>2.0</td>\n    </tr>\n    <tr>\n      <th>132821</th>\n      <td>No</td>\n      <td>Yes</td>\n      <td>Yes</td>\n      <td>Yes</td>\n      <td>28.0</td>\n      <td>No</td>\n      <td>No</td>\n      <td>No</td>\n      <td>Yes</td>\n      <td>Yes</td>\n      <td>Yes</td>\n      <td>No</td>\n      <td>Yes</td>\n      <td>No</td>\n      <td>3.0</td>\n      <td>0.0</td>\n      <td>0.0</td>\n      <td>No</td>\n      <td>Female</td>\n      <td>13.0</td>\n      <td>6.0</td>\n      <td>6.0</td>\n    </tr>\n    <tr>\n      <th>151862</th>\n      <td>No</td>\n      <td>No</td>\n      <td>No</td>\n      <td>Yes</td>\n      <td>24.0</td>\n      <td>No</td>\n      <td>No</td>\n      <td>No</td>\n      <td>Yes</td>\n      <td>Yes</td>\n      <td>Yes</td>\n      <td>No</td>\n      <td>Yes</td>\n      <td>No</td>\n      <td>1.0</td>\n      <td>0.0</td>\n      <td>0.0</td>\n      <td>No</td>\n      <td>Male</td>\n      <td>1.0</td>\n      <td>4.0</td>\n      <td>7.0</td>\n    </tr>\n    <tr>\n      <th>139717</th>\n      <td>No</td>\n      <td>No</td>\n      <td>No</td>\n      <td>Yes</td>\n      <td>27.0</td>\n      <td>Yes</td>\n      <td>No</td>\n      <td>No</td>\n      <td>Yes</td>\n      <td>No</td>\n      <td>Yes</td>\n      <td>Yes</td>\n      <td>Yes</td>\n      <td>No</td>\n      <td>2.0</td>\n      <td>3.0</td>\n      <td>0.0</td>\n      <td>No</td>\n      <td>Male</td>\n      <td>2.0</td>\n      <td>4.0</td>\n      <td>7.0</td>\n    </tr>\n    <tr>\n      <th>239235</th>\n      <td>No</td>\n      <td>No</td>\n      <td>Yes</td>\n      <td>Yes</td>\n      <td>31.0</td>\n      <td>Yes</td>\n      <td>No</td>\n      <td>No</td>\n      <td>No</td>\n      <td>Yes</td>\n      <td>Yes</td>\n      <td>No</td>\n      <td>Yes</td>\n      <td>Yes</td>\n      <td>4.0</td>\n      <td>27.0</td>\n      <td>27.0</td>\n      <td>Yes</td>\n      <td>Female</td>\n      <td>8.0</td>\n      <td>3.0</td>\n      <td>2.0</td>\n    </tr>\n    <tr>\n      <th>...</th>\n      <td>...</td>\n      <td>...</td>\n      <td>...</td>\n      <td>...</td>\n      <td>...</td>\n      <td>...</td>\n      <td>...</td>\n      <td>...</td>\n      <td>...</td>\n      <td>...</td>\n      <td>...</td>\n      <td>...</td>\n      <td>...</td>\n      <td>...</td>\n      <td>...</td>\n      <td>...</td>\n      <td>...</td>\n      <td>...</td>\n      <td>...</td>\n      <td>...</td>\n      <td>...</td>\n      <td>...</td>\n    </tr>\n    <tr>\n      <th>169513</th>\n      <td>No</td>\n      <td>Yes</td>\n      <td>No</td>\n      <td>Yes</td>\n      <td>29.0</td>\n      <td>Yes</td>\n      <td>No</td>\n      <td>Type2</td>\n      <td>Yes</td>\n      <td>Yes</td>\n      <td>Yes</td>\n      <td>No</td>\n      <td>Yes</td>\n      <td>No</td>\n      <td>3.0</td>\n      <td>0.0</td>\n      <td>10.0</td>\n      <td>No</td>\n      <td>Female</td>\n      <td>9.0</td>\n      <td>6.0</td>\n      <td>7.0</td>\n    </tr>\n    <tr>\n      <th>182415</th>\n      <td>No</td>\n      <td>No</td>\n      <td>No</td>\n      <td>Yes</td>\n      <td>25.0</td>\n      <td>No</td>\n      <td>No</td>\n      <td>No</td>\n      <td>Yes</td>\n      <td>Yes</td>\n      <td>Yes</td>\n      <td>No</td>\n      <td>Yes</td>\n      <td>No</td>\n      <td>2.0</td>\n      <td>1.0</td>\n      <td>10.0</td>\n      <td>No</td>\n      <td>Female</td>\n      <td>10.0</td>\n      <td>5.0</td>\n      <td>8.0</td>\n    </tr>\n    <tr>\n      <th>109739</th>\n      <td>No</td>\n      <td>No</td>\n      <td>Yes</td>\n      <td>Yes</td>\n      <td>28.0</td>\n      <td>No</td>\n      <td>No</td>\n      <td>No</td>\n      <td>Yes</td>\n      <td>Yes</td>\n      <td>Yes</td>\n      <td>No</td>\n      <td>Yes</td>\n      <td>No</td>\n      <td>3.0</td>\n      <td>3.0</td>\n      <td>0.0</td>\n      <td>No</td>\n      <td>Male</td>\n      <td>6.0</td>\n      <td>6.0</td>\n      <td>8.0</td>\n    </tr>\n    <tr>\n      <th>181671</th>\n      <td>No</td>\n      <td>No</td>\n      <td>No</td>\n      <td>Yes</td>\n      <td>24.0</td>\n      <td>Yes</td>\n      <td>No</td>\n      <td>No</td>\n      <td>No</td>\n      <td>No</td>\n      <td>Yes</td>\n      <td>No</td>\n      <td>Yes</td>\n      <td>Yes</td>\n      <td>4.0</td>\n      <td>0.0</td>\n      <td>0.0</td>\n      <td>No</td>\n      <td>Male</td>\n      <td>13.0</td>\n      <td>4.0</td>\n      <td>5.0</td>\n    </tr>\n    <tr>\n      <th>202118</th>\n      <td>No</td>\n      <td>No</td>\n      <td>No</td>\n      <td>Yes</td>\n      <td>23.0</td>\n      <td>No</td>\n      <td>No</td>\n      <td>No</td>\n      <td>Yes</td>\n      <td>Yes</td>\n      <td>Yes</td>\n      <td>No</td>\n      <td>Yes</td>\n      <td>No</td>\n      <td>2.0</td>\n      <td>0.0</td>\n      <td>0.0</td>\n      <td>No</td>\n      <td>Female</td>\n      <td>5.0</td>\n      <td>6.0</td>\n      <td>8.0</td>\n    </tr>\n  </tbody>\n</table>\n<p>50736 rows × 22 columns</p>\n</div>"
     },
     "execution_count": 175,
     "metadata": {},
     "output_type": "execute_result"
    }
   ],
   "source": [
    "test_df"
   ],
   "metadata": {
    "collapsed": false,
    "ExecuteTime": {
     "end_time": "2023-09-14T03:55:05.450854600Z",
     "start_time": "2023-09-14T03:55:05.343025Z"
    }
   }
  },
  {
   "cell_type": "markdown",
   "source": [
    "### Identifying Features and Targets"
   ],
   "metadata": {
    "collapsed": false
   }
  },
  {
   "cell_type": "code",
   "execution_count": 176,
   "outputs": [
    {
     "name": "stdout",
     "output_type": "stream",
     "text": [
      "['HighBP', 'HighChol', 'CholCheck', 'BMI', 'Smoker', 'Stroke', 'Diabetes', 'PhysActivity', 'Fruits', 'Veggies', 'HvyAlcoholConsump', 'AnyHealthcare', 'NoDocbcCost', 'GenHlth', 'MentHlth', 'PhysHlth', 'DiffWalk', 'Sex', 'Age', 'Education', 'Income']\n"
     ]
    },
    {
     "data": {
      "text/plain": "'HeartDiseaseorAttack'"
     },
     "execution_count": 176,
     "metadata": {},
     "output_type": "execute_result"
    }
   ],
   "source": [
    "input_cols = list(train_df.columns)[1:]\n",
    "target_col = 'HeartDiseaseorAttack'\n",
    "print(input_cols)\n",
    "target_col"
   ],
   "metadata": {
    "collapsed": false,
    "ExecuteTime": {
     "end_time": "2023-09-14T03:55:05.453855300Z",
     "start_time": "2023-09-14T03:55:05.364996400Z"
    }
   }
  },
  {
   "cell_type": "markdown",
   "source": [
    "### Copying Inputs and Targets for Further Processing"
   ],
   "metadata": {
    "collapsed": false
   }
  },
  {
   "cell_type": "code",
   "execution_count": 177,
   "outputs": [
    {
     "data": {
      "text/plain": "       HighBP HighChol CholCheck   BMI Smoker Stroke Diabetes PhysActivity  \\\n132776     No       No       Yes  25.0    Yes     No    Type2          Yes   \n60629      No       No       Yes  25.0     No     No       No          Yes   \n163859     No       No       Yes  28.0    Yes     No       No          Yes   \n179387     No       No       Yes  31.0     No     No       No          Yes   \n6258       No       No       Yes  21.0     No     No       No          Yes   \n...       ...      ...       ...   ...    ...    ...      ...          ...   \n153576     No      Yes       Yes  24.0     No     No       No           No   \n187540     No       No       Yes  27.0     No     No       No           No   \n158320     No       No       Yes  23.0    Yes     No       No          Yes   \n185003    Yes       No       Yes  32.0    Yes     No       No          Yes   \n72397     Yes      Yes       Yes  23.0    Yes     No       No          Yes   \n\n       Fruits Veggies HvyAlcoholConsump AnyHealthcare NoDocbcCost  GenHlth  \\\n132776    Yes     Yes                No           Yes          No      2.0   \n60629     Yes     Yes                No           Yes          No      2.0   \n163859    Yes     Yes               Yes           Yes          No      2.0   \n179387    Yes     Yes                No           Yes          No      2.0   \n6258      Yes     Yes               Yes           Yes         Yes      2.0   \n...       ...     ...               ...           ...         ...      ...   \n153576    Yes     Yes                No           Yes          No      2.0   \n187540    Yes      No                No            No          No      3.0   \n158320    Yes     Yes                No           Yes          No      2.0   \n185003    Yes     Yes                No           Yes          No      3.0   \n72397     Yes     Yes                No           Yes          No      2.0   \n\n        MentHlth  PhysHlth DiffWalk     Sex   Age  Education  Income  \n132776       0.0       1.0       No  Female   8.0        5.0     8.0  \n60629        0.0       0.0       No  Female   9.0        6.0     7.0  \n163859       0.0       0.0       No  Female   7.0        6.0     8.0  \n179387       0.0       0.0       No    Male   8.0        6.0     8.0  \n6258         0.0       2.0       No  Female   2.0        4.0     6.0  \n...          ...       ...      ...     ...   ...        ...     ...  \n153576       0.0       2.0       No  Female   4.0        6.0     8.0  \n187540       0.0       0.0       No  Female   2.0        4.0     6.0  \n158320       0.0       0.0       No    Male   6.0        6.0     8.0  \n185003       0.0       0.0      Yes    Male   9.0        6.0     8.0  \n72397       30.0       0.0       No  Female  11.0        6.0     8.0  \n\n[152208 rows x 21 columns]",
      "text/html": "<div>\n<style scoped>\n    .dataframe tbody tr th:only-of-type {\n        vertical-align: middle;\n    }\n\n    .dataframe tbody tr th {\n        vertical-align: top;\n    }\n\n    .dataframe thead th {\n        text-align: right;\n    }\n</style>\n<table border=\"1\" class=\"dataframe\">\n  <thead>\n    <tr style=\"text-align: right;\">\n      <th></th>\n      <th>HighBP</th>\n      <th>HighChol</th>\n      <th>CholCheck</th>\n      <th>BMI</th>\n      <th>Smoker</th>\n      <th>Stroke</th>\n      <th>Diabetes</th>\n      <th>PhysActivity</th>\n      <th>Fruits</th>\n      <th>Veggies</th>\n      <th>HvyAlcoholConsump</th>\n      <th>AnyHealthcare</th>\n      <th>NoDocbcCost</th>\n      <th>GenHlth</th>\n      <th>MentHlth</th>\n      <th>PhysHlth</th>\n      <th>DiffWalk</th>\n      <th>Sex</th>\n      <th>Age</th>\n      <th>Education</th>\n      <th>Income</th>\n    </tr>\n  </thead>\n  <tbody>\n    <tr>\n      <th>132776</th>\n      <td>No</td>\n      <td>No</td>\n      <td>Yes</td>\n      <td>25.0</td>\n      <td>Yes</td>\n      <td>No</td>\n      <td>Type2</td>\n      <td>Yes</td>\n      <td>Yes</td>\n      <td>Yes</td>\n      <td>No</td>\n      <td>Yes</td>\n      <td>No</td>\n      <td>2.0</td>\n      <td>0.0</td>\n      <td>1.0</td>\n      <td>No</td>\n      <td>Female</td>\n      <td>8.0</td>\n      <td>5.0</td>\n      <td>8.0</td>\n    </tr>\n    <tr>\n      <th>60629</th>\n      <td>No</td>\n      <td>No</td>\n      <td>Yes</td>\n      <td>25.0</td>\n      <td>No</td>\n      <td>No</td>\n      <td>No</td>\n      <td>Yes</td>\n      <td>Yes</td>\n      <td>Yes</td>\n      <td>No</td>\n      <td>Yes</td>\n      <td>No</td>\n      <td>2.0</td>\n      <td>0.0</td>\n      <td>0.0</td>\n      <td>No</td>\n      <td>Female</td>\n      <td>9.0</td>\n      <td>6.0</td>\n      <td>7.0</td>\n    </tr>\n    <tr>\n      <th>163859</th>\n      <td>No</td>\n      <td>No</td>\n      <td>Yes</td>\n      <td>28.0</td>\n      <td>Yes</td>\n      <td>No</td>\n      <td>No</td>\n      <td>Yes</td>\n      <td>Yes</td>\n      <td>Yes</td>\n      <td>Yes</td>\n      <td>Yes</td>\n      <td>No</td>\n      <td>2.0</td>\n      <td>0.0</td>\n      <td>0.0</td>\n      <td>No</td>\n      <td>Female</td>\n      <td>7.0</td>\n      <td>6.0</td>\n      <td>8.0</td>\n    </tr>\n    <tr>\n      <th>179387</th>\n      <td>No</td>\n      <td>No</td>\n      <td>Yes</td>\n      <td>31.0</td>\n      <td>No</td>\n      <td>No</td>\n      <td>No</td>\n      <td>Yes</td>\n      <td>Yes</td>\n      <td>Yes</td>\n      <td>No</td>\n      <td>Yes</td>\n      <td>No</td>\n      <td>2.0</td>\n      <td>0.0</td>\n      <td>0.0</td>\n      <td>No</td>\n      <td>Male</td>\n      <td>8.0</td>\n      <td>6.0</td>\n      <td>8.0</td>\n    </tr>\n    <tr>\n      <th>6258</th>\n      <td>No</td>\n      <td>No</td>\n      <td>Yes</td>\n      <td>21.0</td>\n      <td>No</td>\n      <td>No</td>\n      <td>No</td>\n      <td>Yes</td>\n      <td>Yes</td>\n      <td>Yes</td>\n      <td>Yes</td>\n      <td>Yes</td>\n      <td>Yes</td>\n      <td>2.0</td>\n      <td>0.0</td>\n      <td>2.0</td>\n      <td>No</td>\n      <td>Female</td>\n      <td>2.0</td>\n      <td>4.0</td>\n      <td>6.0</td>\n    </tr>\n    <tr>\n      <th>...</th>\n      <td>...</td>\n      <td>...</td>\n      <td>...</td>\n      <td>...</td>\n      <td>...</td>\n      <td>...</td>\n      <td>...</td>\n      <td>...</td>\n      <td>...</td>\n      <td>...</td>\n      <td>...</td>\n      <td>...</td>\n      <td>...</td>\n      <td>...</td>\n      <td>...</td>\n      <td>...</td>\n      <td>...</td>\n      <td>...</td>\n      <td>...</td>\n      <td>...</td>\n      <td>...</td>\n    </tr>\n    <tr>\n      <th>153576</th>\n      <td>No</td>\n      <td>Yes</td>\n      <td>Yes</td>\n      <td>24.0</td>\n      <td>No</td>\n      <td>No</td>\n      <td>No</td>\n      <td>No</td>\n      <td>Yes</td>\n      <td>Yes</td>\n      <td>No</td>\n      <td>Yes</td>\n      <td>No</td>\n      <td>2.0</td>\n      <td>0.0</td>\n      <td>2.0</td>\n      <td>No</td>\n      <td>Female</td>\n      <td>4.0</td>\n      <td>6.0</td>\n      <td>8.0</td>\n    </tr>\n    <tr>\n      <th>187540</th>\n      <td>No</td>\n      <td>No</td>\n      <td>Yes</td>\n      <td>27.0</td>\n      <td>No</td>\n      <td>No</td>\n      <td>No</td>\n      <td>No</td>\n      <td>Yes</td>\n      <td>No</td>\n      <td>No</td>\n      <td>No</td>\n      <td>No</td>\n      <td>3.0</td>\n      <td>0.0</td>\n      <td>0.0</td>\n      <td>No</td>\n      <td>Female</td>\n      <td>2.0</td>\n      <td>4.0</td>\n      <td>6.0</td>\n    </tr>\n    <tr>\n      <th>158320</th>\n      <td>No</td>\n      <td>No</td>\n      <td>Yes</td>\n      <td>23.0</td>\n      <td>Yes</td>\n      <td>No</td>\n      <td>No</td>\n      <td>Yes</td>\n      <td>Yes</td>\n      <td>Yes</td>\n      <td>No</td>\n      <td>Yes</td>\n      <td>No</td>\n      <td>2.0</td>\n      <td>0.0</td>\n      <td>0.0</td>\n      <td>No</td>\n      <td>Male</td>\n      <td>6.0</td>\n      <td>6.0</td>\n      <td>8.0</td>\n    </tr>\n    <tr>\n      <th>185003</th>\n      <td>Yes</td>\n      <td>No</td>\n      <td>Yes</td>\n      <td>32.0</td>\n      <td>Yes</td>\n      <td>No</td>\n      <td>No</td>\n      <td>Yes</td>\n      <td>Yes</td>\n      <td>Yes</td>\n      <td>No</td>\n      <td>Yes</td>\n      <td>No</td>\n      <td>3.0</td>\n      <td>0.0</td>\n      <td>0.0</td>\n      <td>Yes</td>\n      <td>Male</td>\n      <td>9.0</td>\n      <td>6.0</td>\n      <td>8.0</td>\n    </tr>\n    <tr>\n      <th>72397</th>\n      <td>Yes</td>\n      <td>Yes</td>\n      <td>Yes</td>\n      <td>23.0</td>\n      <td>Yes</td>\n      <td>No</td>\n      <td>No</td>\n      <td>Yes</td>\n      <td>Yes</td>\n      <td>Yes</td>\n      <td>No</td>\n      <td>Yes</td>\n      <td>No</td>\n      <td>2.0</td>\n      <td>30.0</td>\n      <td>0.0</td>\n      <td>No</td>\n      <td>Female</td>\n      <td>11.0</td>\n      <td>6.0</td>\n      <td>8.0</td>\n    </tr>\n  </tbody>\n</table>\n<p>152208 rows × 21 columns</p>\n</div>"
     },
     "execution_count": 177,
     "metadata": {},
     "output_type": "execute_result"
    }
   ],
   "source": [
    "train_inputs = train_df[input_cols].copy()\n",
    "train_targets = train_df[target_col].copy()\n",
    "val_inputs = val_df[input_cols].copy()\n",
    "val_targets = val_df[target_col].copy()\n",
    "test_inputs = test_df[input_cols].copy()\n",
    "test_targets = test_df[target_col].copy()\n",
    "train_inputs"
   ],
   "metadata": {
    "collapsed": false,
    "ExecuteTime": {
     "end_time": "2023-09-14T03:55:05.532161800Z",
     "start_time": "2023-09-14T03:55:05.370685100Z"
    }
   }
  },
  {
   "cell_type": "code",
   "execution_count": 178,
   "outputs": [
    {
     "data": {
      "text/plain": "                 BMI        GenHlth       MentHlth       PhysHlth  \\\ncount  152208.000000  152208.000000  152208.000000  152208.000000   \nmean       28.379566       2.511471       3.192598       4.238266   \nstd         6.614460       1.067363       7.421910       8.703617   \nmin        12.000000       1.000000       0.000000       0.000000   \n25%        24.000000       2.000000       0.000000       0.000000   \n50%        27.000000       2.000000       0.000000       0.000000   \n75%        31.000000       3.000000       2.000000       3.000000   \nmax        98.000000       5.000000      30.000000      30.000000   \n\n                 Age      Education         Income  \ncount  152208.000000  152208.000000  152208.000000  \nmean        8.030688       5.050891       6.058847  \nstd         3.052620       0.987088       2.069661  \nmin         1.000000       1.000000       1.000000  \n25%         6.000000       4.000000       5.000000  \n50%         8.000000       5.000000       7.000000  \n75%        10.000000       6.000000       8.000000  \nmax        13.000000       6.000000       8.000000  ",
      "text/html": "<div>\n<style scoped>\n    .dataframe tbody tr th:only-of-type {\n        vertical-align: middle;\n    }\n\n    .dataframe tbody tr th {\n        vertical-align: top;\n    }\n\n    .dataframe thead th {\n        text-align: right;\n    }\n</style>\n<table border=\"1\" class=\"dataframe\">\n  <thead>\n    <tr style=\"text-align: right;\">\n      <th></th>\n      <th>BMI</th>\n      <th>GenHlth</th>\n      <th>MentHlth</th>\n      <th>PhysHlth</th>\n      <th>Age</th>\n      <th>Education</th>\n      <th>Income</th>\n    </tr>\n  </thead>\n  <tbody>\n    <tr>\n      <th>count</th>\n      <td>152208.000000</td>\n      <td>152208.000000</td>\n      <td>152208.000000</td>\n      <td>152208.000000</td>\n      <td>152208.000000</td>\n      <td>152208.000000</td>\n      <td>152208.000000</td>\n    </tr>\n    <tr>\n      <th>mean</th>\n      <td>28.379566</td>\n      <td>2.511471</td>\n      <td>3.192598</td>\n      <td>4.238266</td>\n      <td>8.030688</td>\n      <td>5.050891</td>\n      <td>6.058847</td>\n    </tr>\n    <tr>\n      <th>std</th>\n      <td>6.614460</td>\n      <td>1.067363</td>\n      <td>7.421910</td>\n      <td>8.703617</td>\n      <td>3.052620</td>\n      <td>0.987088</td>\n      <td>2.069661</td>\n    </tr>\n    <tr>\n      <th>min</th>\n      <td>12.000000</td>\n      <td>1.000000</td>\n      <td>0.000000</td>\n      <td>0.000000</td>\n      <td>1.000000</td>\n      <td>1.000000</td>\n      <td>1.000000</td>\n    </tr>\n    <tr>\n      <th>25%</th>\n      <td>24.000000</td>\n      <td>2.000000</td>\n      <td>0.000000</td>\n      <td>0.000000</td>\n      <td>6.000000</td>\n      <td>4.000000</td>\n      <td>5.000000</td>\n    </tr>\n    <tr>\n      <th>50%</th>\n      <td>27.000000</td>\n      <td>2.000000</td>\n      <td>0.000000</td>\n      <td>0.000000</td>\n      <td>8.000000</td>\n      <td>5.000000</td>\n      <td>7.000000</td>\n    </tr>\n    <tr>\n      <th>75%</th>\n      <td>31.000000</td>\n      <td>3.000000</td>\n      <td>2.000000</td>\n      <td>3.000000</td>\n      <td>10.000000</td>\n      <td>6.000000</td>\n      <td>8.000000</td>\n    </tr>\n    <tr>\n      <th>max</th>\n      <td>98.000000</td>\n      <td>5.000000</td>\n      <td>30.000000</td>\n      <td>30.000000</td>\n      <td>13.000000</td>\n      <td>6.000000</td>\n      <td>8.000000</td>\n    </tr>\n  </tbody>\n</table>\n</div>"
     },
     "execution_count": 178,
     "metadata": {},
     "output_type": "execute_result"
    }
   ],
   "source": [
    "numeric_cols = train_inputs.select_dtypes(include=np.number).columns.tolist()\n",
    "categorical_cols = train_inputs.select_dtypes('object').columns.tolist()\n",
    "train_inputs[numeric_cols].describe()"
   ],
   "metadata": {
    "collapsed": false,
    "ExecuteTime": {
     "end_time": "2023-09-14T03:55:05.728780300Z",
     "start_time": "2023-09-14T03:55:05.475316100Z"
    }
   }
  },
  {
   "cell_type": "markdown",
   "source": [
    "### Checking if Feature Scaling is Necessary"
   ],
   "metadata": {
    "collapsed": false
   }
  },
  {
   "cell_type": "code",
   "execution_count": 179,
   "outputs": [
    {
     "data": {
      "text/plain": "                 BMI        GenHlth       MentHlth       PhysHlth  \\\ncount  253680.000000  253680.000000  253680.000000  253680.000000   \nmean       28.382364       2.511392       3.184772       4.242081   \nstd         6.608694       1.068477       7.412847       8.717951   \nmin        12.000000       1.000000       0.000000       0.000000   \n25%        24.000000       2.000000       0.000000       0.000000   \n50%        27.000000       2.000000       0.000000       0.000000   \n75%        31.000000       3.000000       2.000000       3.000000   \nmax        98.000000       5.000000      30.000000      30.000000   \n\n                 Age      Education         Income  \ncount  253680.000000  253680.000000  253680.000000  \nmean        8.032119       5.050434       6.053875  \nstd         3.054220       0.985774       2.071148  \nmin         1.000000       1.000000       1.000000  \n25%         6.000000       4.000000       5.000000  \n50%         8.000000       5.000000       7.000000  \n75%        10.000000       6.000000       8.000000  \nmax        13.000000       6.000000       8.000000  ",
      "text/html": "<div>\n<style scoped>\n    .dataframe tbody tr th:only-of-type {\n        vertical-align: middle;\n    }\n\n    .dataframe tbody tr th {\n        vertical-align: top;\n    }\n\n    .dataframe thead th {\n        text-align: right;\n    }\n</style>\n<table border=\"1\" class=\"dataframe\">\n  <thead>\n    <tr style=\"text-align: right;\">\n      <th></th>\n      <th>BMI</th>\n      <th>GenHlth</th>\n      <th>MentHlth</th>\n      <th>PhysHlth</th>\n      <th>Age</th>\n      <th>Education</th>\n      <th>Income</th>\n    </tr>\n  </thead>\n  <tbody>\n    <tr>\n      <th>count</th>\n      <td>253680.000000</td>\n      <td>253680.000000</td>\n      <td>253680.000000</td>\n      <td>253680.000000</td>\n      <td>253680.000000</td>\n      <td>253680.000000</td>\n      <td>253680.000000</td>\n    </tr>\n    <tr>\n      <th>mean</th>\n      <td>28.382364</td>\n      <td>2.511392</td>\n      <td>3.184772</td>\n      <td>4.242081</td>\n      <td>8.032119</td>\n      <td>5.050434</td>\n      <td>6.053875</td>\n    </tr>\n    <tr>\n      <th>std</th>\n      <td>6.608694</td>\n      <td>1.068477</td>\n      <td>7.412847</td>\n      <td>8.717951</td>\n      <td>3.054220</td>\n      <td>0.985774</td>\n      <td>2.071148</td>\n    </tr>\n    <tr>\n      <th>min</th>\n      <td>12.000000</td>\n      <td>1.000000</td>\n      <td>0.000000</td>\n      <td>0.000000</td>\n      <td>1.000000</td>\n      <td>1.000000</td>\n      <td>1.000000</td>\n    </tr>\n    <tr>\n      <th>25%</th>\n      <td>24.000000</td>\n      <td>2.000000</td>\n      <td>0.000000</td>\n      <td>0.000000</td>\n      <td>6.000000</td>\n      <td>4.000000</td>\n      <td>5.000000</td>\n    </tr>\n    <tr>\n      <th>50%</th>\n      <td>27.000000</td>\n      <td>2.000000</td>\n      <td>0.000000</td>\n      <td>0.000000</td>\n      <td>8.000000</td>\n      <td>5.000000</td>\n      <td>7.000000</td>\n    </tr>\n    <tr>\n      <th>75%</th>\n      <td>31.000000</td>\n      <td>3.000000</td>\n      <td>2.000000</td>\n      <td>3.000000</td>\n      <td>10.000000</td>\n      <td>6.000000</td>\n      <td>8.000000</td>\n    </tr>\n    <tr>\n      <th>max</th>\n      <td>98.000000</td>\n      <td>5.000000</td>\n      <td>30.000000</td>\n      <td>30.000000</td>\n      <td>13.000000</td>\n      <td>6.000000</td>\n      <td>8.000000</td>\n    </tr>\n  </tbody>\n</table>\n</div>"
     },
     "execution_count": 179,
     "metadata": {},
     "output_type": "execute_result"
    }
   ],
   "source": [
    "raw_df[numeric_cols].describe()"
   ],
   "metadata": {
    "collapsed": false,
    "ExecuteTime": {
     "end_time": "2023-09-14T03:55:05.845959200Z",
     "start_time": "2023-09-14T03:55:05.578201400Z"
    }
   }
  },
  {
   "cell_type": "markdown",
   "source": [
    "Scaling numeric features to smaller ranges"
   ],
   "metadata": {
    "collapsed": false
   }
  },
  {
   "cell_type": "code",
   "execution_count": 180,
   "outputs": [],
   "source": [
    "scaler = MinMaxScaler()"
   ],
   "metadata": {
    "collapsed": false,
    "ExecuteTime": {
     "end_time": "2023-09-14T03:55:05.845959200Z",
     "start_time": "2023-09-14T03:55:05.700679700Z"
    }
   }
  },
  {
   "cell_type": "code",
   "execution_count": 181,
   "outputs": [
    {
     "data": {
      "text/plain": "MinMaxScaler()",
      "text/html": "<style>#sk-container-id-8 {color: black;}#sk-container-id-8 pre{padding: 0;}#sk-container-id-8 div.sk-toggleable {background-color: white;}#sk-container-id-8 label.sk-toggleable__label {cursor: pointer;display: block;width: 100%;margin-bottom: 0;padding: 0.3em;box-sizing: border-box;text-align: center;}#sk-container-id-8 label.sk-toggleable__label-arrow:before {content: \"▸\";float: left;margin-right: 0.25em;color: #696969;}#sk-container-id-8 label.sk-toggleable__label-arrow:hover:before {color: black;}#sk-container-id-8 div.sk-estimator:hover label.sk-toggleable__label-arrow:before {color: black;}#sk-container-id-8 div.sk-toggleable__content {max-height: 0;max-width: 0;overflow: hidden;text-align: left;background-color: #f0f8ff;}#sk-container-id-8 div.sk-toggleable__content pre {margin: 0.2em;color: black;border-radius: 0.25em;background-color: #f0f8ff;}#sk-container-id-8 input.sk-toggleable__control:checked~div.sk-toggleable__content {max-height: 200px;max-width: 100%;overflow: auto;}#sk-container-id-8 input.sk-toggleable__control:checked~label.sk-toggleable__label-arrow:before {content: \"▾\";}#sk-container-id-8 div.sk-estimator input.sk-toggleable__control:checked~label.sk-toggleable__label {background-color: #d4ebff;}#sk-container-id-8 div.sk-label input.sk-toggleable__control:checked~label.sk-toggleable__label {background-color: #d4ebff;}#sk-container-id-8 input.sk-hidden--visually {border: 0;clip: rect(1px 1px 1px 1px);clip: rect(1px, 1px, 1px, 1px);height: 1px;margin: -1px;overflow: hidden;padding: 0;position: absolute;width: 1px;}#sk-container-id-8 div.sk-estimator {font-family: monospace;background-color: #f0f8ff;border: 1px dotted black;border-radius: 0.25em;box-sizing: border-box;margin-bottom: 0.5em;}#sk-container-id-8 div.sk-estimator:hover {background-color: #d4ebff;}#sk-container-id-8 div.sk-parallel-item::after {content: \"\";width: 100%;border-bottom: 1px solid gray;flex-grow: 1;}#sk-container-id-8 div.sk-label:hover label.sk-toggleable__label {background-color: #d4ebff;}#sk-container-id-8 div.sk-serial::before {content: \"\";position: absolute;border-left: 1px solid gray;box-sizing: border-box;top: 0;bottom: 0;left: 50%;z-index: 0;}#sk-container-id-8 div.sk-serial {display: flex;flex-direction: column;align-items: center;background-color: white;padding-right: 0.2em;padding-left: 0.2em;position: relative;}#sk-container-id-8 div.sk-item {position: relative;z-index: 1;}#sk-container-id-8 div.sk-parallel {display: flex;align-items: stretch;justify-content: center;background-color: white;position: relative;}#sk-container-id-8 div.sk-item::before, #sk-container-id-8 div.sk-parallel-item::before {content: \"\";position: absolute;border-left: 1px solid gray;box-sizing: border-box;top: 0;bottom: 0;left: 50%;z-index: -1;}#sk-container-id-8 div.sk-parallel-item {display: flex;flex-direction: column;z-index: 1;position: relative;background-color: white;}#sk-container-id-8 div.sk-parallel-item:first-child::after {align-self: flex-end;width: 50%;}#sk-container-id-8 div.sk-parallel-item:last-child::after {align-self: flex-start;width: 50%;}#sk-container-id-8 div.sk-parallel-item:only-child::after {width: 0;}#sk-container-id-8 div.sk-dashed-wrapped {border: 1px dashed gray;margin: 0 0.4em 0.5em 0.4em;box-sizing: border-box;padding-bottom: 0.4em;background-color: white;}#sk-container-id-8 div.sk-label label {font-family: monospace;font-weight: bold;display: inline-block;line-height: 1.2em;}#sk-container-id-8 div.sk-label-container {text-align: center;}#sk-container-id-8 div.sk-container {/* jupyter's `normalize.less` sets `[hidden] { display: none; }` but bootstrap.min.css set `[hidden] { display: none !important; }` so we also need the `!important` here to be able to override the default hidden behavior on the sphinx rendered scikit-learn.org. See: https://github.com/scikit-learn/scikit-learn/issues/21755 */display: inline-block !important;position: relative;}#sk-container-id-8 div.sk-text-repr-fallback {display: none;}</style><div id=\"sk-container-id-8\" class=\"sk-top-container\"><div class=\"sk-text-repr-fallback\"><pre>MinMaxScaler()</pre><b>In a Jupyter environment, please rerun this cell to show the HTML representation or trust the notebook. <br />On GitHub, the HTML representation is unable to render, please try loading this page with nbviewer.org.</b></div><div class=\"sk-container\" hidden><div class=\"sk-item\"><div class=\"sk-estimator sk-toggleable\"><input class=\"sk-toggleable__control sk-hidden--visually\" id=\"sk-estimator-id-8\" type=\"checkbox\" checked><label for=\"sk-estimator-id-8\" class=\"sk-toggleable__label sk-toggleable__label-arrow\">MinMaxScaler</label><div class=\"sk-toggleable__content\"><pre>MinMaxScaler()</pre></div></div></div></div></div>"
     },
     "execution_count": 181,
     "metadata": {},
     "output_type": "execute_result"
    }
   ],
   "source": [
    "scaler.fit(raw_df[numeric_cols])"
   ],
   "metadata": {
    "collapsed": false,
    "ExecuteTime": {
     "end_time": "2023-09-14T03:55:05.846960800Z",
     "start_time": "2023-09-14T03:55:05.704636600Z"
    }
   }
  },
  {
   "cell_type": "markdown",
   "source": [
    "Inspecting min and max values for each column"
   ],
   "metadata": {
    "collapsed": false
   }
  },
  {
   "cell_type": "code",
   "execution_count": 182,
   "outputs": [
    {
     "name": "stdout",
     "output_type": "stream",
     "text": [
      "Minimum:\n"
     ]
    },
    {
     "data": {
      "text/plain": "[12.0, 1.0, 0.0, 0.0, 1.0, 1.0, 1.0]"
     },
     "execution_count": 182,
     "metadata": {},
     "output_type": "execute_result"
    }
   ],
   "source": [
    "print('Minimum:')\n",
    "list(scaler.data_min_)"
   ],
   "metadata": {
    "collapsed": false,
    "ExecuteTime": {
     "end_time": "2023-09-14T03:55:05.848063200Z",
     "start_time": "2023-09-14T03:55:05.728780300Z"
    }
   }
  },
  {
   "cell_type": "code",
   "execution_count": 183,
   "outputs": [
    {
     "name": "stdout",
     "output_type": "stream",
     "text": [
      "Maximum:\n"
     ]
    },
    {
     "data": {
      "text/plain": "[98.0, 5.0, 30.0, 30.0, 13.0, 6.0, 8.0]"
     },
     "execution_count": 183,
     "metadata": {},
     "output_type": "execute_result"
    }
   ],
   "source": [
    "print('Maximum:')\n",
    "list(scaler.data_max_)"
   ],
   "metadata": {
    "collapsed": false,
    "ExecuteTime": {
     "end_time": "2023-09-14T03:55:05.848063200Z",
     "start_time": "2023-09-14T03:55:05.744313300Z"
    }
   }
  },
  {
   "cell_type": "markdown",
   "source": [
    "### Scaling the Train, Test and Val sets with scaler.transform"
   ],
   "metadata": {
    "collapsed": false
   }
  },
  {
   "cell_type": "code",
   "execution_count": 184,
   "outputs": [
    {
     "data": {
      "text/plain": "Index(['HighBP', 'HighChol', 'CholCheck', 'BMI', 'Smoker', 'Stroke',\n       'Diabetes', 'PhysActivity', 'Fruits', 'Veggies', 'HvyAlcoholConsump',\n       'AnyHealthcare', 'NoDocbcCost', 'GenHlth', 'MentHlth', 'PhysHlth',\n       'DiffWalk', 'Sex', 'Age', 'Education', 'Income'],\n      dtype='object')"
     },
     "execution_count": 184,
     "metadata": {},
     "output_type": "execute_result"
    }
   ],
   "source": [
    "train_inputs.columns"
   ],
   "metadata": {
    "collapsed": false,
    "ExecuteTime": {
     "end_time": "2023-09-14T03:55:05.848063200Z",
     "start_time": "2023-09-14T03:55:05.744313300Z"
    }
   }
  },
  {
   "cell_type": "code",
   "execution_count": 185,
   "outputs": [
    {
     "data": {
      "text/plain": "                 BMI        GenHlth       MentHlth       PhysHlth  \\\ncount  152208.000000  152208.000000  152208.000000  152208.000000   \nmean        0.190460       0.377868       0.106420       0.141276   \nstd         0.076912       0.266841       0.247397       0.290121   \nmin         0.000000       0.000000       0.000000       0.000000   \n25%         0.139535       0.250000       0.000000       0.000000   \n50%         0.174419       0.250000       0.000000       0.000000   \n75%         0.220930       0.500000       0.066667       0.100000   \nmax         1.000000       1.000000       1.000000       1.000000   \n\n                 Age      Education         Income  \ncount  152208.000000  152208.000000  152208.000000  \nmean        0.585891       0.810178       0.722692  \nstd         0.254385       0.197418       0.295666  \nmin         0.000000       0.000000       0.000000  \n25%         0.416667       0.600000       0.571429  \n50%         0.583333       0.800000       0.857143  \n75%         0.750000       1.000000       1.000000  \nmax         1.000000       1.000000       1.000000  ",
      "text/html": "<div>\n<style scoped>\n    .dataframe tbody tr th:only-of-type {\n        vertical-align: middle;\n    }\n\n    .dataframe tbody tr th {\n        vertical-align: top;\n    }\n\n    .dataframe thead th {\n        text-align: right;\n    }\n</style>\n<table border=\"1\" class=\"dataframe\">\n  <thead>\n    <tr style=\"text-align: right;\">\n      <th></th>\n      <th>BMI</th>\n      <th>GenHlth</th>\n      <th>MentHlth</th>\n      <th>PhysHlth</th>\n      <th>Age</th>\n      <th>Education</th>\n      <th>Income</th>\n    </tr>\n  </thead>\n  <tbody>\n    <tr>\n      <th>count</th>\n      <td>152208.000000</td>\n      <td>152208.000000</td>\n      <td>152208.000000</td>\n      <td>152208.000000</td>\n      <td>152208.000000</td>\n      <td>152208.000000</td>\n      <td>152208.000000</td>\n    </tr>\n    <tr>\n      <th>mean</th>\n      <td>0.190460</td>\n      <td>0.377868</td>\n      <td>0.106420</td>\n      <td>0.141276</td>\n      <td>0.585891</td>\n      <td>0.810178</td>\n      <td>0.722692</td>\n    </tr>\n    <tr>\n      <th>std</th>\n      <td>0.076912</td>\n      <td>0.266841</td>\n      <td>0.247397</td>\n      <td>0.290121</td>\n      <td>0.254385</td>\n      <td>0.197418</td>\n      <td>0.295666</td>\n    </tr>\n    <tr>\n      <th>min</th>\n      <td>0.000000</td>\n      <td>0.000000</td>\n      <td>0.000000</td>\n      <td>0.000000</td>\n      <td>0.000000</td>\n      <td>0.000000</td>\n      <td>0.000000</td>\n    </tr>\n    <tr>\n      <th>25%</th>\n      <td>0.139535</td>\n      <td>0.250000</td>\n      <td>0.000000</td>\n      <td>0.000000</td>\n      <td>0.416667</td>\n      <td>0.600000</td>\n      <td>0.571429</td>\n    </tr>\n    <tr>\n      <th>50%</th>\n      <td>0.174419</td>\n      <td>0.250000</td>\n      <td>0.000000</td>\n      <td>0.000000</td>\n      <td>0.583333</td>\n      <td>0.800000</td>\n      <td>0.857143</td>\n    </tr>\n    <tr>\n      <th>75%</th>\n      <td>0.220930</td>\n      <td>0.500000</td>\n      <td>0.066667</td>\n      <td>0.100000</td>\n      <td>0.750000</td>\n      <td>1.000000</td>\n      <td>1.000000</td>\n    </tr>\n    <tr>\n      <th>max</th>\n      <td>1.000000</td>\n      <td>1.000000</td>\n      <td>1.000000</td>\n      <td>1.000000</td>\n      <td>1.000000</td>\n      <td>1.000000</td>\n      <td>1.000000</td>\n    </tr>\n  </tbody>\n</table>\n</div>"
     },
     "execution_count": 185,
     "metadata": {},
     "output_type": "execute_result"
    }
   ],
   "source": [
    "train_inputs[numeric_cols] = scaler.transform(train_inputs[numeric_cols])\n",
    "val_inputs[numeric_cols] = scaler.transform(val_inputs[numeric_cols])\n",
    "test_inputs[numeric_cols] = scaler.transform(test_inputs[numeric_cols])\n",
    "train_inputs[numeric_cols].describe()"
   ],
   "metadata": {
    "collapsed": false,
    "ExecuteTime": {
     "end_time": "2023-09-14T03:55:06.092733600Z",
     "start_time": "2023-09-14T03:55:05.748461400Z"
    }
   }
  },
  {
   "cell_type": "code",
   "execution_count": 186,
   "outputs": [
    {
     "name": "stdout",
     "output_type": "stream",
     "text": [
      "train_inputs: (152208, 21)\n",
      "train_targets: (152208,)\n",
      "val_inputs: (50736, 21)\n",
      "val_targets: (50736,)\n",
      "test_inputs: (50736, 21)\n",
      "test_targets: (50736,)\n"
     ]
    }
   ],
   "source": [
    "print('train_inputs:', train_inputs.shape)\n",
    "print('train_targets:', train_targets.shape)\n",
    "print('val_inputs:', val_inputs.shape)\n",
    "print('val_targets:', val_targets.shape)\n",
    "print('test_inputs:', test_inputs.shape)\n",
    "print('test_targets:', test_targets.shape)"
   ],
   "metadata": {
    "collapsed": false,
    "ExecuteTime": {
     "end_time": "2023-09-14T03:55:06.092733600Z",
     "start_time": "2023-09-14T03:55:05.875035300Z"
    }
   }
  },
  {
   "cell_type": "markdown",
   "source": [
    "### Encoding Categorical Data"
   ],
   "metadata": {
    "collapsed": false
   }
  },
  {
   "cell_type": "code",
   "execution_count": 187,
   "outputs": [
    {
     "data": {
      "text/plain": "HighBP               2\nHighChol             2\nCholCheck            2\nSmoker               2\nStroke               2\nDiabetes             3\nPhysActivity         2\nFruits               2\nVeggies              2\nHvyAlcoholConsump    2\nAnyHealthcare        2\nNoDocbcCost          2\nDiffWalk             2\nSex                  2\ndtype: int64"
     },
     "execution_count": 187,
     "metadata": {},
     "output_type": "execute_result"
    }
   ],
   "source": [
    "raw_df[categorical_cols].nunique()"
   ],
   "metadata": {
    "collapsed": false,
    "ExecuteTime": {
     "end_time": "2023-09-14T03:55:06.241240Z",
     "start_time": "2023-09-14T03:55:05.881406500Z"
    }
   }
  },
  {
   "cell_type": "code",
   "execution_count": 188,
   "outputs": [],
   "source": [
    "encoder = OneHotEncoder(sparse_output=False, handle_unknown='ignore')"
   ],
   "metadata": {
    "collapsed": false,
    "ExecuteTime": {
     "end_time": "2023-09-14T03:55:06.257246400Z",
     "start_time": "2023-09-14T03:55:06.115036500Z"
    }
   }
  },
  {
   "cell_type": "code",
   "execution_count": 189,
   "outputs": [
    {
     "data": {
      "text/plain": "OneHotEncoder(handle_unknown='ignore', sparse_output=False)",
      "text/html": "<style>#sk-container-id-9 {color: black;}#sk-container-id-9 pre{padding: 0;}#sk-container-id-9 div.sk-toggleable {background-color: white;}#sk-container-id-9 label.sk-toggleable__label {cursor: pointer;display: block;width: 100%;margin-bottom: 0;padding: 0.3em;box-sizing: border-box;text-align: center;}#sk-container-id-9 label.sk-toggleable__label-arrow:before {content: \"▸\";float: left;margin-right: 0.25em;color: #696969;}#sk-container-id-9 label.sk-toggleable__label-arrow:hover:before {color: black;}#sk-container-id-9 div.sk-estimator:hover label.sk-toggleable__label-arrow:before {color: black;}#sk-container-id-9 div.sk-toggleable__content {max-height: 0;max-width: 0;overflow: hidden;text-align: left;background-color: #f0f8ff;}#sk-container-id-9 div.sk-toggleable__content pre {margin: 0.2em;color: black;border-radius: 0.25em;background-color: #f0f8ff;}#sk-container-id-9 input.sk-toggleable__control:checked~div.sk-toggleable__content {max-height: 200px;max-width: 100%;overflow: auto;}#sk-container-id-9 input.sk-toggleable__control:checked~label.sk-toggleable__label-arrow:before {content: \"▾\";}#sk-container-id-9 div.sk-estimator input.sk-toggleable__control:checked~label.sk-toggleable__label {background-color: #d4ebff;}#sk-container-id-9 div.sk-label input.sk-toggleable__control:checked~label.sk-toggleable__label {background-color: #d4ebff;}#sk-container-id-9 input.sk-hidden--visually {border: 0;clip: rect(1px 1px 1px 1px);clip: rect(1px, 1px, 1px, 1px);height: 1px;margin: -1px;overflow: hidden;padding: 0;position: absolute;width: 1px;}#sk-container-id-9 div.sk-estimator {font-family: monospace;background-color: #f0f8ff;border: 1px dotted black;border-radius: 0.25em;box-sizing: border-box;margin-bottom: 0.5em;}#sk-container-id-9 div.sk-estimator:hover {background-color: #d4ebff;}#sk-container-id-9 div.sk-parallel-item::after {content: \"\";width: 100%;border-bottom: 1px solid gray;flex-grow: 1;}#sk-container-id-9 div.sk-label:hover label.sk-toggleable__label {background-color: #d4ebff;}#sk-container-id-9 div.sk-serial::before {content: \"\";position: absolute;border-left: 1px solid gray;box-sizing: border-box;top: 0;bottom: 0;left: 50%;z-index: 0;}#sk-container-id-9 div.sk-serial {display: flex;flex-direction: column;align-items: center;background-color: white;padding-right: 0.2em;padding-left: 0.2em;position: relative;}#sk-container-id-9 div.sk-item {position: relative;z-index: 1;}#sk-container-id-9 div.sk-parallel {display: flex;align-items: stretch;justify-content: center;background-color: white;position: relative;}#sk-container-id-9 div.sk-item::before, #sk-container-id-9 div.sk-parallel-item::before {content: \"\";position: absolute;border-left: 1px solid gray;box-sizing: border-box;top: 0;bottom: 0;left: 50%;z-index: -1;}#sk-container-id-9 div.sk-parallel-item {display: flex;flex-direction: column;z-index: 1;position: relative;background-color: white;}#sk-container-id-9 div.sk-parallel-item:first-child::after {align-self: flex-end;width: 50%;}#sk-container-id-9 div.sk-parallel-item:last-child::after {align-self: flex-start;width: 50%;}#sk-container-id-9 div.sk-parallel-item:only-child::after {width: 0;}#sk-container-id-9 div.sk-dashed-wrapped {border: 1px dashed gray;margin: 0 0.4em 0.5em 0.4em;box-sizing: border-box;padding-bottom: 0.4em;background-color: white;}#sk-container-id-9 div.sk-label label {font-family: monospace;font-weight: bold;display: inline-block;line-height: 1.2em;}#sk-container-id-9 div.sk-label-container {text-align: center;}#sk-container-id-9 div.sk-container {/* jupyter's `normalize.less` sets `[hidden] { display: none; }` but bootstrap.min.css set `[hidden] { display: none !important; }` so we also need the `!important` here to be able to override the default hidden behavior on the sphinx rendered scikit-learn.org. See: https://github.com/scikit-learn/scikit-learn/issues/21755 */display: inline-block !important;position: relative;}#sk-container-id-9 div.sk-text-repr-fallback {display: none;}</style><div id=\"sk-container-id-9\" class=\"sk-top-container\"><div class=\"sk-text-repr-fallback\"><pre>OneHotEncoder(handle_unknown=&#x27;ignore&#x27;, sparse_output=False)</pre><b>In a Jupyter environment, please rerun this cell to show the HTML representation or trust the notebook. <br />On GitHub, the HTML representation is unable to render, please try loading this page with nbviewer.org.</b></div><div class=\"sk-container\" hidden><div class=\"sk-item\"><div class=\"sk-estimator sk-toggleable\"><input class=\"sk-toggleable__control sk-hidden--visually\" id=\"sk-estimator-id-9\" type=\"checkbox\" checked><label for=\"sk-estimator-id-9\" class=\"sk-toggleable__label sk-toggleable__label-arrow\">OneHotEncoder</label><div class=\"sk-toggleable__content\"><pre>OneHotEncoder(handle_unknown=&#x27;ignore&#x27;, sparse_output=False)</pre></div></div></div></div></div>"
     },
     "execution_count": 189,
     "metadata": {},
     "output_type": "execute_result"
    }
   ],
   "source": [
    "encoder.fit(raw_df[categorical_cols])"
   ],
   "metadata": {
    "collapsed": false,
    "ExecuteTime": {
     "end_time": "2023-09-14T03:55:06.351286200Z",
     "start_time": "2023-09-14T03:55:06.115036500Z"
    }
   }
  },
  {
   "cell_type": "code",
   "execution_count": 190,
   "outputs": [
    {
     "data": {
      "text/plain": "[array(['No', 'Yes'], dtype=object),\n array(['No', 'Yes'], dtype=object),\n array(['No', 'Yes'], dtype=object),\n array(['No', 'Yes'], dtype=object),\n array(['No', 'Yes'], dtype=object),\n array(['No', 'Type1', 'Type2'], dtype=object),\n array(['No', 'Yes'], dtype=object),\n array(['No', 'Yes'], dtype=object),\n array(['No', 'Yes'], dtype=object),\n array(['No', 'Yes'], dtype=object),\n array(['No', 'Yes'], dtype=object),\n array(['No', 'Yes'], dtype=object),\n array(['No', 'Yes'], dtype=object),\n array(['Female', 'Male'], dtype=object)]"
     },
     "execution_count": 190,
     "metadata": {},
     "output_type": "execute_result"
    }
   ],
   "source": [
    "encoder.categories_"
   ],
   "metadata": {
    "collapsed": false,
    "ExecuteTime": {
     "end_time": "2023-09-14T03:55:06.355286900Z",
     "start_time": "2023-09-14T03:55:06.208176400Z"
    }
   }
  },
  {
   "cell_type": "code",
   "execution_count": 191,
   "outputs": [
    {
     "name": "stdout",
     "output_type": "stream",
     "text": [
      "['HighBP_No', 'HighBP_Yes', 'HighChol_No', 'HighChol_Yes', 'CholCheck_No', 'CholCheck_Yes', 'Smoker_No', 'Smoker_Yes', 'Stroke_No', 'Stroke_Yes', 'Diabetes_No', 'Diabetes_Type1', 'Diabetes_Type2', 'PhysActivity_No', 'PhysActivity_Yes', 'Fruits_No', 'Fruits_Yes', 'Veggies_No', 'Veggies_Yes', 'HvyAlcoholConsump_No', 'HvyAlcoholConsump_Yes', 'AnyHealthcare_No', 'AnyHealthcare_Yes', 'NoDocbcCost_No', 'NoDocbcCost_Yes', 'DiffWalk_No', 'DiffWalk_Yes', 'Sex_Female', 'Sex_Male']\n"
     ]
    }
   ],
   "source": [
    "encoded_cols = list(encoder.get_feature_names_out(categorical_cols))\n",
    "print(encoded_cols)"
   ],
   "metadata": {
    "collapsed": false,
    "ExecuteTime": {
     "end_time": "2023-09-14T03:55:06.355286900Z",
     "start_time": "2023-09-14T03:55:06.216068800Z"
    }
   }
  },
  {
   "cell_type": "code",
   "execution_count": 192,
   "outputs": [],
   "source": [
    "train_inputs[encoded_cols] = encoder.transform(train_inputs[categorical_cols])\n",
    "val_inputs[encoded_cols] = encoder.transform(val_inputs[categorical_cols])\n",
    "test_inputs[encoded_cols] = encoder.transform(test_inputs[categorical_cols])"
   ],
   "metadata": {
    "collapsed": false,
    "ExecuteTime": {
     "end_time": "2023-09-14T03:55:06.984458200Z",
     "start_time": "2023-09-14T03:55:06.221055100Z"
    }
   }
  },
  {
   "cell_type": "code",
   "execution_count": 193,
   "outputs": [
    {
     "data": {
      "text/plain": "       HighBP HighChol CholCheck       BMI Smoker Stroke Diabetes  \\\n219620     No       No       Yes  0.104651     No     No       No   \n132821    Yes      Yes       Yes  0.186047     No     No       No   \n151862     No       No       Yes  0.139535     No     No       No   \n139717     No       No       Yes  0.174419    Yes     No       No   \n239235     No      Yes       Yes  0.220930    Yes     No       No   \n...       ...      ...       ...       ...    ...    ...      ...   \n169513    Yes       No       Yes  0.197674    Yes     No    Type2   \n182415     No       No       Yes  0.151163     No     No       No   \n109739     No      Yes       Yes  0.186047     No     No       No   \n181671     No       No       Yes  0.139535    Yes     No       No   \n202118     No       No       Yes  0.127907     No     No       No   \n\n       PhysActivity Fruits Veggies HvyAlcoholConsump AnyHealthcare  \\\n219620           No    Yes     Yes                No           Yes   \n132821          Yes    Yes     Yes                No           Yes   \n151862          Yes    Yes     Yes                No           Yes   \n139717          Yes     No     Yes               Yes           Yes   \n239235           No    Yes     Yes                No           Yes   \n...             ...    ...     ...               ...           ...   \n169513          Yes    Yes     Yes                No           Yes   \n182415          Yes    Yes     Yes                No           Yes   \n109739          Yes    Yes     Yes                No           Yes   \n181671           No     No     Yes                No           Yes   \n202118          Yes    Yes     Yes                No           Yes   \n\n       NoDocbcCost  GenHlth  MentHlth  PhysHlth DiffWalk     Sex       Age  \\\n219620          No     0.50  0.100000  0.233333       No  Female  0.500000   \n132821          No     0.50  0.000000  0.000000       No  Female  1.000000   \n151862          No     0.00  0.000000  0.000000       No    Male  0.000000   \n139717          No     0.25  0.100000  0.000000       No    Male  0.083333   \n239235         Yes     0.75  0.900000  0.900000      Yes  Female  0.583333   \n...            ...      ...       ...       ...      ...     ...       ...   \n169513          No     0.50  0.000000  0.333333       No  Female  0.666667   \n182415          No     0.25  0.033333  0.333333       No  Female  0.750000   \n109739          No     0.50  0.100000  0.000000       No    Male  0.416667   \n181671         Yes     0.75  0.000000  0.000000       No    Male  1.000000   \n202118          No     0.25  0.000000  0.000000       No  Female  0.333333   \n\n        Education    Income  HighBP_No  HighBP_Yes  HighChol_No  HighChol_Yes  \\\n219620        0.6  0.142857        1.0         0.0          1.0           0.0   \n132821        1.0  0.714286        0.0         1.0          0.0           1.0   \n151862        0.6  0.857143        1.0         0.0          1.0           0.0   \n139717        0.6  0.857143        1.0         0.0          1.0           0.0   \n239235        0.4  0.142857        1.0         0.0          0.0           1.0   \n...           ...       ...        ...         ...          ...           ...   \n169513        1.0  0.857143        0.0         1.0          1.0           0.0   \n182415        0.8  1.000000        1.0         0.0          1.0           0.0   \n109739        1.0  1.000000        1.0         0.0          0.0           1.0   \n181671        0.6  0.571429        1.0         0.0          1.0           0.0   \n202118        1.0  1.000000        1.0         0.0          1.0           0.0   \n\n        CholCheck_No  CholCheck_Yes  Smoker_No  Smoker_Yes  Stroke_No  \\\n219620           0.0            1.0        1.0         0.0        1.0   \n132821           0.0            1.0        1.0         0.0        1.0   \n151862           0.0            1.0        1.0         0.0        1.0   \n139717           0.0            1.0        0.0         1.0        1.0   \n239235           0.0            1.0        0.0         1.0        1.0   \n...              ...            ...        ...         ...        ...   \n169513           0.0            1.0        0.0         1.0        1.0   \n182415           0.0            1.0        1.0         0.0        1.0   \n109739           0.0            1.0        1.0         0.0        1.0   \n181671           0.0            1.0        0.0         1.0        1.0   \n202118           0.0            1.0        1.0         0.0        1.0   \n\n        Stroke_Yes  Diabetes_No  Diabetes_Type1  Diabetes_Type2  \\\n219620         0.0          1.0             0.0             0.0   \n132821         0.0          1.0             0.0             0.0   \n151862         0.0          1.0             0.0             0.0   \n139717         0.0          1.0             0.0             0.0   \n239235         0.0          1.0             0.0             0.0   \n...            ...          ...             ...             ...   \n169513         0.0          0.0             0.0             1.0   \n182415         0.0          1.0             0.0             0.0   \n109739         0.0          1.0             0.0             0.0   \n181671         0.0          1.0             0.0             0.0   \n202118         0.0          1.0             0.0             0.0   \n\n        PhysActivity_No  PhysActivity_Yes  Fruits_No  Fruits_Yes  Veggies_No  \\\n219620              1.0               0.0        0.0         1.0         0.0   \n132821              0.0               1.0        0.0         1.0         0.0   \n151862              0.0               1.0        0.0         1.0         0.0   \n139717              0.0               1.0        1.0         0.0         0.0   \n239235              1.0               0.0        0.0         1.0         0.0   \n...                 ...               ...        ...         ...         ...   \n169513              0.0               1.0        0.0         1.0         0.0   \n182415              0.0               1.0        0.0         1.0         0.0   \n109739              0.0               1.0        0.0         1.0         0.0   \n181671              1.0               0.0        1.0         0.0         0.0   \n202118              0.0               1.0        0.0         1.0         0.0   \n\n        Veggies_Yes  HvyAlcoholConsump_No  HvyAlcoholConsump_Yes  \\\n219620          1.0                   1.0                    0.0   \n132821          1.0                   1.0                    0.0   \n151862          1.0                   1.0                    0.0   \n139717          1.0                   0.0                    1.0   \n239235          1.0                   1.0                    0.0   \n...             ...                   ...                    ...   \n169513          1.0                   1.0                    0.0   \n182415          1.0                   1.0                    0.0   \n109739          1.0                   1.0                    0.0   \n181671          1.0                   1.0                    0.0   \n202118          1.0                   1.0                    0.0   \n\n        AnyHealthcare_No  AnyHealthcare_Yes  NoDocbcCost_No  NoDocbcCost_Yes  \\\n219620               0.0                1.0             1.0              0.0   \n132821               0.0                1.0             1.0              0.0   \n151862               0.0                1.0             1.0              0.0   \n139717               0.0                1.0             1.0              0.0   \n239235               0.0                1.0             0.0              1.0   \n...                  ...                ...             ...              ...   \n169513               0.0                1.0             1.0              0.0   \n182415               0.0                1.0             1.0              0.0   \n109739               0.0                1.0             1.0              0.0   \n181671               0.0                1.0             0.0              1.0   \n202118               0.0                1.0             1.0              0.0   \n\n        DiffWalk_No  DiffWalk_Yes  Sex_Female  Sex_Male  \n219620          1.0           0.0         1.0       0.0  \n132821          1.0           0.0         1.0       0.0  \n151862          1.0           0.0         0.0       1.0  \n139717          1.0           0.0         0.0       1.0  \n239235          0.0           1.0         1.0       0.0  \n...             ...           ...         ...       ...  \n169513          1.0           0.0         1.0       0.0  \n182415          1.0           0.0         1.0       0.0  \n109739          1.0           0.0         0.0       1.0  \n181671          1.0           0.0         0.0       1.0  \n202118          1.0           0.0         1.0       0.0  \n\n[50736 rows x 50 columns]",
      "text/html": "<div>\n<style scoped>\n    .dataframe tbody tr th:only-of-type {\n        vertical-align: middle;\n    }\n\n    .dataframe tbody tr th {\n        vertical-align: top;\n    }\n\n    .dataframe thead th {\n        text-align: right;\n    }\n</style>\n<table border=\"1\" class=\"dataframe\">\n  <thead>\n    <tr style=\"text-align: right;\">\n      <th></th>\n      <th>HighBP</th>\n      <th>HighChol</th>\n      <th>CholCheck</th>\n      <th>BMI</th>\n      <th>Smoker</th>\n      <th>Stroke</th>\n      <th>Diabetes</th>\n      <th>PhysActivity</th>\n      <th>Fruits</th>\n      <th>Veggies</th>\n      <th>HvyAlcoholConsump</th>\n      <th>AnyHealthcare</th>\n      <th>NoDocbcCost</th>\n      <th>GenHlth</th>\n      <th>MentHlth</th>\n      <th>PhysHlth</th>\n      <th>DiffWalk</th>\n      <th>Sex</th>\n      <th>Age</th>\n      <th>Education</th>\n      <th>Income</th>\n      <th>HighBP_No</th>\n      <th>HighBP_Yes</th>\n      <th>HighChol_No</th>\n      <th>HighChol_Yes</th>\n      <th>CholCheck_No</th>\n      <th>CholCheck_Yes</th>\n      <th>Smoker_No</th>\n      <th>Smoker_Yes</th>\n      <th>Stroke_No</th>\n      <th>Stroke_Yes</th>\n      <th>Diabetes_No</th>\n      <th>Diabetes_Type1</th>\n      <th>Diabetes_Type2</th>\n      <th>PhysActivity_No</th>\n      <th>PhysActivity_Yes</th>\n      <th>Fruits_No</th>\n      <th>Fruits_Yes</th>\n      <th>Veggies_No</th>\n      <th>Veggies_Yes</th>\n      <th>HvyAlcoholConsump_No</th>\n      <th>HvyAlcoholConsump_Yes</th>\n      <th>AnyHealthcare_No</th>\n      <th>AnyHealthcare_Yes</th>\n      <th>NoDocbcCost_No</th>\n      <th>NoDocbcCost_Yes</th>\n      <th>DiffWalk_No</th>\n      <th>DiffWalk_Yes</th>\n      <th>Sex_Female</th>\n      <th>Sex_Male</th>\n    </tr>\n  </thead>\n  <tbody>\n    <tr>\n      <th>219620</th>\n      <td>No</td>\n      <td>No</td>\n      <td>Yes</td>\n      <td>0.104651</td>\n      <td>No</td>\n      <td>No</td>\n      <td>No</td>\n      <td>No</td>\n      <td>Yes</td>\n      <td>Yes</td>\n      <td>No</td>\n      <td>Yes</td>\n      <td>No</td>\n      <td>0.50</td>\n      <td>0.100000</td>\n      <td>0.233333</td>\n      <td>No</td>\n      <td>Female</td>\n      <td>0.500000</td>\n      <td>0.6</td>\n      <td>0.142857</td>\n      <td>1.0</td>\n      <td>0.0</td>\n      <td>1.0</td>\n      <td>0.0</td>\n      <td>0.0</td>\n      <td>1.0</td>\n      <td>1.0</td>\n      <td>0.0</td>\n      <td>1.0</td>\n      <td>0.0</td>\n      <td>1.0</td>\n      <td>0.0</td>\n      <td>0.0</td>\n      <td>1.0</td>\n      <td>0.0</td>\n      <td>0.0</td>\n      <td>1.0</td>\n      <td>0.0</td>\n      <td>1.0</td>\n      <td>1.0</td>\n      <td>0.0</td>\n      <td>0.0</td>\n      <td>1.0</td>\n      <td>1.0</td>\n      <td>0.0</td>\n      <td>1.0</td>\n      <td>0.0</td>\n      <td>1.0</td>\n      <td>0.0</td>\n    </tr>\n    <tr>\n      <th>132821</th>\n      <td>Yes</td>\n      <td>Yes</td>\n      <td>Yes</td>\n      <td>0.186047</td>\n      <td>No</td>\n      <td>No</td>\n      <td>No</td>\n      <td>Yes</td>\n      <td>Yes</td>\n      <td>Yes</td>\n      <td>No</td>\n      <td>Yes</td>\n      <td>No</td>\n      <td>0.50</td>\n      <td>0.000000</td>\n      <td>0.000000</td>\n      <td>No</td>\n      <td>Female</td>\n      <td>1.000000</td>\n      <td>1.0</td>\n      <td>0.714286</td>\n      <td>0.0</td>\n      <td>1.0</td>\n      <td>0.0</td>\n      <td>1.0</td>\n      <td>0.0</td>\n      <td>1.0</td>\n      <td>1.0</td>\n      <td>0.0</td>\n      <td>1.0</td>\n      <td>0.0</td>\n      <td>1.0</td>\n      <td>0.0</td>\n      <td>0.0</td>\n      <td>0.0</td>\n      <td>1.0</td>\n      <td>0.0</td>\n      <td>1.0</td>\n      <td>0.0</td>\n      <td>1.0</td>\n      <td>1.0</td>\n      <td>0.0</td>\n      <td>0.0</td>\n      <td>1.0</td>\n      <td>1.0</td>\n      <td>0.0</td>\n      <td>1.0</td>\n      <td>0.0</td>\n      <td>1.0</td>\n      <td>0.0</td>\n    </tr>\n    <tr>\n      <th>151862</th>\n      <td>No</td>\n      <td>No</td>\n      <td>Yes</td>\n      <td>0.139535</td>\n      <td>No</td>\n      <td>No</td>\n      <td>No</td>\n      <td>Yes</td>\n      <td>Yes</td>\n      <td>Yes</td>\n      <td>No</td>\n      <td>Yes</td>\n      <td>No</td>\n      <td>0.00</td>\n      <td>0.000000</td>\n      <td>0.000000</td>\n      <td>No</td>\n      <td>Male</td>\n      <td>0.000000</td>\n      <td>0.6</td>\n      <td>0.857143</td>\n      <td>1.0</td>\n      <td>0.0</td>\n      <td>1.0</td>\n      <td>0.0</td>\n      <td>0.0</td>\n      <td>1.0</td>\n      <td>1.0</td>\n      <td>0.0</td>\n      <td>1.0</td>\n      <td>0.0</td>\n      <td>1.0</td>\n      <td>0.0</td>\n      <td>0.0</td>\n      <td>0.0</td>\n      <td>1.0</td>\n      <td>0.0</td>\n      <td>1.0</td>\n      <td>0.0</td>\n      <td>1.0</td>\n      <td>1.0</td>\n      <td>0.0</td>\n      <td>0.0</td>\n      <td>1.0</td>\n      <td>1.0</td>\n      <td>0.0</td>\n      <td>1.0</td>\n      <td>0.0</td>\n      <td>0.0</td>\n      <td>1.0</td>\n    </tr>\n    <tr>\n      <th>139717</th>\n      <td>No</td>\n      <td>No</td>\n      <td>Yes</td>\n      <td>0.174419</td>\n      <td>Yes</td>\n      <td>No</td>\n      <td>No</td>\n      <td>Yes</td>\n      <td>No</td>\n      <td>Yes</td>\n      <td>Yes</td>\n      <td>Yes</td>\n      <td>No</td>\n      <td>0.25</td>\n      <td>0.100000</td>\n      <td>0.000000</td>\n      <td>No</td>\n      <td>Male</td>\n      <td>0.083333</td>\n      <td>0.6</td>\n      <td>0.857143</td>\n      <td>1.0</td>\n      <td>0.0</td>\n      <td>1.0</td>\n      <td>0.0</td>\n      <td>0.0</td>\n      <td>1.0</td>\n      <td>0.0</td>\n      <td>1.0</td>\n      <td>1.0</td>\n      <td>0.0</td>\n      <td>1.0</td>\n      <td>0.0</td>\n      <td>0.0</td>\n      <td>0.0</td>\n      <td>1.0</td>\n      <td>1.0</td>\n      <td>0.0</td>\n      <td>0.0</td>\n      <td>1.0</td>\n      <td>0.0</td>\n      <td>1.0</td>\n      <td>0.0</td>\n      <td>1.0</td>\n      <td>1.0</td>\n      <td>0.0</td>\n      <td>1.0</td>\n      <td>0.0</td>\n      <td>0.0</td>\n      <td>1.0</td>\n    </tr>\n    <tr>\n      <th>239235</th>\n      <td>No</td>\n      <td>Yes</td>\n      <td>Yes</td>\n      <td>0.220930</td>\n      <td>Yes</td>\n      <td>No</td>\n      <td>No</td>\n      <td>No</td>\n      <td>Yes</td>\n      <td>Yes</td>\n      <td>No</td>\n      <td>Yes</td>\n      <td>Yes</td>\n      <td>0.75</td>\n      <td>0.900000</td>\n      <td>0.900000</td>\n      <td>Yes</td>\n      <td>Female</td>\n      <td>0.583333</td>\n      <td>0.4</td>\n      <td>0.142857</td>\n      <td>1.0</td>\n      <td>0.0</td>\n      <td>0.0</td>\n      <td>1.0</td>\n      <td>0.0</td>\n      <td>1.0</td>\n      <td>0.0</td>\n      <td>1.0</td>\n      <td>1.0</td>\n      <td>0.0</td>\n      <td>1.0</td>\n      <td>0.0</td>\n      <td>0.0</td>\n      <td>1.0</td>\n      <td>0.0</td>\n      <td>0.0</td>\n      <td>1.0</td>\n      <td>0.0</td>\n      <td>1.0</td>\n      <td>1.0</td>\n      <td>0.0</td>\n      <td>0.0</td>\n      <td>1.0</td>\n      <td>0.0</td>\n      <td>1.0</td>\n      <td>0.0</td>\n      <td>1.0</td>\n      <td>1.0</td>\n      <td>0.0</td>\n    </tr>\n    <tr>\n      <th>...</th>\n      <td>...</td>\n      <td>...</td>\n      <td>...</td>\n      <td>...</td>\n      <td>...</td>\n      <td>...</td>\n      <td>...</td>\n      <td>...</td>\n      <td>...</td>\n      <td>...</td>\n      <td>...</td>\n      <td>...</td>\n      <td>...</td>\n      <td>...</td>\n      <td>...</td>\n      <td>...</td>\n      <td>...</td>\n      <td>...</td>\n      <td>...</td>\n      <td>...</td>\n      <td>...</td>\n      <td>...</td>\n      <td>...</td>\n      <td>...</td>\n      <td>...</td>\n      <td>...</td>\n      <td>...</td>\n      <td>...</td>\n      <td>...</td>\n      <td>...</td>\n      <td>...</td>\n      <td>...</td>\n      <td>...</td>\n      <td>...</td>\n      <td>...</td>\n      <td>...</td>\n      <td>...</td>\n      <td>...</td>\n      <td>...</td>\n      <td>...</td>\n      <td>...</td>\n      <td>...</td>\n      <td>...</td>\n      <td>...</td>\n      <td>...</td>\n      <td>...</td>\n      <td>...</td>\n      <td>...</td>\n      <td>...</td>\n      <td>...</td>\n    </tr>\n    <tr>\n      <th>169513</th>\n      <td>Yes</td>\n      <td>No</td>\n      <td>Yes</td>\n      <td>0.197674</td>\n      <td>Yes</td>\n      <td>No</td>\n      <td>Type2</td>\n      <td>Yes</td>\n      <td>Yes</td>\n      <td>Yes</td>\n      <td>No</td>\n      <td>Yes</td>\n      <td>No</td>\n      <td>0.50</td>\n      <td>0.000000</td>\n      <td>0.333333</td>\n      <td>No</td>\n      <td>Female</td>\n      <td>0.666667</td>\n      <td>1.0</td>\n      <td>0.857143</td>\n      <td>0.0</td>\n      <td>1.0</td>\n      <td>1.0</td>\n      <td>0.0</td>\n      <td>0.0</td>\n      <td>1.0</td>\n      <td>0.0</td>\n      <td>1.0</td>\n      <td>1.0</td>\n      <td>0.0</td>\n      <td>0.0</td>\n      <td>0.0</td>\n      <td>1.0</td>\n      <td>0.0</td>\n      <td>1.0</td>\n      <td>0.0</td>\n      <td>1.0</td>\n      <td>0.0</td>\n      <td>1.0</td>\n      <td>1.0</td>\n      <td>0.0</td>\n      <td>0.0</td>\n      <td>1.0</td>\n      <td>1.0</td>\n      <td>0.0</td>\n      <td>1.0</td>\n      <td>0.0</td>\n      <td>1.0</td>\n      <td>0.0</td>\n    </tr>\n    <tr>\n      <th>182415</th>\n      <td>No</td>\n      <td>No</td>\n      <td>Yes</td>\n      <td>0.151163</td>\n      <td>No</td>\n      <td>No</td>\n      <td>No</td>\n      <td>Yes</td>\n      <td>Yes</td>\n      <td>Yes</td>\n      <td>No</td>\n      <td>Yes</td>\n      <td>No</td>\n      <td>0.25</td>\n      <td>0.033333</td>\n      <td>0.333333</td>\n      <td>No</td>\n      <td>Female</td>\n      <td>0.750000</td>\n      <td>0.8</td>\n      <td>1.000000</td>\n      <td>1.0</td>\n      <td>0.0</td>\n      <td>1.0</td>\n      <td>0.0</td>\n      <td>0.0</td>\n      <td>1.0</td>\n      <td>1.0</td>\n      <td>0.0</td>\n      <td>1.0</td>\n      <td>0.0</td>\n      <td>1.0</td>\n      <td>0.0</td>\n      <td>0.0</td>\n      <td>0.0</td>\n      <td>1.0</td>\n      <td>0.0</td>\n      <td>1.0</td>\n      <td>0.0</td>\n      <td>1.0</td>\n      <td>1.0</td>\n      <td>0.0</td>\n      <td>0.0</td>\n      <td>1.0</td>\n      <td>1.0</td>\n      <td>0.0</td>\n      <td>1.0</td>\n      <td>0.0</td>\n      <td>1.0</td>\n      <td>0.0</td>\n    </tr>\n    <tr>\n      <th>109739</th>\n      <td>No</td>\n      <td>Yes</td>\n      <td>Yes</td>\n      <td>0.186047</td>\n      <td>No</td>\n      <td>No</td>\n      <td>No</td>\n      <td>Yes</td>\n      <td>Yes</td>\n      <td>Yes</td>\n      <td>No</td>\n      <td>Yes</td>\n      <td>No</td>\n      <td>0.50</td>\n      <td>0.100000</td>\n      <td>0.000000</td>\n      <td>No</td>\n      <td>Male</td>\n      <td>0.416667</td>\n      <td>1.0</td>\n      <td>1.000000</td>\n      <td>1.0</td>\n      <td>0.0</td>\n      <td>0.0</td>\n      <td>1.0</td>\n      <td>0.0</td>\n      <td>1.0</td>\n      <td>1.0</td>\n      <td>0.0</td>\n      <td>1.0</td>\n      <td>0.0</td>\n      <td>1.0</td>\n      <td>0.0</td>\n      <td>0.0</td>\n      <td>0.0</td>\n      <td>1.0</td>\n      <td>0.0</td>\n      <td>1.0</td>\n      <td>0.0</td>\n      <td>1.0</td>\n      <td>1.0</td>\n      <td>0.0</td>\n      <td>0.0</td>\n      <td>1.0</td>\n      <td>1.0</td>\n      <td>0.0</td>\n      <td>1.0</td>\n      <td>0.0</td>\n      <td>0.0</td>\n      <td>1.0</td>\n    </tr>\n    <tr>\n      <th>181671</th>\n      <td>No</td>\n      <td>No</td>\n      <td>Yes</td>\n      <td>0.139535</td>\n      <td>Yes</td>\n      <td>No</td>\n      <td>No</td>\n      <td>No</td>\n      <td>No</td>\n      <td>Yes</td>\n      <td>No</td>\n      <td>Yes</td>\n      <td>Yes</td>\n      <td>0.75</td>\n      <td>0.000000</td>\n      <td>0.000000</td>\n      <td>No</td>\n      <td>Male</td>\n      <td>1.000000</td>\n      <td>0.6</td>\n      <td>0.571429</td>\n      <td>1.0</td>\n      <td>0.0</td>\n      <td>1.0</td>\n      <td>0.0</td>\n      <td>0.0</td>\n      <td>1.0</td>\n      <td>0.0</td>\n      <td>1.0</td>\n      <td>1.0</td>\n      <td>0.0</td>\n      <td>1.0</td>\n      <td>0.0</td>\n      <td>0.0</td>\n      <td>1.0</td>\n      <td>0.0</td>\n      <td>1.0</td>\n      <td>0.0</td>\n      <td>0.0</td>\n      <td>1.0</td>\n      <td>1.0</td>\n      <td>0.0</td>\n      <td>0.0</td>\n      <td>1.0</td>\n      <td>0.0</td>\n      <td>1.0</td>\n      <td>1.0</td>\n      <td>0.0</td>\n      <td>0.0</td>\n      <td>1.0</td>\n    </tr>\n    <tr>\n      <th>202118</th>\n      <td>No</td>\n      <td>No</td>\n      <td>Yes</td>\n      <td>0.127907</td>\n      <td>No</td>\n      <td>No</td>\n      <td>No</td>\n      <td>Yes</td>\n      <td>Yes</td>\n      <td>Yes</td>\n      <td>No</td>\n      <td>Yes</td>\n      <td>No</td>\n      <td>0.25</td>\n      <td>0.000000</td>\n      <td>0.000000</td>\n      <td>No</td>\n      <td>Female</td>\n      <td>0.333333</td>\n      <td>1.0</td>\n      <td>1.000000</td>\n      <td>1.0</td>\n      <td>0.0</td>\n      <td>1.0</td>\n      <td>0.0</td>\n      <td>0.0</td>\n      <td>1.0</td>\n      <td>1.0</td>\n      <td>0.0</td>\n      <td>1.0</td>\n      <td>0.0</td>\n      <td>1.0</td>\n      <td>0.0</td>\n      <td>0.0</td>\n      <td>0.0</td>\n      <td>1.0</td>\n      <td>0.0</td>\n      <td>1.0</td>\n      <td>0.0</td>\n      <td>1.0</td>\n      <td>1.0</td>\n      <td>0.0</td>\n      <td>0.0</td>\n      <td>1.0</td>\n      <td>1.0</td>\n      <td>0.0</td>\n      <td>1.0</td>\n      <td>0.0</td>\n      <td>1.0</td>\n      <td>0.0</td>\n    </tr>\n  </tbody>\n</table>\n<p>50736 rows × 50 columns</p>\n</div>"
     },
     "execution_count": 193,
     "metadata": {},
     "output_type": "execute_result"
    }
   ],
   "source": [
    "pd.set_option('display.max_columns', None)\n",
    "test_inputs"
   ],
   "metadata": {
    "collapsed": false,
    "ExecuteTime": {
     "end_time": "2023-09-14T03:55:07.042681600Z",
     "start_time": "2023-09-14T03:55:06.985459500Z"
    }
   }
  },
  {
   "cell_type": "code",
   "execution_count": 194,
   "outputs": [
    {
     "name": "stdout",
     "output_type": "stream",
     "text": [
      "train_inputs: (152208, 50)\n",
      "train_targets: (152208,)\n",
      "val_inputs: (50736, 50)\n",
      "val_targets: (50736,)\n",
      "test_inputs: (50736, 50)\n",
      "test_targets: (50736,)\n"
     ]
    }
   ],
   "source": [
    "print('train_inputs:', train_inputs.shape)\n",
    "print('train_targets:', train_targets.shape)\n",
    "print('val_inputs:', val_inputs.shape)\n",
    "print('val_targets:', val_targets.shape)\n",
    "print('test_inputs:', test_inputs.shape)\n",
    "print('test_targets:', test_targets.shape)"
   ],
   "metadata": {
    "collapsed": false,
    "ExecuteTime": {
     "end_time": "2023-09-14T03:55:07.048916600Z",
     "start_time": "2023-09-14T03:55:07.042681600Z"
    }
   }
  },
  {
   "cell_type": "markdown",
   "source": [
    "#Saving Processed Data As Parquet Files for Optimal Storage"
   ],
   "metadata": {
    "collapsed": false
   }
  },
  {
   "cell_type": "code",
   "execution_count": 195,
   "outputs": [
    {
     "name": "stdout",
     "output_type": "stream",
     "text": [
      "CPU times: total: 500 ms\n",
      "Wall time: 1.33 s\n"
     ]
    }
   ],
   "source": [
    "%%time\n",
    "train_inputs.to_parquet('data/train_inputs.parquet')\n",
    "val_inputs.to_parquet('data/val_inputs.parquet')\n",
    "test_inputs.to_parquet('data/test_inputs.parquet')\n",
    "\n",
    "pd.DataFrame(train_targets).to_parquet('data/train_targets.parquet')\n",
    "pd.DataFrame(val_targets).to_parquet('data/val_targets.parquet')\n",
    "pd.DataFrame(test_targets).to_parquet('data/test_targets.parquet')"
   ],
   "metadata": {
    "collapsed": false,
    "ExecuteTime": {
     "end_time": "2023-09-14T03:55:08.378715400Z",
     "start_time": "2023-09-14T03:55:07.047916200Z"
    }
   }
  },
  {
   "cell_type": "code",
   "execution_count": 196,
   "outputs": [
    {
     "name": "stdout",
     "output_type": "stream",
     "text": [
      "CPU times: total: 172 ms\n",
      "Wall time: 264 ms\n"
     ]
    }
   ],
   "source": [
    "%%time\n",
    "\n",
    "train_inputs = pd.read_parquet('data/train_inputs.parquet')\n",
    "val_inputs = pd.read_parquet('data/val_inputs.parquet')\n",
    "test_inputs = pd.read_parquet('data/test_inputs.parquet')\n",
    "\n",
    "train_targets = pd.read_parquet('data/train_targets.parquet')[target_col]\n",
    "val_targets = pd.read_parquet('data/val_targets.parquet')[target_col]\n",
    "test_targets = pd.read_parquet('data/test_targets.parquet')[target_col]"
   ],
   "metadata": {
    "collapsed": false,
    "ExecuteTime": {
     "end_time": "2023-09-14T03:55:08.652621Z",
     "start_time": "2023-09-14T03:55:08.379716800Z"
    }
   }
  },
  {
   "cell_type": "code",
   "execution_count": 197,
   "outputs": [
    {
     "data": {
      "text/plain": "       HighBP HighChol CholCheck       BMI Smoker Stroke Diabetes  \\\n132776     No       No       Yes  0.151163    Yes     No    Type2   \n60629      No       No       Yes  0.151163     No     No       No   \n163859     No       No       Yes  0.186047    Yes     No       No   \n179387     No       No       Yes  0.220930     No     No       No   \n6258       No       No       Yes  0.104651     No     No       No   \n...       ...      ...       ...       ...    ...    ...      ...   \n153576     No      Yes       Yes  0.139535     No     No       No   \n187540     No       No       Yes  0.174419     No     No       No   \n158320     No       No       Yes  0.127907    Yes     No       No   \n185003    Yes       No       Yes  0.232558    Yes     No       No   \n72397     Yes      Yes       Yes  0.127907    Yes     No       No   \n\n       PhysActivity Fruits Veggies HvyAlcoholConsump AnyHealthcare  \\\n132776          Yes    Yes     Yes                No           Yes   \n60629           Yes    Yes     Yes                No           Yes   \n163859          Yes    Yes     Yes               Yes           Yes   \n179387          Yes    Yes     Yes                No           Yes   \n6258            Yes    Yes     Yes               Yes           Yes   \n...             ...    ...     ...               ...           ...   \n153576           No    Yes     Yes                No           Yes   \n187540           No    Yes      No                No            No   \n158320          Yes    Yes     Yes                No           Yes   \n185003          Yes    Yes     Yes                No           Yes   \n72397           Yes    Yes     Yes                No           Yes   \n\n       NoDocbcCost  GenHlth  MentHlth  PhysHlth DiffWalk     Sex       Age  \\\n132776          No     0.25       0.0  0.033333       No  Female  0.583333   \n60629           No     0.25       0.0  0.000000       No  Female  0.666667   \n163859          No     0.25       0.0  0.000000       No  Female  0.500000   \n179387          No     0.25       0.0  0.000000       No    Male  0.583333   \n6258           Yes     0.25       0.0  0.066667       No  Female  0.083333   \n...            ...      ...       ...       ...      ...     ...       ...   \n153576          No     0.25       0.0  0.066667       No  Female  0.250000   \n187540          No     0.50       0.0  0.000000       No  Female  0.083333   \n158320          No     0.25       0.0  0.000000       No    Male  0.416667   \n185003          No     0.50       0.0  0.000000      Yes    Male  0.666667   \n72397           No     0.25       1.0  0.000000       No  Female  0.833333   \n\n        Education    Income  HighBP_No  HighBP_Yes  HighChol_No  HighChol_Yes  \\\n132776        0.8  1.000000        1.0         0.0          1.0           0.0   \n60629         1.0  0.857143        1.0         0.0          1.0           0.0   \n163859        1.0  1.000000        1.0         0.0          1.0           0.0   \n179387        1.0  1.000000        1.0         0.0          1.0           0.0   \n6258          0.6  0.714286        1.0         0.0          1.0           0.0   \n...           ...       ...        ...         ...          ...           ...   \n153576        1.0  1.000000        1.0         0.0          0.0           1.0   \n187540        0.6  0.714286        1.0         0.0          1.0           0.0   \n158320        1.0  1.000000        1.0         0.0          1.0           0.0   \n185003        1.0  1.000000        0.0         1.0          1.0           0.0   \n72397         1.0  1.000000        0.0         1.0          0.0           1.0   \n\n        CholCheck_No  CholCheck_Yes  Smoker_No  Smoker_Yes  Stroke_No  \\\n132776           0.0            1.0        0.0         1.0        1.0   \n60629            0.0            1.0        1.0         0.0        1.0   \n163859           0.0            1.0        0.0         1.0        1.0   \n179387           0.0            1.0        1.0         0.0        1.0   \n6258             0.0            1.0        1.0         0.0        1.0   \n...              ...            ...        ...         ...        ...   \n153576           0.0            1.0        1.0         0.0        1.0   \n187540           0.0            1.0        1.0         0.0        1.0   \n158320           0.0            1.0        0.0         1.0        1.0   \n185003           0.0            1.0        0.0         1.0        1.0   \n72397            0.0            1.0        0.0         1.0        1.0   \n\n        Stroke_Yes  Diabetes_No  Diabetes_Type1  Diabetes_Type2  \\\n132776         0.0          0.0             0.0             1.0   \n60629          0.0          1.0             0.0             0.0   \n163859         0.0          1.0             0.0             0.0   \n179387         0.0          1.0             0.0             0.0   \n6258           0.0          1.0             0.0             0.0   \n...            ...          ...             ...             ...   \n153576         0.0          1.0             0.0             0.0   \n187540         0.0          1.0             0.0             0.0   \n158320         0.0          1.0             0.0             0.0   \n185003         0.0          1.0             0.0             0.0   \n72397          0.0          1.0             0.0             0.0   \n\n        PhysActivity_No  PhysActivity_Yes  Fruits_No  Fruits_Yes  Veggies_No  \\\n132776              0.0               1.0        0.0         1.0         0.0   \n60629               0.0               1.0        0.0         1.0         0.0   \n163859              0.0               1.0        0.0         1.0         0.0   \n179387              0.0               1.0        0.0         1.0         0.0   \n6258                0.0               1.0        0.0         1.0         0.0   \n...                 ...               ...        ...         ...         ...   \n153576              1.0               0.0        0.0         1.0         0.0   \n187540              1.0               0.0        0.0         1.0         1.0   \n158320              0.0               1.0        0.0         1.0         0.0   \n185003              0.0               1.0        0.0         1.0         0.0   \n72397               0.0               1.0        0.0         1.0         0.0   \n\n        Veggies_Yes  HvyAlcoholConsump_No  HvyAlcoholConsump_Yes  \\\n132776          1.0                   1.0                    0.0   \n60629           1.0                   1.0                    0.0   \n163859          1.0                   0.0                    1.0   \n179387          1.0                   1.0                    0.0   \n6258            1.0                   0.0                    1.0   \n...             ...                   ...                    ...   \n153576          1.0                   1.0                    0.0   \n187540          0.0                   1.0                    0.0   \n158320          1.0                   1.0                    0.0   \n185003          1.0                   1.0                    0.0   \n72397           1.0                   1.0                    0.0   \n\n        AnyHealthcare_No  AnyHealthcare_Yes  NoDocbcCost_No  NoDocbcCost_Yes  \\\n132776               0.0                1.0             1.0              0.0   \n60629                0.0                1.0             1.0              0.0   \n163859               0.0                1.0             1.0              0.0   \n179387               0.0                1.0             1.0              0.0   \n6258                 0.0                1.0             0.0              1.0   \n...                  ...                ...             ...              ...   \n153576               0.0                1.0             1.0              0.0   \n187540               1.0                0.0             1.0              0.0   \n158320               0.0                1.0             1.0              0.0   \n185003               0.0                1.0             1.0              0.0   \n72397                0.0                1.0             1.0              0.0   \n\n        DiffWalk_No  DiffWalk_Yes  Sex_Female  Sex_Male  \n132776          1.0           0.0         1.0       0.0  \n60629           1.0           0.0         1.0       0.0  \n163859          1.0           0.0         1.0       0.0  \n179387          1.0           0.0         0.0       1.0  \n6258            1.0           0.0         1.0       0.0  \n...             ...           ...         ...       ...  \n153576          1.0           0.0         1.0       0.0  \n187540          1.0           0.0         1.0       0.0  \n158320          1.0           0.0         0.0       1.0  \n185003          0.0           1.0         0.0       1.0  \n72397           1.0           0.0         1.0       0.0  \n\n[152208 rows x 50 columns]",
      "text/html": "<div>\n<style scoped>\n    .dataframe tbody tr th:only-of-type {\n        vertical-align: middle;\n    }\n\n    .dataframe tbody tr th {\n        vertical-align: top;\n    }\n\n    .dataframe thead th {\n        text-align: right;\n    }\n</style>\n<table border=\"1\" class=\"dataframe\">\n  <thead>\n    <tr style=\"text-align: right;\">\n      <th></th>\n      <th>HighBP</th>\n      <th>HighChol</th>\n      <th>CholCheck</th>\n      <th>BMI</th>\n      <th>Smoker</th>\n      <th>Stroke</th>\n      <th>Diabetes</th>\n      <th>PhysActivity</th>\n      <th>Fruits</th>\n      <th>Veggies</th>\n      <th>HvyAlcoholConsump</th>\n      <th>AnyHealthcare</th>\n      <th>NoDocbcCost</th>\n      <th>GenHlth</th>\n      <th>MentHlth</th>\n      <th>PhysHlth</th>\n      <th>DiffWalk</th>\n      <th>Sex</th>\n      <th>Age</th>\n      <th>Education</th>\n      <th>Income</th>\n      <th>HighBP_No</th>\n      <th>HighBP_Yes</th>\n      <th>HighChol_No</th>\n      <th>HighChol_Yes</th>\n      <th>CholCheck_No</th>\n      <th>CholCheck_Yes</th>\n      <th>Smoker_No</th>\n      <th>Smoker_Yes</th>\n      <th>Stroke_No</th>\n      <th>Stroke_Yes</th>\n      <th>Diabetes_No</th>\n      <th>Diabetes_Type1</th>\n      <th>Diabetes_Type2</th>\n      <th>PhysActivity_No</th>\n      <th>PhysActivity_Yes</th>\n      <th>Fruits_No</th>\n      <th>Fruits_Yes</th>\n      <th>Veggies_No</th>\n      <th>Veggies_Yes</th>\n      <th>HvyAlcoholConsump_No</th>\n      <th>HvyAlcoholConsump_Yes</th>\n      <th>AnyHealthcare_No</th>\n      <th>AnyHealthcare_Yes</th>\n      <th>NoDocbcCost_No</th>\n      <th>NoDocbcCost_Yes</th>\n      <th>DiffWalk_No</th>\n      <th>DiffWalk_Yes</th>\n      <th>Sex_Female</th>\n      <th>Sex_Male</th>\n    </tr>\n  </thead>\n  <tbody>\n    <tr>\n      <th>132776</th>\n      <td>No</td>\n      <td>No</td>\n      <td>Yes</td>\n      <td>0.151163</td>\n      <td>Yes</td>\n      <td>No</td>\n      <td>Type2</td>\n      <td>Yes</td>\n      <td>Yes</td>\n      <td>Yes</td>\n      <td>No</td>\n      <td>Yes</td>\n      <td>No</td>\n      <td>0.25</td>\n      <td>0.0</td>\n      <td>0.033333</td>\n      <td>No</td>\n      <td>Female</td>\n      <td>0.583333</td>\n      <td>0.8</td>\n      <td>1.000000</td>\n      <td>1.0</td>\n      <td>0.0</td>\n      <td>1.0</td>\n      <td>0.0</td>\n      <td>0.0</td>\n      <td>1.0</td>\n      <td>0.0</td>\n      <td>1.0</td>\n      <td>1.0</td>\n      <td>0.0</td>\n      <td>0.0</td>\n      <td>0.0</td>\n      <td>1.0</td>\n      <td>0.0</td>\n      <td>1.0</td>\n      <td>0.0</td>\n      <td>1.0</td>\n      <td>0.0</td>\n      <td>1.0</td>\n      <td>1.0</td>\n      <td>0.0</td>\n      <td>0.0</td>\n      <td>1.0</td>\n      <td>1.0</td>\n      <td>0.0</td>\n      <td>1.0</td>\n      <td>0.0</td>\n      <td>1.0</td>\n      <td>0.0</td>\n    </tr>\n    <tr>\n      <th>60629</th>\n      <td>No</td>\n      <td>No</td>\n      <td>Yes</td>\n      <td>0.151163</td>\n      <td>No</td>\n      <td>No</td>\n      <td>No</td>\n      <td>Yes</td>\n      <td>Yes</td>\n      <td>Yes</td>\n      <td>No</td>\n      <td>Yes</td>\n      <td>No</td>\n      <td>0.25</td>\n      <td>0.0</td>\n      <td>0.000000</td>\n      <td>No</td>\n      <td>Female</td>\n      <td>0.666667</td>\n      <td>1.0</td>\n      <td>0.857143</td>\n      <td>1.0</td>\n      <td>0.0</td>\n      <td>1.0</td>\n      <td>0.0</td>\n      <td>0.0</td>\n      <td>1.0</td>\n      <td>1.0</td>\n      <td>0.0</td>\n      <td>1.0</td>\n      <td>0.0</td>\n      <td>1.0</td>\n      <td>0.0</td>\n      <td>0.0</td>\n      <td>0.0</td>\n      <td>1.0</td>\n      <td>0.0</td>\n      <td>1.0</td>\n      <td>0.0</td>\n      <td>1.0</td>\n      <td>1.0</td>\n      <td>0.0</td>\n      <td>0.0</td>\n      <td>1.0</td>\n      <td>1.0</td>\n      <td>0.0</td>\n      <td>1.0</td>\n      <td>0.0</td>\n      <td>1.0</td>\n      <td>0.0</td>\n    </tr>\n    <tr>\n      <th>163859</th>\n      <td>No</td>\n      <td>No</td>\n      <td>Yes</td>\n      <td>0.186047</td>\n      <td>Yes</td>\n      <td>No</td>\n      <td>No</td>\n      <td>Yes</td>\n      <td>Yes</td>\n      <td>Yes</td>\n      <td>Yes</td>\n      <td>Yes</td>\n      <td>No</td>\n      <td>0.25</td>\n      <td>0.0</td>\n      <td>0.000000</td>\n      <td>No</td>\n      <td>Female</td>\n      <td>0.500000</td>\n      <td>1.0</td>\n      <td>1.000000</td>\n      <td>1.0</td>\n      <td>0.0</td>\n      <td>1.0</td>\n      <td>0.0</td>\n      <td>0.0</td>\n      <td>1.0</td>\n      <td>0.0</td>\n      <td>1.0</td>\n      <td>1.0</td>\n      <td>0.0</td>\n      <td>1.0</td>\n      <td>0.0</td>\n      <td>0.0</td>\n      <td>0.0</td>\n      <td>1.0</td>\n      <td>0.0</td>\n      <td>1.0</td>\n      <td>0.0</td>\n      <td>1.0</td>\n      <td>0.0</td>\n      <td>1.0</td>\n      <td>0.0</td>\n      <td>1.0</td>\n      <td>1.0</td>\n      <td>0.0</td>\n      <td>1.0</td>\n      <td>0.0</td>\n      <td>1.0</td>\n      <td>0.0</td>\n    </tr>\n    <tr>\n      <th>179387</th>\n      <td>No</td>\n      <td>No</td>\n      <td>Yes</td>\n      <td>0.220930</td>\n      <td>No</td>\n      <td>No</td>\n      <td>No</td>\n      <td>Yes</td>\n      <td>Yes</td>\n      <td>Yes</td>\n      <td>No</td>\n      <td>Yes</td>\n      <td>No</td>\n      <td>0.25</td>\n      <td>0.0</td>\n      <td>0.000000</td>\n      <td>No</td>\n      <td>Male</td>\n      <td>0.583333</td>\n      <td>1.0</td>\n      <td>1.000000</td>\n      <td>1.0</td>\n      <td>0.0</td>\n      <td>1.0</td>\n      <td>0.0</td>\n      <td>0.0</td>\n      <td>1.0</td>\n      <td>1.0</td>\n      <td>0.0</td>\n      <td>1.0</td>\n      <td>0.0</td>\n      <td>1.0</td>\n      <td>0.0</td>\n      <td>0.0</td>\n      <td>0.0</td>\n      <td>1.0</td>\n      <td>0.0</td>\n      <td>1.0</td>\n      <td>0.0</td>\n      <td>1.0</td>\n      <td>1.0</td>\n      <td>0.0</td>\n      <td>0.0</td>\n      <td>1.0</td>\n      <td>1.0</td>\n      <td>0.0</td>\n      <td>1.0</td>\n      <td>0.0</td>\n      <td>0.0</td>\n      <td>1.0</td>\n    </tr>\n    <tr>\n      <th>6258</th>\n      <td>No</td>\n      <td>No</td>\n      <td>Yes</td>\n      <td>0.104651</td>\n      <td>No</td>\n      <td>No</td>\n      <td>No</td>\n      <td>Yes</td>\n      <td>Yes</td>\n      <td>Yes</td>\n      <td>Yes</td>\n      <td>Yes</td>\n      <td>Yes</td>\n      <td>0.25</td>\n      <td>0.0</td>\n      <td>0.066667</td>\n      <td>No</td>\n      <td>Female</td>\n      <td>0.083333</td>\n      <td>0.6</td>\n      <td>0.714286</td>\n      <td>1.0</td>\n      <td>0.0</td>\n      <td>1.0</td>\n      <td>0.0</td>\n      <td>0.0</td>\n      <td>1.0</td>\n      <td>1.0</td>\n      <td>0.0</td>\n      <td>1.0</td>\n      <td>0.0</td>\n      <td>1.0</td>\n      <td>0.0</td>\n      <td>0.0</td>\n      <td>0.0</td>\n      <td>1.0</td>\n      <td>0.0</td>\n      <td>1.0</td>\n      <td>0.0</td>\n      <td>1.0</td>\n      <td>0.0</td>\n      <td>1.0</td>\n      <td>0.0</td>\n      <td>1.0</td>\n      <td>0.0</td>\n      <td>1.0</td>\n      <td>1.0</td>\n      <td>0.0</td>\n      <td>1.0</td>\n      <td>0.0</td>\n    </tr>\n    <tr>\n      <th>...</th>\n      <td>...</td>\n      <td>...</td>\n      <td>...</td>\n      <td>...</td>\n      <td>...</td>\n      <td>...</td>\n      <td>...</td>\n      <td>...</td>\n      <td>...</td>\n      <td>...</td>\n      <td>...</td>\n      <td>...</td>\n      <td>...</td>\n      <td>...</td>\n      <td>...</td>\n      <td>...</td>\n      <td>...</td>\n      <td>...</td>\n      <td>...</td>\n      <td>...</td>\n      <td>...</td>\n      <td>...</td>\n      <td>...</td>\n      <td>...</td>\n      <td>...</td>\n      <td>...</td>\n      <td>...</td>\n      <td>...</td>\n      <td>...</td>\n      <td>...</td>\n      <td>...</td>\n      <td>...</td>\n      <td>...</td>\n      <td>...</td>\n      <td>...</td>\n      <td>...</td>\n      <td>...</td>\n      <td>...</td>\n      <td>...</td>\n      <td>...</td>\n      <td>...</td>\n      <td>...</td>\n      <td>...</td>\n      <td>...</td>\n      <td>...</td>\n      <td>...</td>\n      <td>...</td>\n      <td>...</td>\n      <td>...</td>\n      <td>...</td>\n    </tr>\n    <tr>\n      <th>153576</th>\n      <td>No</td>\n      <td>Yes</td>\n      <td>Yes</td>\n      <td>0.139535</td>\n      <td>No</td>\n      <td>No</td>\n      <td>No</td>\n      <td>No</td>\n      <td>Yes</td>\n      <td>Yes</td>\n      <td>No</td>\n      <td>Yes</td>\n      <td>No</td>\n      <td>0.25</td>\n      <td>0.0</td>\n      <td>0.066667</td>\n      <td>No</td>\n      <td>Female</td>\n      <td>0.250000</td>\n      <td>1.0</td>\n      <td>1.000000</td>\n      <td>1.0</td>\n      <td>0.0</td>\n      <td>0.0</td>\n      <td>1.0</td>\n      <td>0.0</td>\n      <td>1.0</td>\n      <td>1.0</td>\n      <td>0.0</td>\n      <td>1.0</td>\n      <td>0.0</td>\n      <td>1.0</td>\n      <td>0.0</td>\n      <td>0.0</td>\n      <td>1.0</td>\n      <td>0.0</td>\n      <td>0.0</td>\n      <td>1.0</td>\n      <td>0.0</td>\n      <td>1.0</td>\n      <td>1.0</td>\n      <td>0.0</td>\n      <td>0.0</td>\n      <td>1.0</td>\n      <td>1.0</td>\n      <td>0.0</td>\n      <td>1.0</td>\n      <td>0.0</td>\n      <td>1.0</td>\n      <td>0.0</td>\n    </tr>\n    <tr>\n      <th>187540</th>\n      <td>No</td>\n      <td>No</td>\n      <td>Yes</td>\n      <td>0.174419</td>\n      <td>No</td>\n      <td>No</td>\n      <td>No</td>\n      <td>No</td>\n      <td>Yes</td>\n      <td>No</td>\n      <td>No</td>\n      <td>No</td>\n      <td>No</td>\n      <td>0.50</td>\n      <td>0.0</td>\n      <td>0.000000</td>\n      <td>No</td>\n      <td>Female</td>\n      <td>0.083333</td>\n      <td>0.6</td>\n      <td>0.714286</td>\n      <td>1.0</td>\n      <td>0.0</td>\n      <td>1.0</td>\n      <td>0.0</td>\n      <td>0.0</td>\n      <td>1.0</td>\n      <td>1.0</td>\n      <td>0.0</td>\n      <td>1.0</td>\n      <td>0.0</td>\n      <td>1.0</td>\n      <td>0.0</td>\n      <td>0.0</td>\n      <td>1.0</td>\n      <td>0.0</td>\n      <td>0.0</td>\n      <td>1.0</td>\n      <td>1.0</td>\n      <td>0.0</td>\n      <td>1.0</td>\n      <td>0.0</td>\n      <td>1.0</td>\n      <td>0.0</td>\n      <td>1.0</td>\n      <td>0.0</td>\n      <td>1.0</td>\n      <td>0.0</td>\n      <td>1.0</td>\n      <td>0.0</td>\n    </tr>\n    <tr>\n      <th>158320</th>\n      <td>No</td>\n      <td>No</td>\n      <td>Yes</td>\n      <td>0.127907</td>\n      <td>Yes</td>\n      <td>No</td>\n      <td>No</td>\n      <td>Yes</td>\n      <td>Yes</td>\n      <td>Yes</td>\n      <td>No</td>\n      <td>Yes</td>\n      <td>No</td>\n      <td>0.25</td>\n      <td>0.0</td>\n      <td>0.000000</td>\n      <td>No</td>\n      <td>Male</td>\n      <td>0.416667</td>\n      <td>1.0</td>\n      <td>1.000000</td>\n      <td>1.0</td>\n      <td>0.0</td>\n      <td>1.0</td>\n      <td>0.0</td>\n      <td>0.0</td>\n      <td>1.0</td>\n      <td>0.0</td>\n      <td>1.0</td>\n      <td>1.0</td>\n      <td>0.0</td>\n      <td>1.0</td>\n      <td>0.0</td>\n      <td>0.0</td>\n      <td>0.0</td>\n      <td>1.0</td>\n      <td>0.0</td>\n      <td>1.0</td>\n      <td>0.0</td>\n      <td>1.0</td>\n      <td>1.0</td>\n      <td>0.0</td>\n      <td>0.0</td>\n      <td>1.0</td>\n      <td>1.0</td>\n      <td>0.0</td>\n      <td>1.0</td>\n      <td>0.0</td>\n      <td>0.0</td>\n      <td>1.0</td>\n    </tr>\n    <tr>\n      <th>185003</th>\n      <td>Yes</td>\n      <td>No</td>\n      <td>Yes</td>\n      <td>0.232558</td>\n      <td>Yes</td>\n      <td>No</td>\n      <td>No</td>\n      <td>Yes</td>\n      <td>Yes</td>\n      <td>Yes</td>\n      <td>No</td>\n      <td>Yes</td>\n      <td>No</td>\n      <td>0.50</td>\n      <td>0.0</td>\n      <td>0.000000</td>\n      <td>Yes</td>\n      <td>Male</td>\n      <td>0.666667</td>\n      <td>1.0</td>\n      <td>1.000000</td>\n      <td>0.0</td>\n      <td>1.0</td>\n      <td>1.0</td>\n      <td>0.0</td>\n      <td>0.0</td>\n      <td>1.0</td>\n      <td>0.0</td>\n      <td>1.0</td>\n      <td>1.0</td>\n      <td>0.0</td>\n      <td>1.0</td>\n      <td>0.0</td>\n      <td>0.0</td>\n      <td>0.0</td>\n      <td>1.0</td>\n      <td>0.0</td>\n      <td>1.0</td>\n      <td>0.0</td>\n      <td>1.0</td>\n      <td>1.0</td>\n      <td>0.0</td>\n      <td>0.0</td>\n      <td>1.0</td>\n      <td>1.0</td>\n      <td>0.0</td>\n      <td>0.0</td>\n      <td>1.0</td>\n      <td>0.0</td>\n      <td>1.0</td>\n    </tr>\n    <tr>\n      <th>72397</th>\n      <td>Yes</td>\n      <td>Yes</td>\n      <td>Yes</td>\n      <td>0.127907</td>\n      <td>Yes</td>\n      <td>No</td>\n      <td>No</td>\n      <td>Yes</td>\n      <td>Yes</td>\n      <td>Yes</td>\n      <td>No</td>\n      <td>Yes</td>\n      <td>No</td>\n      <td>0.25</td>\n      <td>1.0</td>\n      <td>0.000000</td>\n      <td>No</td>\n      <td>Female</td>\n      <td>0.833333</td>\n      <td>1.0</td>\n      <td>1.000000</td>\n      <td>0.0</td>\n      <td>1.0</td>\n      <td>0.0</td>\n      <td>1.0</td>\n      <td>0.0</td>\n      <td>1.0</td>\n      <td>0.0</td>\n      <td>1.0</td>\n      <td>1.0</td>\n      <td>0.0</td>\n      <td>1.0</td>\n      <td>0.0</td>\n      <td>0.0</td>\n      <td>0.0</td>\n      <td>1.0</td>\n      <td>0.0</td>\n      <td>1.0</td>\n      <td>0.0</td>\n      <td>1.0</td>\n      <td>1.0</td>\n      <td>0.0</td>\n      <td>0.0</td>\n      <td>1.0</td>\n      <td>1.0</td>\n      <td>0.0</td>\n      <td>1.0</td>\n      <td>0.0</td>\n      <td>1.0</td>\n      <td>0.0</td>\n    </tr>\n  </tbody>\n</table>\n<p>152208 rows × 50 columns</p>\n</div>"
     },
     "execution_count": 197,
     "metadata": {},
     "output_type": "execute_result"
    }
   ],
   "source": [
    "train_inputs"
   ],
   "metadata": {
    "collapsed": false,
    "ExecuteTime": {
     "end_time": "2023-09-14T03:55:08.725020300Z",
     "start_time": "2023-09-14T03:55:08.648621500Z"
    }
   }
  },
  {
   "cell_type": "code",
   "execution_count": 198,
   "outputs": [
    {
     "data": {
      "text/plain": "       HighBP HighChol CholCheck       BMI Smoker Stroke Diabetes  \\\n177961    Yes      Yes       Yes  0.186047     No     No       No   \n105626    Yes      Yes       Yes  0.174419    Yes    Yes    Type2   \n136759     No      Yes       Yes  0.406977     No     No       No   \n181637    Yes       No       Yes  0.162791     No     No       No   \n245214     No       No       Yes  0.127907     No     No       No   \n...       ...      ...       ...       ...    ...    ...      ...   \n250516    Yes       No       Yes  0.197674     No     No       No   \n161301    Yes      Yes       Yes  0.116279     No     No    Type2   \n31718      No       No       Yes  0.139535     No     No       No   \n152320     No      Yes       Yes  0.162791    Yes     No       No   \n87111      No      Yes       Yes  0.244186    Yes     No       No   \n\n       PhysActivity Fruits Veggies HvyAlcoholConsump AnyHealthcare  \\\n177961           No    Yes     Yes                No           Yes   \n105626           No    Yes     Yes                No           Yes   \n136759          Yes    Yes      No                No           Yes   \n181637          Yes    Yes     Yes                No           Yes   \n245214          Yes    Yes     Yes                No           Yes   \n...             ...    ...     ...               ...           ...   \n250516          Yes    Yes     Yes                No           Yes   \n161301          Yes    Yes     Yes                No           Yes   \n31718           Yes    Yes     Yes                No           Yes   \n152320           No    Yes     Yes                No           Yes   \n87111           Yes    Yes     Yes                No           Yes   \n\n       NoDocbcCost  GenHlth  MentHlth  PhysHlth DiffWalk     Sex       Age  \\\n177961          No     0.25  0.000000  0.066667       No    Male  0.750000   \n105626          No     0.75  0.266667  0.666667      Yes  Female  0.750000   \n136759          No     0.50  0.100000  0.000000      Yes    Male  0.333333   \n181637          No     0.00  0.000000  0.000000       No    Male  0.416667   \n245214          No     0.25  0.000000  0.000000      Yes    Male  0.583333   \n...            ...      ...       ...       ...      ...     ...       ...   \n250516          No     0.25  0.000000  0.100000       No    Male  0.583333   \n161301          No     0.25  0.066667  0.066667       No  Female  0.666667   \n31718           No     0.25  0.000000  0.033333       No  Female  0.583333   \n152320          No     0.00  0.066667  0.000000       No  Female  0.666667   \n87111           No     0.50  0.000000  0.000000       No  Female  0.416667   \n\n        Education    Income  HighBP_No  HighBP_Yes  HighChol_No  HighChol_Yes  \\\n177961        0.6  0.571429        0.0         1.0          0.0           1.0   \n105626        0.6  0.142857        0.0         1.0          0.0           1.0   \n136759        1.0  0.571429        1.0         0.0          0.0           1.0   \n181637        1.0  1.000000        0.0         1.0          1.0           0.0   \n245214        1.0  0.857143        1.0         0.0          1.0           0.0   \n...           ...       ...        ...         ...          ...           ...   \n250516        1.0  0.857143        0.0         1.0          1.0           0.0   \n161301        0.8  0.000000        0.0         1.0          0.0           1.0   \n31718         1.0  0.857143        1.0         0.0          1.0           0.0   \n152320        0.8  0.857143        1.0         0.0          0.0           1.0   \n87111         0.8  0.714286        1.0         0.0          0.0           1.0   \n\n        CholCheck_No  CholCheck_Yes  Smoker_No  Smoker_Yes  Stroke_No  \\\n177961           0.0            1.0        1.0         0.0        1.0   \n105626           0.0            1.0        0.0         1.0        0.0   \n136759           0.0            1.0        1.0         0.0        1.0   \n181637           0.0            1.0        1.0         0.0        1.0   \n245214           0.0            1.0        1.0         0.0        1.0   \n...              ...            ...        ...         ...        ...   \n250516           0.0            1.0        1.0         0.0        1.0   \n161301           0.0            1.0        1.0         0.0        1.0   \n31718            0.0            1.0        1.0         0.0        1.0   \n152320           0.0            1.0        0.0         1.0        1.0   \n87111            0.0            1.0        0.0         1.0        1.0   \n\n        Stroke_Yes  Diabetes_No  Diabetes_Type1  Diabetes_Type2  \\\n177961         0.0          1.0             0.0             0.0   \n105626         1.0          0.0             0.0             1.0   \n136759         0.0          1.0             0.0             0.0   \n181637         0.0          1.0             0.0             0.0   \n245214         0.0          1.0             0.0             0.0   \n...            ...          ...             ...             ...   \n250516         0.0          1.0             0.0             0.0   \n161301         0.0          0.0             0.0             1.0   \n31718          0.0          1.0             0.0             0.0   \n152320         0.0          1.0             0.0             0.0   \n87111          0.0          1.0             0.0             0.0   \n\n        PhysActivity_No  PhysActivity_Yes  Fruits_No  Fruits_Yes  Veggies_No  \\\n177961              1.0               0.0        0.0         1.0         0.0   \n105626              1.0               0.0        0.0         1.0         0.0   \n136759              0.0               1.0        0.0         1.0         1.0   \n181637              0.0               1.0        0.0         1.0         0.0   \n245214              0.0               1.0        0.0         1.0         0.0   \n...                 ...               ...        ...         ...         ...   \n250516              0.0               1.0        0.0         1.0         0.0   \n161301              0.0               1.0        0.0         1.0         0.0   \n31718               0.0               1.0        0.0         1.0         0.0   \n152320              1.0               0.0        0.0         1.0         0.0   \n87111               0.0               1.0        0.0         1.0         0.0   \n\n        Veggies_Yes  HvyAlcoholConsump_No  HvyAlcoholConsump_Yes  \\\n177961          1.0                   1.0                    0.0   \n105626          1.0                   1.0                    0.0   \n136759          0.0                   1.0                    0.0   \n181637          1.0                   1.0                    0.0   \n245214          1.0                   1.0                    0.0   \n...             ...                   ...                    ...   \n250516          1.0                   1.0                    0.0   \n161301          1.0                   1.0                    0.0   \n31718           1.0                   1.0                    0.0   \n152320          1.0                   1.0                    0.0   \n87111           1.0                   1.0                    0.0   \n\n        AnyHealthcare_No  AnyHealthcare_Yes  NoDocbcCost_No  NoDocbcCost_Yes  \\\n177961               0.0                1.0             1.0              0.0   \n105626               0.0                1.0             1.0              0.0   \n136759               0.0                1.0             1.0              0.0   \n181637               0.0                1.0             1.0              0.0   \n245214               0.0                1.0             1.0              0.0   \n...                  ...                ...             ...              ...   \n250516               0.0                1.0             1.0              0.0   \n161301               0.0                1.0             1.0              0.0   \n31718                0.0                1.0             1.0              0.0   \n152320               0.0                1.0             1.0              0.0   \n87111                0.0                1.0             1.0              0.0   \n\n        DiffWalk_No  DiffWalk_Yes  Sex_Female  Sex_Male  \n177961          1.0           0.0         0.0       1.0  \n105626          0.0           1.0         1.0       0.0  \n136759          0.0           1.0         0.0       1.0  \n181637          1.0           0.0         0.0       1.0  \n245214          0.0           1.0         0.0       1.0  \n...             ...           ...         ...       ...  \n250516          1.0           0.0         0.0       1.0  \n161301          1.0           0.0         1.0       0.0  \n31718           1.0           0.0         1.0       0.0  \n152320          1.0           0.0         1.0       0.0  \n87111           1.0           0.0         1.0       0.0  \n\n[50736 rows x 50 columns]",
      "text/html": "<div>\n<style scoped>\n    .dataframe tbody tr th:only-of-type {\n        vertical-align: middle;\n    }\n\n    .dataframe tbody tr th {\n        vertical-align: top;\n    }\n\n    .dataframe thead th {\n        text-align: right;\n    }\n</style>\n<table border=\"1\" class=\"dataframe\">\n  <thead>\n    <tr style=\"text-align: right;\">\n      <th></th>\n      <th>HighBP</th>\n      <th>HighChol</th>\n      <th>CholCheck</th>\n      <th>BMI</th>\n      <th>Smoker</th>\n      <th>Stroke</th>\n      <th>Diabetes</th>\n      <th>PhysActivity</th>\n      <th>Fruits</th>\n      <th>Veggies</th>\n      <th>HvyAlcoholConsump</th>\n      <th>AnyHealthcare</th>\n      <th>NoDocbcCost</th>\n      <th>GenHlth</th>\n      <th>MentHlth</th>\n      <th>PhysHlth</th>\n      <th>DiffWalk</th>\n      <th>Sex</th>\n      <th>Age</th>\n      <th>Education</th>\n      <th>Income</th>\n      <th>HighBP_No</th>\n      <th>HighBP_Yes</th>\n      <th>HighChol_No</th>\n      <th>HighChol_Yes</th>\n      <th>CholCheck_No</th>\n      <th>CholCheck_Yes</th>\n      <th>Smoker_No</th>\n      <th>Smoker_Yes</th>\n      <th>Stroke_No</th>\n      <th>Stroke_Yes</th>\n      <th>Diabetes_No</th>\n      <th>Diabetes_Type1</th>\n      <th>Diabetes_Type2</th>\n      <th>PhysActivity_No</th>\n      <th>PhysActivity_Yes</th>\n      <th>Fruits_No</th>\n      <th>Fruits_Yes</th>\n      <th>Veggies_No</th>\n      <th>Veggies_Yes</th>\n      <th>HvyAlcoholConsump_No</th>\n      <th>HvyAlcoholConsump_Yes</th>\n      <th>AnyHealthcare_No</th>\n      <th>AnyHealthcare_Yes</th>\n      <th>NoDocbcCost_No</th>\n      <th>NoDocbcCost_Yes</th>\n      <th>DiffWalk_No</th>\n      <th>DiffWalk_Yes</th>\n      <th>Sex_Female</th>\n      <th>Sex_Male</th>\n    </tr>\n  </thead>\n  <tbody>\n    <tr>\n      <th>177961</th>\n      <td>Yes</td>\n      <td>Yes</td>\n      <td>Yes</td>\n      <td>0.186047</td>\n      <td>No</td>\n      <td>No</td>\n      <td>No</td>\n      <td>No</td>\n      <td>Yes</td>\n      <td>Yes</td>\n      <td>No</td>\n      <td>Yes</td>\n      <td>No</td>\n      <td>0.25</td>\n      <td>0.000000</td>\n      <td>0.066667</td>\n      <td>No</td>\n      <td>Male</td>\n      <td>0.750000</td>\n      <td>0.6</td>\n      <td>0.571429</td>\n      <td>0.0</td>\n      <td>1.0</td>\n      <td>0.0</td>\n      <td>1.0</td>\n      <td>0.0</td>\n      <td>1.0</td>\n      <td>1.0</td>\n      <td>0.0</td>\n      <td>1.0</td>\n      <td>0.0</td>\n      <td>1.0</td>\n      <td>0.0</td>\n      <td>0.0</td>\n      <td>1.0</td>\n      <td>0.0</td>\n      <td>0.0</td>\n      <td>1.0</td>\n      <td>0.0</td>\n      <td>1.0</td>\n      <td>1.0</td>\n      <td>0.0</td>\n      <td>0.0</td>\n      <td>1.0</td>\n      <td>1.0</td>\n      <td>0.0</td>\n      <td>1.0</td>\n      <td>0.0</td>\n      <td>0.0</td>\n      <td>1.0</td>\n    </tr>\n    <tr>\n      <th>105626</th>\n      <td>Yes</td>\n      <td>Yes</td>\n      <td>Yes</td>\n      <td>0.174419</td>\n      <td>Yes</td>\n      <td>Yes</td>\n      <td>Type2</td>\n      <td>No</td>\n      <td>Yes</td>\n      <td>Yes</td>\n      <td>No</td>\n      <td>Yes</td>\n      <td>No</td>\n      <td>0.75</td>\n      <td>0.266667</td>\n      <td>0.666667</td>\n      <td>Yes</td>\n      <td>Female</td>\n      <td>0.750000</td>\n      <td>0.6</td>\n      <td>0.142857</td>\n      <td>0.0</td>\n      <td>1.0</td>\n      <td>0.0</td>\n      <td>1.0</td>\n      <td>0.0</td>\n      <td>1.0</td>\n      <td>0.0</td>\n      <td>1.0</td>\n      <td>0.0</td>\n      <td>1.0</td>\n      <td>0.0</td>\n      <td>0.0</td>\n      <td>1.0</td>\n      <td>1.0</td>\n      <td>0.0</td>\n      <td>0.0</td>\n      <td>1.0</td>\n      <td>0.0</td>\n      <td>1.0</td>\n      <td>1.0</td>\n      <td>0.0</td>\n      <td>0.0</td>\n      <td>1.0</td>\n      <td>1.0</td>\n      <td>0.0</td>\n      <td>0.0</td>\n      <td>1.0</td>\n      <td>1.0</td>\n      <td>0.0</td>\n    </tr>\n    <tr>\n      <th>136759</th>\n      <td>No</td>\n      <td>Yes</td>\n      <td>Yes</td>\n      <td>0.406977</td>\n      <td>No</td>\n      <td>No</td>\n      <td>No</td>\n      <td>Yes</td>\n      <td>Yes</td>\n      <td>No</td>\n      <td>No</td>\n      <td>Yes</td>\n      <td>No</td>\n      <td>0.50</td>\n      <td>0.100000</td>\n      <td>0.000000</td>\n      <td>Yes</td>\n      <td>Male</td>\n      <td>0.333333</td>\n      <td>1.0</td>\n      <td>0.571429</td>\n      <td>1.0</td>\n      <td>0.0</td>\n      <td>0.0</td>\n      <td>1.0</td>\n      <td>0.0</td>\n      <td>1.0</td>\n      <td>1.0</td>\n      <td>0.0</td>\n      <td>1.0</td>\n      <td>0.0</td>\n      <td>1.0</td>\n      <td>0.0</td>\n      <td>0.0</td>\n      <td>0.0</td>\n      <td>1.0</td>\n      <td>0.0</td>\n      <td>1.0</td>\n      <td>1.0</td>\n      <td>0.0</td>\n      <td>1.0</td>\n      <td>0.0</td>\n      <td>0.0</td>\n      <td>1.0</td>\n      <td>1.0</td>\n      <td>0.0</td>\n      <td>0.0</td>\n      <td>1.0</td>\n      <td>0.0</td>\n      <td>1.0</td>\n    </tr>\n    <tr>\n      <th>181637</th>\n      <td>Yes</td>\n      <td>No</td>\n      <td>Yes</td>\n      <td>0.162791</td>\n      <td>No</td>\n      <td>No</td>\n      <td>No</td>\n      <td>Yes</td>\n      <td>Yes</td>\n      <td>Yes</td>\n      <td>No</td>\n      <td>Yes</td>\n      <td>No</td>\n      <td>0.00</td>\n      <td>0.000000</td>\n      <td>0.000000</td>\n      <td>No</td>\n      <td>Male</td>\n      <td>0.416667</td>\n      <td>1.0</td>\n      <td>1.000000</td>\n      <td>0.0</td>\n      <td>1.0</td>\n      <td>1.0</td>\n      <td>0.0</td>\n      <td>0.0</td>\n      <td>1.0</td>\n      <td>1.0</td>\n      <td>0.0</td>\n      <td>1.0</td>\n      <td>0.0</td>\n      <td>1.0</td>\n      <td>0.0</td>\n      <td>0.0</td>\n      <td>0.0</td>\n      <td>1.0</td>\n      <td>0.0</td>\n      <td>1.0</td>\n      <td>0.0</td>\n      <td>1.0</td>\n      <td>1.0</td>\n      <td>0.0</td>\n      <td>0.0</td>\n      <td>1.0</td>\n      <td>1.0</td>\n      <td>0.0</td>\n      <td>1.0</td>\n      <td>0.0</td>\n      <td>0.0</td>\n      <td>1.0</td>\n    </tr>\n    <tr>\n      <th>245214</th>\n      <td>No</td>\n      <td>No</td>\n      <td>Yes</td>\n      <td>0.127907</td>\n      <td>No</td>\n      <td>No</td>\n      <td>No</td>\n      <td>Yes</td>\n      <td>Yes</td>\n      <td>Yes</td>\n      <td>No</td>\n      <td>Yes</td>\n      <td>No</td>\n      <td>0.25</td>\n      <td>0.000000</td>\n      <td>0.000000</td>\n      <td>Yes</td>\n      <td>Male</td>\n      <td>0.583333</td>\n      <td>1.0</td>\n      <td>0.857143</td>\n      <td>1.0</td>\n      <td>0.0</td>\n      <td>1.0</td>\n      <td>0.0</td>\n      <td>0.0</td>\n      <td>1.0</td>\n      <td>1.0</td>\n      <td>0.0</td>\n      <td>1.0</td>\n      <td>0.0</td>\n      <td>1.0</td>\n      <td>0.0</td>\n      <td>0.0</td>\n      <td>0.0</td>\n      <td>1.0</td>\n      <td>0.0</td>\n      <td>1.0</td>\n      <td>0.0</td>\n      <td>1.0</td>\n      <td>1.0</td>\n      <td>0.0</td>\n      <td>0.0</td>\n      <td>1.0</td>\n      <td>1.0</td>\n      <td>0.0</td>\n      <td>0.0</td>\n      <td>1.0</td>\n      <td>0.0</td>\n      <td>1.0</td>\n    </tr>\n    <tr>\n      <th>...</th>\n      <td>...</td>\n      <td>...</td>\n      <td>...</td>\n      <td>...</td>\n      <td>...</td>\n      <td>...</td>\n      <td>...</td>\n      <td>...</td>\n      <td>...</td>\n      <td>...</td>\n      <td>...</td>\n      <td>...</td>\n      <td>...</td>\n      <td>...</td>\n      <td>...</td>\n      <td>...</td>\n      <td>...</td>\n      <td>...</td>\n      <td>...</td>\n      <td>...</td>\n      <td>...</td>\n      <td>...</td>\n      <td>...</td>\n      <td>...</td>\n      <td>...</td>\n      <td>...</td>\n      <td>...</td>\n      <td>...</td>\n      <td>...</td>\n      <td>...</td>\n      <td>...</td>\n      <td>...</td>\n      <td>...</td>\n      <td>...</td>\n      <td>...</td>\n      <td>...</td>\n      <td>...</td>\n      <td>...</td>\n      <td>...</td>\n      <td>...</td>\n      <td>...</td>\n      <td>...</td>\n      <td>...</td>\n      <td>...</td>\n      <td>...</td>\n      <td>...</td>\n      <td>...</td>\n      <td>...</td>\n      <td>...</td>\n      <td>...</td>\n    </tr>\n    <tr>\n      <th>250516</th>\n      <td>Yes</td>\n      <td>No</td>\n      <td>Yes</td>\n      <td>0.197674</td>\n      <td>No</td>\n      <td>No</td>\n      <td>No</td>\n      <td>Yes</td>\n      <td>Yes</td>\n      <td>Yes</td>\n      <td>No</td>\n      <td>Yes</td>\n      <td>No</td>\n      <td>0.25</td>\n      <td>0.000000</td>\n      <td>0.100000</td>\n      <td>No</td>\n      <td>Male</td>\n      <td>0.583333</td>\n      <td>1.0</td>\n      <td>0.857143</td>\n      <td>0.0</td>\n      <td>1.0</td>\n      <td>1.0</td>\n      <td>0.0</td>\n      <td>0.0</td>\n      <td>1.0</td>\n      <td>1.0</td>\n      <td>0.0</td>\n      <td>1.0</td>\n      <td>0.0</td>\n      <td>1.0</td>\n      <td>0.0</td>\n      <td>0.0</td>\n      <td>0.0</td>\n      <td>1.0</td>\n      <td>0.0</td>\n      <td>1.0</td>\n      <td>0.0</td>\n      <td>1.0</td>\n      <td>1.0</td>\n      <td>0.0</td>\n      <td>0.0</td>\n      <td>1.0</td>\n      <td>1.0</td>\n      <td>0.0</td>\n      <td>1.0</td>\n      <td>0.0</td>\n      <td>0.0</td>\n      <td>1.0</td>\n    </tr>\n    <tr>\n      <th>161301</th>\n      <td>Yes</td>\n      <td>Yes</td>\n      <td>Yes</td>\n      <td>0.116279</td>\n      <td>No</td>\n      <td>No</td>\n      <td>Type2</td>\n      <td>Yes</td>\n      <td>Yes</td>\n      <td>Yes</td>\n      <td>No</td>\n      <td>Yes</td>\n      <td>No</td>\n      <td>0.25</td>\n      <td>0.066667</td>\n      <td>0.066667</td>\n      <td>No</td>\n      <td>Female</td>\n      <td>0.666667</td>\n      <td>0.8</td>\n      <td>0.000000</td>\n      <td>0.0</td>\n      <td>1.0</td>\n      <td>0.0</td>\n      <td>1.0</td>\n      <td>0.0</td>\n      <td>1.0</td>\n      <td>1.0</td>\n      <td>0.0</td>\n      <td>1.0</td>\n      <td>0.0</td>\n      <td>0.0</td>\n      <td>0.0</td>\n      <td>1.0</td>\n      <td>0.0</td>\n      <td>1.0</td>\n      <td>0.0</td>\n      <td>1.0</td>\n      <td>0.0</td>\n      <td>1.0</td>\n      <td>1.0</td>\n      <td>0.0</td>\n      <td>0.0</td>\n      <td>1.0</td>\n      <td>1.0</td>\n      <td>0.0</td>\n      <td>1.0</td>\n      <td>0.0</td>\n      <td>1.0</td>\n      <td>0.0</td>\n    </tr>\n    <tr>\n      <th>31718</th>\n      <td>No</td>\n      <td>No</td>\n      <td>Yes</td>\n      <td>0.139535</td>\n      <td>No</td>\n      <td>No</td>\n      <td>No</td>\n      <td>Yes</td>\n      <td>Yes</td>\n      <td>Yes</td>\n      <td>No</td>\n      <td>Yes</td>\n      <td>No</td>\n      <td>0.25</td>\n      <td>0.000000</td>\n      <td>0.033333</td>\n      <td>No</td>\n      <td>Female</td>\n      <td>0.583333</td>\n      <td>1.0</td>\n      <td>0.857143</td>\n      <td>1.0</td>\n      <td>0.0</td>\n      <td>1.0</td>\n      <td>0.0</td>\n      <td>0.0</td>\n      <td>1.0</td>\n      <td>1.0</td>\n      <td>0.0</td>\n      <td>1.0</td>\n      <td>0.0</td>\n      <td>1.0</td>\n      <td>0.0</td>\n      <td>0.0</td>\n      <td>0.0</td>\n      <td>1.0</td>\n      <td>0.0</td>\n      <td>1.0</td>\n      <td>0.0</td>\n      <td>1.0</td>\n      <td>1.0</td>\n      <td>0.0</td>\n      <td>0.0</td>\n      <td>1.0</td>\n      <td>1.0</td>\n      <td>0.0</td>\n      <td>1.0</td>\n      <td>0.0</td>\n      <td>1.0</td>\n      <td>0.0</td>\n    </tr>\n    <tr>\n      <th>152320</th>\n      <td>No</td>\n      <td>Yes</td>\n      <td>Yes</td>\n      <td>0.162791</td>\n      <td>Yes</td>\n      <td>No</td>\n      <td>No</td>\n      <td>No</td>\n      <td>Yes</td>\n      <td>Yes</td>\n      <td>No</td>\n      <td>Yes</td>\n      <td>No</td>\n      <td>0.00</td>\n      <td>0.066667</td>\n      <td>0.000000</td>\n      <td>No</td>\n      <td>Female</td>\n      <td>0.666667</td>\n      <td>0.8</td>\n      <td>0.857143</td>\n      <td>1.0</td>\n      <td>0.0</td>\n      <td>0.0</td>\n      <td>1.0</td>\n      <td>0.0</td>\n      <td>1.0</td>\n      <td>0.0</td>\n      <td>1.0</td>\n      <td>1.0</td>\n      <td>0.0</td>\n      <td>1.0</td>\n      <td>0.0</td>\n      <td>0.0</td>\n      <td>1.0</td>\n      <td>0.0</td>\n      <td>0.0</td>\n      <td>1.0</td>\n      <td>0.0</td>\n      <td>1.0</td>\n      <td>1.0</td>\n      <td>0.0</td>\n      <td>0.0</td>\n      <td>1.0</td>\n      <td>1.0</td>\n      <td>0.0</td>\n      <td>1.0</td>\n      <td>0.0</td>\n      <td>1.0</td>\n      <td>0.0</td>\n    </tr>\n    <tr>\n      <th>87111</th>\n      <td>No</td>\n      <td>Yes</td>\n      <td>Yes</td>\n      <td>0.244186</td>\n      <td>Yes</td>\n      <td>No</td>\n      <td>No</td>\n      <td>Yes</td>\n      <td>Yes</td>\n      <td>Yes</td>\n      <td>No</td>\n      <td>Yes</td>\n      <td>No</td>\n      <td>0.50</td>\n      <td>0.000000</td>\n      <td>0.000000</td>\n      <td>No</td>\n      <td>Female</td>\n      <td>0.416667</td>\n      <td>0.8</td>\n      <td>0.714286</td>\n      <td>1.0</td>\n      <td>0.0</td>\n      <td>0.0</td>\n      <td>1.0</td>\n      <td>0.0</td>\n      <td>1.0</td>\n      <td>0.0</td>\n      <td>1.0</td>\n      <td>1.0</td>\n      <td>0.0</td>\n      <td>1.0</td>\n      <td>0.0</td>\n      <td>0.0</td>\n      <td>0.0</td>\n      <td>1.0</td>\n      <td>0.0</td>\n      <td>1.0</td>\n      <td>0.0</td>\n      <td>1.0</td>\n      <td>1.0</td>\n      <td>0.0</td>\n      <td>0.0</td>\n      <td>1.0</td>\n      <td>1.0</td>\n      <td>0.0</td>\n      <td>1.0</td>\n      <td>0.0</td>\n      <td>1.0</td>\n      <td>0.0</td>\n    </tr>\n  </tbody>\n</table>\n<p>50736 rows × 50 columns</p>\n</div>"
     },
     "execution_count": 198,
     "metadata": {},
     "output_type": "execute_result"
    }
   ],
   "source": [
    "val_inputs"
   ],
   "metadata": {
    "collapsed": false,
    "ExecuteTime": {
     "end_time": "2023-09-14T03:55:08.746361600Z",
     "start_time": "2023-09-14T03:55:08.698854100Z"
    }
   }
  },
  {
   "cell_type": "markdown",
   "source": [
    "### Training the Regression Model"
   ],
   "metadata": {
    "collapsed": false
   }
  },
  {
   "cell_type": "code",
   "execution_count": 199,
   "outputs": [],
   "source": [
    "model = LogisticRegression(solver='liblinear')"
   ],
   "metadata": {
    "collapsed": false,
    "ExecuteTime": {
     "end_time": "2023-09-14T03:56:19.071440Z",
     "start_time": "2023-09-14T03:56:19.050252Z"
    }
   }
  },
  {
   "cell_type": "code",
   "execution_count": 200,
   "outputs": [
    {
     "data": {
      "text/plain": "LogisticRegression(solver='liblinear')",
      "text/html": "<style>#sk-container-id-10 {color: black;}#sk-container-id-10 pre{padding: 0;}#sk-container-id-10 div.sk-toggleable {background-color: white;}#sk-container-id-10 label.sk-toggleable__label {cursor: pointer;display: block;width: 100%;margin-bottom: 0;padding: 0.3em;box-sizing: border-box;text-align: center;}#sk-container-id-10 label.sk-toggleable__label-arrow:before {content: \"▸\";float: left;margin-right: 0.25em;color: #696969;}#sk-container-id-10 label.sk-toggleable__label-arrow:hover:before {color: black;}#sk-container-id-10 div.sk-estimator:hover label.sk-toggleable__label-arrow:before {color: black;}#sk-container-id-10 div.sk-toggleable__content {max-height: 0;max-width: 0;overflow: hidden;text-align: left;background-color: #f0f8ff;}#sk-container-id-10 div.sk-toggleable__content pre {margin: 0.2em;color: black;border-radius: 0.25em;background-color: #f0f8ff;}#sk-container-id-10 input.sk-toggleable__control:checked~div.sk-toggleable__content {max-height: 200px;max-width: 100%;overflow: auto;}#sk-container-id-10 input.sk-toggleable__control:checked~label.sk-toggleable__label-arrow:before {content: \"▾\";}#sk-container-id-10 div.sk-estimator input.sk-toggleable__control:checked~label.sk-toggleable__label {background-color: #d4ebff;}#sk-container-id-10 div.sk-label input.sk-toggleable__control:checked~label.sk-toggleable__label {background-color: #d4ebff;}#sk-container-id-10 input.sk-hidden--visually {border: 0;clip: rect(1px 1px 1px 1px);clip: rect(1px, 1px, 1px, 1px);height: 1px;margin: -1px;overflow: hidden;padding: 0;position: absolute;width: 1px;}#sk-container-id-10 div.sk-estimator {font-family: monospace;background-color: #f0f8ff;border: 1px dotted black;border-radius: 0.25em;box-sizing: border-box;margin-bottom: 0.5em;}#sk-container-id-10 div.sk-estimator:hover {background-color: #d4ebff;}#sk-container-id-10 div.sk-parallel-item::after {content: \"\";width: 100%;border-bottom: 1px solid gray;flex-grow: 1;}#sk-container-id-10 div.sk-label:hover label.sk-toggleable__label {background-color: #d4ebff;}#sk-container-id-10 div.sk-serial::before {content: \"\";position: absolute;border-left: 1px solid gray;box-sizing: border-box;top: 0;bottom: 0;left: 50%;z-index: 0;}#sk-container-id-10 div.sk-serial {display: flex;flex-direction: column;align-items: center;background-color: white;padding-right: 0.2em;padding-left: 0.2em;position: relative;}#sk-container-id-10 div.sk-item {position: relative;z-index: 1;}#sk-container-id-10 div.sk-parallel {display: flex;align-items: stretch;justify-content: center;background-color: white;position: relative;}#sk-container-id-10 div.sk-item::before, #sk-container-id-10 div.sk-parallel-item::before {content: \"\";position: absolute;border-left: 1px solid gray;box-sizing: border-box;top: 0;bottom: 0;left: 50%;z-index: -1;}#sk-container-id-10 div.sk-parallel-item {display: flex;flex-direction: column;z-index: 1;position: relative;background-color: white;}#sk-container-id-10 div.sk-parallel-item:first-child::after {align-self: flex-end;width: 50%;}#sk-container-id-10 div.sk-parallel-item:last-child::after {align-self: flex-start;width: 50%;}#sk-container-id-10 div.sk-parallel-item:only-child::after {width: 0;}#sk-container-id-10 div.sk-dashed-wrapped {border: 1px dashed gray;margin: 0 0.4em 0.5em 0.4em;box-sizing: border-box;padding-bottom: 0.4em;background-color: white;}#sk-container-id-10 div.sk-label label {font-family: monospace;font-weight: bold;display: inline-block;line-height: 1.2em;}#sk-container-id-10 div.sk-label-container {text-align: center;}#sk-container-id-10 div.sk-container {/* jupyter's `normalize.less` sets `[hidden] { display: none; }` but bootstrap.min.css set `[hidden] { display: none !important; }` so we also need the `!important` here to be able to override the default hidden behavior on the sphinx rendered scikit-learn.org. See: https://github.com/scikit-learn/scikit-learn/issues/21755 */display: inline-block !important;position: relative;}#sk-container-id-10 div.sk-text-repr-fallback {display: none;}</style><div id=\"sk-container-id-10\" class=\"sk-top-container\"><div class=\"sk-text-repr-fallback\"><pre>LogisticRegression(solver=&#x27;liblinear&#x27;)</pre><b>In a Jupyter environment, please rerun this cell to show the HTML representation or trust the notebook. <br />On GitHub, the HTML representation is unable to render, please try loading this page with nbviewer.org.</b></div><div class=\"sk-container\" hidden><div class=\"sk-item\"><div class=\"sk-estimator sk-toggleable\"><input class=\"sk-toggleable__control sk-hidden--visually\" id=\"sk-estimator-id-10\" type=\"checkbox\" checked><label for=\"sk-estimator-id-10\" class=\"sk-toggleable__label sk-toggleable__label-arrow\">LogisticRegression</label><div class=\"sk-toggleable__content\"><pre>LogisticRegression(solver=&#x27;liblinear&#x27;)</pre></div></div></div></div></div>"
     },
     "execution_count": 200,
     "metadata": {},
     "output_type": "execute_result"
    }
   ],
   "source": [
    "model.fit(train_inputs[numeric_cols + encoded_cols], train_targets)"
   ],
   "metadata": {
    "collapsed": false,
    "ExecuteTime": {
     "end_time": "2023-09-14T03:56:29.560227100Z",
     "start_time": "2023-09-14T03:56:28.314116100Z"
    }
   }
  },
  {
   "cell_type": "code",
   "execution_count": 201,
   "outputs": [
    {
     "name": "stdout",
     "output_type": "stream",
     "text": [
      "['BMI', 'GenHlth', 'MentHlth', 'PhysHlth', 'Age', 'Education', 'Income', 'HighBP_No', 'HighBP_Yes', 'HighChol_No', 'HighChol_Yes', 'CholCheck_No', 'CholCheck_Yes', 'Smoker_No', 'Smoker_Yes', 'Stroke_No', 'Stroke_Yes', 'Diabetes_No', 'Diabetes_Type1', 'Diabetes_Type2', 'PhysActivity_No', 'PhysActivity_Yes', 'Fruits_No', 'Fruits_Yes', 'Veggies_No', 'Veggies_Yes', 'HvyAlcoholConsump_No', 'HvyAlcoholConsump_Yes', 'AnyHealthcare_No', 'AnyHealthcare_Yes', 'NoDocbcCost_No', 'NoDocbcCost_Yes', 'DiffWalk_No', 'DiffWalk_Yes', 'Sex_Female', 'Sex_Male']\n"
     ]
    }
   ],
   "source": [
    "print(numeric_cols + encoded_cols)"
   ],
   "metadata": {
    "collapsed": false,
    "ExecuteTime": {
     "end_time": "2023-09-14T03:56:49.940643900Z",
     "start_time": "2023-09-14T03:56:49.914246500Z"
    }
   }
  },
  {
   "cell_type": "code",
   "execution_count": 203,
   "outputs": [
    {
     "name": "stdout",
     "output_type": "stream",
     "text": [
      "[[0.0862300462265062, 1.979782610689385, 0.06702703073454874, 0.015482091215616892, 3.0637033739973125, 0.08336965016615408, -0.3295308740106033, -0.5845616951658722, -0.05167218522504941, -0.6113249767994736, -0.02490890359258076, -0.5184870995317823, -0.11774678086138769, -0.49834124701847093, -0.13789263337499608, -0.8056162831559368, 0.16938240276564498, -0.3311066530769057, -0.2914303433346001, -0.013696883981233261, -0.34537557106600436, -0.2908583093296005, -0.31727232062003635, -0.31896155977325047, -0.3490232215790508, -0.28721065881150515, -0.14739454837663668, -0.4888393320146517, -0.30859598748904193, -0.3276378929037047, -0.4424628561107052, -0.19377102427711415, -0.46475874228293224, -0.17147513811031576, -0.6828285647833818, 0.04659468438988943]]\n"
     ]
    }
   ],
   "source": [
    "#higher weights the greater impact on predictions\n",
    "print(model.coef_.tolist())"
   ],
   "metadata": {
    "collapsed": false,
    "ExecuteTime": {
     "end_time": "2023-09-14T03:57:45.380402300Z",
     "start_time": "2023-09-14T03:57:45.372578700Z"
    }
   }
  },
  {
   "cell_type": "code",
   "execution_count": 204,
   "outputs": [
    {
     "name": "stdout",
     "output_type": "stream",
     "text": [
      "[-0.63623388]\n"
     ]
    }
   ],
   "source": [
    "print(model.intercept_)"
   ],
   "metadata": {
    "collapsed": false,
    "ExecuteTime": {
     "end_time": "2023-09-14T03:57:53.709693300Z",
     "start_time": "2023-09-14T03:57:53.686389900Z"
    }
   }
  },
  {
   "cell_type": "markdown",
   "source": [
    "### Make Predictions on Training Test Set"
   ],
   "metadata": {
    "collapsed": false
   }
  },
  {
   "cell_type": "code",
   "execution_count": 205,
   "outputs": [],
   "source": [
    "X_train = train_inputs[numeric_cols + encoded_cols]\n",
    "X_val = val_inputs[numeric_cols + encoded_cols]\n",
    "X_test = test_inputs[numeric_cols + encoded_cols]"
   ],
   "metadata": {
    "collapsed": false,
    "ExecuteTime": {
     "end_time": "2023-09-14T03:59:47.593850700Z",
     "start_time": "2023-09-14T03:59:47.560218800Z"
    }
   }
  },
  {
   "cell_type": "code",
   "execution_count": 206,
   "outputs": [],
   "source": [
    "train_preds = model.predict(X_train)"
   ],
   "metadata": {
    "collapsed": false,
    "ExecuteTime": {
     "end_time": "2023-09-14T03:59:53.216115Z",
     "start_time": "2023-09-14T03:59:53.190942800Z"
    }
   }
  },
  {
   "cell_type": "code",
   "execution_count": 207,
   "outputs": [
    {
     "data": {
      "text/plain": "array(['No', 'No', 'No', ..., 'No', 'No', 'No'], dtype=object)"
     },
     "execution_count": 207,
     "metadata": {},
     "output_type": "execute_result"
    }
   ],
   "source": [
    "train_preds"
   ],
   "metadata": {
    "collapsed": false,
    "ExecuteTime": {
     "end_time": "2023-09-14T04:00:01.446730100Z",
     "start_time": "2023-09-14T04:00:01.437424300Z"
    }
   }
  },
  {
   "cell_type": "code",
   "execution_count": 208,
   "outputs": [
    {
     "data": {
      "text/plain": "132776    No\n60629     No\n163859    No\n179387    No\n6258      No\n          ..\n153576    No\n187540    No\n158320    No\n185003    No\n72397     No\nName: HeartDiseaseorAttack, Length: 152208, dtype: object"
     },
     "execution_count": 208,
     "metadata": {},
     "output_type": "execute_result"
    }
   ],
   "source": [
    "train_targets"
   ],
   "metadata": {
    "collapsed": false,
    "ExecuteTime": {
     "end_time": "2023-09-14T04:00:11.832117800Z",
     "start_time": "2023-09-14T04:00:11.807929600Z"
    }
   }
  },
  {
   "cell_type": "code",
   "execution_count": 209,
   "outputs": [
    {
     "data": {
      "text/plain": "array([[0.97888364, 0.02111636],\n       [0.98516297, 0.01483703],\n       [0.99126256, 0.00873744],\n       ...,\n       [0.98056047, 0.01943953],\n       [0.86113478, 0.13886522],\n       [0.89910899, 0.10089101]])"
     },
     "execution_count": 209,
     "metadata": {},
     "output_type": "execute_result"
    }
   ],
   "source": [
    "#probablistic prediction with predict_proba\n",
    "train_probs = model.predict_proba(X_train)\n",
    "train_probs"
   ],
   "metadata": {
    "collapsed": false,
    "ExecuteTime": {
     "end_time": "2023-09-14T04:01:26.062010300Z",
     "start_time": "2023-09-14T04:01:26.015424600Z"
    }
   }
  },
  {
   "cell_type": "code",
   "execution_count": 210,
   "outputs": [
    {
     "data": {
      "text/plain": "array(['No', 'Yes'], dtype=object)"
     },
     "execution_count": 210,
     "metadata": {},
     "output_type": "execute_result"
    }
   ],
   "source": [
    "model.classes_"
   ],
   "metadata": {
    "collapsed": false,
    "ExecuteTime": {
     "end_time": "2023-09-14T04:01:45.857531200Z",
     "start_time": "2023-09-14T04:01:45.808868200Z"
    }
   }
  },
  {
   "cell_type": "code",
   "execution_count": 220,
   "outputs": [
    {
     "name": "stdout",
     "output_type": "stream",
     "text": [
      "Accuracy: 90.71%\n"
     ]
    }
   ],
   "source": [
    "acc = accuracy_score(train_targets, train_preds)\n",
    "print(\"Accuracy: {:.2f}%\".format(acc * 100))"
   ],
   "metadata": {
    "collapsed": false,
    "ExecuteTime": {
     "end_time": "2023-09-14T04:06:12.727639600Z",
     "start_time": "2023-09-14T04:06:12.417293300Z"
    }
   }
  },
  {
   "cell_type": "markdown",
   "source": [
    "This model receives a 90.71% Accuracy"
   ],
   "metadata": {
    "collapsed": false
   }
  },
  {
   "cell_type": "code",
   "execution_count": 215,
   "outputs": [
    {
     "data": {
      "text/plain": "array([[0.98878214, 0.01121786],\n       [0.87486103, 0.12513897]])"
     },
     "execution_count": 215,
     "metadata": {},
     "output_type": "execute_result"
    }
   ],
   "source": [
    "confusion_matrix(train_targets, train_preds, normalize='true')"
   ],
   "metadata": {
    "collapsed": false,
    "ExecuteTime": {
     "end_time": "2023-09-14T04:04:20.672300400Z",
     "start_time": "2023-09-14T04:04:20.049841200Z"
    }
   }
  },
  {
   "cell_type": "code",
   "execution_count": 218,
   "outputs": [],
   "source": [
    "def predict_and_plot(inputs, targets, name=''):\n",
    "    preds = model.predict(inputs)\n",
    "\n",
    "    accuracy = accuracy_score(targets, preds)\n",
    "    print(\"Accuracy: {:.2f}%\".format(accuracy * 100))\n",
    "\n",
    "    cf = confusion_matrix(targets, preds, normalize='true')\n",
    "    plt.figure()\n",
    "    sn.heatmap(cf, annot=True)\n",
    "    plt.xlabel('Prediction')\n",
    "    plt.ylabel('Target')\n",
    "    plt.title('{} Confusion Matrix'.format(name));\n",
    "\n",
    "    return preds"
   ],
   "metadata": {
    "collapsed": false,
    "ExecuteTime": {
     "end_time": "2023-09-14T04:05:23.599037900Z",
     "start_time": "2023-09-14T04:05:23.590416800Z"
    }
   }
  },
  {
   "cell_type": "markdown",
   "source": [
    "### Training Predictions"
   ],
   "metadata": {
    "collapsed": false
   }
  },
  {
   "cell_type": "code",
   "execution_count": 219,
   "outputs": [
    {
     "name": "stdout",
     "output_type": "stream",
     "text": [
      "Accuracy: 90.71%\n"
     ]
    },
    {
     "data": {
      "text/plain": "Canvas(toolbar=Toolbar(toolitems=[('Home', 'Reset original view', 'home', 'home'), ('Back', 'Back to previous …",
      "image/png": "[encoded data removed]",
      "text/html": "\n            <div style=\"display: inline-block;\">\n                <div class=\"jupyter-widgets widget-label\" style=\"text-align: center;\">\n                    Figure\n                </div>\n                <img src='data:image/png;base64,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' width=640.0/>\n            </div>\n        ",
      "application/vnd.jupyter.widget-view+json": {
       "version_major": 2,
       "version_minor": 0,
       "model_id": "a70acf3ab0f44901abcd71729a2e846c"
      }
     },
     "metadata": {},
     "output_type": "display_data"
    }
   ],
   "source": [
    "train_preds = predict_and_plot(X_train, train_targets, 'Training')"
   ],
   "metadata": {
    "collapsed": false,
    "ExecuteTime": {
     "end_time": "2023-09-14T04:05:27.644751600Z",
     "start_time": "2023-09-14T04:05:26.450213600Z"
    }
   }
  },
  {
   "cell_type": "markdown",
   "source": [
    "### Validations Predictions"
   ],
   "metadata": {
    "collapsed": false
   }
  },
  {
   "cell_type": "code",
   "execution_count": 221,
   "outputs": [
    {
     "name": "stdout",
     "output_type": "stream",
     "text": [
      "Accuracy: 90.85%\n"
     ]
    },
    {
     "data": {
      "text/plain": "Canvas(toolbar=Toolbar(toolitems=[('Home', 'Reset original view', 'home', 'home'), ('Back', 'Back to previous …",
      "image/png": "[encoded data removed]",
      "text/html": "\n            <div style=\"display: inline-block;\">\n                <div class=\"jupyter-widgets widget-label\" style=\"text-align: center;\">\n                    Figure\n                </div>\n                <img src='data:image/png;base64,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' width=640.0/>\n            </div>\n        ",
      "application/vnd.jupyter.widget-view+json": {
       "version_major": 2,
       "version_minor": 0,
       "model_id": "582e192af3004eca976fcf6303717981"
      }
     },
     "metadata": {},
     "output_type": "display_data"
    }
   ],
   "source": [
    "val_preds = predict_and_plot(X_val, val_targets, 'Validatiaon')"
   ],
   "metadata": {
    "collapsed": false,
    "ExecuteTime": {
     "end_time": "2023-09-14T04:08:10.236566Z",
     "start_time": "2023-09-14T04:08:09.881305400Z"
    }
   }
  },
  {
   "cell_type": "markdown",
   "source": [
    "### Test Predictions"
   ],
   "metadata": {
    "collapsed": false
   }
  },
  {
   "cell_type": "code",
   "execution_count": 222,
   "outputs": [
    {
     "name": "stdout",
     "output_type": "stream",
     "text": [
      "Accuracy: 90.83%\n"
     ]
    },
    {
     "data": {
      "text/plain": "Canvas(toolbar=Toolbar(toolitems=[('Home', 'Reset original view', 'home', 'home'), ('Back', 'Back to previous …",
      "image/png": "[encoded data removed]",
      "text/html": "\n            <div style=\"display: inline-block;\">\n                <div class=\"jupyter-widgets widget-label\" style=\"text-align: center;\">\n                    Figure\n                </div>\n                <img src='data:image/png;base64,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' width=640.0/>\n            </div>\n        ",
      "application/vnd.jupyter.widget-view+json": {
       "version_major": 2,
       "version_minor": 0,
       "model_id": "cd49ab2afbc04e84a01d897100638cf3"
      }
     },
     "metadata": {},
     "output_type": "display_data"
    }
   ],
   "source": [
    "test_preds = predict_and_plot(X_test, test_targets, 'Test')"
   ],
   "metadata": {
    "collapsed": false,
    "ExecuteTime": {
     "end_time": "2023-09-14T04:08:56.582660800Z",
     "start_time": "2023-09-14T04:08:56.243475200Z"
    }
   }
  },
  {
   "cell_type": "markdown",
   "source": [
    "The model performs slightly above 90% accuracy"
   ],
   "metadata": {
    "collapsed": false
   }
  },
  {
   "cell_type": "code",
   "execution_count": null,
   "outputs": [],
   "source": [],
   "metadata": {
    "collapsed": false
   }
  }
 ],
 "metadata": {
  "kernelspec": {
   "display_name": "Python 3",
   "language": "python",
   "name": "python3"
  },
  "language_info": {
   "codemirror_mode": {
    "name": "ipython",
    "version": 2
   },
   "file_extension": ".py",
   "mimetype": "text/x-python",
   "name": "python",
   "nbconvert_exporter": "python",
   "pygments_lexer": "ipython2",
   "version": "2.7.6"
  }
 },
 "nbformat": 4,
 "nbformat_minor": 0
}
